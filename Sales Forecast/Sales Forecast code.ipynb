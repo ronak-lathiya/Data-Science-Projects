{
 "cells": [
  {
   "cell_type": "code",
   "execution_count": 1,
   "metadata": {},
   "outputs": [],
   "source": [
    "#packages\n",
    "\n",
    "import pandas as pd\n",
    "import numpy as np\n",
    "import matplotlib.pyplot as plt\n",
    "from datetime import datetime"
   ]
  },
  {
   "cell_type": "code",
   "execution_count": 2,
   "metadata": {},
   "outputs": [],
   "source": [
    "sales_data = pd.read_excel(\"D:\\Sales Forecast\\Sales_Forecast_Data.xlsx\",header = 0)"
   ]
  },
  {
   "cell_type": "code",
   "execution_count": 3,
   "metadata": {},
   "outputs": [
    {
     "data": {
      "text/html": [
       "<div>\n",
       "<style scoped>\n",
       "    .dataframe tbody tr th:only-of-type {\n",
       "        vertical-align: middle;\n",
       "    }\n",
       "\n",
       "    .dataframe tbody tr th {\n",
       "        vertical-align: top;\n",
       "    }\n",
       "\n",
       "    .dataframe thead th {\n",
       "        text-align: right;\n",
       "    }\n",
       "</style>\n",
       "<table border=\"1\" class=\"dataframe\">\n",
       "  <thead>\n",
       "    <tr style=\"text-align: right;\">\n",
       "      <th></th>\n",
       "      <th>FIN_YEAR</th>\n",
       "      <th>MONTH</th>\n",
       "      <th>STATE</th>\n",
       "      <th>FG</th>\n",
       "      <th>DISTRICT</th>\n",
       "      <th>COMPANY</th>\n",
       "      <th>VALUE</th>\n",
       "    </tr>\n",
       "  </thead>\n",
       "  <tbody>\n",
       "    <tr>\n",
       "      <th>0</th>\n",
       "      <td>2014-2015</td>\n",
       "      <td>Nov</td>\n",
       "      <td>Haryana</td>\n",
       "      <td>Insecticides</td>\n",
       "      <td>Rohtak</td>\n",
       "      <td>monous</td>\n",
       "      <td>675.00</td>\n",
       "    </tr>\n",
       "    <tr>\n",
       "      <th>1</th>\n",
       "      <td>2014-2015</td>\n",
       "      <td>Nov</td>\n",
       "      <td>Haryana</td>\n",
       "      <td>Insecticides</td>\n",
       "      <td>Rewari</td>\n",
       "      <td>monous</td>\n",
       "      <td>73.71</td>\n",
       "    </tr>\n",
       "    <tr>\n",
       "      <th>2</th>\n",
       "      <td>2014-2015</td>\n",
       "      <td>Nov</td>\n",
       "      <td>Haryana</td>\n",
       "      <td>Insecticides</td>\n",
       "      <td>Gurgaon</td>\n",
       "      <td>monous</td>\n",
       "      <td>405.00</td>\n",
       "    </tr>\n",
       "    <tr>\n",
       "      <th>3</th>\n",
       "      <td>2014-2015</td>\n",
       "      <td>Nov</td>\n",
       "      <td>Haryana</td>\n",
       "      <td>Insecticides</td>\n",
       "      <td>Mewat</td>\n",
       "      <td>monous</td>\n",
       "      <td>1188.00</td>\n",
       "    </tr>\n",
       "    <tr>\n",
       "      <th>4</th>\n",
       "      <td>2014-2015</td>\n",
       "      <td>Nov</td>\n",
       "      <td>Haryana</td>\n",
       "      <td>Insecticides</td>\n",
       "      <td>Palwal</td>\n",
       "      <td>monous</td>\n",
       "      <td>5188.59</td>\n",
       "    </tr>\n",
       "  </tbody>\n",
       "</table>\n",
       "</div>"
      ],
      "text/plain": [
       "    FIN_YEAR MONTH    STATE            FG DISTRICT  COMPANY    VALUE\n",
       "0  2014-2015   Nov  Haryana  Insecticides   Rohtak  monous    675.00\n",
       "1  2014-2015   Nov  Haryana  Insecticides   Rewari  monous     73.71\n",
       "2  2014-2015   Nov  Haryana  Insecticides  Gurgaon  monous    405.00\n",
       "3  2014-2015   Nov  Haryana  Insecticides    Mewat  monous   1188.00\n",
       "4  2014-2015   Nov  Haryana  Insecticides   Palwal  monous   5188.59"
      ]
     },
     "execution_count": 3,
     "metadata": {},
     "output_type": "execute_result"
    }
   ],
   "source": [
    "sales_data.head()"
   ]
  },
  {
   "cell_type": "markdown",
   "metadata": {},
   "source": [
    "Here, we have data from many companies but we have been asked to forecast for ABC manufacturing company. So, we will make separate dataframe which contains data related to ABC manufacturing only."
   ]
  },
  {
   "cell_type": "code",
   "execution_count": 4,
   "metadata": {},
   "outputs": [
    {
     "data": {
      "text/plain": [
       "array(['monous ', 'kadoo ', 'cynoid ', 'exicious ', 'venible ',\n",
       "       'intravu ', 'ABC Manufacturing', 'disescent ', 'janu ',\n",
       "       'idiombee ', 'scire ', 'trita ', 'zooloo ', 'unimm ', 'archile ',\n",
       "       'interosis ', 'flimbo ', 'agizu ', 'oyofix ', 'socimbee ',\n",
       "       'unent ', 'hemify ', 'avape ', 'domise ', 'centicee ', 'biore ',\n",
       "       'munder ', 'insulescent ', 'transescent ', 'yore ', 'hypomba ',\n",
       "       'ament ', 'suroid ', 'alboid ', 'canill ', 'esose ', 'inent ',\n",
       "       'falcize ', 'verous ', 'comible ', 'polyic ', 'luper ',\n",
       "       'electrotude ', 'calcise ', 'subism ', 'maler ', 'dominive '],\n",
       "      dtype=object)"
      ]
     },
     "execution_count": 4,
     "metadata": {},
     "output_type": "execute_result"
    }
   ],
   "source": [
    "sales_data.COMPANY.unique()"
   ]
  },
  {
   "cell_type": "code",
   "execution_count": 5,
   "metadata": {},
   "outputs": [],
   "source": [
    "sales_ABC = sales_data[sales_data[\"COMPANY\"]== 'ABC Manufacturing']"
   ]
  },
  {
   "cell_type": "code",
   "execution_count": 6,
   "metadata": {},
   "outputs": [
    {
     "data": {
      "text/html": [
       "<div>\n",
       "<style scoped>\n",
       "    .dataframe tbody tr th:only-of-type {\n",
       "        vertical-align: middle;\n",
       "    }\n",
       "\n",
       "    .dataframe tbody tr th {\n",
       "        vertical-align: top;\n",
       "    }\n",
       "\n",
       "    .dataframe thead th {\n",
       "        text-align: right;\n",
       "    }\n",
       "</style>\n",
       "<table border=\"1\" class=\"dataframe\">\n",
       "  <thead>\n",
       "    <tr style=\"text-align: right;\">\n",
       "      <th></th>\n",
       "      <th>FIN_YEAR</th>\n",
       "      <th>MONTH</th>\n",
       "      <th>STATE</th>\n",
       "      <th>FG</th>\n",
       "      <th>DISTRICT</th>\n",
       "      <th>COMPANY</th>\n",
       "      <th>VALUE</th>\n",
       "    </tr>\n",
       "  </thead>\n",
       "  <tbody>\n",
       "    <tr>\n",
       "      <th>49</th>\n",
       "      <td>2014-2015</td>\n",
       "      <td>Dec</td>\n",
       "      <td>Haryana</td>\n",
       "      <td>Insecticides</td>\n",
       "      <td>Ambala</td>\n",
       "      <td>ABC Manufacturing</td>\n",
       "      <td>6019.380</td>\n",
       "    </tr>\n",
       "    <tr>\n",
       "      <th>50</th>\n",
       "      <td>2014-2015</td>\n",
       "      <td>Dec</td>\n",
       "      <td>Haryana</td>\n",
       "      <td>Insecticides</td>\n",
       "      <td>Yamunanagar</td>\n",
       "      <td>ABC Manufacturing</td>\n",
       "      <td>425.250</td>\n",
       "    </tr>\n",
       "    <tr>\n",
       "      <th>51</th>\n",
       "      <td>2014-2015</td>\n",
       "      <td>Dec</td>\n",
       "      <td>Haryana</td>\n",
       "      <td>Insecticides</td>\n",
       "      <td>Karnal</td>\n",
       "      <td>ABC Manufacturing</td>\n",
       "      <td>14782.635</td>\n",
       "    </tr>\n",
       "    <tr>\n",
       "      <th>52</th>\n",
       "      <td>2014-2015</td>\n",
       "      <td>Dec</td>\n",
       "      <td>Haryana</td>\n",
       "      <td>Insecticides</td>\n",
       "      <td>Panipat</td>\n",
       "      <td>ABC Manufacturing</td>\n",
       "      <td>4031.910</td>\n",
       "    </tr>\n",
       "    <tr>\n",
       "      <th>53</th>\n",
       "      <td>2014-2015</td>\n",
       "      <td>Dec</td>\n",
       "      <td>Haryana</td>\n",
       "      <td>Insecticides</td>\n",
       "      <td>Sonipat</td>\n",
       "      <td>ABC Manufacturing</td>\n",
       "      <td>8692.110</td>\n",
       "    </tr>\n",
       "  </tbody>\n",
       "</table>\n",
       "</div>"
      ],
      "text/plain": [
       "     FIN_YEAR MONTH    STATE            FG     DISTRICT            COMPANY  \\\n",
       "49  2014-2015   Dec  Haryana  Insecticides       Ambala  ABC Manufacturing   \n",
       "50  2014-2015   Dec  Haryana  Insecticides  Yamunanagar  ABC Manufacturing   \n",
       "51  2014-2015   Dec  Haryana  Insecticides       Karnal  ABC Manufacturing   \n",
       "52  2014-2015   Dec  Haryana  Insecticides      Panipat  ABC Manufacturing   \n",
       "53  2014-2015   Dec  Haryana  Insecticides      Sonipat  ABC Manufacturing   \n",
       "\n",
       "        VALUE  \n",
       "49   6019.380  \n",
       "50    425.250  \n",
       "51  14782.635  \n",
       "52   4031.910  \n",
       "53   8692.110  "
      ]
     },
     "execution_count": 6,
     "metadata": {},
     "output_type": "execute_result"
    }
   ],
   "source": [
    "sales_ABC.head()"
   ]
  },
  {
   "cell_type": "markdown",
   "metadata": {},
   "source": [
    "Let me check for NA and duplicate values."
   ]
  },
  {
   "cell_type": "code",
   "execution_count": 7,
   "metadata": {},
   "outputs": [
    {
     "data": {
      "text/plain": [
       "FIN_YEAR    0\n",
       "MONTH       0\n",
       "STATE       0\n",
       "FG          0\n",
       "DISTRICT    0\n",
       "COMPANY     0\n",
       "VALUE       0\n",
       "dtype: int64"
      ]
     },
     "execution_count": 7,
     "metadata": {},
     "output_type": "execute_result"
    }
   ],
   "source": [
    "sales_ABC.isna().sum()"
   ]
  },
  {
   "cell_type": "code",
   "execution_count": 8,
   "metadata": {},
   "outputs": [
    {
     "data": {
      "text/plain": [
       "2197"
      ]
     },
     "execution_count": 8,
     "metadata": {},
     "output_type": "execute_result"
    }
   ],
   "source": [
    "sales_ABC.duplicated().sum()"
   ]
  },
  {
   "cell_type": "code",
   "execution_count": 9,
   "metadata": {},
   "outputs": [
    {
     "name": "stderr",
     "output_type": "stream",
     "text": [
      "C:\\Users\\Dell\\anaconda3\\lib\\site-packages\\ipykernel_launcher.py:1: SettingWithCopyWarning: \n",
      "A value is trying to be set on a copy of a slice from a DataFrame\n",
      "\n",
      "See the caveats in the documentation: https://pandas.pydata.org/pandas-docs/stable/user_guide/indexing.html#returning-a-view-versus-a-copy\n",
      "  \"\"\"Entry point for launching an IPython kernel.\n"
     ]
    }
   ],
   "source": [
    "sales_ABC.drop_duplicates(keep = \"first\", inplace = True)"
   ]
  },
  {
   "cell_type": "code",
   "execution_count": 10,
   "metadata": {},
   "outputs": [
    {
     "data": {
      "text/plain": [
       "(26443, 7)"
      ]
     },
     "execution_count": 10,
     "metadata": {},
     "output_type": "execute_result"
    }
   ],
   "source": [
    "sales_ABC.shape"
   ]
  },
  {
   "cell_type": "markdown",
   "metadata": {},
   "source": [
    "We have been asked to forecast sale of pesticide for ABC manufacturing company in each of the state."
   ]
  },
  {
   "cell_type": "code",
   "execution_count": 11,
   "metadata": {},
   "outputs": [
    {
     "data": {
      "text/plain": [
       "array(['Haryana', 'Himachal Pradesh', 'Punjab', 'Uttar Pradesh',\n",
       "       'Uttarakhand'], dtype=object)"
      ]
     },
     "execution_count": 11,
     "metadata": {},
     "output_type": "execute_result"
    }
   ],
   "source": [
    "sales_ABC.STATE.unique()"
   ]
  },
  {
   "cell_type": "markdown",
   "metadata": {},
   "source": [
    "We will forecast for only one state because procedure will be same for each state. Let us select Uttar Pradesh."
   ]
  },
  {
   "cell_type": "code",
   "execution_count": 12,
   "metadata": {},
   "outputs": [],
   "source": [
    "sales_UP = sales_ABC[sales_ABC[\"STATE\"]== 'Uttar Pradesh']"
   ]
  },
  {
   "cell_type": "code",
   "execution_count": 13,
   "metadata": {},
   "outputs": [
    {
     "data": {
      "text/html": [
       "<div>\n",
       "<style scoped>\n",
       "    .dataframe tbody tr th:only-of-type {\n",
       "        vertical-align: middle;\n",
       "    }\n",
       "\n",
       "    .dataframe tbody tr th {\n",
       "        vertical-align: top;\n",
       "    }\n",
       "\n",
       "    .dataframe thead th {\n",
       "        text-align: right;\n",
       "    }\n",
       "</style>\n",
       "<table border=\"1\" class=\"dataframe\">\n",
       "  <thead>\n",
       "    <tr style=\"text-align: right;\">\n",
       "      <th></th>\n",
       "      <th>FIN_YEAR</th>\n",
       "      <th>MONTH</th>\n",
       "      <th>STATE</th>\n",
       "      <th>FG</th>\n",
       "      <th>DISTRICT</th>\n",
       "      <th>COMPANY</th>\n",
       "      <th>VALUE</th>\n",
       "    </tr>\n",
       "  </thead>\n",
       "  <tbody>\n",
       "    <tr>\n",
       "      <th>2263</th>\n",
       "      <td>2014-2015</td>\n",
       "      <td>Apr</td>\n",
       "      <td>Uttar Pradesh</td>\n",
       "      <td>Insecticides</td>\n",
       "      <td>Rae Bareli</td>\n",
       "      <td>ABC Manufacturing</td>\n",
       "      <td>978.075</td>\n",
       "    </tr>\n",
       "    <tr>\n",
       "      <th>2264</th>\n",
       "      <td>2014-2015</td>\n",
       "      <td>Apr</td>\n",
       "      <td>Uttar Pradesh</td>\n",
       "      <td>Insecticides</td>\n",
       "      <td>Etawah</td>\n",
       "      <td>ABC Manufacturing</td>\n",
       "      <td>39.015</td>\n",
       "    </tr>\n",
       "    <tr>\n",
       "      <th>2265</th>\n",
       "      <td>2014-2015</td>\n",
       "      <td>Apr</td>\n",
       "      <td>Uttar Pradesh</td>\n",
       "      <td>Insecticides</td>\n",
       "      <td>Kanpur Dehat</td>\n",
       "      <td>ABC Manufacturing</td>\n",
       "      <td>0.000</td>\n",
       "    </tr>\n",
       "    <tr>\n",
       "      <th>2266</th>\n",
       "      <td>2014-2015</td>\n",
       "      <td>Apr</td>\n",
       "      <td>Uttar Pradesh</td>\n",
       "      <td>Insecticides</td>\n",
       "      <td>Kanpur Nagar</td>\n",
       "      <td>ABC Manufacturing</td>\n",
       "      <td>196.965</td>\n",
       "    </tr>\n",
       "    <tr>\n",
       "      <th>2267</th>\n",
       "      <td>2014-2015</td>\n",
       "      <td>Apr</td>\n",
       "      <td>Uttar Pradesh</td>\n",
       "      <td>Insecticides</td>\n",
       "      <td>Jalaun</td>\n",
       "      <td>ABC Manufacturing</td>\n",
       "      <td>515.700</td>\n",
       "    </tr>\n",
       "  </tbody>\n",
       "</table>\n",
       "</div>"
      ],
      "text/plain": [
       "       FIN_YEAR MONTH          STATE            FG      DISTRICT  \\\n",
       "2263  2014-2015   Apr  Uttar Pradesh  Insecticides    Rae Bareli   \n",
       "2264  2014-2015   Apr  Uttar Pradesh  Insecticides        Etawah   \n",
       "2265  2014-2015   Apr  Uttar Pradesh  Insecticides  Kanpur Dehat   \n",
       "2266  2014-2015   Apr  Uttar Pradesh  Insecticides  Kanpur Nagar   \n",
       "2267  2014-2015   Apr  Uttar Pradesh  Insecticides        Jalaun   \n",
       "\n",
       "                COMPANY    VALUE  \n",
       "2263  ABC Manufacturing  978.075  \n",
       "2264  ABC Manufacturing   39.015  \n",
       "2265  ABC Manufacturing    0.000  \n",
       "2266  ABC Manufacturing  196.965  \n",
       "2267  ABC Manufacturing  515.700  "
      ]
     },
     "execution_count": 13,
     "metadata": {},
     "output_type": "execute_result"
    }
   ],
   "source": [
    "sales_UP.head()"
   ]
  },
  {
   "cell_type": "markdown",
   "metadata": {},
   "source": [
    "We are only interested in Time and Value variables for forecasting purpose. So, we will drop rest of variables."
   ]
  },
  {
   "cell_type": "code",
   "execution_count": 14,
   "metadata": {},
   "outputs": [],
   "source": [
    "UP=sales_UP.drop(['STATE', 'FG', 'DISTRICT', 'COMPANY'],axis=1)"
   ]
  },
  {
   "cell_type": "code",
   "execution_count": 15,
   "metadata": {},
   "outputs": [
    {
     "data": {
      "text/html": [
       "<div>\n",
       "<style scoped>\n",
       "    .dataframe tbody tr th:only-of-type {\n",
       "        vertical-align: middle;\n",
       "    }\n",
       "\n",
       "    .dataframe tbody tr th {\n",
       "        vertical-align: top;\n",
       "    }\n",
       "\n",
       "    .dataframe thead th {\n",
       "        text-align: right;\n",
       "    }\n",
       "</style>\n",
       "<table border=\"1\" class=\"dataframe\">\n",
       "  <thead>\n",
       "    <tr style=\"text-align: right;\">\n",
       "      <th></th>\n",
       "      <th>FIN_YEAR</th>\n",
       "      <th>MONTH</th>\n",
       "      <th>VALUE</th>\n",
       "    </tr>\n",
       "  </thead>\n",
       "  <tbody>\n",
       "    <tr>\n",
       "      <th>2263</th>\n",
       "      <td>2014-2015</td>\n",
       "      <td>Apr</td>\n",
       "      <td>978.075</td>\n",
       "    </tr>\n",
       "    <tr>\n",
       "      <th>2264</th>\n",
       "      <td>2014-2015</td>\n",
       "      <td>Apr</td>\n",
       "      <td>39.015</td>\n",
       "    </tr>\n",
       "    <tr>\n",
       "      <th>2265</th>\n",
       "      <td>2014-2015</td>\n",
       "      <td>Apr</td>\n",
       "      <td>0.000</td>\n",
       "    </tr>\n",
       "    <tr>\n",
       "      <th>2266</th>\n",
       "      <td>2014-2015</td>\n",
       "      <td>Apr</td>\n",
       "      <td>196.965</td>\n",
       "    </tr>\n",
       "    <tr>\n",
       "      <th>2267</th>\n",
       "      <td>2014-2015</td>\n",
       "      <td>Apr</td>\n",
       "      <td>515.700</td>\n",
       "    </tr>\n",
       "  </tbody>\n",
       "</table>\n",
       "</div>"
      ],
      "text/plain": [
       "       FIN_YEAR MONTH    VALUE\n",
       "2263  2014-2015   Apr  978.075\n",
       "2264  2014-2015   Apr   39.015\n",
       "2265  2014-2015   Apr    0.000\n",
       "2266  2014-2015   Apr  196.965\n",
       "2267  2014-2015   Apr  515.700"
      ]
     },
     "execution_count": 15,
     "metadata": {},
     "output_type": "execute_result"
    }
   ],
   "source": [
    "UP.head()"
   ]
  },
  {
   "cell_type": "code",
   "execution_count": 16,
   "metadata": {},
   "outputs": [
    {
     "name": "stdout",
     "output_type": "stream",
     "text": [
      "<class 'pandas.core.frame.DataFrame'>\n",
      "Int64Index: 13024 entries, 2263 to 230147\n",
      "Data columns (total 3 columns):\n",
      " #   Column    Non-Null Count  Dtype  \n",
      "---  ------    --------------  -----  \n",
      " 0   FIN_YEAR  13024 non-null  object \n",
      " 1   MONTH     13024 non-null  object \n",
      " 2   VALUE     13024 non-null  float64\n",
      "dtypes: float64(1), object(2)\n",
      "memory usage: 407.0+ KB\n"
     ]
    }
   ],
   "source": [
    "UP.info()"
   ]
  },
  {
   "cell_type": "markdown",
   "metadata": {},
   "source": [
    "Here, FIN_YEAR and MONTH are given as object. We need a variable in datetime format, which we can utilize as index. So, we will create a variable, which will be in datetime format by using FIN_YEAR and MONTH."
   ]
  },
  {
   "cell_type": "code",
   "execution_count": 17,
   "metadata": {},
   "outputs": [],
   "source": [
    "list1 = list(UP.index)"
   ]
  },
  {
   "cell_type": "code",
   "execution_count": 18,
   "metadata": {},
   "outputs": [],
   "source": [
    "for i in list1:\n",
    "    if UP.loc[i,\"MONTH\"] in [\"Jan\",\"Feb\",\"Mar\"]:\n",
    "       UP.loc[i,\"DATE\"] = UP.loc[i,\"FIN_YEAR\"][5:] + \"-\" + UP.loc[i,\"MONTH\"]\n",
    "    else:\n",
    "       UP.loc[i,\"DATE\"] = UP.loc[i,\"FIN_YEAR\"][:4] + \"-\" + UP.loc[i,\"MONTH\"]"
   ]
  },
  {
   "cell_type": "markdown",
   "metadata": {},
   "source": [
    "As we know that financial year starts from april and ends in march. So, in above code if MONTH in (\"jan\", \"feb\", \"march\") then it will take second year from FIN_YEAR(for example MONTH = \"Jan\" and FIN_YEAR = \"2014-2015\" then DATE =\"2015-Jan\")."
   ]
  },
  {
   "cell_type": "code",
   "execution_count": 19,
   "metadata": {},
   "outputs": [
    {
     "data": {
      "text/html": [
       "<div>\n",
       "<style scoped>\n",
       "    .dataframe tbody tr th:only-of-type {\n",
       "        vertical-align: middle;\n",
       "    }\n",
       "\n",
       "    .dataframe tbody tr th {\n",
       "        vertical-align: top;\n",
       "    }\n",
       "\n",
       "    .dataframe thead th {\n",
       "        text-align: right;\n",
       "    }\n",
       "</style>\n",
       "<table border=\"1\" class=\"dataframe\">\n",
       "  <thead>\n",
       "    <tr style=\"text-align: right;\">\n",
       "      <th></th>\n",
       "      <th>FIN_YEAR</th>\n",
       "      <th>MONTH</th>\n",
       "      <th>VALUE</th>\n",
       "      <th>DATE</th>\n",
       "    </tr>\n",
       "  </thead>\n",
       "  <tbody>\n",
       "    <tr>\n",
       "      <th>2263</th>\n",
       "      <td>2014-2015</td>\n",
       "      <td>Apr</td>\n",
       "      <td>978.075</td>\n",
       "      <td>2014-Apr</td>\n",
       "    </tr>\n",
       "    <tr>\n",
       "      <th>2264</th>\n",
       "      <td>2014-2015</td>\n",
       "      <td>Apr</td>\n",
       "      <td>39.015</td>\n",
       "      <td>2014-Apr</td>\n",
       "    </tr>\n",
       "    <tr>\n",
       "      <th>2265</th>\n",
       "      <td>2014-2015</td>\n",
       "      <td>Apr</td>\n",
       "      <td>0.000</td>\n",
       "      <td>2014-Apr</td>\n",
       "    </tr>\n",
       "    <tr>\n",
       "      <th>2266</th>\n",
       "      <td>2014-2015</td>\n",
       "      <td>Apr</td>\n",
       "      <td>196.965</td>\n",
       "      <td>2014-Apr</td>\n",
       "    </tr>\n",
       "    <tr>\n",
       "      <th>2267</th>\n",
       "      <td>2014-2015</td>\n",
       "      <td>Apr</td>\n",
       "      <td>515.700</td>\n",
       "      <td>2014-Apr</td>\n",
       "    </tr>\n",
       "  </tbody>\n",
       "</table>\n",
       "</div>"
      ],
      "text/plain": [
       "       FIN_YEAR MONTH    VALUE      DATE\n",
       "2263  2014-2015   Apr  978.075  2014-Apr\n",
       "2264  2014-2015   Apr   39.015  2014-Apr\n",
       "2265  2014-2015   Apr    0.000  2014-Apr\n",
       "2266  2014-2015   Apr  196.965  2014-Apr\n",
       "2267  2014-2015   Apr  515.700  2014-Apr"
      ]
     },
     "execution_count": 19,
     "metadata": {},
     "output_type": "execute_result"
    }
   ],
   "source": [
    "UP.head()"
   ]
  },
  {
   "cell_type": "code",
   "execution_count": 20,
   "metadata": {},
   "outputs": [],
   "source": [
    "UP[\"DATE\"] = pd.to_datetime(UP[\"DATE\"])"
   ]
  },
  {
   "cell_type": "markdown",
   "metadata": {},
   "source": [
    "This will convert object variable into datetime variable. Notice that in our original DATE variable we have just month and year and no specific day, so this code will assign 1st day of month to each observation."
   ]
  },
  {
   "cell_type": "code",
   "execution_count": 21,
   "metadata": {},
   "outputs": [
    {
     "name": "stdout",
     "output_type": "stream",
     "text": [
      "<class 'pandas.core.frame.DataFrame'>\n",
      "Int64Index: 13024 entries, 2263 to 230147\n",
      "Data columns (total 4 columns):\n",
      " #   Column    Non-Null Count  Dtype         \n",
      "---  ------    --------------  -----         \n",
      " 0   FIN_YEAR  13024 non-null  object        \n",
      " 1   MONTH     13024 non-null  object        \n",
      " 2   VALUE     13024 non-null  float64       \n",
      " 3   DATE      13024 non-null  datetime64[ns]\n",
      "dtypes: datetime64[ns](1), float64(1), object(2)\n",
      "memory usage: 1.1+ MB\n"
     ]
    }
   ],
   "source": [
    "UP.info()"
   ]
  },
  {
   "cell_type": "markdown",
   "metadata": {},
   "source": [
    "Now we don't need FIN_YEAR and MONTH to forecast. So, we will create new df which will be having DATE and VALUE variables."
   ]
  },
  {
   "cell_type": "code",
   "execution_count": 22,
   "metadata": {},
   "outputs": [],
   "source": [
    "UP_final_df = UP[[\"DATE\",\"VALUE\"]]"
   ]
  },
  {
   "cell_type": "code",
   "execution_count": 23,
   "metadata": {},
   "outputs": [
    {
     "data": {
      "text/html": [
       "<div>\n",
       "<style scoped>\n",
       "    .dataframe tbody tr th:only-of-type {\n",
       "        vertical-align: middle;\n",
       "    }\n",
       "\n",
       "    .dataframe tbody tr th {\n",
       "        vertical-align: top;\n",
       "    }\n",
       "\n",
       "    .dataframe thead th {\n",
       "        text-align: right;\n",
       "    }\n",
       "</style>\n",
       "<table border=\"1\" class=\"dataframe\">\n",
       "  <thead>\n",
       "    <tr style=\"text-align: right;\">\n",
       "      <th></th>\n",
       "      <th>DATE</th>\n",
       "      <th>VALUE</th>\n",
       "    </tr>\n",
       "  </thead>\n",
       "  <tbody>\n",
       "    <tr>\n",
       "      <th>2263</th>\n",
       "      <td>2014-04-01</td>\n",
       "      <td>978.075</td>\n",
       "    </tr>\n",
       "    <tr>\n",
       "      <th>2264</th>\n",
       "      <td>2014-04-01</td>\n",
       "      <td>39.015</td>\n",
       "    </tr>\n",
       "    <tr>\n",
       "      <th>2265</th>\n",
       "      <td>2014-04-01</td>\n",
       "      <td>0.000</td>\n",
       "    </tr>\n",
       "    <tr>\n",
       "      <th>2266</th>\n",
       "      <td>2014-04-01</td>\n",
       "      <td>196.965</td>\n",
       "    </tr>\n",
       "    <tr>\n",
       "      <th>2267</th>\n",
       "      <td>2014-04-01</td>\n",
       "      <td>515.700</td>\n",
       "    </tr>\n",
       "  </tbody>\n",
       "</table>\n",
       "</div>"
      ],
      "text/plain": [
       "           DATE    VALUE\n",
       "2263 2014-04-01  978.075\n",
       "2264 2014-04-01   39.015\n",
       "2265 2014-04-01    0.000\n",
       "2266 2014-04-01  196.965\n",
       "2267 2014-04-01  515.700"
      ]
     },
     "execution_count": 23,
     "metadata": {},
     "output_type": "execute_result"
    }
   ],
   "source": [
    "UP_final_df.head()"
   ]
  },
  {
   "cell_type": "markdown",
   "metadata": {},
   "source": [
    "Here we have many observations which have same date. We will apply groupby function on DATE variable and sum on value variable. So that we can get total monthly sale for specific month. For example 2014-04-01,after applying groupby and sum functions, will represent total sale in month of april in 2014."
   ]
  },
  {
   "cell_type": "code",
   "execution_count": 24,
   "metadata": {},
   "outputs": [],
   "source": [
    "UP_final_df = UP_final_df.sort_values(\"DATE\",ascending = True)"
   ]
  },
  {
   "cell_type": "code",
   "execution_count": 25,
   "metadata": {},
   "outputs": [],
   "source": [
    "UP_final_df = UP_final_df.groupby(\"DATE\")[\"VALUE\"].sum().reset_index()"
   ]
  },
  {
   "cell_type": "code",
   "execution_count": 27,
   "metadata": {},
   "outputs": [
    {
     "data": {
      "text/html": [
       "<div>\n",
       "<style scoped>\n",
       "    .dataframe tbody tr th:only-of-type {\n",
       "        vertical-align: middle;\n",
       "    }\n",
       "\n",
       "    .dataframe tbody tr th {\n",
       "        vertical-align: top;\n",
       "    }\n",
       "\n",
       "    .dataframe thead th {\n",
       "        text-align: right;\n",
       "    }\n",
       "</style>\n",
       "<table border=\"1\" class=\"dataframe\">\n",
       "  <thead>\n",
       "    <tr style=\"text-align: right;\">\n",
       "      <th></th>\n",
       "      <th>DATE</th>\n",
       "      <th>VALUE</th>\n",
       "    </tr>\n",
       "  </thead>\n",
       "  <tbody>\n",
       "    <tr>\n",
       "      <th>0</th>\n",
       "      <td>2014-04-01</td>\n",
       "      <td>142695.000</td>\n",
       "    </tr>\n",
       "    <tr>\n",
       "      <th>1</th>\n",
       "      <td>2014-05-01</td>\n",
       "      <td>395083.710</td>\n",
       "    </tr>\n",
       "    <tr>\n",
       "      <th>2</th>\n",
       "      <td>2014-06-01</td>\n",
       "      <td>553862.070</td>\n",
       "    </tr>\n",
       "    <tr>\n",
       "      <th>3</th>\n",
       "      <td>2014-07-01</td>\n",
       "      <td>720928.080</td>\n",
       "    </tr>\n",
       "    <tr>\n",
       "      <th>4</th>\n",
       "      <td>2014-08-01</td>\n",
       "      <td>1103308.965</td>\n",
       "    </tr>\n",
       "  </tbody>\n",
       "</table>\n",
       "</div>"
      ],
      "text/plain": [
       "        DATE        VALUE\n",
       "0 2014-04-01   142695.000\n",
       "1 2014-05-01   395083.710\n",
       "2 2014-06-01   553862.070\n",
       "3 2014-07-01   720928.080\n",
       "4 2014-08-01  1103308.965"
      ]
     },
     "execution_count": 27,
     "metadata": {},
     "output_type": "execute_result"
    }
   ],
   "source": [
    "UP_final_df.head()"
   ]
  },
  {
   "cell_type": "markdown",
   "metadata": {},
   "source": [
    "You can see that our data is equally spaced and in chronological order. which is necessary for time series analysis."
   ]
  },
  {
   "cell_type": "markdown",
   "metadata": {},
   "source": [
    "We are going to set DATE variable as index. That index we will use in our model."
   ]
  },
  {
   "cell_type": "code",
   "execution_count": 28,
   "metadata": {},
   "outputs": [],
   "source": [
    "UP_final_df = UP_final_df.set_index(\"DATE\")"
   ]
  },
  {
   "cell_type": "markdown",
   "metadata": {},
   "source": [
    "Let us define new variable y for our convenience."
   ]
  },
  {
   "cell_type": "code",
   "execution_count": 29,
   "metadata": {},
   "outputs": [],
   "source": [
    "y = UP_final_df[\"VALUE\"]"
   ]
  },
  {
   "cell_type": "code",
   "execution_count": 30,
   "metadata": {},
   "outputs": [
    {
     "data": {
      "text/plain": [
       "DATE\n",
       "2014-04-01     142695.000\n",
       "2014-05-01     395083.710\n",
       "2014-06-01     553862.070\n",
       "2014-07-01     720928.080\n",
       "2014-08-01    1103308.965\n",
       "2014-09-01     752904.720\n",
       "2014-10-01     708021.540\n",
       "2014-11-01    1431476.820\n",
       "2014-12-01    1049625.270\n",
       "2015-01-01     817419.600\n",
       "2015-02-01     662409.630\n",
       "2015-03-01    1641843.540\n",
       "2015-04-01     503665.560\n",
       "2015-05-01     711111.285\n",
       "2015-06-01     700414.290\n",
       "2015-07-01     914662.530\n",
       "2015-08-01     824892.660\n",
       "2015-09-01     825032.385\n",
       "2015-10-01     660813.660\n",
       "2015-11-01     935888.850\n",
       "2015-12-01     845433.045\n",
       "2016-01-01     789729.885\n",
       "2016-02-01     541337.310\n",
       "2016-03-01    2039066.595\n",
       "2016-04-01     239000.760\n",
       "2016-05-01     572291.325\n",
       "2016-06-01     531000.900\n",
       "2016-07-01     567115.020\n",
       "2016-08-01     737854.650\n",
       "2016-09-01     597814.560\n",
       "2016-10-01     405397.035\n",
       "2016-11-01     907754.040\n",
       "2016-12-01     831337.992\n",
       "2017-01-01     827758.980\n",
       "2017-02-01     581322.015\n",
       "2017-03-01    1414752.183\n",
       "2017-04-01     132897.240\n",
       "2017-05-01     516515.670\n",
       "2017-06-01     483089.130\n",
       "2017-07-01     569271.915\n",
       "2017-08-01     597466.935\n",
       "2017-09-01     539775.090\n",
       "2017-10-01     720295.875\n",
       "2017-11-01    1234663.965\n",
       "2017-12-01     991006.515\n",
       "2018-01-01     734645.700\n",
       "Name: VALUE, dtype: float64"
      ]
     },
     "execution_count": 30,
     "metadata": {},
     "output_type": "execute_result"
    }
   ],
   "source": [
    "y"
   ]
  },
  {
   "cell_type": "markdown",
   "metadata": {},
   "source": [
    "Let us divide data into train and test for validation purpose."
   ]
  },
  {
   "cell_type": "code",
   "execution_count": 31,
   "metadata": {},
   "outputs": [],
   "source": [
    "train = UP_final_df.loc[:\"2017-03-01\"][\"VALUE\"]\n",
    "test = UP_final_df.loc[\"2017-04-01\":][\"VALUE\"]"
   ]
  },
  {
   "cell_type": "code",
   "execution_count": 32,
   "metadata": {},
   "outputs": [
    {
     "data": {
      "image/png": "[encoded data removed]",
      "text/plain": [
       "<Figure size 720x432 with 1 Axes>"
      ]
     },
     "metadata": {
      "needs_background": "light"
     },
     "output_type": "display_data"
    }
   ],
   "source": [
    "train.plot(figsize=(10,6), title = \"Sales\", fontsize=14)\n",
    "test.plot(figsize=(10,6), title = \"Sales\", fontsize=14)\n",
    "plt.show()"
   ]
  },
  {
   "cell_type": "markdown",
   "metadata": {},
   "source": [
    "Let us first decompose data to know which order smoothing or model will be required for our data."
   ]
  },
  {
   "cell_type": "code",
   "execution_count": 33,
   "metadata": {},
   "outputs": [
    {
     "data": {
      "image/png": "[encoded data removed]",
      "text/plain": [
       "<Figure size 432x288 with 4 Axes>"
      ]
     },
     "metadata": {
      "needs_background": "light"
     },
     "output_type": "display_data"
    }
   ],
   "source": [
    "import statsmodels.api as sm\n",
    "decomposition = sm.tsa.seasonal_decompose(y)\n",
    "fig = decomposition.plot()"
   ]
  },
  {
   "cell_type": "markdown",
   "metadata": {},
   "source": [
    "As we can see from above decomposition that downward trend and seasonality is present with period of 12 months. So, we will apply holt_winter model.  "
   ]
  },
  {
   "cell_type": "markdown",
   "metadata": {},
   "source": [
    "Let us first validate our model."
   ]
  },
  {
   "cell_type": "code",
   "execution_count": 34,
   "metadata": {},
   "outputs": [
    {
     "name": "stderr",
     "output_type": "stream",
     "text": [
      "C:\\Users\\Dell\\anaconda3\\lib\\site-packages\\statsmodels\\tsa\\base\\tsa_model.py:162: ValueWarning: No frequency information was provided, so inferred frequency MS will be used.\n",
      "  % freq, ValueWarning)\n",
      "C:\\Users\\Dell\\anaconda3\\lib\\site-packages\\statsmodels\\tsa\\holtwinters.py:725: RuntimeWarning: invalid value encountered in less_equal\n",
      "  loc = initial_p <= lb\n",
      "C:\\Users\\Dell\\anaconda3\\lib\\site-packages\\statsmodels\\tsa\\holtwinters.py:731: RuntimeWarning: invalid value encountered in greater_equal\n",
      "  loc = initial_p >= ub\n"
     ]
    },
    {
     "data": {
      "image/png": "[encoded data removed]",
      "text/plain": [
       "<Figure size 720x432 with 1 Axes>"
      ]
     },
     "metadata": {
      "needs_background": "light"
     },
     "output_type": "display_data"
    }
   ],
   "source": [
    "from statsmodels.tsa.api import ExponentialSmoothing\n",
    "holt_winter_df = test.copy()\n",
    "fit1 = ExponentialSmoothing(train,seasonal_periods =12,trend = \"add\",seasonal = \"add\").fit()\n",
    "holt_winter_df[\"Holt_Winter\"] = fit1.forecast(steps = 10)\n",
    "train.plot(figsize=(10,6), title = \"Sales\", fontsize=14)\n",
    "test.plot(figsize=(10,6), title = \"Sales\", fontsize=14)\n",
    "holt_winter_df[\"Holt_Winter\"].plot(figsize=(10,6), title = \"Sales\", fontsize=14)\n",
    "plt.show()"
   ]
  },
  {
   "cell_type": "markdown",
   "metadata": {},
   "source": [
    "Orange line represents test data and green line represents predicted data."
   ]
  },
  {
   "cell_type": "markdown",
   "metadata": {},
   "source": [
    "Let us check RMSE."
   ]
  },
  {
   "cell_type": "code",
   "execution_count": 36,
   "metadata": {},
   "outputs": [
    {
     "name": "stdout",
     "output_type": "stream",
     "text": [
      "152000.06620526066\n"
     ]
    }
   ],
   "source": [
    "from sklearn.metrics import mean_squared_error\n",
    "from math import sqrt\n",
    "rms = sqrt(mean_squared_error(test,holt_winter_df[\"Holt_Winter\"]))\n",
    "print(rms)"
   ]
  },
  {
   "cell_type": "markdown",
   "metadata": {},
   "source": [
    "Now we have completed with validation. Let us forecast for next 10 months."
   ]
  },
  {
   "cell_type": "code",
   "execution_count": 38,
   "metadata": {},
   "outputs": [
    {
     "name": "stderr",
     "output_type": "stream",
     "text": [
      "C:\\Users\\Dell\\anaconda3\\lib\\site-packages\\statsmodels\\tsa\\base\\tsa_model.py:162: ValueWarning: No frequency information was provided, so inferred frequency MS will be used.\n",
      "  % freq, ValueWarning)\n",
      "C:\\Users\\Dell\\anaconda3\\lib\\site-packages\\statsmodels\\tsa\\holtwinters.py:725: RuntimeWarning: invalid value encountered in less_equal\n",
      "  loc = initial_p <= lb\n",
      "C:\\Users\\Dell\\anaconda3\\lib\\site-packages\\statsmodels\\tsa\\holtwinters.py:731: RuntimeWarning: invalid value encountered in greater_equal\n",
      "  loc = initial_p >= ub\n"
     ]
    },
    {
     "data": {
      "image/png": "[encoded data removed]",
      "text/plain": [
       "<Figure size 720x432 with 1 Axes>"
      ]
     },
     "metadata": {
      "needs_background": "light"
     },
     "output_type": "display_data"
    }
   ],
   "source": [
    "fit1 = ExponentialSmoothing(y,seasonal_periods =12, trend =\"add\", seasonal = \"add\").fit()\n",
    "Y_predictions = fit1.forecast(steps =12)\n",
    "y.plot(figsize=(10,6),title = \"Sales\",fontsize=14)\n",
    "Y_predictions.plot(figsize =(10,6),title = \"Sales\",fontsize=14)\n",
    "plt.show()"
   ]
  },
  {
   "cell_type": "markdown",
   "metadata": {},
   "source": [
    "In similar manner we can do forecasting for other states as well."
   ]
  },
  {
   "cell_type": "code",
   "execution_count": null,
   "metadata": {},
   "outputs": [],
   "source": []
  }
 ],
 "metadata": {
  "kernelspec": {
   "display_name": "Python 3",
   "language": "python",
   "name": "python3"
  },
  "language_info": {
   "codemirror_mode": {
    "name": "ipython",
    "version": 3
   },
   "file_extension": ".py",
   "mimetype": "text/x-python",
   "name": "python",
   "nbconvert_exporter": "python",
   "pygments_lexer": "ipython3",
   "version": "3.7.6"
  }
 },
 "nbformat": 4,
 "nbformat_minor": 4
}
