{
 "cells": [
  {
   "cell_type": "code",
   "execution_count": null,
   "metadata": {
    "id": "W1X75ib4OJgp"
   },
   "outputs": [],
   "source": [
    "import numpy as np\n",
    "import pandas as pd\n",
    "import matplotlib.pyplot as plt\n",
    "import warnings\n",
    "\n",
    "warnings.filterwarnings('ignore')\n"
   ]
  },
  {
   "cell_type": "code",
   "execution_count": null,
   "metadata": {
    "id": "n1L3z4EHOzlF"
   },
   "outputs": [],
   "source": [
    "df_16_17 = pd.read_excel(\"staff utlz latest 16-17_masked.xlsx\",header = 0 ,skiprows=1,usecols = \"A:K,DD:DK\")\n",
    "df_17_18 = pd.read_excel(\"staff utlz latest 17-18_masked.xlsx\",header = 0 ,skiprows=1,usecols = \"A:K,DD:DK\")"
   ]
  },
  {
   "cell_type": "code",
   "execution_count": null,
   "metadata": {
    "colab": {
     "base_uri": "https://localhost:8080/",
     "height": 425
    },
    "executionInfo": {
     "elapsed": 39,
     "status": "ok",
     "timestamp": 1624701637192,
     "user": {
      "displayName": "ronak lathiya",
      "photoUrl": "",
      "userId": "13017137450409577858"
     },
     "user_tz": -330
    },
    "id": "tT-vIebZQLbi",
    "outputId": "32e1afa1-e072-46c8-a0f0-b8ab5b47514e"
   },
   "outputs": [
    {
     "data": {
      "text/html": [
       "<div>\n",
       "<style scoped>\n",
       "    .dataframe tbody tr th:only-of-type {\n",
       "        vertical-align: middle;\n",
       "    }\n",
       "\n",
       "    .dataframe tbody tr th {\n",
       "        vertical-align: top;\n",
       "    }\n",
       "\n",
       "    .dataframe thead th {\n",
       "        text-align: right;\n",
       "    }\n",
       "</style>\n",
       "<table border=\"1\" class=\"dataframe\">\n",
       "  <thead>\n",
       "    <tr style=\"text-align: right;\">\n",
       "      <th></th>\n",
       "      <th>Employee No</th>\n",
       "      <th>Profit Center</th>\n",
       "      <th>Employee Name</th>\n",
       "      <th>Employee Position</th>\n",
       "      <th>Employee Location</th>\n",
       "      <th>People Group</th>\n",
       "      <th>Employee Category</th>\n",
       "      <th>Supervisor name</th>\n",
       "      <th>Join Date</th>\n",
       "      <th>Current Status</th>\n",
       "      <th>Termination Date</th>\n",
       "      <th>Total Hours.12</th>\n",
       "      <th>Total Available Hours.12</th>\n",
       "      <th>Work Hours.12</th>\n",
       "      <th>Leave Hours.12</th>\n",
       "      <th>Training Hours.12</th>\n",
       "      <th>BD Hours.12</th>\n",
       "      <th>NC Hours.12</th>\n",
       "      <th>Utilization%.12</th>\n",
       "    </tr>\n",
       "  </thead>\n",
       "  <tbody>\n",
       "    <tr>\n",
       "      <th>0</th>\n",
       "      <td>1</td>\n",
       "      <td>PC - 1</td>\n",
       "      <td>Rochette Jilleen</td>\n",
       "      <td>Level 1</td>\n",
       "      <td>Location 3</td>\n",
       "      <td>Client Service Staff</td>\n",
       "      <td>SVP/VP</td>\n",
       "      <td>Idalina Lauraine</td>\n",
       "      <td>2000-09-30</td>\n",
       "      <td>Active</td>\n",
       "      <td>NaT</td>\n",
       "      <td>2080</td>\n",
       "      <td>1864.5</td>\n",
       "      <td>448.0</td>\n",
       "      <td>188</td>\n",
       "      <td>27.5</td>\n",
       "      <td>1431.5</td>\n",
       "      <td>18.0</td>\n",
       "      <td>0.240279</td>\n",
       "    </tr>\n",
       "    <tr>\n",
       "      <th>1</th>\n",
       "      <td>2</td>\n",
       "      <td>PC - 2</td>\n",
       "      <td>Daryl Natalina</td>\n",
       "      <td>Level 2</td>\n",
       "      <td>Location 7</td>\n",
       "      <td>Client Service Staff</td>\n",
       "      <td>SVP/VP</td>\n",
       "      <td>Idalina Lauraine</td>\n",
       "      <td>1999-05-31</td>\n",
       "      <td>Active</td>\n",
       "      <td>NaT</td>\n",
       "      <td>2080</td>\n",
       "      <td>1868.0</td>\n",
       "      <td>722.0</td>\n",
       "      <td>208</td>\n",
       "      <td>4.0</td>\n",
       "      <td>600.5</td>\n",
       "      <td>596.5</td>\n",
       "      <td>0.38651</td>\n",
       "    </tr>\n",
       "    <tr>\n",
       "      <th>2</th>\n",
       "      <td>3</td>\n",
       "      <td>PC - 2</td>\n",
       "      <td>Annnora Gabrielle</td>\n",
       "      <td>Level 2</td>\n",
       "      <td>Location 7</td>\n",
       "      <td>Client Service Staff</td>\n",
       "      <td>SVP/VP</td>\n",
       "      <td>Idalina Lauraine</td>\n",
       "      <td>2001-01-31</td>\n",
       "      <td>Active</td>\n",
       "      <td>NaT</td>\n",
       "      <td>2080</td>\n",
       "      <td>1720.0</td>\n",
       "      <td>1173.0</td>\n",
       "      <td>338</td>\n",
       "      <td>22.0</td>\n",
       "      <td>463.5</td>\n",
       "      <td>357.5</td>\n",
       "      <td>0.681977</td>\n",
       "    </tr>\n",
       "    <tr>\n",
       "      <th>3</th>\n",
       "      <td>4</td>\n",
       "      <td>PC - 3</td>\n",
       "      <td>Barbee Joey</td>\n",
       "      <td>Level 2</td>\n",
       "      <td>Location 1</td>\n",
       "      <td>Client Service Staff</td>\n",
       "      <td>Resigned</td>\n",
       "      <td>Idalina Lauraine</td>\n",
       "      <td>2000-09-30</td>\n",
       "      <td>Resigned</td>\n",
       "      <td>2018-02-28</td>\n",
       "      <td>1840</td>\n",
       "      <td>1640.5</td>\n",
       "      <td>273.0</td>\n",
       "      <td>196</td>\n",
       "      <td>3.5</td>\n",
       "      <td>1361.0</td>\n",
       "      <td>24.0</td>\n",
       "      <td>0.166413</td>\n",
       "    </tr>\n",
       "    <tr>\n",
       "      <th>4</th>\n",
       "      <td>6</td>\n",
       "      <td>PC - 1</td>\n",
       "      <td>Jordanna Danya</td>\n",
       "      <td>Level 2</td>\n",
       "      <td>Location 3</td>\n",
       "      <td>Client Service Staff</td>\n",
       "      <td>SVP/VP</td>\n",
       "      <td>Idalina Lauraine</td>\n",
       "      <td>2002-06-30</td>\n",
       "      <td>Active</td>\n",
       "      <td>NaT</td>\n",
       "      <td>2080</td>\n",
       "      <td>1812.0</td>\n",
       "      <td>428.0</td>\n",
       "      <td>260</td>\n",
       "      <td>8.0</td>\n",
       "      <td>1237.0</td>\n",
       "      <td>470.0</td>\n",
       "      <td>0.236203</td>\n",
       "    </tr>\n",
       "  </tbody>\n",
       "</table>\n",
       "</div>"
      ],
      "text/plain": [
       "   Employee No Profit Center  ... NC Hours.12 Utilization%.12\n",
       "0            1        PC - 1  ...        18.0        0.240279\n",
       "1            2        PC - 2  ...       596.5         0.38651\n",
       "2            3        PC - 2  ...       357.5        0.681977\n",
       "3            4        PC - 3  ...        24.0        0.166413\n",
       "4            6        PC - 1  ...       470.0        0.236203\n",
       "\n",
       "[5 rows x 19 columns]"
      ]
     },
     "execution_count": 3,
     "metadata": {
      "tags": []
     },
     "output_type": "execute_result"
    }
   ],
   "source": [
    "df_17_18.head()"
   ]
  },
  {
   "cell_type": "code",
   "execution_count": null,
   "metadata": {
    "colab": {
     "base_uri": "https://localhost:8080/",
     "height": 425
    },
    "executionInfo": {
     "elapsed": 34,
     "status": "ok",
     "timestamp": 1624701637194,
     "user": {
      "displayName": "ronak lathiya",
      "photoUrl": "",
      "userId": "13017137450409577858"
     },
     "user_tz": -330
    },
    "id": "6FJMQHWgXf63",
    "outputId": "4dd16c4f-3823-40b9-da8b-3ee5e59fdb79"
   },
   "outputs": [
    {
     "data": {
      "text/html": [
       "<div>\n",
       "<style scoped>\n",
       "    .dataframe tbody tr th:only-of-type {\n",
       "        vertical-align: middle;\n",
       "    }\n",
       "\n",
       "    .dataframe tbody tr th {\n",
       "        vertical-align: top;\n",
       "    }\n",
       "\n",
       "    .dataframe thead th {\n",
       "        text-align: right;\n",
       "    }\n",
       "</style>\n",
       "<table border=\"1\" class=\"dataframe\">\n",
       "  <thead>\n",
       "    <tr style=\"text-align: right;\">\n",
       "      <th></th>\n",
       "      <th>Employee No</th>\n",
       "      <th>Profit Center</th>\n",
       "      <th>Employee Name</th>\n",
       "      <th>Employee Position</th>\n",
       "      <th>Employee Location</th>\n",
       "      <th>People Group</th>\n",
       "      <th>Employee Category</th>\n",
       "      <th>Supervisor name</th>\n",
       "      <th>Join Date</th>\n",
       "      <th>Current Status</th>\n",
       "      <th>Termination Date</th>\n",
       "      <th>Total Hours.12</th>\n",
       "      <th>Total Available Hours.12</th>\n",
       "      <th>Work Hours.12</th>\n",
       "      <th>Leave Hours.12</th>\n",
       "      <th>Training Hours.12</th>\n",
       "      <th>BD Hours.12</th>\n",
       "      <th>NC Hours.12</th>\n",
       "      <th>Utilization%.12</th>\n",
       "    </tr>\n",
       "  </thead>\n",
       "  <tbody>\n",
       "    <tr>\n",
       "      <th>0</th>\n",
       "      <td>1</td>\n",
       "      <td>PC - 1</td>\n",
       "      <td>Rochette Jilleen</td>\n",
       "      <td>Level 2</td>\n",
       "      <td>Location 3</td>\n",
       "      <td>Client Service Staff</td>\n",
       "      <td>Level 1/2</td>\n",
       "      <td>Idalina Lauraine</td>\n",
       "      <td>2000-09-30</td>\n",
       "      <td>Active</td>\n",
       "      <td>-</td>\n",
       "      <td>2088</td>\n",
       "      <td>1802.0</td>\n",
       "      <td>636.0</td>\n",
       "      <td>216.0</td>\n",
       "      <td>70.0</td>\n",
       "      <td>1192.0</td>\n",
       "      <td>56.0</td>\n",
       "      <td>0.352941</td>\n",
       "    </tr>\n",
       "    <tr>\n",
       "      <th>1</th>\n",
       "      <td>2</td>\n",
       "      <td>PC - 2</td>\n",
       "      <td>Daryl Natalina</td>\n",
       "      <td>Level 2</td>\n",
       "      <td>Location 7</td>\n",
       "      <td>Client Service Staff</td>\n",
       "      <td>Level 1/2</td>\n",
       "      <td>Idalina Lauraine</td>\n",
       "      <td>1999-05-31</td>\n",
       "      <td>Active</td>\n",
       "      <td>-</td>\n",
       "      <td>2088</td>\n",
       "      <td>1882.0</td>\n",
       "      <td>555.5</td>\n",
       "      <td>156.0</td>\n",
       "      <td>50.0</td>\n",
       "      <td>694.0</td>\n",
       "      <td>734.0</td>\n",
       "      <td>0.295165</td>\n",
       "    </tr>\n",
       "    <tr>\n",
       "      <th>2</th>\n",
       "      <td>3</td>\n",
       "      <td>PC - 2</td>\n",
       "      <td>Annnora Gabrielle</td>\n",
       "      <td>Level 2</td>\n",
       "      <td>Location 7</td>\n",
       "      <td>Client Service Staff</td>\n",
       "      <td>Level 1/2</td>\n",
       "      <td>Idalina Lauraine</td>\n",
       "      <td>2001-01-31</td>\n",
       "      <td>Active</td>\n",
       "      <td>-</td>\n",
       "      <td>2088</td>\n",
       "      <td>1898.5</td>\n",
       "      <td>1004.5</td>\n",
       "      <td>144.0</td>\n",
       "      <td>45.5</td>\n",
       "      <td>507.0</td>\n",
       "      <td>549.5</td>\n",
       "      <td>0.529102</td>\n",
       "    </tr>\n",
       "    <tr>\n",
       "      <th>3</th>\n",
       "      <td>4</td>\n",
       "      <td>PC - 3</td>\n",
       "      <td>Barbee Joey</td>\n",
       "      <td>Level 2</td>\n",
       "      <td>Location 1</td>\n",
       "      <td>Client Service Staff</td>\n",
       "      <td>Level 1/2</td>\n",
       "      <td>Idalina Lauraine</td>\n",
       "      <td>2000-09-30</td>\n",
       "      <td>Active</td>\n",
       "      <td>-</td>\n",
       "      <td>2088</td>\n",
       "      <td>1851.0</td>\n",
       "      <td>273.0</td>\n",
       "      <td>208.0</td>\n",
       "      <td>29.0</td>\n",
       "      <td>1382.0</td>\n",
       "      <td>255.0</td>\n",
       "      <td>0.147488</td>\n",
       "    </tr>\n",
       "    <tr>\n",
       "      <th>4</th>\n",
       "      <td>5</td>\n",
       "      <td>PC - 4</td>\n",
       "      <td>Idalina Lauraine</td>\n",
       "      <td>Level 1</td>\n",
       "      <td>Location 3</td>\n",
       "      <td>Client Service Staff</td>\n",
       "      <td>Level 1/2</td>\n",
       "      <td>Abagail Druci</td>\n",
       "      <td>1998-06-30</td>\n",
       "      <td>Active</td>\n",
       "      <td>-</td>\n",
       "      <td>1312</td>\n",
       "      <td>1205.0</td>\n",
       "      <td>149.0</td>\n",
       "      <td>104.0</td>\n",
       "      <td>3.0</td>\n",
       "      <td>1159.0</td>\n",
       "      <td>818.0</td>\n",
       "      <td>0.123651</td>\n",
       "    </tr>\n",
       "  </tbody>\n",
       "</table>\n",
       "</div>"
      ],
      "text/plain": [
       "   Employee No Profit Center  ... NC Hours.12 Utilization%.12\n",
       "0            1        PC - 1  ...        56.0        0.352941\n",
       "1            2        PC - 2  ...       734.0        0.295165\n",
       "2            3        PC - 2  ...       549.5        0.529102\n",
       "3            4        PC - 3  ...       255.0        0.147488\n",
       "4            5        PC - 4  ...       818.0        0.123651\n",
       "\n",
       "[5 rows x 19 columns]"
      ]
     },
     "execution_count": 4,
     "metadata": {
      "tags": []
     },
     "output_type": "execute_result"
    }
   ],
   "source": [
    "df_16_17.head()"
   ]
  },
  {
   "cell_type": "markdown",
   "metadata": {
    "id": "m0ZFOoOdTqcJ"
   },
   "source": [
    "We have been given two dataset one is 16-17 and second is 17-18. In 17-18 dataset we don't have employees who have resigned in 16-17 , whereas other employees are present who have not resigned in 16-17. Also, 17-18 dataset has new employees that have been hired in 17-18. "
   ]
  },
  {
   "cell_type": "markdown",
   "metadata": {
    "id": "GofRWK5jWQNO"
   },
   "source": [
    "We will create new dataset for employees who has resigned in 16-17 and will do preprocessing separately for that dataset. We will also do preprocessing separately for 17-18 dataset. Then we will combine both dataset and will consider that dataset for further operation."
   ]
  },
  {
   "cell_type": "markdown",
   "metadata": {
    "id": "aXSbyOZfbfll"
   },
   "source": [
    "# Data Preprocessing"
   ]
  },
  {
   "cell_type": "markdown",
   "metadata": {
    "id": "zBzyO8MMbmN5"
   },
   "source": [
    "Let us start by 17-18 dataset."
   ]
  },
  {
   "cell_type": "code",
   "execution_count": null,
   "metadata": {
    "colab": {
     "base_uri": "https://localhost:8080/"
    },
    "executionInfo": {
     "elapsed": 33,
     "status": "ok",
     "timestamp": 1624701637195,
     "user": {
      "displayName": "ronak lathiya",
      "photoUrl": "",
      "userId": "13017137450409577858"
     },
     "user_tz": -330
    },
    "id": "4ucvPGbAQPcf",
    "outputId": "a8454bb7-9a4b-4f77-d0f3-4502580ef6ac"
   },
   "outputs": [
    {
     "name": "stdout",
     "output_type": "stream",
     "text": [
      "<class 'pandas.core.frame.DataFrame'>\n",
      "RangeIndex: 973 entries, 0 to 972\n",
      "Data columns (total 19 columns):\n",
      " #   Column                    Non-Null Count  Dtype         \n",
      "---  ------                    --------------  -----         \n",
      " 0   Employee No               973 non-null    int64         \n",
      " 1   Profit Center             973 non-null    object        \n",
      " 2   Employee Name             973 non-null    object        \n",
      " 3   Employee Position         973 non-null    object        \n",
      " 4   Employee Location         973 non-null    object        \n",
      " 5   People Group              973 non-null    object        \n",
      " 6   Employee Category         973 non-null    object        \n",
      " 7   Supervisor name           973 non-null    object        \n",
      " 8   Join Date                 973 non-null    datetime64[ns]\n",
      " 9   Current Status            973 non-null    object        \n",
      " 10  Termination Date          145 non-null    datetime64[ns]\n",
      " 11  Total Hours.12            973 non-null    int64         \n",
      " 12  Total Available Hours.12  973 non-null    float64       \n",
      " 13  Work Hours.12             973 non-null    float64       \n",
      " 14  Leave Hours.12            973 non-null    int64         \n",
      " 15  Training Hours.12         973 non-null    float64       \n",
      " 16  BD Hours.12               973 non-null    float64       \n",
      " 17  NC Hours.12               973 non-null    float64       \n",
      " 18  Utilization%.12           973 non-null    object        \n",
      "dtypes: datetime64[ns](2), float64(5), int64(3), object(9)\n",
      "memory usage: 144.6+ KB\n"
     ]
    }
   ],
   "source": [
    "df_17_18.info()"
   ]
  },
  {
   "cell_type": "markdown",
   "metadata": {
    "id": "vq3ujcD3b8lS"
   },
   "source": [
    "There are NA values in Termination Date."
   ]
  },
  {
   "cell_type": "markdown",
   "metadata": {
    "id": "Wa5QESOZcKSA"
   },
   "source": [
    "We will first start with categorical and object type data."
   ]
  },
  {
   "cell_type": "code",
   "execution_count": null,
   "metadata": {
    "colab": {
     "base_uri": "https://localhost:8080/"
    },
    "executionInfo": {
     "elapsed": 28,
     "status": "ok",
     "timestamp": 1624701637196,
     "user": {
      "displayName": "ronak lathiya",
      "photoUrl": "",
      "userId": "13017137450409577858"
     },
     "user_tz": -330
    },
    "id": "n-zQ2lS7bw_m",
    "outputId": "0e9515aa-1714-4d91-c4d4-4be02b28f175"
   },
   "outputs": [
    {
     "data": {
      "text/plain": [
       "Index(['Employee No', 'Profit Center', 'Employee Name', 'Employee Position',\n",
       "       'Employee Location', 'People Group', 'Employee Category',\n",
       "       'Supervisor name', 'Join Date', 'Current Status', 'Termination Date',\n",
       "       'Total Hours.12', 'Total Available Hours.12', 'Work Hours.12',\n",
       "       'Leave Hours.12', 'Training Hours.12', 'BD Hours.12', 'NC Hours.12',\n",
       "       'Utilization%.12'],\n",
       "      dtype='object')"
      ]
     },
     "execution_count": 6,
     "metadata": {
      "tags": []
     },
     "output_type": "execute_result"
    }
   ],
   "source": [
    "df_17_18.columns"
   ]
  },
  {
   "cell_type": "code",
   "execution_count": null,
   "metadata": {
    "id": "okuo5coecUef"
   },
   "outputs": [],
   "source": [
    "categorical_colnames = [ 'Profit Center', 'Employee Name', 'Employee Position','Employee Location', 'People Group', 'Employee Category',\n",
    "                         'Supervisor name',  'Current Status']"
   ]
  },
  {
   "cell_type": "code",
   "execution_count": null,
   "metadata": {
    "id": "WKWrm_9KcvW6"
   },
   "outputs": [],
   "source": [
    "for i in categorical_colnames:\n",
    "    df_17_18[i] = df_17_18[i].str.upper()"
   ]
  },
  {
   "cell_type": "code",
   "execution_count": null,
   "metadata": {
    "id": "hc9S537rc2fX"
   },
   "outputs": [],
   "source": [
    "for i in categorical_colnames:\n",
    "    df_17_18[i] = df_17_18[i].str.strip()"
   ]
  },
  {
   "cell_type": "markdown",
   "metadata": {
    "id": "MBNyY6WGdndj"
   },
   "source": [
    "Let me check for any unusual values(like \"-\",\"?\") in columns in categorical_colnames."
   ]
  },
  {
   "cell_type": "code",
   "execution_count": null,
   "metadata": {
    "colab": {
     "base_uri": "https://localhost:8080/"
    },
    "executionInfo": {
     "elapsed": 28,
     "status": "ok",
     "timestamp": 1624701637201,
     "user": {
      "displayName": "ronak lathiya",
      "photoUrl": "",
      "userId": "13017137450409577858"
     },
     "user_tz": -330
    },
    "id": "-D9u7M5Lc7Fq",
    "outputId": "fb6520d1-1fbc-4a36-d8cf-b6b8db72f903"
   },
   "outputs": [
    {
     "name": "stdout",
     "output_type": "stream",
     "text": [
      "{'Profit Center': array(['PC - 1', 'PC - 2', 'PC - 3', 'PC - 5', 'PC - 6', 'PC - 11'],\n",
      "      dtype=object)}\n",
      "{'Employee Position': array(['LEVEL 1', 'LEVEL 2', 'LEVEL 3', 'LEVEL 6', 'LEVEL 4', 'LEVEL 5',\n",
      "       'LEVEL A2', 'LEVEL 7', 'LEVEL A3', 'LEVEL 8', '-', 'LEVEL A1'],\n",
      "      dtype=object)}\n",
      "{'Employee Location': array(['LOCATION 3', 'LOCATION 7', 'LOCATION 1', 'LOCATION 9',\n",
      "       'LOCATION 8', 'LOCATION 4', 'LOCATION 2', 'LOCATION 6',\n",
      "       'LOCATION 5'], dtype=object)}\n",
      "{'People Group': array(['CLIENT SERVICE STAFF', 'SUPPORT STAFF'], dtype=object)}\n",
      "{'Employee Category': array(['SVP/VP', 'RESIGNED', 'CONFIRMED STAFF',\n",
      "       'CONFIRMED STAFF (PART-TIME 4 HOURS)',\n",
      "       'SECONDEE-OUTWARD-WITHOUT PAY', 'AWAITING TERMINATION',\n",
      "       'CONFIRMED STAFF (PART-TIME 6 HOURS)', 'SERVING NOTICE PERIOD',\n",
      "       'CONFIRMED-SABBATICAL', 'STAFF ON PROBATION', 'FIXED TERM STAFF'],\n",
      "      dtype=object)}\n",
      "{'Supervisor name': array(['IDALINA LAURAINE', 'ROCHETTE JILLEEN', 'ANNNORA GABRIELLE',\n",
      "       'CACILIA AIMEE', 'ORSA MARGEAUX', 'JORDANNA DANYA',\n",
      "       'REVKAH STEPHIE', 'DARYL NATALINA', 'KIPPY MARQUITA',\n",
      "       'MARINA GARNETTE', 'KALINDI TOMA', 'IRENE CANDIS', 'KYNTHIA HILDY',\n",
      "       'ORIANA TABBY', 'ARDYS KATERINE', 'ALVINIA EDE', 'DORE NATALYA',\n",
      "       'MARLEAH BERNADINA', 'TALLIA EYDE', 'DOTTIE BIDGET', 'KEVIN PEREZ',\n",
      "       'VONNI BETHENA', 'LENORA NYDIA', 'LINDY MARGUERITE',\n",
      "       'PHILIPPE KIZZIE', 'ZARIA DAWN', 'GUENEVERE FLORIDA',\n",
      "       'MYRTIE BRANA', 'TERZA GWYN', 'ROSABEL SAIDEE', 'MADDEN GALVAN',\n",
      "       'ERMINIE ERICKA', 'EM CACILIE', 'RINA DEBEE', 'MARYS ESSY',\n",
      "       'FRANCES MIGNONNE', 'TRENNA MUREIL', 'TRUDEY LISSI', 'NERITA ANET',\n",
      "       'NIKOLIA SHIRL', 'AGATA THEODOSIA', '-', 'JILLANA VIVI',\n",
      "       'WILLETTE LIL', 'LAETITIA YOSHI', 'NERISSA JACKQUELIN',\n",
      "       'TIENA HATTI', 'JOLYN BRINEY', 'CYNTHIA LEONORA',\n",
      "       'DANETTE MELINDA', 'DELORIS GABRIELLA', 'TATIANA ROXANNA',\n",
      "       'GERT EDITHA', 'YOLANTHE LAURELLA', 'NANCEE DEIRDRE',\n",
      "       'OPHELIE JYOTI', 'ROSALYND CATINA', 'BEVERLEY LANEY',\n",
      "       'KATHYE EDNA', 'KRISTINA ALLEEN', 'LEE ALFIE', 'LIAN HARLEY',\n",
      "       'KATUSCHA PRU', 'EZMERALDA NISSE', 'JILLIAN LORELEI',\n",
      "       'GAVRA KAYLE', 'MISTI HELENA', 'GISELLA NICKIE', 'VINNI CALYPSO',\n",
      "       'AUDI STEPHANA', 'SYBIL GEORGIANNA', 'CONNI ATHENE',\n",
      "       'CASSANDRA KATERINA', 'TOMMY MUIRE', 'CHERISE LAINEY',\n",
      "       'BENEDIKTA KIRBEE', 'MARNEY ANDEREA', 'AGNES STACIE',\n",
      "       'LANDON BROWNING', 'DANNIE CLOTILDA', 'NAOMI REBEKAH',\n",
      "       'ALI ELSINORE', 'MARGO OPALINE', 'MOIRA VIVIEN', 'LEILAH NANNI',\n",
      "       'SILE LORRIE', 'BLONDY TATIANIA', 'XYLINA BEATRIZ',\n",
      "       'TALLULAH KASSIA', 'RUTHE BELLINA', 'IORMINA LUCIENNE',\n",
      "       'ZANETA ARLETTE', 'ORELEE HANNA', 'HEDI ELNA', 'LATOSHA BIERBAUM',\n",
      "       'ROSABELLA ARLINA', 'JAYLIN BERG', 'DIONNE RONNA', 'LUCIANA ERIKA',\n",
      "       'GENVIEVE CELESTE', 'ILSA MARIGOLD', 'LANE AILINA', 'MARRIS GILDA',\n",
      "       'AIMIL LATISHA', 'CORTNEY WANIDS', 'COSETTE LAVENA',\n",
      "       'GRATA ROCHELLA', 'JOSI ULA', 'SHEILA PAPAGENA', 'CODY ASHLAN',\n",
      "       'PRUDI DELLY', 'KATI ROSALYN', 'EMELDA JACKQUELINE',\n",
      "       'MORGEN HAILEE', 'JOSEY RORIE', 'CHRIS RICKY', 'IMELDA MADALENA',\n",
      "       'CLAUDIA MEAGHAN', 'MIRA FIORENZE', 'VANESSA ZINGARO',\n",
      "       'KLARRISA THERESITA', 'CHRISTINA DESDEMONA', 'LEONANIE LEXINE',\n",
      "       'LIBBEY RITA', 'LIBBY BOWEN', 'MARIA AUBREY', 'MATHILDA TOMI',\n",
      "       'CORDULA DEVAN', 'DONETTE VERNE', 'REFUGIA MORGANTI',\n",
      "       'JOHAN GAINES', 'BERYLE LISHA', 'JAMIYA SELLERS', 'KALIE SYLVIA',\n",
      "       'DOUGLAS HERRERA', 'BLAIR DINNY', 'TALIA BAUTISTA',\n",
      "       'KALI GWENDOLYN', 'MARNE LINN'], dtype=object)}\n",
      "{'Current Status': array(['ACTIVE', 'RESIGNED', 'SECONDMENT', 'SABBATICAL', 'NEW JOINER'],\n",
      "      dtype=object)}\n"
     ]
    }
   ],
   "source": [
    "categorical_colnames = [ 'Profit Center', 'Employee Position','Employee Location', 'People Group', 'Employee Category',\n",
    "                         'Supervisor name',  'Current Status'] # I have removed Employee Name because we are not going to use this variable in our model.\n",
    "for i in categorical_colnames:\n",
    "    print({i: df_17_18[i].unique()})"
   ]
  },
  {
   "cell_type": "markdown",
   "metadata": {
    "id": "reNOXcATiHRW"
   },
   "source": [
    "We have found unusual values in 2 columns. \"Employee Position\" and \"Supervisor name\" both contain \"-\"."
   ]
  },
  {
   "cell_type": "code",
   "execution_count": null,
   "metadata": {
    "colab": {
     "base_uri": "https://localhost:8080/",
     "height": 666
    },
    "executionInfo": {
     "elapsed": 26,
     "status": "ok",
     "timestamp": 1624701637202,
     "user": {
      "displayName": "ronak lathiya",
      "photoUrl": "",
      "userId": "13017137450409577858"
     },
     "user_tz": -330
    },
    "id": "Mr4i2TfheVLn",
    "outputId": "dcfc6df7-2132-4ea0-944e-6887b13036ca"
   },
   "outputs": [
    {
     "data": {
      "text/html": [
       "<div>\n",
       "<style scoped>\n",
       "    .dataframe tbody tr th:only-of-type {\n",
       "        vertical-align: middle;\n",
       "    }\n",
       "\n",
       "    .dataframe tbody tr th {\n",
       "        vertical-align: top;\n",
       "    }\n",
       "\n",
       "    .dataframe thead th {\n",
       "        text-align: right;\n",
       "    }\n",
       "</style>\n",
       "<table border=\"1\" class=\"dataframe\">\n",
       "  <thead>\n",
       "    <tr style=\"text-align: right;\">\n",
       "      <th></th>\n",
       "      <th>Employee No</th>\n",
       "      <th>Profit Center</th>\n",
       "      <th>Employee Name</th>\n",
       "      <th>Employee Position</th>\n",
       "      <th>Employee Location</th>\n",
       "      <th>People Group</th>\n",
       "      <th>Employee Category</th>\n",
       "      <th>Supervisor name</th>\n",
       "      <th>Join Date</th>\n",
       "      <th>Current Status</th>\n",
       "      <th>Termination Date</th>\n",
       "      <th>Total Hours.12</th>\n",
       "      <th>Total Available Hours.12</th>\n",
       "      <th>Work Hours.12</th>\n",
       "      <th>Leave Hours.12</th>\n",
       "      <th>Training Hours.12</th>\n",
       "      <th>BD Hours.12</th>\n",
       "      <th>NC Hours.12</th>\n",
       "      <th>Utilization%.12</th>\n",
       "    </tr>\n",
       "  </thead>\n",
       "  <tbody>\n",
       "    <tr>\n",
       "      <th>382</th>\n",
       "      <td>487</td>\n",
       "      <td>PC - 11</td>\n",
       "      <td>CAROLYNN ALICIA</td>\n",
       "      <td>-</td>\n",
       "      <td>LOCATION 7</td>\n",
       "      <td>SUPPORT STAFF</td>\n",
       "      <td>CONFIRMED STAFF</td>\n",
       "      <td>JAYLIN BERG</td>\n",
       "      <td>2015-11-30</td>\n",
       "      <td>ACTIVE</td>\n",
       "      <td>NaT</td>\n",
       "      <td>1040</td>\n",
       "      <td>952.0</td>\n",
       "      <td>0.0</td>\n",
       "      <td>88</td>\n",
       "      <td>0.0</td>\n",
       "      <td>0.0</td>\n",
       "      <td>1032.0</td>\n",
       "      <td>0</td>\n",
       "    </tr>\n",
       "    <tr>\n",
       "      <th>838</th>\n",
       "      <td>975</td>\n",
       "      <td>PC - 1</td>\n",
       "      <td>JESSIE HESTER</td>\n",
       "      <td>-</td>\n",
       "      <td>LOCATION 8</td>\n",
       "      <td>CLIENT SERVICE STAFF</td>\n",
       "      <td>CONFIRMED STAFF</td>\n",
       "      <td>DOUGLAS HERRERA</td>\n",
       "      <td>2017-09-30</td>\n",
       "      <td>ACTIVE</td>\n",
       "      <td>NaT</td>\n",
       "      <td>1160</td>\n",
       "      <td>1023.0</td>\n",
       "      <td>999.0</td>\n",
       "      <td>112</td>\n",
       "      <td>25.0</td>\n",
       "      <td>0.0</td>\n",
       "      <td>24.0</td>\n",
       "      <td>0.97654</td>\n",
       "    </tr>\n",
       "    <tr>\n",
       "      <th>841</th>\n",
       "      <td>978</td>\n",
       "      <td>PC - 1</td>\n",
       "      <td>AIDAN LEWIS</td>\n",
       "      <td>-</td>\n",
       "      <td>LOCATION 8</td>\n",
       "      <td>CLIENT SERVICE STAFF</td>\n",
       "      <td>SERVING NOTICE PERIOD</td>\n",
       "      <td>JOSEY RORIE</td>\n",
       "      <td>2017-09-30</td>\n",
       "      <td>ACTIVE</td>\n",
       "      <td>NaT</td>\n",
       "      <td>1080</td>\n",
       "      <td>1040.0</td>\n",
       "      <td>1024.0</td>\n",
       "      <td>32</td>\n",
       "      <td>8.0</td>\n",
       "      <td>0.0</td>\n",
       "      <td>16.0</td>\n",
       "      <td>0.984615</td>\n",
       "    </tr>\n",
       "    <tr>\n",
       "      <th>846</th>\n",
       "      <td>982</td>\n",
       "      <td>PC - 1</td>\n",
       "      <td>SABRINA CONRAD</td>\n",
       "      <td>-</td>\n",
       "      <td>LOCATION 8</td>\n",
       "      <td>CLIENT SERVICE STAFF</td>\n",
       "      <td>RESIGNED</td>\n",
       "      <td>JOSEY RORIE</td>\n",
       "      <td>2017-10-31</td>\n",
       "      <td>RESIGNED</td>\n",
       "      <td>2018-05-31</td>\n",
       "      <td>920</td>\n",
       "      <td>800.0</td>\n",
       "      <td>776.0</td>\n",
       "      <td>104</td>\n",
       "      <td>16.0</td>\n",
       "      <td>0.0</td>\n",
       "      <td>24.0</td>\n",
       "      <td>0.97</td>\n",
       "    </tr>\n",
       "    <tr>\n",
       "      <th>865</th>\n",
       "      <td>1001</td>\n",
       "      <td>PC - 1</td>\n",
       "      <td>LORELAI CRAIG</td>\n",
       "      <td>-</td>\n",
       "      <td>LOCATION 8</td>\n",
       "      <td>CLIENT SERVICE STAFF</td>\n",
       "      <td>CONFIRMED STAFF</td>\n",
       "      <td>DOUGLAS HERRERA</td>\n",
       "      <td>2017-11-30</td>\n",
       "      <td>ACTIVE</td>\n",
       "      <td>NaT</td>\n",
       "      <td>760</td>\n",
       "      <td>704.0</td>\n",
       "      <td>568.0</td>\n",
       "      <td>32</td>\n",
       "      <td>24.0</td>\n",
       "      <td>0.0</td>\n",
       "      <td>144.0</td>\n",
       "      <td>0.806818</td>\n",
       "    </tr>\n",
       "    <tr>\n",
       "      <th>870</th>\n",
       "      <td>1006</td>\n",
       "      <td>PC - 1</td>\n",
       "      <td>CADEN PINEDA</td>\n",
       "      <td>-</td>\n",
       "      <td>LOCATION 8</td>\n",
       "      <td>CLIENT SERVICE STAFF</td>\n",
       "      <td>RESIGNED</td>\n",
       "      <td>JOSEY RORIE</td>\n",
       "      <td>2017-11-30</td>\n",
       "      <td>RESIGNED</td>\n",
       "      <td>2018-04-30</td>\n",
       "      <td>720</td>\n",
       "      <td>608.0</td>\n",
       "      <td>592.0</td>\n",
       "      <td>96</td>\n",
       "      <td>16.0</td>\n",
       "      <td>0.0</td>\n",
       "      <td>16.0</td>\n",
       "      <td>0.973684</td>\n",
       "    </tr>\n",
       "    <tr>\n",
       "      <th>881</th>\n",
       "      <td>1017</td>\n",
       "      <td>PC - 1</td>\n",
       "      <td>ASHLEIGH MUNOZ</td>\n",
       "      <td>-</td>\n",
       "      <td>LOCATION 8</td>\n",
       "      <td>CLIENT SERVICE STAFF</td>\n",
       "      <td>STAFF ON PROBATION</td>\n",
       "      <td>DOUGLAS HERRERA</td>\n",
       "      <td>2017-12-31</td>\n",
       "      <td>ACTIVE</td>\n",
       "      <td>NaT</td>\n",
       "      <td>640</td>\n",
       "      <td>624.0</td>\n",
       "      <td>600.0</td>\n",
       "      <td>0</td>\n",
       "      <td>16.0</td>\n",
       "      <td>0.0</td>\n",
       "      <td>24.0</td>\n",
       "      <td>0.961538</td>\n",
       "    </tr>\n",
       "    <tr>\n",
       "      <th>888</th>\n",
       "      <td>1023</td>\n",
       "      <td>PC - 1</td>\n",
       "      <td>ANGELIQUE MCFARLAND</td>\n",
       "      <td>-</td>\n",
       "      <td>LOCATION 8</td>\n",
       "      <td>CLIENT SERVICE STAFF</td>\n",
       "      <td>STAFF ON PROBATION</td>\n",
       "      <td>DOUGLAS HERRERA</td>\n",
       "      <td>2017-12-31</td>\n",
       "      <td>ACTIVE</td>\n",
       "      <td>NaT</td>\n",
       "      <td>600</td>\n",
       "      <td>544.0</td>\n",
       "      <td>520.0</td>\n",
       "      <td>32</td>\n",
       "      <td>24.0</td>\n",
       "      <td>0.0</td>\n",
       "      <td>24.0</td>\n",
       "      <td>0.955882</td>\n",
       "    </tr>\n",
       "    <tr>\n",
       "      <th>894</th>\n",
       "      <td>1029</td>\n",
       "      <td>PC - 1</td>\n",
       "      <td>GLORIA BLANKENSHIP</td>\n",
       "      <td>-</td>\n",
       "      <td>LOCATION 8</td>\n",
       "      <td>CLIENT SERVICE STAFF</td>\n",
       "      <td>STAFF ON PROBATION</td>\n",
       "      <td>DOUGLAS HERRERA</td>\n",
       "      <td>2018-01-31</td>\n",
       "      <td>ACTIVE</td>\n",
       "      <td>NaT</td>\n",
       "      <td>512</td>\n",
       "      <td>448.0</td>\n",
       "      <td>424.0</td>\n",
       "      <td>48</td>\n",
       "      <td>16.0</td>\n",
       "      <td>0.0</td>\n",
       "      <td>24.0</td>\n",
       "      <td>0.946429</td>\n",
       "    </tr>\n",
       "  </tbody>\n",
       "</table>\n",
       "</div>"
      ],
      "text/plain": [
       "     Employee No Profit Center  ... NC Hours.12 Utilization%.12\n",
       "382          487       PC - 11  ...      1032.0               0\n",
       "838          975        PC - 1  ...        24.0         0.97654\n",
       "841          978        PC - 1  ...        16.0        0.984615\n",
       "846          982        PC - 1  ...        24.0            0.97\n",
       "865         1001        PC - 1  ...       144.0        0.806818\n",
       "870         1006        PC - 1  ...        16.0        0.973684\n",
       "881         1017        PC - 1  ...        24.0        0.961538\n",
       "888         1023        PC - 1  ...        24.0        0.955882\n",
       "894         1029        PC - 1  ...        24.0        0.946429\n",
       "\n",
       "[9 rows x 19 columns]"
      ]
     },
     "execution_count": 11,
     "metadata": {
      "tags": []
     },
     "output_type": "execute_result"
    }
   ],
   "source": [
    "df_17_18[df_17_18[\"Employee Position\"]==\"-\"]"
   ]
  },
  {
   "cell_type": "markdown",
   "metadata": {
    "id": "CU1A-kTWkUWe"
   },
   "source": [
    "For Employee number 487 we can fill its Employee Position using 16-17 dataset. Where as other employees are not present in 16-17, they have joined in 17-18. For them we will fill Employee Position by looking at their Supervisor's position because employee's position will be of lower rank than his superviser's position. So, it will help in making rough approximation."
   ]
  },
  {
   "cell_type": "code",
   "execution_count": null,
   "metadata": {
    "colab": {
     "base_uri": "https://localhost:8080/",
     "height": 150
    },
    "executionInfo": {
     "elapsed": 733,
     "status": "ok",
     "timestamp": 1624701637910,
     "user": {
      "displayName": "ronak lathiya",
      "photoUrl": "",
      "userId": "13017137450409577858"
     },
     "user_tz": -330
    },
    "id": "jCeFta_ujCRH",
    "outputId": "dc64c444-2d4c-44d9-c52f-4f48318c9deb"
   },
   "outputs": [
    {
     "data": {
      "text/html": [
       "<div>\n",
       "<style scoped>\n",
       "    .dataframe tbody tr th:only-of-type {\n",
       "        vertical-align: middle;\n",
       "    }\n",
       "\n",
       "    .dataframe tbody tr th {\n",
       "        vertical-align: top;\n",
       "    }\n",
       "\n",
       "    .dataframe thead th {\n",
       "        text-align: right;\n",
       "    }\n",
       "</style>\n",
       "<table border=\"1\" class=\"dataframe\">\n",
       "  <thead>\n",
       "    <tr style=\"text-align: right;\">\n",
       "      <th></th>\n",
       "      <th>Employee No</th>\n",
       "      <th>Profit Center</th>\n",
       "      <th>Employee Name</th>\n",
       "      <th>Employee Position</th>\n",
       "      <th>Employee Location</th>\n",
       "      <th>People Group</th>\n",
       "      <th>Employee Category</th>\n",
       "      <th>Supervisor name</th>\n",
       "      <th>Join Date</th>\n",
       "      <th>Current Status</th>\n",
       "      <th>Termination Date</th>\n",
       "      <th>Total Hours.12</th>\n",
       "      <th>Total Available Hours.12</th>\n",
       "      <th>Work Hours.12</th>\n",
       "      <th>Leave Hours.12</th>\n",
       "      <th>Training Hours.12</th>\n",
       "      <th>BD Hours.12</th>\n",
       "      <th>NC Hours.12</th>\n",
       "      <th>Utilization%.12</th>\n",
       "    </tr>\n",
       "  </thead>\n",
       "  <tbody>\n",
       "    <tr>\n",
       "      <th>486</th>\n",
       "      <td>487</td>\n",
       "      <td>PC - 2</td>\n",
       "      <td>Carolynn Alicia</td>\n",
       "      <td>Level A1</td>\n",
       "      <td>Location 7</td>\n",
       "      <td>Support Staff</td>\n",
       "      <td>Confirmed Staff</td>\n",
       "      <td>Annnora Gabrielle</td>\n",
       "      <td>2015-11-30</td>\n",
       "      <td>Active</td>\n",
       "      <td>-</td>\n",
       "      <td>2088</td>\n",
       "      <td>1782.0</td>\n",
       "      <td>0.0</td>\n",
       "      <td>296.0</td>\n",
       "      <td>10.0</td>\n",
       "      <td>0.0</td>\n",
       "      <td>1798.0</td>\n",
       "      <td>0</td>\n",
       "    </tr>\n",
       "  </tbody>\n",
       "</table>\n",
       "</div>"
      ],
      "text/plain": [
       "     Employee No Profit Center  ... NC Hours.12 Utilization%.12\n",
       "486          487        PC - 2  ...      1798.0               0\n",
       "\n",
       "[1 rows x 19 columns]"
      ]
     },
     "execution_count": 12,
     "metadata": {
      "tags": []
     },
     "output_type": "execute_result"
    }
   ],
   "source": [
    " df_16_17[df_16_17[\"Employee No\"]==487] # to get employee position from 16-17 dataset"
   ]
  },
  {
   "cell_type": "code",
   "execution_count": null,
   "metadata": {
    "id": "VkAgkj91nXDd"
   },
   "outputs": [],
   "source": [
    "df_17_18[\"Employee Position\"][df_17_18[\"Employee No\"]==487] = \"LEVEL A1\" # replacing \"-\" with true Employee Position"
   ]
  },
  {
   "cell_type": "markdown",
   "metadata": {
    "id": "drqNv-9RoUg0"
   },
   "source": [
    "For other \"-\" Employee Position we have only two Supervisor name (Douglas Herrera,Josey Rorie). Let us check supervisor's position and what levels of employees come under their supervision."
   ]
  },
  {
   "cell_type": "code",
   "execution_count": null,
   "metadata": {
    "colab": {
     "base_uri": "https://localhost:8080/",
     "height": 167
    },
    "executionInfo": {
     "elapsed": 73,
     "status": "ok",
     "timestamp": 1624701637912,
     "user": {
      "displayName": "ronak lathiya",
      "photoUrl": "",
      "userId": "13017137450409577858"
     },
     "user_tz": -330
    },
    "id": "KNvjyHtenspo",
    "outputId": "a48377b0-e307-4e57-ea56-4733e65c7ebd"
   },
   "outputs": [
    {
     "data": {
      "text/html": [
       "<div>\n",
       "<style scoped>\n",
       "    .dataframe tbody tr th:only-of-type {\n",
       "        vertical-align: middle;\n",
       "    }\n",
       "\n",
       "    .dataframe tbody tr th {\n",
       "        vertical-align: top;\n",
       "    }\n",
       "\n",
       "    .dataframe thead th {\n",
       "        text-align: right;\n",
       "    }\n",
       "</style>\n",
       "<table border=\"1\" class=\"dataframe\">\n",
       "  <thead>\n",
       "    <tr style=\"text-align: right;\">\n",
       "      <th></th>\n",
       "      <th>Employee No</th>\n",
       "      <th>Profit Center</th>\n",
       "      <th>Employee Name</th>\n",
       "      <th>Employee Position</th>\n",
       "      <th>Employee Location</th>\n",
       "      <th>People Group</th>\n",
       "      <th>Employee Category</th>\n",
       "      <th>Supervisor name</th>\n",
       "      <th>Join Date</th>\n",
       "      <th>Current Status</th>\n",
       "      <th>Termination Date</th>\n",
       "      <th>Total Hours.12</th>\n",
       "      <th>Total Available Hours.12</th>\n",
       "      <th>Work Hours.12</th>\n",
       "      <th>Leave Hours.12</th>\n",
       "      <th>Training Hours.12</th>\n",
       "      <th>BD Hours.12</th>\n",
       "      <th>NC Hours.12</th>\n",
       "      <th>Utilization%.12</th>\n",
       "    </tr>\n",
       "  </thead>\n",
       "  <tbody>\n",
       "    <tr>\n",
       "      <th>616</th>\n",
       "      <td>745</td>\n",
       "      <td>PC - 1</td>\n",
       "      <td>JOSEY RORIE</td>\n",
       "      <td>LEVEL 5</td>\n",
       "      <td>LOCATION 3</td>\n",
       "      <td>CLIENT SERVICE STAFF</td>\n",
       "      <td>CONFIRMED STAFF</td>\n",
       "      <td>KIPPY MARQUITA</td>\n",
       "      <td>2017-01-31</td>\n",
       "      <td>ACTIVE</td>\n",
       "      <td>NaT</td>\n",
       "      <td>2080</td>\n",
       "      <td>2040.0</td>\n",
       "      <td>920.0</td>\n",
       "      <td>40</td>\n",
       "      <td>0.0</td>\n",
       "      <td>1120.0</td>\n",
       "      <td>0.0</td>\n",
       "      <td>0.45098</td>\n",
       "    </tr>\n",
       "  </tbody>\n",
       "</table>\n",
       "</div>"
      ],
      "text/plain": [
       "     Employee No Profit Center  ... NC Hours.12 Utilization%.12\n",
       "616          745        PC - 1  ...         0.0         0.45098\n",
       "\n",
       "[1 rows x 19 columns]"
      ]
     },
     "execution_count": 14,
     "metadata": {
      "tags": []
     },
     "output_type": "execute_result"
    }
   ],
   "source": [
    "df_17_18[df_17_18[\"Employee Name\"]==\"JOSEY RORIE\"] #checking supervisor's position"
   ]
  },
  {
   "cell_type": "code",
   "execution_count": null,
   "metadata": {
    "colab": {
     "base_uri": "https://localhost:8080/",
     "height": 167
    },
    "executionInfo": {
     "elapsed": 72,
     "status": "ok",
     "timestamp": 1624701637913,
     "user": {
      "displayName": "ronak lathiya",
      "photoUrl": "",
      "userId": "13017137450409577858"
     },
     "user_tz": -330
    },
    "id": "nTxZvYZlpVCf",
    "outputId": "a1004e3b-fee5-42e4-e8e8-24bfde7c2f92"
   },
   "outputs": [
    {
     "data": {
      "text/html": [
       "<div>\n",
       "<style scoped>\n",
       "    .dataframe tbody tr th:only-of-type {\n",
       "        vertical-align: middle;\n",
       "    }\n",
       "\n",
       "    .dataframe tbody tr th {\n",
       "        vertical-align: top;\n",
       "    }\n",
       "\n",
       "    .dataframe thead th {\n",
       "        text-align: right;\n",
       "    }\n",
       "</style>\n",
       "<table border=\"1\" class=\"dataframe\">\n",
       "  <thead>\n",
       "    <tr style=\"text-align: right;\">\n",
       "      <th></th>\n",
       "      <th>Employee No</th>\n",
       "      <th>Profit Center</th>\n",
       "      <th>Employee Name</th>\n",
       "      <th>Employee Position</th>\n",
       "      <th>Employee Location</th>\n",
       "      <th>People Group</th>\n",
       "      <th>Employee Category</th>\n",
       "      <th>Supervisor name</th>\n",
       "      <th>Join Date</th>\n",
       "      <th>Current Status</th>\n",
       "      <th>Termination Date</th>\n",
       "      <th>Total Hours.12</th>\n",
       "      <th>Total Available Hours.12</th>\n",
       "      <th>Work Hours.12</th>\n",
       "      <th>Leave Hours.12</th>\n",
       "      <th>Training Hours.12</th>\n",
       "      <th>BD Hours.12</th>\n",
       "      <th>NC Hours.12</th>\n",
       "      <th>Utilization%.12</th>\n",
       "    </tr>\n",
       "  </thead>\n",
       "  <tbody>\n",
       "    <tr>\n",
       "      <th>856</th>\n",
       "      <td>992</td>\n",
       "      <td>PC - 1</td>\n",
       "      <td>DOUGLAS HERRERA</td>\n",
       "      <td>LEVEL 5</td>\n",
       "      <td>LOCATION 8</td>\n",
       "      <td>CLIENT SERVICE STAFF</td>\n",
       "      <td>CONFIRMED STAFF</td>\n",
       "      <td>KIPPY MARQUITA</td>\n",
       "      <td>2017-11-30</td>\n",
       "      <td>ACTIVE</td>\n",
       "      <td>NaT</td>\n",
       "      <td>840</td>\n",
       "      <td>698.0</td>\n",
       "      <td>642.0</td>\n",
       "      <td>88</td>\n",
       "      <td>54.0</td>\n",
       "      <td>0.0</td>\n",
       "      <td>56.0</td>\n",
       "      <td>0.919771</td>\n",
       "    </tr>\n",
       "  </tbody>\n",
       "</table>\n",
       "</div>"
      ],
      "text/plain": [
       "     Employee No Profit Center  ... NC Hours.12 Utilization%.12\n",
       "856          992        PC - 1  ...        56.0        0.919771\n",
       "\n",
       "[1 rows x 19 columns]"
      ]
     },
     "execution_count": 15,
     "metadata": {
      "tags": []
     },
     "output_type": "execute_result"
    }
   ],
   "source": [
    "df_17_18[df_17_18[\"Employee Name\"]==\"DOUGLAS HERRERA\"] #checking supervisor's position"
   ]
  },
  {
   "cell_type": "code",
   "execution_count": null,
   "metadata": {
    "colab": {
     "base_uri": "https://localhost:8080/",
     "height": 940
    },
    "executionInfo": {
     "elapsed": 70,
     "status": "ok",
     "timestamp": 1624701637913,
     "user": {
      "displayName": "ronak lathiya",
      "photoUrl": "",
      "userId": "13017137450409577858"
     },
     "user_tz": -330
    },
    "id": "w_dDS1zOpcqR",
    "outputId": "c1b22063-8b8b-4095-d111-56b64717fa3f"
   },
   "outputs": [
    {
     "data": {
      "text/html": [
       "<div>\n",
       "<style scoped>\n",
       "    .dataframe tbody tr th:only-of-type {\n",
       "        vertical-align: middle;\n",
       "    }\n",
       "\n",
       "    .dataframe tbody tr th {\n",
       "        vertical-align: top;\n",
       "    }\n",
       "\n",
       "    .dataframe thead th {\n",
       "        text-align: right;\n",
       "    }\n",
       "</style>\n",
       "<table border=\"1\" class=\"dataframe\">\n",
       "  <thead>\n",
       "    <tr style=\"text-align: right;\">\n",
       "      <th></th>\n",
       "      <th>Employee No</th>\n",
       "      <th>Profit Center</th>\n",
       "      <th>Employee Name</th>\n",
       "      <th>Employee Position</th>\n",
       "      <th>Employee Location</th>\n",
       "      <th>People Group</th>\n",
       "      <th>Employee Category</th>\n",
       "      <th>Supervisor name</th>\n",
       "      <th>Join Date</th>\n",
       "      <th>Current Status</th>\n",
       "      <th>Termination Date</th>\n",
       "      <th>Total Hours.12</th>\n",
       "      <th>Total Available Hours.12</th>\n",
       "      <th>Work Hours.12</th>\n",
       "      <th>Leave Hours.12</th>\n",
       "      <th>Training Hours.12</th>\n",
       "      <th>BD Hours.12</th>\n",
       "      <th>NC Hours.12</th>\n",
       "      <th>Utilization%.12</th>\n",
       "    </tr>\n",
       "  </thead>\n",
       "  <tbody>\n",
       "    <tr>\n",
       "      <th>838</th>\n",
       "      <td>975</td>\n",
       "      <td>PC - 1</td>\n",
       "      <td>JESSIE HESTER</td>\n",
       "      <td>-</td>\n",
       "      <td>LOCATION 8</td>\n",
       "      <td>CLIENT SERVICE STAFF</td>\n",
       "      <td>CONFIRMED STAFF</td>\n",
       "      <td>DOUGLAS HERRERA</td>\n",
       "      <td>2017-09-30</td>\n",
       "      <td>ACTIVE</td>\n",
       "      <td>NaT</td>\n",
       "      <td>1160</td>\n",
       "      <td>1023.0</td>\n",
       "      <td>999.0</td>\n",
       "      <td>112</td>\n",
       "      <td>25.0</td>\n",
       "      <td>0.0</td>\n",
       "      <td>24.0</td>\n",
       "      <td>0.97654</td>\n",
       "    </tr>\n",
       "    <tr>\n",
       "      <th>848</th>\n",
       "      <td>984</td>\n",
       "      <td>PC - 1</td>\n",
       "      <td>QUINTEN BROCK</td>\n",
       "      <td>LEVEL 8</td>\n",
       "      <td>LOCATION 8</td>\n",
       "      <td>CLIENT SERVICE STAFF</td>\n",
       "      <td>CONFIRMED STAFF</td>\n",
       "      <td>DOUGLAS HERRERA</td>\n",
       "      <td>2017-10-31</td>\n",
       "      <td>ACTIVE</td>\n",
       "      <td>NaT</td>\n",
       "      <td>920</td>\n",
       "      <td>904.0</td>\n",
       "      <td>848.0</td>\n",
       "      <td>0</td>\n",
       "      <td>16.0</td>\n",
       "      <td>0.0</td>\n",
       "      <td>56.0</td>\n",
       "      <td>0.938053</td>\n",
       "    </tr>\n",
       "    <tr>\n",
       "      <th>849</th>\n",
       "      <td>985</td>\n",
       "      <td>PC - 1</td>\n",
       "      <td>MASON KELLY</td>\n",
       "      <td>LEVEL 8</td>\n",
       "      <td>LOCATION 8</td>\n",
       "      <td>CLIENT SERVICE STAFF</td>\n",
       "      <td>CONFIRMED STAFF</td>\n",
       "      <td>DOUGLAS HERRERA</td>\n",
       "      <td>2017-10-31</td>\n",
       "      <td>ACTIVE</td>\n",
       "      <td>NaT</td>\n",
       "      <td>920</td>\n",
       "      <td>896.0</td>\n",
       "      <td>848.0</td>\n",
       "      <td>0</td>\n",
       "      <td>24.0</td>\n",
       "      <td>0.0</td>\n",
       "      <td>48.0</td>\n",
       "      <td>0.946429</td>\n",
       "    </tr>\n",
       "    <tr>\n",
       "      <th>855</th>\n",
       "      <td>991</td>\n",
       "      <td>PC - 1</td>\n",
       "      <td>MILA GARRETT</td>\n",
       "      <td>LEVEL 8</td>\n",
       "      <td>LOCATION 8</td>\n",
       "      <td>CLIENT SERVICE STAFF</td>\n",
       "      <td>CONFIRMED STAFF</td>\n",
       "      <td>DOUGLAS HERRERA</td>\n",
       "      <td>2017-11-30</td>\n",
       "      <td>ACTIVE</td>\n",
       "      <td>NaT</td>\n",
       "      <td>840</td>\n",
       "      <td>808.0</td>\n",
       "      <td>784.0</td>\n",
       "      <td>8</td>\n",
       "      <td>24.0</td>\n",
       "      <td>0.0</td>\n",
       "      <td>24.0</td>\n",
       "      <td>0.970297</td>\n",
       "    </tr>\n",
       "    <tr>\n",
       "      <th>857</th>\n",
       "      <td>993</td>\n",
       "      <td>PC - 1</td>\n",
       "      <td>HEATHER HOGAN</td>\n",
       "      <td>LEVEL 8</td>\n",
       "      <td>LOCATION 8</td>\n",
       "      <td>CLIENT SERVICE STAFF</td>\n",
       "      <td>CONFIRMED STAFF</td>\n",
       "      <td>DOUGLAS HERRERA</td>\n",
       "      <td>2017-11-30</td>\n",
       "      <td>ACTIVE</td>\n",
       "      <td>NaT</td>\n",
       "      <td>840</td>\n",
       "      <td>824.0</td>\n",
       "      <td>800.0</td>\n",
       "      <td>0</td>\n",
       "      <td>16.0</td>\n",
       "      <td>0.0</td>\n",
       "      <td>32.0</td>\n",
       "      <td>0.970874</td>\n",
       "    </tr>\n",
       "    <tr>\n",
       "      <th>865</th>\n",
       "      <td>1001</td>\n",
       "      <td>PC - 1</td>\n",
       "      <td>LORELAI CRAIG</td>\n",
       "      <td>-</td>\n",
       "      <td>LOCATION 8</td>\n",
       "      <td>CLIENT SERVICE STAFF</td>\n",
       "      <td>CONFIRMED STAFF</td>\n",
       "      <td>DOUGLAS HERRERA</td>\n",
       "      <td>2017-11-30</td>\n",
       "      <td>ACTIVE</td>\n",
       "      <td>NaT</td>\n",
       "      <td>760</td>\n",
       "      <td>704.0</td>\n",
       "      <td>568.0</td>\n",
       "      <td>32</td>\n",
       "      <td>24.0</td>\n",
       "      <td>0.0</td>\n",
       "      <td>144.0</td>\n",
       "      <td>0.806818</td>\n",
       "    </tr>\n",
       "    <tr>\n",
       "      <th>869</th>\n",
       "      <td>1005</td>\n",
       "      <td>PC - 1</td>\n",
       "      <td>ALLISON WHITNEY</td>\n",
       "      <td>LEVEL 8</td>\n",
       "      <td>LOCATION 8</td>\n",
       "      <td>CLIENT SERVICE STAFF</td>\n",
       "      <td>CONFIRMED STAFF</td>\n",
       "      <td>DOUGLAS HERRERA</td>\n",
       "      <td>2017-11-30</td>\n",
       "      <td>ACTIVE</td>\n",
       "      <td>NaT</td>\n",
       "      <td>760</td>\n",
       "      <td>720.0</td>\n",
       "      <td>680.0</td>\n",
       "      <td>0</td>\n",
       "      <td>40.0</td>\n",
       "      <td>0.0</td>\n",
       "      <td>40.0</td>\n",
       "      <td>0.944444</td>\n",
       "    </tr>\n",
       "    <tr>\n",
       "      <th>878</th>\n",
       "      <td>1014</td>\n",
       "      <td>PC - 1</td>\n",
       "      <td>NELSON ROSARIO</td>\n",
       "      <td>LEVEL 8</td>\n",
       "      <td>LOCATION 8</td>\n",
       "      <td>CLIENT SERVICE STAFF</td>\n",
       "      <td>STAFF ON PROBATION</td>\n",
       "      <td>DOUGLAS HERRERA</td>\n",
       "      <td>2017-12-31</td>\n",
       "      <td>ACTIVE</td>\n",
       "      <td>NaT</td>\n",
       "      <td>680</td>\n",
       "      <td>656.0</td>\n",
       "      <td>600.0</td>\n",
       "      <td>8</td>\n",
       "      <td>16.0</td>\n",
       "      <td>0.0</td>\n",
       "      <td>72.0</td>\n",
       "      <td>0.914634</td>\n",
       "    </tr>\n",
       "    <tr>\n",
       "      <th>881</th>\n",
       "      <td>1017</td>\n",
       "      <td>PC - 1</td>\n",
       "      <td>ASHLEIGH MUNOZ</td>\n",
       "      <td>-</td>\n",
       "      <td>LOCATION 8</td>\n",
       "      <td>CLIENT SERVICE STAFF</td>\n",
       "      <td>STAFF ON PROBATION</td>\n",
       "      <td>DOUGLAS HERRERA</td>\n",
       "      <td>2017-12-31</td>\n",
       "      <td>ACTIVE</td>\n",
       "      <td>NaT</td>\n",
       "      <td>640</td>\n",
       "      <td>624.0</td>\n",
       "      <td>600.0</td>\n",
       "      <td>0</td>\n",
       "      <td>16.0</td>\n",
       "      <td>0.0</td>\n",
       "      <td>24.0</td>\n",
       "      <td>0.961538</td>\n",
       "    </tr>\n",
       "    <tr>\n",
       "      <th>888</th>\n",
       "      <td>1023</td>\n",
       "      <td>PC - 1</td>\n",
       "      <td>ANGELIQUE MCFARLAND</td>\n",
       "      <td>-</td>\n",
       "      <td>LOCATION 8</td>\n",
       "      <td>CLIENT SERVICE STAFF</td>\n",
       "      <td>STAFF ON PROBATION</td>\n",
       "      <td>DOUGLAS HERRERA</td>\n",
       "      <td>2017-12-31</td>\n",
       "      <td>ACTIVE</td>\n",
       "      <td>NaT</td>\n",
       "      <td>600</td>\n",
       "      <td>544.0</td>\n",
       "      <td>520.0</td>\n",
       "      <td>32</td>\n",
       "      <td>24.0</td>\n",
       "      <td>0.0</td>\n",
       "      <td>24.0</td>\n",
       "      <td>0.955882</td>\n",
       "    </tr>\n",
       "    <tr>\n",
       "      <th>894</th>\n",
       "      <td>1029</td>\n",
       "      <td>PC - 1</td>\n",
       "      <td>GLORIA BLANKENSHIP</td>\n",
       "      <td>-</td>\n",
       "      <td>LOCATION 8</td>\n",
       "      <td>CLIENT SERVICE STAFF</td>\n",
       "      <td>STAFF ON PROBATION</td>\n",
       "      <td>DOUGLAS HERRERA</td>\n",
       "      <td>2018-01-31</td>\n",
       "      <td>ACTIVE</td>\n",
       "      <td>NaT</td>\n",
       "      <td>512</td>\n",
       "      <td>448.0</td>\n",
       "      <td>424.0</td>\n",
       "      <td>48</td>\n",
       "      <td>16.0</td>\n",
       "      <td>0.0</td>\n",
       "      <td>24.0</td>\n",
       "      <td>0.946429</td>\n",
       "    </tr>\n",
       "    <tr>\n",
       "      <th>956</th>\n",
       "      <td>1091</td>\n",
       "      <td>PC - 1</td>\n",
       "      <td>GABRIELLA LANE</td>\n",
       "      <td>LEVEL 8</td>\n",
       "      <td>LOCATION 8</td>\n",
       "      <td>CLIENT SERVICE STAFF</td>\n",
       "      <td>STAFF ON PROBATION</td>\n",
       "      <td>DOUGLAS HERRERA</td>\n",
       "      <td>2018-03-31</td>\n",
       "      <td>NEW JOINER</td>\n",
       "      <td>NaT</td>\n",
       "      <td>120</td>\n",
       "      <td>90.0</td>\n",
       "      <td>64.0</td>\n",
       "      <td>8</td>\n",
       "      <td>22.0</td>\n",
       "      <td>0.0</td>\n",
       "      <td>26.0</td>\n",
       "      <td>0.711111</td>\n",
       "    </tr>\n",
       "    <tr>\n",
       "      <th>964</th>\n",
       "      <td>1099</td>\n",
       "      <td>PC - 1</td>\n",
       "      <td>ARMANDO BROWNING</td>\n",
       "      <td>LEVEL 8</td>\n",
       "      <td>LOCATION 8</td>\n",
       "      <td>CLIENT SERVICE STAFF</td>\n",
       "      <td>STAFF ON PROBATION</td>\n",
       "      <td>DOUGLAS HERRERA</td>\n",
       "      <td>2018-03-31</td>\n",
       "      <td>NEW JOINER</td>\n",
       "      <td>NaT</td>\n",
       "      <td>80</td>\n",
       "      <td>58.0</td>\n",
       "      <td>30.0</td>\n",
       "      <td>8</td>\n",
       "      <td>14.0</td>\n",
       "      <td>0.0</td>\n",
       "      <td>28.0</td>\n",
       "      <td>0.517241</td>\n",
       "    </tr>\n",
       "  </tbody>\n",
       "</table>\n",
       "</div>"
      ],
      "text/plain": [
       "     Employee No Profit Center  ... NC Hours.12 Utilization%.12\n",
       "838          975        PC - 1  ...        24.0         0.97654\n",
       "848          984        PC - 1  ...        56.0        0.938053\n",
       "849          985        PC - 1  ...        48.0        0.946429\n",
       "855          991        PC - 1  ...        24.0        0.970297\n",
       "857          993        PC - 1  ...        32.0        0.970874\n",
       "865         1001        PC - 1  ...       144.0        0.806818\n",
       "869         1005        PC - 1  ...        40.0        0.944444\n",
       "878         1014        PC - 1  ...        72.0        0.914634\n",
       "881         1017        PC - 1  ...        24.0        0.961538\n",
       "888         1023        PC - 1  ...        24.0        0.955882\n",
       "894         1029        PC - 1  ...        24.0        0.946429\n",
       "956         1091        PC - 1  ...        26.0        0.711111\n",
       "964         1099        PC - 1  ...        28.0        0.517241\n",
       "\n",
       "[13 rows x 19 columns]"
      ]
     },
     "execution_count": 16,
     "metadata": {
      "tags": []
     },
     "output_type": "execute_result"
    }
   ],
   "source": [
    "df_17_18[df_17_18[\"Supervisor name\"]==\"DOUGLAS HERRERA\"]  #checking what levels of employees come under his supervision."
   ]
  },
  {
   "cell_type": "code",
   "execution_count": null,
   "metadata": {
    "colab": {
     "base_uri": "https://localhost:8080/",
     "height": 811
    },
    "executionInfo": {
     "elapsed": 69,
     "status": "ok",
     "timestamp": 1624701637914,
     "user": {
      "displayName": "ronak lathiya",
      "photoUrl": "",
      "userId": "13017137450409577858"
     },
     "user_tz": -330
    },
    "id": "YUonRvuTp-lC",
    "outputId": "b01bc6d3-78ef-43be-ddea-44bf7455a9c7"
   },
   "outputs": [
    {
     "data": {
      "text/html": [
       "<div>\n",
       "<style scoped>\n",
       "    .dataframe tbody tr th:only-of-type {\n",
       "        vertical-align: middle;\n",
       "    }\n",
       "\n",
       "    .dataframe tbody tr th {\n",
       "        vertical-align: top;\n",
       "    }\n",
       "\n",
       "    .dataframe thead th {\n",
       "        text-align: right;\n",
       "    }\n",
       "</style>\n",
       "<table border=\"1\" class=\"dataframe\">\n",
       "  <thead>\n",
       "    <tr style=\"text-align: right;\">\n",
       "      <th></th>\n",
       "      <th>Employee No</th>\n",
       "      <th>Profit Center</th>\n",
       "      <th>Employee Name</th>\n",
       "      <th>Employee Position</th>\n",
       "      <th>Employee Location</th>\n",
       "      <th>People Group</th>\n",
       "      <th>Employee Category</th>\n",
       "      <th>Supervisor name</th>\n",
       "      <th>Join Date</th>\n",
       "      <th>Current Status</th>\n",
       "      <th>Termination Date</th>\n",
       "      <th>Total Hours.12</th>\n",
       "      <th>Total Available Hours.12</th>\n",
       "      <th>Work Hours.12</th>\n",
       "      <th>Leave Hours.12</th>\n",
       "      <th>Training Hours.12</th>\n",
       "      <th>BD Hours.12</th>\n",
       "      <th>NC Hours.12</th>\n",
       "      <th>Utilization%.12</th>\n",
       "    </tr>\n",
       "  </thead>\n",
       "  <tbody>\n",
       "    <tr>\n",
       "      <th>542</th>\n",
       "      <td>665</td>\n",
       "      <td>PC - 1</td>\n",
       "      <td>PAULA BRIDIE</td>\n",
       "      <td>LEVEL 7</td>\n",
       "      <td>LOCATION 3</td>\n",
       "      <td>CLIENT SERVICE STAFF</td>\n",
       "      <td>CONFIRMED STAFF</td>\n",
       "      <td>JOSEY RORIE</td>\n",
       "      <td>2016-06-30</td>\n",
       "      <td>ACTIVE</td>\n",
       "      <td>NaT</td>\n",
       "      <td>2080</td>\n",
       "      <td>1828.0</td>\n",
       "      <td>1658.0</td>\n",
       "      <td>248</td>\n",
       "      <td>4.0</td>\n",
       "      <td>0.0</td>\n",
       "      <td>170.0</td>\n",
       "      <td>0.907002</td>\n",
       "    </tr>\n",
       "    <tr>\n",
       "      <th>547</th>\n",
       "      <td>670</td>\n",
       "      <td>PC - 1</td>\n",
       "      <td>TANYA ILYSA</td>\n",
       "      <td>LEVEL 7</td>\n",
       "      <td>LOCATION 3</td>\n",
       "      <td>CLIENT SERVICE STAFF</td>\n",
       "      <td>CONFIRMED STAFF</td>\n",
       "      <td>JOSEY RORIE</td>\n",
       "      <td>2016-06-30</td>\n",
       "      <td>ACTIVE</td>\n",
       "      <td>NaT</td>\n",
       "      <td>2080</td>\n",
       "      <td>1808.0</td>\n",
       "      <td>1995.0</td>\n",
       "      <td>264</td>\n",
       "      <td>8.0</td>\n",
       "      <td>0.0</td>\n",
       "      <td>56.0</td>\n",
       "      <td>1.10343</td>\n",
       "    </tr>\n",
       "    <tr>\n",
       "      <th>552</th>\n",
       "      <td>675</td>\n",
       "      <td>PC - 1</td>\n",
       "      <td>JOSY LATRINA</td>\n",
       "      <td>LEVEL 8</td>\n",
       "      <td>LOCATION 3</td>\n",
       "      <td>CLIENT SERVICE STAFF</td>\n",
       "      <td>CONFIRMED STAFF</td>\n",
       "      <td>JOSEY RORIE</td>\n",
       "      <td>2016-07-31</td>\n",
       "      <td>ACTIVE</td>\n",
       "      <td>NaT</td>\n",
       "      <td>2080</td>\n",
       "      <td>1896.0</td>\n",
       "      <td>1836.0</td>\n",
       "      <td>152</td>\n",
       "      <td>32.0</td>\n",
       "      <td>0.0</td>\n",
       "      <td>103.5</td>\n",
       "      <td>0.968354</td>\n",
       "    </tr>\n",
       "    <tr>\n",
       "      <th>572</th>\n",
       "      <td>699</td>\n",
       "      <td>PC - 1</td>\n",
       "      <td>TOREY ANESTASSIA</td>\n",
       "      <td>LEVEL 8</td>\n",
       "      <td>LOCATION 3</td>\n",
       "      <td>CLIENT SERVICE STAFF</td>\n",
       "      <td>CONFIRMED STAFF</td>\n",
       "      <td>JOSEY RORIE</td>\n",
       "      <td>2016-07-31</td>\n",
       "      <td>ACTIVE</td>\n",
       "      <td>NaT</td>\n",
       "      <td>2080</td>\n",
       "      <td>1806.0</td>\n",
       "      <td>2118.0</td>\n",
       "      <td>264</td>\n",
       "      <td>10.0</td>\n",
       "      <td>0.0</td>\n",
       "      <td>23.0</td>\n",
       "      <td>1.17276</td>\n",
       "    </tr>\n",
       "    <tr>\n",
       "      <th>597</th>\n",
       "      <td>726</td>\n",
       "      <td>PC - 1</td>\n",
       "      <td>DOTI ENRICHETTA</td>\n",
       "      <td>LEVEL 7</td>\n",
       "      <td>LOCATION 8</td>\n",
       "      <td>CLIENT SERVICE STAFF</td>\n",
       "      <td>CONFIRMED STAFF</td>\n",
       "      <td>JOSEY RORIE</td>\n",
       "      <td>2016-11-30</td>\n",
       "      <td>ACTIVE</td>\n",
       "      <td>NaT</td>\n",
       "      <td>2080</td>\n",
       "      <td>2026.0</td>\n",
       "      <td>2003.0</td>\n",
       "      <td>48</td>\n",
       "      <td>6.0</td>\n",
       "      <td>0.0</td>\n",
       "      <td>23.0</td>\n",
       "      <td>0.988648</td>\n",
       "    </tr>\n",
       "    <tr>\n",
       "      <th>614</th>\n",
       "      <td>743</td>\n",
       "      <td>PC - 1</td>\n",
       "      <td>LILLY DEVORA</td>\n",
       "      <td>LEVEL 7</td>\n",
       "      <td>LOCATION 3</td>\n",
       "      <td>CLIENT SERVICE STAFF</td>\n",
       "      <td>CONFIRMED STAFF</td>\n",
       "      <td>JOSEY RORIE</td>\n",
       "      <td>2017-01-31</td>\n",
       "      <td>ACTIVE</td>\n",
       "      <td>NaT</td>\n",
       "      <td>2080</td>\n",
       "      <td>1936.0</td>\n",
       "      <td>1927.0</td>\n",
       "      <td>144</td>\n",
       "      <td>0.0</td>\n",
       "      <td>0.0</td>\n",
       "      <td>42.0</td>\n",
       "      <td>0.995351</td>\n",
       "    </tr>\n",
       "    <tr>\n",
       "      <th>695</th>\n",
       "      <td>833</td>\n",
       "      <td>PC - 1</td>\n",
       "      <td>KATHARINE COLL</td>\n",
       "      <td>LEVEL 7</td>\n",
       "      <td>LOCATION 8</td>\n",
       "      <td>CLIENT SERVICE STAFF</td>\n",
       "      <td>CONFIRMED STAFF</td>\n",
       "      <td>JOSEY RORIE</td>\n",
       "      <td>2017-05-31</td>\n",
       "      <td>ACTIVE</td>\n",
       "      <td>NaT</td>\n",
       "      <td>1920</td>\n",
       "      <td>1590.0</td>\n",
       "      <td>1499.0</td>\n",
       "      <td>264</td>\n",
       "      <td>66.0</td>\n",
       "      <td>0.0</td>\n",
       "      <td>95.0</td>\n",
       "      <td>0.942767</td>\n",
       "    </tr>\n",
       "    <tr>\n",
       "      <th>702</th>\n",
       "      <td>840</td>\n",
       "      <td>PC - 1</td>\n",
       "      <td>KELLEN BRIDGES</td>\n",
       "      <td>LEVEL 7</td>\n",
       "      <td>LOCATION 3</td>\n",
       "      <td>CLIENT SERVICE STAFF</td>\n",
       "      <td>CONFIRMED STAFF</td>\n",
       "      <td>JOSEY RORIE</td>\n",
       "      <td>2017-05-31</td>\n",
       "      <td>ACTIVE</td>\n",
       "      <td>NaT</td>\n",
       "      <td>1840</td>\n",
       "      <td>1576.0</td>\n",
       "      <td>1419.8</td>\n",
       "      <td>200</td>\n",
       "      <td>64.0</td>\n",
       "      <td>0.0</td>\n",
       "      <td>156.2</td>\n",
       "      <td>0.900888</td>\n",
       "    </tr>\n",
       "    <tr>\n",
       "      <th>841</th>\n",
       "      <td>978</td>\n",
       "      <td>PC - 1</td>\n",
       "      <td>AIDAN LEWIS</td>\n",
       "      <td>-</td>\n",
       "      <td>LOCATION 8</td>\n",
       "      <td>CLIENT SERVICE STAFF</td>\n",
       "      <td>SERVING NOTICE PERIOD</td>\n",
       "      <td>JOSEY RORIE</td>\n",
       "      <td>2017-09-30</td>\n",
       "      <td>ACTIVE</td>\n",
       "      <td>NaT</td>\n",
       "      <td>1080</td>\n",
       "      <td>1040.0</td>\n",
       "      <td>1024.0</td>\n",
       "      <td>32</td>\n",
       "      <td>8.0</td>\n",
       "      <td>0.0</td>\n",
       "      <td>16.0</td>\n",
       "      <td>0.984615</td>\n",
       "    </tr>\n",
       "    <tr>\n",
       "      <th>846</th>\n",
       "      <td>982</td>\n",
       "      <td>PC - 1</td>\n",
       "      <td>SABRINA CONRAD</td>\n",
       "      <td>-</td>\n",
       "      <td>LOCATION 8</td>\n",
       "      <td>CLIENT SERVICE STAFF</td>\n",
       "      <td>RESIGNED</td>\n",
       "      <td>JOSEY RORIE</td>\n",
       "      <td>2017-10-31</td>\n",
       "      <td>RESIGNED</td>\n",
       "      <td>2018-05-31</td>\n",
       "      <td>920</td>\n",
       "      <td>800.0</td>\n",
       "      <td>776.0</td>\n",
       "      <td>104</td>\n",
       "      <td>16.0</td>\n",
       "      <td>0.0</td>\n",
       "      <td>24.0</td>\n",
       "      <td>0.97</td>\n",
       "    </tr>\n",
       "    <tr>\n",
       "      <th>870</th>\n",
       "      <td>1006</td>\n",
       "      <td>PC - 1</td>\n",
       "      <td>CADEN PINEDA</td>\n",
       "      <td>-</td>\n",
       "      <td>LOCATION 8</td>\n",
       "      <td>CLIENT SERVICE STAFF</td>\n",
       "      <td>RESIGNED</td>\n",
       "      <td>JOSEY RORIE</td>\n",
       "      <td>2017-11-30</td>\n",
       "      <td>RESIGNED</td>\n",
       "      <td>2018-04-30</td>\n",
       "      <td>720</td>\n",
       "      <td>608.0</td>\n",
       "      <td>592.0</td>\n",
       "      <td>96</td>\n",
       "      <td>16.0</td>\n",
       "      <td>0.0</td>\n",
       "      <td>16.0</td>\n",
       "      <td>0.973684</td>\n",
       "    </tr>\n",
       "  </tbody>\n",
       "</table>\n",
       "</div>"
      ],
      "text/plain": [
       "     Employee No Profit Center  ... NC Hours.12 Utilization%.12\n",
       "542          665        PC - 1  ...       170.0        0.907002\n",
       "547          670        PC - 1  ...        56.0         1.10343\n",
       "552          675        PC - 1  ...       103.5        0.968354\n",
       "572          699        PC - 1  ...        23.0         1.17276\n",
       "597          726        PC - 1  ...        23.0        0.988648\n",
       "614          743        PC - 1  ...        42.0        0.995351\n",
       "695          833        PC - 1  ...        95.0        0.942767\n",
       "702          840        PC - 1  ...       156.2        0.900888\n",
       "841          978        PC - 1  ...        16.0        0.984615\n",
       "846          982        PC - 1  ...        24.0            0.97\n",
       "870         1006        PC - 1  ...        16.0        0.973684\n",
       "\n",
       "[11 rows x 19 columns]"
      ]
     },
     "execution_count": 17,
     "metadata": {
      "tags": []
     },
     "output_type": "execute_result"
    }
   ],
   "source": [
    "df_17_18[df_17_18[\"Supervisor name\"]==\"JOSEY RORIE\"] #checking what levels of employees come under his supervision."
   ]
  },
  {
   "cell_type": "markdown",
   "metadata": {
    "id": "vQEmpDXWqaK7"
   },
   "source": [
    "We will replace \"-\" with \"LEVEL 7\" for those who comes under supervision of Josey Rorie and \"LEVEL 8\" for those who comes under supervison of Douglas Herrera. We have taken mode value."
   ]
  },
  {
   "cell_type": "code",
   "execution_count": null,
   "metadata": {
    "id": "-6ngCKr2qNNc"
   },
   "outputs": [],
   "source": [
    "josey_emp = df_17_18[\"Employee No\"][(df_17_18[\"Employee Position\"]==\"-\") & (df_17_18[\"Supervisor name\"]==\"JOSEY RORIE\")].values #To get Employee No of employees under Josey's supervision"
   ]
  },
  {
   "cell_type": "code",
   "execution_count": null,
   "metadata": {
    "id": "2BGyCbcItNeT"
   },
   "outputs": [],
   "source": [
    "for i in josey_emp:\n",
    "    df_17_18[\"Employee Position\"][df_17_18[\"Employee No\"]==i]= \"LEVEL 7\"  # will replace \"-\" with \"LEVEL 7\""
   ]
  },
  {
   "cell_type": "code",
   "execution_count": null,
   "metadata": {
    "id": "r5AKDopgtfHg"
   },
   "outputs": [],
   "source": [
    "douglas_emp = df_17_18[\"Employee No\"][(df_17_18[\"Employee Position\"]==\"-\") & (df_17_18[\"Supervisor name\"]==\"DOUGLAS HERRERA\")].values"
   ]
  },
  {
   "cell_type": "code",
   "execution_count": null,
   "metadata": {
    "id": "SPiEo2HkulGT"
   },
   "outputs": [],
   "source": [
    "for i in douglas_emp:\n",
    "    df_17_18[\"Employee Position\"][df_17_18[\"Employee No\"]==i]= \"LEVEL 8\" "
   ]
  },
  {
   "cell_type": "code",
   "execution_count": null,
   "metadata": {
    "colab": {
     "base_uri": "https://localhost:8080/"
    },
    "executionInfo": {
     "elapsed": 70,
     "status": "ok",
     "timestamp": 1624701637920,
     "user": {
      "displayName": "ronak lathiya",
      "photoUrl": "",
      "userId": "13017137450409577858"
     },
     "user_tz": -330
    },
    "id": "bpaRpepfutdy",
    "outputId": "ccfc3cc7-670f-4a9a-eaf9-6d782cdcde37"
   },
   "outputs": [
    {
     "data": {
      "text/plain": [
       "array(['LEVEL 1', 'LEVEL 2', 'LEVEL 3', 'LEVEL 6', 'LEVEL 4', 'LEVEL 5',\n",
       "       'LEVEL A2', 'LEVEL 7', 'LEVEL A3', 'LEVEL 8', 'LEVEL A1'],\n",
       "      dtype=object)"
      ]
     },
     "execution_count": 22,
     "metadata": {
      "tags": []
     },
     "output_type": "execute_result"
    }
   ],
   "source": [
    "df_17_18[\"Employee Position\"].unique() # We can see that we don't have \"-\" anymore."
   ]
  },
  {
   "cell_type": "markdown",
   "metadata": {
    "id": "th50WLnY0HcR"
   },
   "source": [
    "Now let us check for \"-\" value in Supervisor name column."
   ]
  },
  {
   "cell_type": "code",
   "execution_count": null,
   "metadata": {
    "colab": {
     "base_uri": "https://localhost:8080/",
     "height": 1000
    },
    "executionInfo": {
     "elapsed": 60,
     "status": "ok",
     "timestamp": 1624701637920,
     "user": {
      "displayName": "ronak lathiya",
      "photoUrl": "",
      "userId": "13017137450409577858"
     },
     "user_tz": -330
    },
    "id": "MvN1CwMdu9lU",
    "outputId": "97560d30-3f52-4ac1-ec11-94097f69dee9"
   },
   "outputs": [
    {
     "data": {
      "text/html": [
       "<div>\n",
       "<style scoped>\n",
       "    .dataframe tbody tr th:only-of-type {\n",
       "        vertical-align: middle;\n",
       "    }\n",
       "\n",
       "    .dataframe tbody tr th {\n",
       "        vertical-align: top;\n",
       "    }\n",
       "\n",
       "    .dataframe thead th {\n",
       "        text-align: right;\n",
       "    }\n",
       "</style>\n",
       "<table border=\"1\" class=\"dataframe\">\n",
       "  <thead>\n",
       "    <tr style=\"text-align: right;\">\n",
       "      <th></th>\n",
       "      <th>Employee No</th>\n",
       "      <th>Profit Center</th>\n",
       "      <th>Employee Name</th>\n",
       "      <th>Employee Position</th>\n",
       "      <th>Employee Location</th>\n",
       "      <th>People Group</th>\n",
       "      <th>Employee Category</th>\n",
       "      <th>Supervisor name</th>\n",
       "      <th>Join Date</th>\n",
       "      <th>Current Status</th>\n",
       "      <th>Termination Date</th>\n",
       "      <th>Total Hours.12</th>\n",
       "      <th>Total Available Hours.12</th>\n",
       "      <th>Work Hours.12</th>\n",
       "      <th>Leave Hours.12</th>\n",
       "      <th>Training Hours.12</th>\n",
       "      <th>BD Hours.12</th>\n",
       "      <th>NC Hours.12</th>\n",
       "      <th>Utilization%.12</th>\n",
       "    </tr>\n",
       "  </thead>\n",
       "  <tbody>\n",
       "    <tr>\n",
       "      <th>107</th>\n",
       "      <td>133</td>\n",
       "      <td>PC - 3</td>\n",
       "      <td>KYLEN EVANIA</td>\n",
       "      <td>LEVEL 4</td>\n",
       "      <td>LOCATION 5</td>\n",
       "      <td>CLIENT SERVICE STAFF</td>\n",
       "      <td>RESIGNED</td>\n",
       "      <td>-</td>\n",
       "      <td>2012-08-31</td>\n",
       "      <td>RESIGNED</td>\n",
       "      <td>2017-11-30</td>\n",
       "      <td>1368</td>\n",
       "      <td>1232.0</td>\n",
       "      <td>96.0</td>\n",
       "      <td>136</td>\n",
       "      <td>0.0</td>\n",
       "      <td>1136.0</td>\n",
       "      <td>40.0</td>\n",
       "      <td>0.0779221</td>\n",
       "    </tr>\n",
       "    <tr>\n",
       "      <th>129</th>\n",
       "      <td>164</td>\n",
       "      <td>PC - 3</td>\n",
       "      <td>BRITTNEY DRUSIE</td>\n",
       "      <td>LEVEL 6</td>\n",
       "      <td>LOCATION 1</td>\n",
       "      <td>CLIENT SERVICE STAFF</td>\n",
       "      <td>RESIGNED</td>\n",
       "      <td>-</td>\n",
       "      <td>2013-05-31</td>\n",
       "      <td>RESIGNED</td>\n",
       "      <td>2016-05-31</td>\n",
       "      <td>0</td>\n",
       "      <td>0.0</td>\n",
       "      <td>-32.0</td>\n",
       "      <td>0</td>\n",
       "      <td>0.0</td>\n",
       "      <td>0.0</td>\n",
       "      <td>0.0</td>\n",
       "      <td>-</td>\n",
       "    </tr>\n",
       "    <tr>\n",
       "      <th>137</th>\n",
       "      <td>173</td>\n",
       "      <td>PC - 2</td>\n",
       "      <td>FELICIA CATHERINA</td>\n",
       "      <td>LEVEL 7</td>\n",
       "      <td>LOCATION 7</td>\n",
       "      <td>CLIENT SERVICE STAFF</td>\n",
       "      <td>RESIGNED</td>\n",
       "      <td>-</td>\n",
       "      <td>2013-06-30</td>\n",
       "      <td>RESIGNED</td>\n",
       "      <td>2017-08-31</td>\n",
       "      <td>856</td>\n",
       "      <td>808.0</td>\n",
       "      <td>704.0</td>\n",
       "      <td>40</td>\n",
       "      <td>8.0</td>\n",
       "      <td>0.0</td>\n",
       "      <td>272.0</td>\n",
       "      <td>0.871287</td>\n",
       "    </tr>\n",
       "    <tr>\n",
       "      <th>323</th>\n",
       "      <td>411</td>\n",
       "      <td>PC - 1</td>\n",
       "      <td>ANNABELLE PAMMI</td>\n",
       "      <td>LEVEL 8</td>\n",
       "      <td>LOCATION 3</td>\n",
       "      <td>CLIENT SERVICE STAFF</td>\n",
       "      <td>RESIGNED</td>\n",
       "      <td>-</td>\n",
       "      <td>2015-06-30</td>\n",
       "      <td>RESIGNED</td>\n",
       "      <td>2017-06-30</td>\n",
       "      <td>360</td>\n",
       "      <td>360.0</td>\n",
       "      <td>360.0</td>\n",
       "      <td>0</td>\n",
       "      <td>0.0</td>\n",
       "      <td>0.0</td>\n",
       "      <td>0.0</td>\n",
       "      <td>1</td>\n",
       "    </tr>\n",
       "    <tr>\n",
       "      <th>355</th>\n",
       "      <td>454</td>\n",
       "      <td>PC - 3</td>\n",
       "      <td>KITTI CARLOTTA</td>\n",
       "      <td>LEVEL 8</td>\n",
       "      <td>LOCATION 1</td>\n",
       "      <td>CLIENT SERVICE STAFF</td>\n",
       "      <td>RESIGNED</td>\n",
       "      <td>-</td>\n",
       "      <td>2015-08-31</td>\n",
       "      <td>RESIGNED</td>\n",
       "      <td>2018-03-31</td>\n",
       "      <td>1960</td>\n",
       "      <td>1748.0</td>\n",
       "      <td>1518.0</td>\n",
       "      <td>208</td>\n",
       "      <td>4.0</td>\n",
       "      <td>0.0</td>\n",
       "      <td>240.0</td>\n",
       "      <td>0.868421</td>\n",
       "    </tr>\n",
       "    <tr>\n",
       "      <th>373</th>\n",
       "      <td>477</td>\n",
       "      <td>PC - 2</td>\n",
       "      <td>KASSEY DELCINA</td>\n",
       "      <td>LEVEL 7</td>\n",
       "      <td>LOCATION 7</td>\n",
       "      <td>CLIENT SERVICE STAFF</td>\n",
       "      <td>RESIGNED</td>\n",
       "      <td>-</td>\n",
       "      <td>2015-11-30</td>\n",
       "      <td>RESIGNED</td>\n",
       "      <td>2018-03-31</td>\n",
       "      <td>1920</td>\n",
       "      <td>1593.0</td>\n",
       "      <td>1485.0</td>\n",
       "      <td>322</td>\n",
       "      <td>5.0</td>\n",
       "      <td>8.0</td>\n",
       "      <td>105.0</td>\n",
       "      <td>0.932203</td>\n",
       "    </tr>\n",
       "    <tr>\n",
       "      <th>399</th>\n",
       "      <td>507</td>\n",
       "      <td>PC - 3</td>\n",
       "      <td>BERNETTA EDITHE</td>\n",
       "      <td>LEVEL 8</td>\n",
       "      <td>LOCATION 2</td>\n",
       "      <td>CLIENT SERVICE STAFF</td>\n",
       "      <td>RESIGNED</td>\n",
       "      <td>-</td>\n",
       "      <td>2016-01-31</td>\n",
       "      <td>RESIGNED</td>\n",
       "      <td>2017-07-31</td>\n",
       "      <td>632</td>\n",
       "      <td>598.0</td>\n",
       "      <td>376.0</td>\n",
       "      <td>16</td>\n",
       "      <td>18.0</td>\n",
       "      <td>0.0</td>\n",
       "      <td>238.0</td>\n",
       "      <td>0.628763</td>\n",
       "    </tr>\n",
       "    <tr>\n",
       "      <th>442</th>\n",
       "      <td>555</td>\n",
       "      <td>PC - 3</td>\n",
       "      <td>LIZ JUANITA</td>\n",
       "      <td>LEVEL 7</td>\n",
       "      <td>LOCATION 2</td>\n",
       "      <td>CLIENT SERVICE STAFF</td>\n",
       "      <td>RESIGNED</td>\n",
       "      <td>-</td>\n",
       "      <td>2016-03-31</td>\n",
       "      <td>RESIGNED</td>\n",
       "      <td>2017-09-30</td>\n",
       "      <td>992</td>\n",
       "      <td>854.0</td>\n",
       "      <td>-42.0</td>\n",
       "      <td>112</td>\n",
       "      <td>26.0</td>\n",
       "      <td>0.0</td>\n",
       "      <td>893.5</td>\n",
       "      <td>-0.0491803</td>\n",
       "    </tr>\n",
       "    <tr>\n",
       "      <th>550</th>\n",
       "      <td>673</td>\n",
       "      <td>PC - 2</td>\n",
       "      <td>LORELLE WILLI</td>\n",
       "      <td>LEVEL 7</td>\n",
       "      <td>LOCATION 7</td>\n",
       "      <td>CLIENT SERVICE STAFF</td>\n",
       "      <td>RESIGNED</td>\n",
       "      <td>-</td>\n",
       "      <td>2016-07-31</td>\n",
       "      <td>RESIGNED</td>\n",
       "      <td>2017-11-30</td>\n",
       "      <td>1240</td>\n",
       "      <td>1130.0</td>\n",
       "      <td>1062.0</td>\n",
       "      <td>80</td>\n",
       "      <td>30.0</td>\n",
       "      <td>0.0</td>\n",
       "      <td>130.0</td>\n",
       "      <td>0.939823</td>\n",
       "    </tr>\n",
       "    <tr>\n",
       "      <th>595</th>\n",
       "      <td>724</td>\n",
       "      <td>PC - 6</td>\n",
       "      <td>ROXANNE SARETTE</td>\n",
       "      <td>LEVEL 7</td>\n",
       "      <td>LOCATION 3</td>\n",
       "      <td>CLIENT SERVICE STAFF</td>\n",
       "      <td>RESIGNED</td>\n",
       "      <td>-</td>\n",
       "      <td>2016-10-31</td>\n",
       "      <td>RESIGNED</td>\n",
       "      <td>2017-05-31</td>\n",
       "      <td>328</td>\n",
       "      <td>64.0</td>\n",
       "      <td>144.0</td>\n",
       "      <td>264</td>\n",
       "      <td>0.0</td>\n",
       "      <td>0.0</td>\n",
       "      <td>32.0</td>\n",
       "      <td>2.25</td>\n",
       "    </tr>\n",
       "    <tr>\n",
       "      <th>651</th>\n",
       "      <td>781</td>\n",
       "      <td>PC - 2</td>\n",
       "      <td>FRANCYNE BRENA</td>\n",
       "      <td>LEVEL 5</td>\n",
       "      <td>LOCATION 7</td>\n",
       "      <td>CLIENT SERVICE STAFF</td>\n",
       "      <td>RESIGNED</td>\n",
       "      <td>-</td>\n",
       "      <td>2017-03-31</td>\n",
       "      <td>RESIGNED</td>\n",
       "      <td>2017-12-31</td>\n",
       "      <td>1440</td>\n",
       "      <td>1276.0</td>\n",
       "      <td>163.0</td>\n",
       "      <td>144</td>\n",
       "      <td>20.0</td>\n",
       "      <td>0.0</td>\n",
       "      <td>1113.0</td>\n",
       "      <td>0.127743</td>\n",
       "    </tr>\n",
       "    <tr>\n",
       "      <th>691</th>\n",
       "      <td>829</td>\n",
       "      <td>PC - 1</td>\n",
       "      <td>RUDOLPH YARNALL</td>\n",
       "      <td>LEVEL 7</td>\n",
       "      <td>LOCATION 3</td>\n",
       "      <td>CLIENT SERVICE STAFF</td>\n",
       "      <td>RESIGNED</td>\n",
       "      <td>-</td>\n",
       "      <td>2017-04-30</td>\n",
       "      <td>RESIGNED</td>\n",
       "      <td>2017-08-31</td>\n",
       "      <td>656</td>\n",
       "      <td>556.0</td>\n",
       "      <td>160.0</td>\n",
       "      <td>48</td>\n",
       "      <td>52.0</td>\n",
       "      <td>0.0</td>\n",
       "      <td>424.0</td>\n",
       "      <td>0.28777</td>\n",
       "    </tr>\n",
       "    <tr>\n",
       "      <th>742</th>\n",
       "      <td>880</td>\n",
       "      <td>PC - 2</td>\n",
       "      <td>ALEX DOYLE</td>\n",
       "      <td>LEVEL 8</td>\n",
       "      <td>LOCATION 7</td>\n",
       "      <td>CLIENT SERVICE STAFF</td>\n",
       "      <td>RESIGNED</td>\n",
       "      <td>-</td>\n",
       "      <td>2017-06-30</td>\n",
       "      <td>RESIGNED</td>\n",
       "      <td>2017-12-31</td>\n",
       "      <td>1064</td>\n",
       "      <td>952.0</td>\n",
       "      <td>727.0</td>\n",
       "      <td>64</td>\n",
       "      <td>48.0</td>\n",
       "      <td>32.0</td>\n",
       "      <td>369.5</td>\n",
       "      <td>0.763655</td>\n",
       "    </tr>\n",
       "    <tr>\n",
       "      <th>743</th>\n",
       "      <td>881</td>\n",
       "      <td>PC - 2</td>\n",
       "      <td>DANIELA MYERS</td>\n",
       "      <td>LEVEL 8</td>\n",
       "      <td>LOCATION 7</td>\n",
       "      <td>CLIENT SERVICE STAFF</td>\n",
       "      <td>RESIGNED</td>\n",
       "      <td>-</td>\n",
       "      <td>2017-06-30</td>\n",
       "      <td>RESIGNED</td>\n",
       "      <td>2017-12-31</td>\n",
       "      <td>1064</td>\n",
       "      <td>876.5</td>\n",
       "      <td>721.0</td>\n",
       "      <td>129</td>\n",
       "      <td>58.5</td>\n",
       "      <td>0.0</td>\n",
       "      <td>183.0</td>\n",
       "      <td>0.82259</td>\n",
       "    </tr>\n",
       "    <tr>\n",
       "      <th>757</th>\n",
       "      <td>895</td>\n",
       "      <td>PC - 1</td>\n",
       "      <td>LOGAN WILLIAMS</td>\n",
       "      <td>LEVEL 8</td>\n",
       "      <td>LOCATION 6</td>\n",
       "      <td>CLIENT SERVICE STAFF</td>\n",
       "      <td>RESIGNED</td>\n",
       "      <td>-</td>\n",
       "      <td>2017-06-30</td>\n",
       "      <td>RESIGNED</td>\n",
       "      <td>2017-07-31</td>\n",
       "      <td>152</td>\n",
       "      <td>152.0</td>\n",
       "      <td>0.0</td>\n",
       "      <td>0</td>\n",
       "      <td>0.0</td>\n",
       "      <td>0.0</td>\n",
       "      <td>40.0</td>\n",
       "      <td>0</td>\n",
       "    </tr>\n",
       "    <tr>\n",
       "      <th>808</th>\n",
       "      <td>945</td>\n",
       "      <td>PC - 1</td>\n",
       "      <td>CAYLEE MAXWELL</td>\n",
       "      <td>LEVEL 8</td>\n",
       "      <td>LOCATION 3</td>\n",
       "      <td>CLIENT SERVICE STAFF</td>\n",
       "      <td>RESIGNED</td>\n",
       "      <td>-</td>\n",
       "      <td>2017-07-31</td>\n",
       "      <td>RESIGNED</td>\n",
       "      <td>2017-09-30</td>\n",
       "      <td>320</td>\n",
       "      <td>289.5</td>\n",
       "      <td>136.0</td>\n",
       "      <td>16</td>\n",
       "      <td>14.5</td>\n",
       "      <td>0.0</td>\n",
       "      <td>153.5</td>\n",
       "      <td>0.469775</td>\n",
       "    </tr>\n",
       "  </tbody>\n",
       "</table>\n",
       "</div>"
      ],
      "text/plain": [
       "     Employee No Profit Center  ... NC Hours.12 Utilization%.12\n",
       "107          133        PC - 3  ...        40.0       0.0779221\n",
       "129          164        PC - 3  ...         0.0               -\n",
       "137          173        PC - 2  ...       272.0        0.871287\n",
       "323          411        PC - 1  ...         0.0               1\n",
       "355          454        PC - 3  ...       240.0        0.868421\n",
       "373          477        PC - 2  ...       105.0        0.932203\n",
       "399          507        PC - 3  ...       238.0        0.628763\n",
       "442          555        PC - 3  ...       893.5      -0.0491803\n",
       "550          673        PC - 2  ...       130.0        0.939823\n",
       "595          724        PC - 6  ...        32.0            2.25\n",
       "651          781        PC - 2  ...      1113.0        0.127743\n",
       "691          829        PC - 1  ...       424.0         0.28777\n",
       "742          880        PC - 2  ...       369.5        0.763655\n",
       "743          881        PC - 2  ...       183.0         0.82259\n",
       "757          895        PC - 1  ...        40.0               0\n",
       "808          945        PC - 1  ...       153.5        0.469775\n",
       "\n",
       "[16 rows x 19 columns]"
      ]
     },
     "execution_count": 23,
     "metadata": {
      "tags": []
     },
     "output_type": "execute_result"
    }
   ],
   "source": [
    "df_17_18[df_17_18[\"Supervisor name\"]==\"-\"]"
   ]
  },
  {
   "cell_type": "markdown",
   "metadata": {
    "id": "KVAgAArd0cPM"
   },
   "source": [
    "Till Employee No 781, we can get supervisor name from 16-17 dataset. for rest of values we will replace \"-\" with \"OTHERS\"."
   ]
  },
  {
   "cell_type": "code",
   "execution_count": null,
   "metadata": {
    "id": "UpMShZxM0W2u"
   },
   "outputs": [],
   "source": [
    "sup_values=df_17_18[\"Employee No\"][df_17_18[\"Supervisor name\"]==\"-\"].values"
   ]
  },
  {
   "cell_type": "code",
   "execution_count": null,
   "metadata": {
    "colab": {
     "base_uri": "https://localhost:8080/"
    },
    "executionInfo": {
     "elapsed": 59,
     "status": "ok",
     "timestamp": 1624701637922,
     "user": {
      "displayName": "ronak lathiya",
      "photoUrl": "",
      "userId": "13017137450409577858"
     },
     "user_tz": -330
    },
    "id": "1jNI-Gf_1sOd",
    "outputId": "71b5160d-d47d-46e3-b7c4-8cafbdf20e01"
   },
   "outputs": [
    {
     "data": {
      "text/plain": [
       "array([133, 164, 173, 411, 454, 477, 507, 555, 673, 724, 781, 829, 880,\n",
       "       881, 895, 945])"
      ]
     },
     "execution_count": 25,
     "metadata": {
      "tags": []
     },
     "output_type": "execute_result"
    }
   ],
   "source": [
    "sup_values"
   ]
  },
  {
   "cell_type": "code",
   "execution_count": null,
   "metadata": {
    "id": "MXeCFqWU1uYG"
   },
   "outputs": [],
   "source": [
    "y= [133, 164, 173, 411, 454, 477, 507, 555, 673, 724, 781]  # Employee No that we have in dataset 16-17. "
   ]
  },
  {
   "cell_type": "code",
   "execution_count": null,
   "metadata": {
    "id": "rEW4POyM1xp6"
   },
   "outputs": [],
   "source": [
    "sup_name = []\n",
    "for i in y:\n",
    "    sup_name.append(df_16_17[\"Supervisor name\"][df_16_17[\"Employee No\"]==i].values[0])  # supervisor name corresponding to Employee No."
   ]
  },
  {
   "cell_type": "code",
   "execution_count": null,
   "metadata": {
    "colab": {
     "base_uri": "https://localhost:8080/"
    },
    "executionInfo": {
     "elapsed": 55,
     "status": "ok",
     "timestamp": 1624701637925,
     "user": {
      "displayName": "ronak lathiya",
      "photoUrl": "",
      "userId": "13017137450409577858"
     },
     "user_tz": -330
    },
    "id": "Wt4vKwts48f3",
    "outputId": "de6b9dd9-3fbc-49ba-a979-8a9db6db0a33"
   },
   "outputs": [
    {
     "data": {
      "text/plain": [
       "['Barbee Joey',\n",
       " 'Cordey Sofia',\n",
       " 'Pamelina Shalna',\n",
       " 'Isahella Gwendolin',\n",
       " 'Eydie Francine',\n",
       " 'Hedwiga Mehetabel',\n",
       " 'Cristina Maren',\n",
       " 'Cristina Maren',\n",
       " 'Dorotea Inger',\n",
       " 'Stacey Cassey',\n",
       " 'Dorotea Inger']"
      ]
     },
     "execution_count": 28,
     "metadata": {
      "tags": []
     },
     "output_type": "execute_result"
    }
   ],
   "source": [
    "sup_name   "
   ]
  },
  {
   "cell_type": "code",
   "execution_count": null,
   "metadata": {
    "id": "R5Y8w5bW494s"
   },
   "outputs": [],
   "source": [
    "for i in range(len(sup_name)):\n",
    "    df_17_18[\"Supervisor name\"][df_17_18[\"Employee No\"]==y[i]] = sup_name[i]  # replacing \"-\" with true supervisor name"
   ]
  },
  {
   "cell_type": "code",
   "execution_count": null,
   "metadata": {
    "id": "jySwXjVT5wYy"
   },
   "outputs": [],
   "source": [
    "sup_others = [829, 880,881, 895, 945] # rest of employee No"
   ]
  },
  {
   "cell_type": "code",
   "execution_count": null,
   "metadata": {
    "id": "NJCpTjnF6S7_"
   },
   "outputs": [],
   "source": [
    "for i in sup_others:\n",
    "    df_17_18[\"Supervisor name\"][df_17_18[\"Employee No\"]==i] = \"OTHERS\" # replacing \"-\" with \"OTHERS\""
   ]
  },
  {
   "cell_type": "code",
   "execution_count": null,
   "metadata": {
    "colab": {
     "base_uri": "https://localhost:8080/",
     "height": 102
    },
    "executionInfo": {
     "elapsed": 51,
     "status": "ok",
     "timestamp": 1624701637926,
     "user": {
      "displayName": "ronak lathiya",
      "photoUrl": "",
      "userId": "13017137450409577858"
     },
     "user_tz": -330
    },
    "id": "fn6smNfB6ed3",
    "outputId": "b2e6a353-e4fa-4201-c69a-e547ca5ea541"
   },
   "outputs": [
    {
     "data": {
      "text/html": [
       "<div>\n",
       "<style scoped>\n",
       "    .dataframe tbody tr th:only-of-type {\n",
       "        vertical-align: middle;\n",
       "    }\n",
       "\n",
       "    .dataframe tbody tr th {\n",
       "        vertical-align: top;\n",
       "    }\n",
       "\n",
       "    .dataframe thead th {\n",
       "        text-align: right;\n",
       "    }\n",
       "</style>\n",
       "<table border=\"1\" class=\"dataframe\">\n",
       "  <thead>\n",
       "    <tr style=\"text-align: right;\">\n",
       "      <th></th>\n",
       "      <th>Employee No</th>\n",
       "      <th>Profit Center</th>\n",
       "      <th>Employee Name</th>\n",
       "      <th>Employee Position</th>\n",
       "      <th>Employee Location</th>\n",
       "      <th>People Group</th>\n",
       "      <th>Employee Category</th>\n",
       "      <th>Supervisor name</th>\n",
       "      <th>Join Date</th>\n",
       "      <th>Current Status</th>\n",
       "      <th>Termination Date</th>\n",
       "      <th>Total Hours.12</th>\n",
       "      <th>Total Available Hours.12</th>\n",
       "      <th>Work Hours.12</th>\n",
       "      <th>Leave Hours.12</th>\n",
       "      <th>Training Hours.12</th>\n",
       "      <th>BD Hours.12</th>\n",
       "      <th>NC Hours.12</th>\n",
       "      <th>Utilization%.12</th>\n",
       "    </tr>\n",
       "  </thead>\n",
       "  <tbody>\n",
       "  </tbody>\n",
       "</table>\n",
       "</div>"
      ],
      "text/plain": [
       "Empty DataFrame\n",
       "Columns: [Employee No, Profit Center, Employee Name, Employee Position, Employee Location, People Group, Employee Category, Supervisor name, Join Date, Current Status, Termination Date, Total Hours.12, Total Available Hours.12, Work Hours.12, Leave Hours.12, Training Hours.12, BD Hours.12, NC Hours.12, Utilization%.12]\n",
       "Index: []"
      ]
     },
     "execution_count": 32,
     "metadata": {
      "tags": []
     },
     "output_type": "execute_result"
    }
   ],
   "source": [
    "df_17_18[df_17_18[\"Supervisor name\"]==\"-\"] # to check we have \"-\" anymore."
   ]
  },
  {
   "cell_type": "markdown",
   "metadata": {
    "id": "maM_dxeG9ibL"
   },
   "source": [
    "Other operations we will do on combine dataset. Let me first create resigned_16_17 dataset from 16-17 dataset. And we will merge this with 17-18 dataset."
   ]
  },
  {
   "cell_type": "code",
   "execution_count": null,
   "metadata": {
    "id": "0C44_ybK6m4K"
   },
   "outputs": [],
   "source": [
    "resigned_16_17=df_16_17[df_16_17[\"Current Status\"]==\"Resigned\"]"
   ]
  },
  {
   "cell_type": "code",
   "execution_count": null,
   "metadata": {
    "colab": {
     "base_uri": "https://localhost:8080/"
    },
    "executionInfo": {
     "elapsed": 52,
     "status": "ok",
     "timestamp": 1624701637928,
     "user": {
      "displayName": "ronak lathiya",
      "photoUrl": "",
      "userId": "13017137450409577858"
     },
     "user_tz": -330
    },
    "id": "kxJyTvQa-TIG",
    "outputId": "9527174c-1d74-4c53-d1e5-f22f914b9958"
   },
   "outputs": [
    {
     "name": "stdout",
     "output_type": "stream",
     "text": [
      "<class 'pandas.core.frame.DataFrame'>\n",
      "Int64Index: 141 entries, 7 to 751\n",
      "Data columns (total 19 columns):\n",
      " #   Column                    Non-Null Count  Dtype         \n",
      "---  ------                    --------------  -----         \n",
      " 0   Employee No               141 non-null    int64         \n",
      " 1   Profit Center             141 non-null    object        \n",
      " 2   Employee Name             141 non-null    object        \n",
      " 3   Employee Position         141 non-null    object        \n",
      " 4   Employee Location         141 non-null    object        \n",
      " 5   People Group              141 non-null    object        \n",
      " 6   Employee Category         141 non-null    object        \n",
      " 7   Supervisor name           141 non-null    object        \n",
      " 8   Join Date                 141 non-null    datetime64[ns]\n",
      " 9   Current Status            141 non-null    object        \n",
      " 10  Termination Date          141 non-null    object        \n",
      " 11  Total Hours.12            141 non-null    int64         \n",
      " 12  Total Available Hours.12  141 non-null    float64       \n",
      " 13  Work Hours.12             141 non-null    float64       \n",
      " 14  Leave Hours.12            141 non-null    float64       \n",
      " 15  Training Hours.12         141 non-null    float64       \n",
      " 16  BD Hours.12               141 non-null    float64       \n",
      " 17  NC Hours.12               141 non-null    float64       \n",
      " 18  Utilization%.12           141 non-null    object        \n",
      "dtypes: datetime64[ns](1), float64(6), int64(2), object(10)\n",
      "memory usage: 22.0+ KB\n"
     ]
    }
   ],
   "source": [
    "resigned_16_17.info()"
   ]
  },
  {
   "cell_type": "code",
   "execution_count": null,
   "metadata": {
    "id": "gRMyDJhH-asX"
   },
   "outputs": [],
   "source": [
    "categorical_colnames = [ 'Profit Center', 'Employee Name', 'Employee Position','Employee Location', 'People Group', 'Employee Category',\n",
    "                         'Supervisor name',  'Current Status']"
   ]
  },
  {
   "cell_type": "code",
   "execution_count": null,
   "metadata": {
    "id": "H9jPFQAU-8xN"
   },
   "outputs": [],
   "source": [
    "for i in categorical_colnames:\n",
    "    resigned_16_17[i] = resigned_16_17[i].str.upper()"
   ]
  },
  {
   "cell_type": "code",
   "execution_count": null,
   "metadata": {
    "id": "vsfEYj5Y_D82"
   },
   "outputs": [],
   "source": [
    "for i in categorical_colnames:\n",
    "    resigned_16_17[i] = resigned_16_17[i].str.strip()"
   ]
  },
  {
   "cell_type": "code",
   "execution_count": null,
   "metadata": {
    "colab": {
     "base_uri": "https://localhost:8080/"
    },
    "executionInfo": {
     "elapsed": 53,
     "status": "ok",
     "timestamp": 1624701637932,
     "user": {
      "displayName": "ronak lathiya",
      "photoUrl": "",
      "userId": "13017137450409577858"
     },
     "user_tz": -330
    },
    "id": "qO6agUZY_Wmp",
    "outputId": "d32e7a21-94a6-4564-c36e-e8056640a993"
   },
   "outputs": [
    {
     "name": "stdout",
     "output_type": "stream",
     "text": [
      "{'Profit Center': array(['PC - 3', 'PC - 6', 'PC - 1', 'PC - 2', 'PC - 7', 'PC - 5',\n",
      "       'PC - 10'], dtype=object)}\n",
      "{'Employee Position': array(['LEVEL 4', 'LEVEL 6', 'LEVEL 7', 'LEVEL 5', 'LEVEL 8', 'LEVEL 10'],\n",
      "      dtype=object)}\n",
      "{'Employee Location': array(['LOCATION 1', 'LOCATION 2', 'LOCATION 7', 'LOCATION 3',\n",
      "       'LOCATION 9', 'LOCATION 6', 'LOCATION 4'], dtype=object)}\n",
      "{'People Group': array(['CLIENT SERVICE STAFF'], dtype=object)}\n",
      "{'Employee Category': array(['SERVING NOTICE PERIOD', 'AWAITING TERMINATION',\n",
      "       'STAFF ON PROBATION'], dtype=object)}\n",
      "{'Supervisor name': array(['TALLIA EYDE', 'CACILIA AIMEE', 'BARBEE JOEY', 'DARYL NATALINA',\n",
      "       'MARINA GARNETTE', 'EM CACILIE', 'PHILIPPE KIZZIE',\n",
      "       'LINDY MARGUERITE', 'ROSABEL SAIDEE', 'ARDYS KATERINE',\n",
      "       'SILE LORRIE', 'KIPPY MARQUITA', 'KYNTHIA HILDY',\n",
      "       'AGATA THEODOSIA', 'RINA DEBEE', 'MARYS ESSY', 'MARLEAH BERNADINA',\n",
      "       'CORDEY SOFIA', 'PAMELINA SHALNA', 'TRENNA MUREIL',\n",
      "       'REVKAH STEPHIE', 'TERZA GWYN', 'VONNI BETHENA', 'BERNICE ANDREA',\n",
      "       'JILLANA VIVI', 'ORSA MARGEAUX', 'JOLYN BRINEY',\n",
      "       'GUENEVERE FLORIDA', 'NERITA ANET', 'FRANCES MIGNONNE',\n",
      "       'KATUSCHA PRU', 'CYNTHIA LEONORA', 'EYDIE FRANCINE',\n",
      "       'WILLETTE LIL', 'CHERISE LAINEY', 'MARNEY ANDEREA',\n",
      "       'ANNNORA GABRIELLE', 'ISAHELLA GWENDOLIN', 'ALI ELSINORE',\n",
      "       'DANETTE MELINDA', 'AIMIL LATISHA', 'JILLIAN LORELEI',\n",
      "       'CHERRY FANCIE', 'KRISTINA ALLEEN', 'LIAN HARLEY',\n",
      "       'BEVERLEY LANEY', 'NANCEE DEIRDRE', 'DORE NATALYA',\n",
      "       'NERISSA JACKQUELIN', 'DOROTEA INGER', 'HEDWIGA MEHETABEL',\n",
      "       'MISTI HELENA', 'ORELEE HANNA', 'GISELLA NICKIE', 'ERMINIE ERICKA',\n",
      "       'GAVRA KAYLE', 'OPHELIE JYOTI', 'MYRTIE BRANA', 'KALINDI TOMA',\n",
      "       'AILYN MARIE-ANN', 'ALVINIA EDE', 'STACEY CASSEY', 'HEDI ELNA',\n",
      "       'TALLULAH KASSIA', 'LAETITIA YOSHI', 'SYBIL GEORGIANNA',\n",
      "       'VINNI CALYPSO', 'LEE ALFIE'], dtype=object)}\n",
      "{'Current Status': array(['RESIGNED'], dtype=object)}\n"
     ]
    }
   ],
   "source": [
    "categorical_colnames = [ 'Profit Center', 'Employee Position','Employee Location', 'People Group', 'Employee Category',\n",
    "                         'Supervisor name',  'Current Status'] \n",
    "for i in categorical_colnames:\n",
    "    print({i: resigned_16_17[i].unique()})"
   ]
  },
  {
   "cell_type": "markdown",
   "metadata": {
    "id": "hinv9brg_wbl"
   },
   "source": [
    "All things are fine we just need to merge two dataset."
   ]
  },
  {
   "cell_type": "code",
   "execution_count": null,
   "metadata": {
    "id": "Pl5Su2tj_lsJ"
   },
   "outputs": [],
   "source": [
    "combine_df=pd.concat([df_17_18,resigned_16_17],ignore_index=True)"
   ]
  },
  {
   "cell_type": "code",
   "execution_count": null,
   "metadata": {
    "colab": {
     "base_uri": "https://localhost:8080/",
     "height": 425
    },
    "executionInfo": {
     "elapsed": 37,
     "status": "ok",
     "timestamp": 1624701638650,
     "user": {
      "displayName": "ronak lathiya",
      "photoUrl": "",
      "userId": "13017137450409577858"
     },
     "user_tz": -330
    },
    "id": "wG0NxHfpAKpT",
    "outputId": "7a25dced-d39c-4f7d-ad1e-75124812371a"
   },
   "outputs": [
    {
     "data": {
      "text/html": [
       "<div>\n",
       "<style scoped>\n",
       "    .dataframe tbody tr th:only-of-type {\n",
       "        vertical-align: middle;\n",
       "    }\n",
       "\n",
       "    .dataframe tbody tr th {\n",
       "        vertical-align: top;\n",
       "    }\n",
       "\n",
       "    .dataframe thead th {\n",
       "        text-align: right;\n",
       "    }\n",
       "</style>\n",
       "<table border=\"1\" class=\"dataframe\">\n",
       "  <thead>\n",
       "    <tr style=\"text-align: right;\">\n",
       "      <th></th>\n",
       "      <th>Employee No</th>\n",
       "      <th>Profit Center</th>\n",
       "      <th>Employee Name</th>\n",
       "      <th>Employee Position</th>\n",
       "      <th>Employee Location</th>\n",
       "      <th>People Group</th>\n",
       "      <th>Employee Category</th>\n",
       "      <th>Supervisor name</th>\n",
       "      <th>Join Date</th>\n",
       "      <th>Current Status</th>\n",
       "      <th>Termination Date</th>\n",
       "      <th>Total Hours.12</th>\n",
       "      <th>Total Available Hours.12</th>\n",
       "      <th>Work Hours.12</th>\n",
       "      <th>Leave Hours.12</th>\n",
       "      <th>Training Hours.12</th>\n",
       "      <th>BD Hours.12</th>\n",
       "      <th>NC Hours.12</th>\n",
       "      <th>Utilization%.12</th>\n",
       "    </tr>\n",
       "  </thead>\n",
       "  <tbody>\n",
       "    <tr>\n",
       "      <th>1109</th>\n",
       "      <td>692</td>\n",
       "      <td>PC - 5</td>\n",
       "      <td>CARMA CORRINNE</td>\n",
       "      <td>LEVEL 8</td>\n",
       "      <td>LOCATION 1</td>\n",
       "      <td>CLIENT SERVICE STAFF</td>\n",
       "      <td>SERVING NOTICE PERIOD</td>\n",
       "      <td>GUENEVERE FLORIDA</td>\n",
       "      <td>2016-07-31</td>\n",
       "      <td>RESIGNED</td>\n",
       "      <td>2016-09-30 00:00:00</td>\n",
       "      <td>432</td>\n",
       "      <td>260.0</td>\n",
       "      <td>116.0</td>\n",
       "      <td>96.0</td>\n",
       "      <td>76.0</td>\n",
       "      <td>0.0</td>\n",
       "      <td>184.0</td>\n",
       "      <td>0.446154</td>\n",
       "    </tr>\n",
       "    <tr>\n",
       "      <th>1110</th>\n",
       "      <td>704</td>\n",
       "      <td>PC - 3</td>\n",
       "      <td>GLEN EMELIA</td>\n",
       "      <td>LEVEL 8</td>\n",
       "      <td>LOCATION 1</td>\n",
       "      <td>CLIENT SERVICE STAFF</td>\n",
       "      <td>SERVING NOTICE PERIOD</td>\n",
       "      <td>KRISTINA ALLEEN</td>\n",
       "      <td>2016-07-31</td>\n",
       "      <td>RESIGNED</td>\n",
       "      <td>2016-12-31 00:00:00</td>\n",
       "      <td>864</td>\n",
       "      <td>723.0</td>\n",
       "      <td>728.0</td>\n",
       "      <td>96.0</td>\n",
       "      <td>45.0</td>\n",
       "      <td>0.0</td>\n",
       "      <td>161.5</td>\n",
       "      <td>1.00692</td>\n",
       "    </tr>\n",
       "    <tr>\n",
       "      <th>1111</th>\n",
       "      <td>709</td>\n",
       "      <td>PC - 1</td>\n",
       "      <td>JACINTHE VALLY</td>\n",
       "      <td>LEVEL 6</td>\n",
       "      <td>LOCATION 3</td>\n",
       "      <td>CLIENT SERVICE STAFF</td>\n",
       "      <td>SERVING NOTICE PERIOD</td>\n",
       "      <td>ARDYS KATERINE</td>\n",
       "      <td>2016-08-31</td>\n",
       "      <td>RESIGNED</td>\n",
       "      <td>2016-10-31 00:00:00</td>\n",
       "      <td>480</td>\n",
       "      <td>392.0</td>\n",
       "      <td>190.0</td>\n",
       "      <td>40.0</td>\n",
       "      <td>48.0</td>\n",
       "      <td>0.0</td>\n",
       "      <td>242.0</td>\n",
       "      <td>0.484694</td>\n",
       "    </tr>\n",
       "    <tr>\n",
       "      <th>1112</th>\n",
       "      <td>729</td>\n",
       "      <td>PC - 1</td>\n",
       "      <td>VALINA PHILIS</td>\n",
       "      <td>LEVEL 7</td>\n",
       "      <td>LOCATION 3</td>\n",
       "      <td>CLIENT SERVICE STAFF</td>\n",
       "      <td>SERVING NOTICE PERIOD</td>\n",
       "      <td>VINNI CALYPSO</td>\n",
       "      <td>2016-11-30</td>\n",
       "      <td>RESIGNED</td>\n",
       "      <td>2017-04-30 00:00:00</td>\n",
       "      <td>720</td>\n",
       "      <td>504.0</td>\n",
       "      <td>291.0</td>\n",
       "      <td>56.0</td>\n",
       "      <td>160.0</td>\n",
       "      <td>0.0</td>\n",
       "      <td>261.0</td>\n",
       "      <td>0.577381</td>\n",
       "    </tr>\n",
       "    <tr>\n",
       "      <th>1113</th>\n",
       "      <td>752</td>\n",
       "      <td>PC - 6</td>\n",
       "      <td>LYNDSIE CIEL</td>\n",
       "      <td>LEVEL 8</td>\n",
       "      <td>LOCATION 3</td>\n",
       "      <td>CLIENT SERVICE STAFF</td>\n",
       "      <td>SERVING NOTICE PERIOD</td>\n",
       "      <td>LEE ALFIE</td>\n",
       "      <td>2017-02-28</td>\n",
       "      <td>RESIGNED</td>\n",
       "      <td>2017-02-28 00:00:00</td>\n",
       "      <td>88</td>\n",
       "      <td>48.0</td>\n",
       "      <td>0.0</td>\n",
       "      <td>0.0</td>\n",
       "      <td>40.0</td>\n",
       "      <td>0.0</td>\n",
       "      <td>80.0</td>\n",
       "      <td>0</td>\n",
       "    </tr>\n",
       "  </tbody>\n",
       "</table>\n",
       "</div>"
      ],
      "text/plain": [
       "      Employee No Profit Center  ... NC Hours.12 Utilization%.12\n",
       "1109          692        PC - 5  ...       184.0        0.446154\n",
       "1110          704        PC - 3  ...       161.5         1.00692\n",
       "1111          709        PC - 1  ...       242.0        0.484694\n",
       "1112          729        PC - 1  ...       261.0        0.577381\n",
       "1113          752        PC - 6  ...        80.0               0\n",
       "\n",
       "[5 rows x 19 columns]"
      ]
     },
     "execution_count": 40,
     "metadata": {
      "tags": []
     },
     "output_type": "execute_result"
    }
   ],
   "source": [
    "combine_df.tail() #just checking merging has happened correctly."
   ]
  },
  {
   "cell_type": "markdown",
   "metadata": {
    "id": "91_B4bW0DEUg"
   },
   "source": [
    "Let me check for duplicated values."
   ]
  },
  {
   "cell_type": "code",
   "execution_count": null,
   "metadata": {
    "colab": {
     "base_uri": "https://localhost:8080/"
    },
    "executionInfo": {
     "elapsed": 36,
     "status": "ok",
     "timestamp": 1624701638651,
     "user": {
      "displayName": "ronak lathiya",
      "photoUrl": "",
      "userId": "13017137450409577858"
     },
     "user_tz": -330
    },
    "id": "86AtJrEAAMn2",
    "outputId": "92694950-6332-4504-ca87-9c9aa1476387"
   },
   "outputs": [
    {
     "data": {
      "text/plain": [
       "0"
      ]
     },
     "execution_count": 41,
     "metadata": {
      "tags": []
     },
     "output_type": "execute_result"
    }
   ],
   "source": [
    "combine_df.duplicated().sum()"
   ]
  },
  {
   "cell_type": "code",
   "execution_count": null,
   "metadata": {
    "colab": {
     "base_uri": "https://localhost:8080/"
    },
    "executionInfo": {
     "elapsed": 32,
     "status": "ok",
     "timestamp": 1624701638652,
     "user": {
      "displayName": "ronak lathiya",
      "photoUrl": "",
      "userId": "13017137450409577858"
     },
     "user_tz": -330
    },
    "id": "3ov22UO5C-1L",
    "outputId": "2f053b01-71ae-435c-8532-94b49784d4fa"
   },
   "outputs": [
    {
     "name": "stdout",
     "output_type": "stream",
     "text": [
      "<class 'pandas.core.frame.DataFrame'>\n",
      "RangeIndex: 1114 entries, 0 to 1113\n",
      "Data columns (total 19 columns):\n",
      " #   Column                    Non-Null Count  Dtype         \n",
      "---  ------                    --------------  -----         \n",
      " 0   Employee No               1114 non-null   int64         \n",
      " 1   Profit Center             1114 non-null   object        \n",
      " 2   Employee Name             1114 non-null   object        \n",
      " 3   Employee Position         1114 non-null   object        \n",
      " 4   Employee Location         1114 non-null   object        \n",
      " 5   People Group              1114 non-null   object        \n",
      " 6   Employee Category         1114 non-null   object        \n",
      " 7   Supervisor name           1114 non-null   object        \n",
      " 8   Join Date                 1114 non-null   datetime64[ns]\n",
      " 9   Current Status            1114 non-null   object        \n",
      " 10  Termination Date          286 non-null    object        \n",
      " 11  Total Hours.12            1114 non-null   int64         \n",
      " 12  Total Available Hours.12  1114 non-null   float64       \n",
      " 13  Work Hours.12             1114 non-null   float64       \n",
      " 14  Leave Hours.12            1114 non-null   float64       \n",
      " 15  Training Hours.12         1114 non-null   float64       \n",
      " 16  BD Hours.12               1114 non-null   float64       \n",
      " 17  NC Hours.12               1114 non-null   float64       \n",
      " 18  Utilization%.12           1114 non-null   object        \n",
      "dtypes: datetime64[ns](1), float64(6), int64(2), object(10)\n",
      "memory usage: 165.5+ KB\n"
     ]
    }
   ],
   "source": [
    "combine_df.info()"
   ]
  },
  {
   "cell_type": "markdown",
   "metadata": {
    "id": "rSOX-Hc3EF8J"
   },
   "source": [
    "We have NA values in Termination Date. That is because, those are our current employees. I will replace those NA with max date in dataset because later i want to create feature(Time With Company). At that time it will help me to get how long employee is working for company."
   ]
  },
  {
   "cell_type": "code",
   "execution_count": null,
   "metadata": {
    "id": "r7h5LemnFlXk"
   },
   "outputs": [],
   "source": [
    "combine_df[\"Termination Date\"].fillna(combine_df[\"Join Date\"].max(),inplace = True)"
   ]
  },
  {
   "cell_type": "code",
   "execution_count": null,
   "metadata": {
    "colab": {
     "base_uri": "https://localhost:8080/",
     "height": 425
    },
    "executionInfo": {
     "elapsed": 30,
     "status": "ok",
     "timestamp": 1624701638653,
     "user": {
      "displayName": "ronak lathiya",
      "photoUrl": "",
      "userId": "13017137450409577858"
     },
     "user_tz": -330
    },
    "id": "Ue9gZQfZInfX",
    "outputId": "ddc6e852-dd1f-4189-9b44-a6a344f1811c"
   },
   "outputs": [
    {
     "data": {
      "text/html": [
       "<div>\n",
       "<style scoped>\n",
       "    .dataframe tbody tr th:only-of-type {\n",
       "        vertical-align: middle;\n",
       "    }\n",
       "\n",
       "    .dataframe tbody tr th {\n",
       "        vertical-align: top;\n",
       "    }\n",
       "\n",
       "    .dataframe thead th {\n",
       "        text-align: right;\n",
       "    }\n",
       "</style>\n",
       "<table border=\"1\" class=\"dataframe\">\n",
       "  <thead>\n",
       "    <tr style=\"text-align: right;\">\n",
       "      <th></th>\n",
       "      <th>Employee No</th>\n",
       "      <th>Profit Center</th>\n",
       "      <th>Employee Name</th>\n",
       "      <th>Employee Position</th>\n",
       "      <th>Employee Location</th>\n",
       "      <th>People Group</th>\n",
       "      <th>Employee Category</th>\n",
       "      <th>Supervisor name</th>\n",
       "      <th>Join Date</th>\n",
       "      <th>Current Status</th>\n",
       "      <th>Termination Date</th>\n",
       "      <th>Total Hours.12</th>\n",
       "      <th>Total Available Hours.12</th>\n",
       "      <th>Work Hours.12</th>\n",
       "      <th>Leave Hours.12</th>\n",
       "      <th>Training Hours.12</th>\n",
       "      <th>BD Hours.12</th>\n",
       "      <th>NC Hours.12</th>\n",
       "      <th>Utilization%.12</th>\n",
       "    </tr>\n",
       "  </thead>\n",
       "  <tbody>\n",
       "    <tr>\n",
       "      <th>0</th>\n",
       "      <td>1</td>\n",
       "      <td>PC - 1</td>\n",
       "      <td>ROCHETTE JILLEEN</td>\n",
       "      <td>LEVEL 1</td>\n",
       "      <td>LOCATION 3</td>\n",
       "      <td>CLIENT SERVICE STAFF</td>\n",
       "      <td>SVP/VP</td>\n",
       "      <td>IDALINA LAURAINE</td>\n",
       "      <td>2000-09-30</td>\n",
       "      <td>ACTIVE</td>\n",
       "      <td>2018-03-31</td>\n",
       "      <td>2080</td>\n",
       "      <td>1864.5</td>\n",
       "      <td>448.0</td>\n",
       "      <td>188.0</td>\n",
       "      <td>27.5</td>\n",
       "      <td>1431.5</td>\n",
       "      <td>18.0</td>\n",
       "      <td>0.240279</td>\n",
       "    </tr>\n",
       "    <tr>\n",
       "      <th>1</th>\n",
       "      <td>2</td>\n",
       "      <td>PC - 2</td>\n",
       "      <td>DARYL NATALINA</td>\n",
       "      <td>LEVEL 2</td>\n",
       "      <td>LOCATION 7</td>\n",
       "      <td>CLIENT SERVICE STAFF</td>\n",
       "      <td>SVP/VP</td>\n",
       "      <td>IDALINA LAURAINE</td>\n",
       "      <td>1999-05-31</td>\n",
       "      <td>ACTIVE</td>\n",
       "      <td>2018-03-31</td>\n",
       "      <td>2080</td>\n",
       "      <td>1868.0</td>\n",
       "      <td>722.0</td>\n",
       "      <td>208.0</td>\n",
       "      <td>4.0</td>\n",
       "      <td>600.5</td>\n",
       "      <td>596.5</td>\n",
       "      <td>0.38651</td>\n",
       "    </tr>\n",
       "    <tr>\n",
       "      <th>2</th>\n",
       "      <td>3</td>\n",
       "      <td>PC - 2</td>\n",
       "      <td>ANNNORA GABRIELLE</td>\n",
       "      <td>LEVEL 2</td>\n",
       "      <td>LOCATION 7</td>\n",
       "      <td>CLIENT SERVICE STAFF</td>\n",
       "      <td>SVP/VP</td>\n",
       "      <td>IDALINA LAURAINE</td>\n",
       "      <td>2001-01-31</td>\n",
       "      <td>ACTIVE</td>\n",
       "      <td>2018-03-31</td>\n",
       "      <td>2080</td>\n",
       "      <td>1720.0</td>\n",
       "      <td>1173.0</td>\n",
       "      <td>338.0</td>\n",
       "      <td>22.0</td>\n",
       "      <td>463.5</td>\n",
       "      <td>357.5</td>\n",
       "      <td>0.681977</td>\n",
       "    </tr>\n",
       "    <tr>\n",
       "      <th>3</th>\n",
       "      <td>4</td>\n",
       "      <td>PC - 3</td>\n",
       "      <td>BARBEE JOEY</td>\n",
       "      <td>LEVEL 2</td>\n",
       "      <td>LOCATION 1</td>\n",
       "      <td>CLIENT SERVICE STAFF</td>\n",
       "      <td>RESIGNED</td>\n",
       "      <td>IDALINA LAURAINE</td>\n",
       "      <td>2000-09-30</td>\n",
       "      <td>RESIGNED</td>\n",
       "      <td>2018-02-28</td>\n",
       "      <td>1840</td>\n",
       "      <td>1640.5</td>\n",
       "      <td>273.0</td>\n",
       "      <td>196.0</td>\n",
       "      <td>3.5</td>\n",
       "      <td>1361.0</td>\n",
       "      <td>24.0</td>\n",
       "      <td>0.166413</td>\n",
       "    </tr>\n",
       "    <tr>\n",
       "      <th>4</th>\n",
       "      <td>6</td>\n",
       "      <td>PC - 1</td>\n",
       "      <td>JORDANNA DANYA</td>\n",
       "      <td>LEVEL 2</td>\n",
       "      <td>LOCATION 3</td>\n",
       "      <td>CLIENT SERVICE STAFF</td>\n",
       "      <td>SVP/VP</td>\n",
       "      <td>IDALINA LAURAINE</td>\n",
       "      <td>2002-06-30</td>\n",
       "      <td>ACTIVE</td>\n",
       "      <td>2018-03-31</td>\n",
       "      <td>2080</td>\n",
       "      <td>1812.0</td>\n",
       "      <td>428.0</td>\n",
       "      <td>260.0</td>\n",
       "      <td>8.0</td>\n",
       "      <td>1237.0</td>\n",
       "      <td>470.0</td>\n",
       "      <td>0.236203</td>\n",
       "    </tr>\n",
       "  </tbody>\n",
       "</table>\n",
       "</div>"
      ],
      "text/plain": [
       "   Employee No Profit Center  ... NC Hours.12 Utilization%.12\n",
       "0            1        PC - 1  ...        18.0        0.240279\n",
       "1            2        PC - 2  ...       596.5         0.38651\n",
       "2            3        PC - 2  ...       357.5        0.681977\n",
       "3            4        PC - 3  ...        24.0        0.166413\n",
       "4            6        PC - 1  ...       470.0        0.236203\n",
       "\n",
       "[5 rows x 19 columns]"
      ]
     },
     "execution_count": 44,
     "metadata": {
      "tags": []
     },
     "output_type": "execute_result"
    }
   ],
   "source": [
    "combine_df.head()"
   ]
  },
  {
   "cell_type": "code",
   "execution_count": null,
   "metadata": {
    "id": "-3N5L8S_IqB6"
   },
   "outputs": [],
   "source": [
    "combine_df[\"Time With Company\"] = (combine_df[\"Termination Date\"] - combine_df[\"Join Date\"])/np.timedelta64(1,\"D\") #This will give me value of since how many days employee is with company."
   ]
  },
  {
   "cell_type": "markdown",
   "metadata": {
    "id": "A6KxMJJdMD2z"
   },
   "source": [
    "We are having certain Current Status apart from \"Active\" and \"Resigned\". We need to also work on that."
   ]
  },
  {
   "cell_type": "code",
   "execution_count": null,
   "metadata": {
    "colab": {
     "base_uri": "https://localhost:8080/"
    },
    "executionInfo": {
     "elapsed": 33,
     "status": "ok",
     "timestamp": 1624701638657,
     "user": {
      "displayName": "ronak lathiya",
      "photoUrl": "",
      "userId": "13017137450409577858"
     },
     "user_tz": -330
    },
    "id": "y33TDw8kKrM5",
    "outputId": "64f01633-a283-425f-cfbb-d3fca1f73bac"
   },
   "outputs": [
    {
     "data": {
      "text/plain": [
       "ACTIVE        796\n",
       "RESIGNED      286\n",
       "NEW JOINER     24\n",
       "SECONDMENT      6\n",
       "SABBATICAL      2\n",
       "Name: Current Status, dtype: int64"
      ]
     },
     "execution_count": 46,
     "metadata": {
      "tags": []
     },
     "output_type": "execute_result"
    }
   ],
   "source": [
    "combine_df[\"Current Status\"].value_counts()"
   ]
  },
  {
   "cell_type": "markdown",
   "metadata": {
    "id": "6xwGJ9UQNbqo"
   },
   "source": [
    "We will replace \"NEW JOINER\" with \"ACTIVE\". \"SECONDMENT\" and \"SABBATICAL\" are of not our use and also they are very less in number. So, we will drop those rows."
   ]
  },
  {
   "cell_type": "code",
   "execution_count": null,
   "metadata": {
    "id": "1GVCgZYlNTre"
   },
   "outputs": [],
   "source": [
    "combine_df = combine_df.drop(combine_df[combine_df[\"Current Status\"]==\"SECONDMENT\"].index)"
   ]
  },
  {
   "cell_type": "code",
   "execution_count": null,
   "metadata": {
    "id": "s9JfdjYiPwqS"
   },
   "outputs": [],
   "source": [
    "combine_df = combine_df.drop(combine_df[combine_df[\"Current Status\"]==\"SABBATICAL\"].index)"
   ]
  },
  {
   "cell_type": "code",
   "execution_count": null,
   "metadata": {
    "id": "1_VtyFuQP1Ek"
   },
   "outputs": [],
   "source": [
    "combine_df[\"Current Status\"][combine_df[\"Current Status\"]==\"NEW JOINER\"] = \"ACTIVE\""
   ]
  },
  {
   "cell_type": "code",
   "execution_count": null,
   "metadata": {
    "colab": {
     "base_uri": "https://localhost:8080/"
    },
    "executionInfo": {
     "elapsed": 30,
     "status": "ok",
     "timestamp": 1624701638659,
     "user": {
      "displayName": "ronak lathiya",
      "photoUrl": "",
      "userId": "13017137450409577858"
     },
     "user_tz": -330
    },
    "id": "U5vl_F9ZQR0T",
    "outputId": "a1a6345a-b153-403f-a6c4-8b884888cc0d"
   },
   "outputs": [
    {
     "data": {
      "text/plain": [
       "ACTIVE      820\n",
       "RESIGNED    286\n",
       "Name: Current Status, dtype: int64"
      ]
     },
     "execution_count": 50,
     "metadata": {
      "tags": []
     },
     "output_type": "execute_result"
    }
   ],
   "source": [
    "combine_df[\"Current Status\"].value_counts() "
   ]
  },
  {
   "cell_type": "markdown",
   "metadata": {
    "id": "_zKLHymfSyJD"
   },
   "source": [
    "Let us handle numerical variables"
   ]
  },
  {
   "cell_type": "code",
   "execution_count": null,
   "metadata": {
    "colab": {
     "base_uri": "https://localhost:8080/",
     "height": 312
    },
    "executionInfo": {
     "elapsed": 26,
     "status": "ok",
     "timestamp": 1624701638659,
     "user": {
      "displayName": "ronak lathiya",
      "photoUrl": "",
      "userId": "13017137450409577858"
     },
     "user_tz": -330
    },
    "id": "WqXUSyf7QTfK",
    "outputId": "e95103c6-1ca7-41f0-96a0-10745b5b1443"
   },
   "outputs": [
    {
     "data": {
      "text/html": [
       "<div>\n",
       "<style scoped>\n",
       "    .dataframe tbody tr th:only-of-type {\n",
       "        vertical-align: middle;\n",
       "    }\n",
       "\n",
       "    .dataframe tbody tr th {\n",
       "        vertical-align: top;\n",
       "    }\n",
       "\n",
       "    .dataframe thead th {\n",
       "        text-align: right;\n",
       "    }\n",
       "</style>\n",
       "<table border=\"1\" class=\"dataframe\">\n",
       "  <thead>\n",
       "    <tr style=\"text-align: right;\">\n",
       "      <th></th>\n",
       "      <th>Employee No</th>\n",
       "      <th>Total Hours.12</th>\n",
       "      <th>Total Available Hours.12</th>\n",
       "      <th>Work Hours.12</th>\n",
       "      <th>Leave Hours.12</th>\n",
       "      <th>Training Hours.12</th>\n",
       "      <th>BD Hours.12</th>\n",
       "      <th>NC Hours.12</th>\n",
       "      <th>Time With Company</th>\n",
       "    </tr>\n",
       "  </thead>\n",
       "  <tbody>\n",
       "    <tr>\n",
       "      <th>count</th>\n",
       "      <td>1106.000000</td>\n",
       "      <td>1106.000000</td>\n",
       "      <td>1106.000000</td>\n",
       "      <td>1106.000000</td>\n",
       "      <td>1106.000000</td>\n",
       "      <td>1106.000000</td>\n",
       "      <td>1106.000000</td>\n",
       "      <td>1106.000000</td>\n",
       "      <td>1106.000000</td>\n",
       "    </tr>\n",
       "    <tr>\n",
       "      <th>mean</th>\n",
       "      <td>558.509042</td>\n",
       "      <td>1554.632911</td>\n",
       "      <td>1353.544819</td>\n",
       "      <td>1032.445588</td>\n",
       "      <td>174.535262</td>\n",
       "      <td>27.285199</td>\n",
       "      <td>59.232821</td>\n",
       "      <td>334.511618</td>\n",
       "      <td>910.892405</td>\n",
       "    </tr>\n",
       "    <tr>\n",
       "      <th>std</th>\n",
       "      <td>320.226739</td>\n",
       "      <td>677.781222</td>\n",
       "      <td>604.726951</td>\n",
       "      <td>648.251803</td>\n",
       "      <td>163.921649</td>\n",
       "      <td>29.084373</td>\n",
       "      <td>245.788219</td>\n",
       "      <td>382.076027</td>\n",
       "      <td>943.529017</td>\n",
       "    </tr>\n",
       "    <tr>\n",
       "      <th>min</th>\n",
       "      <td>1.000000</td>\n",
       "      <td>0.000000</td>\n",
       "      <td>-40.000000</td>\n",
       "      <td>-42.000000</td>\n",
       "      <td>0.000000</td>\n",
       "      <td>0.000000</td>\n",
       "      <td>0.000000</td>\n",
       "      <td>-8.000000</td>\n",
       "      <td>0.000000</td>\n",
       "    </tr>\n",
       "    <tr>\n",
       "      <th>25%</th>\n",
       "      <td>282.250000</td>\n",
       "      <td>994.000000</td>\n",
       "      <td>848.500000</td>\n",
       "      <td>445.750000</td>\n",
       "      <td>80.000000</td>\n",
       "      <td>4.000000</td>\n",
       "      <td>0.000000</td>\n",
       "      <td>65.000000</td>\n",
       "      <td>274.000000</td>\n",
       "    </tr>\n",
       "    <tr>\n",
       "      <th>50%</th>\n",
       "      <td>559.500000</td>\n",
       "      <td>2040.000000</td>\n",
       "      <td>1687.000000</td>\n",
       "      <td>1113.500000</td>\n",
       "      <td>168.000000</td>\n",
       "      <td>20.000000</td>\n",
       "      <td>0.000000</td>\n",
       "      <td>209.500000</td>\n",
       "      <td>639.000000</td>\n",
       "    </tr>\n",
       "    <tr>\n",
       "      <th>75%</th>\n",
       "      <td>834.750000</td>\n",
       "      <td>2080.000000</td>\n",
       "      <td>1823.875000</td>\n",
       "      <td>1599.500000</td>\n",
       "      <td>240.000000</td>\n",
       "      <td>39.000000</td>\n",
       "      <td>0.000000</td>\n",
       "      <td>454.750000</td>\n",
       "      <td>1127.000000</td>\n",
       "    </tr>\n",
       "    <tr>\n",
       "      <th>max</th>\n",
       "      <td>1111.000000</td>\n",
       "      <td>2088.000000</td>\n",
       "      <td>2080.000000</td>\n",
       "      <td>2669.000000</td>\n",
       "      <td>2080.000000</td>\n",
       "      <td>160.000000</td>\n",
       "      <td>2015.000000</td>\n",
       "      <td>2257.000000</td>\n",
       "      <td>6879.000000</td>\n",
       "    </tr>\n",
       "  </tbody>\n",
       "</table>\n",
       "</div>"
      ],
      "text/plain": [
       "       Employee No  Total Hours.12  ...  NC Hours.12  Time With Company\n",
       "count  1106.000000     1106.000000  ...  1106.000000        1106.000000\n",
       "mean    558.509042     1554.632911  ...   334.511618         910.892405\n",
       "std     320.226739      677.781222  ...   382.076027         943.529017\n",
       "min       1.000000        0.000000  ...    -8.000000           0.000000\n",
       "25%     282.250000      994.000000  ...    65.000000         274.000000\n",
       "50%     559.500000     2040.000000  ...   209.500000         639.000000\n",
       "75%     834.750000     2080.000000  ...   454.750000        1127.000000\n",
       "max    1111.000000     2088.000000  ...  2257.000000        6879.000000\n",
       "\n",
       "[8 rows x 9 columns]"
      ]
     },
     "execution_count": 51,
     "metadata": {
      "tags": []
     },
     "output_type": "execute_result"
    }
   ],
   "source": [
    "combine_df.describe()"
   ]
  },
  {
   "cell_type": "markdown",
   "metadata": {
    "id": "VBnDXveWVzsF"
   },
   "source": [
    "Utilization is actually numerica but it has been stored as object. Let me first convert it into numeric."
   ]
  },
  {
   "cell_type": "code",
   "execution_count": null,
   "metadata": {
    "colab": {
     "base_uri": "https://localhost:8080/",
     "height": 303
    },
    "executionInfo": {
     "elapsed": 653,
     "status": "error",
     "timestamp": 1624701639287,
     "user": {
      "displayName": "ronak lathiya",
      "photoUrl": "",
      "userId": "13017137450409577858"
     },
     "user_tz": -330
    },
    "id": "5QjAoqWTVXy5",
    "outputId": "73dea766-7c18-4bc3-a7e0-3122b6f4872d"
   },
   "outputs": [
    {
     "ename": "ValueError",
     "evalue": "ignored",
     "output_type": "error",
     "traceback": [
      "\u001b[0;31m---------------------------------------------------------------------------\u001b[0m",
      "\u001b[0;31mValueError\u001b[0m                                Traceback (most recent call last)",
      "\u001b[0;32m<ipython-input-52-ab8ecc0097d6>\u001b[0m in \u001b[0;36m<module>\u001b[0;34m()\u001b[0m\n\u001b[0;32m----> 1\u001b[0;31m \u001b[0mcombine_df\u001b[0m\u001b[0;34m[\u001b[0m\u001b[0;34m\"Utilization%.12\"\u001b[0m\u001b[0;34m]\u001b[0m \u001b[0;34m=\u001b[0m \u001b[0mcombine_df\u001b[0m\u001b[0;34m[\u001b[0m\u001b[0;34m\"Utilization%.12\"\u001b[0m\u001b[0;34m]\u001b[0m\u001b[0;34m.\u001b[0m\u001b[0mastype\u001b[0m\u001b[0;34m(\u001b[0m\u001b[0mfloat\u001b[0m\u001b[0;34m)\u001b[0m\u001b[0;34m\u001b[0m\u001b[0;34m\u001b[0m\u001b[0m\n\u001b[0m",
      "\u001b[0;32m/usr/local/lib/python3.7/dist-packages/pandas/core/generic.py\u001b[0m in \u001b[0;36mastype\u001b[0;34m(self, dtype, copy, errors)\u001b[0m\n\u001b[1;32m   5546\u001b[0m         \u001b[0;32melse\u001b[0m\u001b[0;34m:\u001b[0m\u001b[0;34m\u001b[0m\u001b[0;34m\u001b[0m\u001b[0m\n\u001b[1;32m   5547\u001b[0m             \u001b[0;31m# else, only a single dtype is given\u001b[0m\u001b[0;34m\u001b[0m\u001b[0;34m\u001b[0m\u001b[0;34m\u001b[0m\u001b[0m\n\u001b[0;32m-> 5548\u001b[0;31m             \u001b[0mnew_data\u001b[0m \u001b[0;34m=\u001b[0m \u001b[0mself\u001b[0m\u001b[0;34m.\u001b[0m\u001b[0m_mgr\u001b[0m\u001b[0;34m.\u001b[0m\u001b[0mastype\u001b[0m\u001b[0;34m(\u001b[0m\u001b[0mdtype\u001b[0m\u001b[0;34m=\u001b[0m\u001b[0mdtype\u001b[0m\u001b[0;34m,\u001b[0m \u001b[0mcopy\u001b[0m\u001b[0;34m=\u001b[0m\u001b[0mcopy\u001b[0m\u001b[0;34m,\u001b[0m \u001b[0merrors\u001b[0m\u001b[0;34m=\u001b[0m\u001b[0merrors\u001b[0m\u001b[0;34m,\u001b[0m\u001b[0;34m)\u001b[0m\u001b[0;34m\u001b[0m\u001b[0;34m\u001b[0m\u001b[0m\n\u001b[0m\u001b[1;32m   5549\u001b[0m             \u001b[0;32mreturn\u001b[0m \u001b[0mself\u001b[0m\u001b[0;34m.\u001b[0m\u001b[0m_constructor\u001b[0m\u001b[0;34m(\u001b[0m\u001b[0mnew_data\u001b[0m\u001b[0;34m)\u001b[0m\u001b[0;34m.\u001b[0m\u001b[0m__finalize__\u001b[0m\u001b[0;34m(\u001b[0m\u001b[0mself\u001b[0m\u001b[0;34m,\u001b[0m \u001b[0mmethod\u001b[0m\u001b[0;34m=\u001b[0m\u001b[0;34m\"astype\"\u001b[0m\u001b[0;34m)\u001b[0m\u001b[0;34m\u001b[0m\u001b[0;34m\u001b[0m\u001b[0m\n\u001b[1;32m   5550\u001b[0m \u001b[0;34m\u001b[0m\u001b[0m\n",
      "\u001b[0;32m/usr/local/lib/python3.7/dist-packages/pandas/core/internals/managers.py\u001b[0m in \u001b[0;36mastype\u001b[0;34m(self, dtype, copy, errors)\u001b[0m\n\u001b[1;32m    602\u001b[0m         \u001b[0mself\u001b[0m\u001b[0;34m,\u001b[0m \u001b[0mdtype\u001b[0m\u001b[0;34m,\u001b[0m \u001b[0mcopy\u001b[0m\u001b[0;34m:\u001b[0m \u001b[0mbool\u001b[0m \u001b[0;34m=\u001b[0m \u001b[0;32mFalse\u001b[0m\u001b[0;34m,\u001b[0m \u001b[0merrors\u001b[0m\u001b[0;34m:\u001b[0m \u001b[0mstr\u001b[0m \u001b[0;34m=\u001b[0m \u001b[0;34m\"raise\"\u001b[0m\u001b[0;34m\u001b[0m\u001b[0;34m\u001b[0m\u001b[0m\n\u001b[1;32m    603\u001b[0m     ) -> \"BlockManager\":\n\u001b[0;32m--> 604\u001b[0;31m         \u001b[0;32mreturn\u001b[0m \u001b[0mself\u001b[0m\u001b[0;34m.\u001b[0m\u001b[0mapply\u001b[0m\u001b[0;34m(\u001b[0m\u001b[0;34m\"astype\"\u001b[0m\u001b[0;34m,\u001b[0m \u001b[0mdtype\u001b[0m\u001b[0;34m=\u001b[0m\u001b[0mdtype\u001b[0m\u001b[0;34m,\u001b[0m \u001b[0mcopy\u001b[0m\u001b[0;34m=\u001b[0m\u001b[0mcopy\u001b[0m\u001b[0;34m,\u001b[0m \u001b[0merrors\u001b[0m\u001b[0;34m=\u001b[0m\u001b[0merrors\u001b[0m\u001b[0;34m)\u001b[0m\u001b[0;34m\u001b[0m\u001b[0;34m\u001b[0m\u001b[0m\n\u001b[0m\u001b[1;32m    605\u001b[0m \u001b[0;34m\u001b[0m\u001b[0m\n\u001b[1;32m    606\u001b[0m     def convert(\n",
      "\u001b[0;32m/usr/local/lib/python3.7/dist-packages/pandas/core/internals/managers.py\u001b[0m in \u001b[0;36mapply\u001b[0;34m(self, f, align_keys, **kwargs)\u001b[0m\n\u001b[1;32m    407\u001b[0m                 \u001b[0mapplied\u001b[0m \u001b[0;34m=\u001b[0m \u001b[0mb\u001b[0m\u001b[0;34m.\u001b[0m\u001b[0mapply\u001b[0m\u001b[0;34m(\u001b[0m\u001b[0mf\u001b[0m\u001b[0;34m,\u001b[0m \u001b[0;34m**\u001b[0m\u001b[0mkwargs\u001b[0m\u001b[0;34m)\u001b[0m\u001b[0;34m\u001b[0m\u001b[0;34m\u001b[0m\u001b[0m\n\u001b[1;32m    408\u001b[0m             \u001b[0;32melse\u001b[0m\u001b[0;34m:\u001b[0m\u001b[0;34m\u001b[0m\u001b[0;34m\u001b[0m\u001b[0m\n\u001b[0;32m--> 409\u001b[0;31m                 \u001b[0mapplied\u001b[0m \u001b[0;34m=\u001b[0m \u001b[0mgetattr\u001b[0m\u001b[0;34m(\u001b[0m\u001b[0mb\u001b[0m\u001b[0;34m,\u001b[0m \u001b[0mf\u001b[0m\u001b[0;34m)\u001b[0m\u001b[0;34m(\u001b[0m\u001b[0;34m**\u001b[0m\u001b[0mkwargs\u001b[0m\u001b[0;34m)\u001b[0m\u001b[0;34m\u001b[0m\u001b[0;34m\u001b[0m\u001b[0m\n\u001b[0m\u001b[1;32m    410\u001b[0m             \u001b[0mresult_blocks\u001b[0m \u001b[0;34m=\u001b[0m \u001b[0m_extend_blocks\u001b[0m\u001b[0;34m(\u001b[0m\u001b[0mapplied\u001b[0m\u001b[0;34m,\u001b[0m \u001b[0mresult_blocks\u001b[0m\u001b[0;34m)\u001b[0m\u001b[0;34m\u001b[0m\u001b[0;34m\u001b[0m\u001b[0m\n\u001b[1;32m    411\u001b[0m \u001b[0;34m\u001b[0m\u001b[0m\n",
      "\u001b[0;32m/usr/local/lib/python3.7/dist-packages/pandas/core/internals/blocks.py\u001b[0m in \u001b[0;36mastype\u001b[0;34m(self, dtype, copy, errors)\u001b[0m\n\u001b[1;32m    593\u001b[0m             \u001b[0mvals1d\u001b[0m \u001b[0;34m=\u001b[0m \u001b[0mvalues\u001b[0m\u001b[0;34m.\u001b[0m\u001b[0mravel\u001b[0m\u001b[0;34m(\u001b[0m\u001b[0;34m)\u001b[0m\u001b[0;34m\u001b[0m\u001b[0;34m\u001b[0m\u001b[0m\n\u001b[1;32m    594\u001b[0m             \u001b[0;32mtry\u001b[0m\u001b[0;34m:\u001b[0m\u001b[0;34m\u001b[0m\u001b[0;34m\u001b[0m\u001b[0m\n\u001b[0;32m--> 595\u001b[0;31m                 \u001b[0mvalues\u001b[0m \u001b[0;34m=\u001b[0m \u001b[0mastype_nansafe\u001b[0m\u001b[0;34m(\u001b[0m\u001b[0mvals1d\u001b[0m\u001b[0;34m,\u001b[0m \u001b[0mdtype\u001b[0m\u001b[0;34m,\u001b[0m \u001b[0mcopy\u001b[0m\u001b[0;34m=\u001b[0m\u001b[0;32mTrue\u001b[0m\u001b[0;34m)\u001b[0m\u001b[0;34m\u001b[0m\u001b[0;34m\u001b[0m\u001b[0m\n\u001b[0m\u001b[1;32m    596\u001b[0m             \u001b[0;32mexcept\u001b[0m \u001b[0;34m(\u001b[0m\u001b[0mValueError\u001b[0m\u001b[0;34m,\u001b[0m \u001b[0mTypeError\u001b[0m\u001b[0;34m)\u001b[0m\u001b[0;34m:\u001b[0m\u001b[0;34m\u001b[0m\u001b[0;34m\u001b[0m\u001b[0m\n\u001b[1;32m    597\u001b[0m                 \u001b[0;31m# e.g. astype_nansafe can fail on object-dtype of strings\u001b[0m\u001b[0;34m\u001b[0m\u001b[0;34m\u001b[0m\u001b[0;34m\u001b[0m\u001b[0m\n",
      "\u001b[0;32m/usr/local/lib/python3.7/dist-packages/pandas/core/dtypes/cast.py\u001b[0m in \u001b[0;36mastype_nansafe\u001b[0;34m(arr, dtype, copy, skipna)\u001b[0m\n\u001b[1;32m    995\u001b[0m     \u001b[0;32mif\u001b[0m \u001b[0mcopy\u001b[0m \u001b[0;32mor\u001b[0m \u001b[0mis_object_dtype\u001b[0m\u001b[0;34m(\u001b[0m\u001b[0marr\u001b[0m\u001b[0;34m)\u001b[0m \u001b[0;32mor\u001b[0m \u001b[0mis_object_dtype\u001b[0m\u001b[0;34m(\u001b[0m\u001b[0mdtype\u001b[0m\u001b[0;34m)\u001b[0m\u001b[0;34m:\u001b[0m\u001b[0;34m\u001b[0m\u001b[0;34m\u001b[0m\u001b[0m\n\u001b[1;32m    996\u001b[0m         \u001b[0;31m# Explicit copy, or required since NumPy can't view from / to object.\u001b[0m\u001b[0;34m\u001b[0m\u001b[0;34m\u001b[0m\u001b[0;34m\u001b[0m\u001b[0m\n\u001b[0;32m--> 997\u001b[0;31m         \u001b[0;32mreturn\u001b[0m \u001b[0marr\u001b[0m\u001b[0;34m.\u001b[0m\u001b[0mastype\u001b[0m\u001b[0;34m(\u001b[0m\u001b[0mdtype\u001b[0m\u001b[0;34m,\u001b[0m \u001b[0mcopy\u001b[0m\u001b[0;34m=\u001b[0m\u001b[0;32mTrue\u001b[0m\u001b[0;34m)\u001b[0m\u001b[0;34m\u001b[0m\u001b[0;34m\u001b[0m\u001b[0m\n\u001b[0m\u001b[1;32m    998\u001b[0m \u001b[0;34m\u001b[0m\u001b[0m\n\u001b[1;32m    999\u001b[0m     \u001b[0;32mreturn\u001b[0m \u001b[0marr\u001b[0m\u001b[0;34m.\u001b[0m\u001b[0mview\u001b[0m\u001b[0;34m(\u001b[0m\u001b[0mdtype\u001b[0m\u001b[0;34m)\u001b[0m\u001b[0;34m\u001b[0m\u001b[0;34m\u001b[0m\u001b[0m\n",
      "\u001b[0;31mValueError\u001b[0m: could not convert string to float: '-'"
     ]
    }
   ],
   "source": [
    "combine_df[\"Utilization%.12\"] = combine_df[\"Utilization%.12\"].astype(float)"
   ]
  },
  {
   "cell_type": "markdown",
   "metadata": {
    "id": "uT34eEwNWZq7"
   },
   "source": [
    "This is giving error because it contains \"-\". So let me first deal with it."
   ]
  },
  {
   "cell_type": "code",
   "execution_count": null,
   "metadata": {
    "colab": {
     "base_uri": "https://localhost:8080/",
     "height": 506
    },
    "executionInfo": {
     "elapsed": 340,
     "status": "ok",
     "timestamp": 1624701699808,
     "user": {
      "displayName": "ronak lathiya",
      "photoUrl": "",
      "userId": "13017137450409577858"
     },
     "user_tz": -330
    },
    "id": "nz6RLZFIWqJp",
    "outputId": "15fe00d2-d35a-49f2-869e-230f2b2e7400"
   },
   "outputs": [
    {
     "data": {
      "text/html": [
       "<div>\n",
       "<style scoped>\n",
       "    .dataframe tbody tr th:only-of-type {\n",
       "        vertical-align: middle;\n",
       "    }\n",
       "\n",
       "    .dataframe tbody tr th {\n",
       "        vertical-align: top;\n",
       "    }\n",
       "\n",
       "    .dataframe thead th {\n",
       "        text-align: right;\n",
       "    }\n",
       "</style>\n",
       "<table border=\"1\" class=\"dataframe\">\n",
       "  <thead>\n",
       "    <tr style=\"text-align: right;\">\n",
       "      <th></th>\n",
       "      <th>Employee No</th>\n",
       "      <th>Profit Center</th>\n",
       "      <th>Employee Name</th>\n",
       "      <th>Employee Position</th>\n",
       "      <th>Employee Location</th>\n",
       "      <th>People Group</th>\n",
       "      <th>Employee Category</th>\n",
       "      <th>Supervisor name</th>\n",
       "      <th>Join Date</th>\n",
       "      <th>Current Status</th>\n",
       "      <th>Termination Date</th>\n",
       "      <th>Total Hours.12</th>\n",
       "      <th>Total Available Hours.12</th>\n",
       "      <th>Work Hours.12</th>\n",
       "      <th>Leave Hours.12</th>\n",
       "      <th>Training Hours.12</th>\n",
       "      <th>BD Hours.12</th>\n",
       "      <th>NC Hours.12</th>\n",
       "      <th>Utilization%.12</th>\n",
       "      <th>Time With Company</th>\n",
       "    </tr>\n",
       "  </thead>\n",
       "  <tbody>\n",
       "    <tr>\n",
       "      <th>47</th>\n",
       "      <td>57</td>\n",
       "      <td>PC - 3</td>\n",
       "      <td>CELKA DORREE</td>\n",
       "      <td>LEVEL 5</td>\n",
       "      <td>LOCATION 1</td>\n",
       "      <td>CLIENT SERVICE STAFF</td>\n",
       "      <td>CONFIRMED STAFF (PART-TIME 4 HOURS)</td>\n",
       "      <td>MARINA GARNETTE</td>\n",
       "      <td>2010-08-31</td>\n",
       "      <td>ACTIVE</td>\n",
       "      <td>2018-03-31</td>\n",
       "      <td>2080</td>\n",
       "      <td>0.0</td>\n",
       "      <td>0.0</td>\n",
       "      <td>2080.0</td>\n",
       "      <td>0.0</td>\n",
       "      <td>0.0</td>\n",
       "      <td>0.0</td>\n",
       "      <td>-</td>\n",
       "      <td>2769.0</td>\n",
       "    </tr>\n",
       "    <tr>\n",
       "      <th>74</th>\n",
       "      <td>90</td>\n",
       "      <td>PC - 1</td>\n",
       "      <td>SIBEL WRENNIE</td>\n",
       "      <td>LEVEL 5</td>\n",
       "      <td>LOCATION 3</td>\n",
       "      <td>CLIENT SERVICE STAFF</td>\n",
       "      <td>RESIGNED</td>\n",
       "      <td>RINA DEBEE</td>\n",
       "      <td>2011-06-30</td>\n",
       "      <td>RESIGNED</td>\n",
       "      <td>2017-04-30</td>\n",
       "      <td>144</td>\n",
       "      <td>0.0</td>\n",
       "      <td>0.0</td>\n",
       "      <td>144.0</td>\n",
       "      <td>0.0</td>\n",
       "      <td>0.0</td>\n",
       "      <td>16.0</td>\n",
       "      <td>-</td>\n",
       "      <td>2131.0</td>\n",
       "    </tr>\n",
       "    <tr>\n",
       "      <th>129</th>\n",
       "      <td>164</td>\n",
       "      <td>PC - 3</td>\n",
       "      <td>BRITTNEY DRUSIE</td>\n",
       "      <td>LEVEL 6</td>\n",
       "      <td>LOCATION 1</td>\n",
       "      <td>CLIENT SERVICE STAFF</td>\n",
       "      <td>RESIGNED</td>\n",
       "      <td>Cordey Sofia</td>\n",
       "      <td>2013-05-31</td>\n",
       "      <td>RESIGNED</td>\n",
       "      <td>2016-05-31</td>\n",
       "      <td>0</td>\n",
       "      <td>0.0</td>\n",
       "      <td>-32.0</td>\n",
       "      <td>0.0</td>\n",
       "      <td>0.0</td>\n",
       "      <td>0.0</td>\n",
       "      <td>0.0</td>\n",
       "      <td>-</td>\n",
       "      <td>1096.0</td>\n",
       "    </tr>\n",
       "    <tr>\n",
       "      <th>955</th>\n",
       "      <td>1090</td>\n",
       "      <td>PC - 3</td>\n",
       "      <td>SABRINA OLIVER</td>\n",
       "      <td>LEVEL 5</td>\n",
       "      <td>LOCATION 1</td>\n",
       "      <td>CLIENT SERVICE STAFF</td>\n",
       "      <td>STAFF ON PROBATION</td>\n",
       "      <td>NIKOLIA SHIRL</td>\n",
       "      <td>2018-03-31</td>\n",
       "      <td>ACTIVE</td>\n",
       "      <td>2018-03-31</td>\n",
       "      <td>120</td>\n",
       "      <td>0.0</td>\n",
       "      <td>0.0</td>\n",
       "      <td>0.0</td>\n",
       "      <td>120.0</td>\n",
       "      <td>0.0</td>\n",
       "      <td>0.0</td>\n",
       "      <td>-</td>\n",
       "      <td>0.0</td>\n",
       "    </tr>\n",
       "    <tr>\n",
       "      <th>967</th>\n",
       "      <td>1102</td>\n",
       "      <td>PC - 1</td>\n",
       "      <td>DRAVEN AUSTIN</td>\n",
       "      <td>LEVEL 8</td>\n",
       "      <td>LOCATION 3</td>\n",
       "      <td>CLIENT SERVICE STAFF</td>\n",
       "      <td>STAFF ON PROBATION</td>\n",
       "      <td>LUCIANA ERIKA</td>\n",
       "      <td>2018-03-31</td>\n",
       "      <td>ACTIVE</td>\n",
       "      <td>2018-03-31</td>\n",
       "      <td>80</td>\n",
       "      <td>0.0</td>\n",
       "      <td>0.0</td>\n",
       "      <td>0.0</td>\n",
       "      <td>80.0</td>\n",
       "      <td>0.0</td>\n",
       "      <td>0.0</td>\n",
       "      <td>-</td>\n",
       "      <td>0.0</td>\n",
       "    </tr>\n",
       "    <tr>\n",
       "      <th>971</th>\n",
       "      <td>1105</td>\n",
       "      <td>PC - 3</td>\n",
       "      <td>ANDY MEJIA</td>\n",
       "      <td>LEVEL 7</td>\n",
       "      <td>LOCATION 1</td>\n",
       "      <td>CLIENT SERVICE STAFF</td>\n",
       "      <td>STAFF ON PROBATION</td>\n",
       "      <td>TIENA HATTI</td>\n",
       "      <td>2018-03-31</td>\n",
       "      <td>ACTIVE</td>\n",
       "      <td>2018-03-31</td>\n",
       "      <td>40</td>\n",
       "      <td>0.0</td>\n",
       "      <td>0.0</td>\n",
       "      <td>8.0</td>\n",
       "      <td>32.0</td>\n",
       "      <td>0.0</td>\n",
       "      <td>0.0</td>\n",
       "      <td>-</td>\n",
       "      <td>0.0</td>\n",
       "    </tr>\n",
       "  </tbody>\n",
       "</table>\n",
       "</div>"
      ],
      "text/plain": [
       "     Employee No Profit Center  ... Utilization%.12 Time With Company\n",
       "47            57        PC - 3  ...               -            2769.0\n",
       "74            90        PC - 1  ...               -            2131.0\n",
       "129          164        PC - 3  ...               -            1096.0\n",
       "955         1090        PC - 3  ...               -               0.0\n",
       "967         1102        PC - 1  ...               -               0.0\n",
       "971         1105        PC - 3  ...               -               0.0\n",
       "\n",
       "[6 rows x 20 columns]"
      ]
     },
     "execution_count": 53,
     "metadata": {
      "tags": []
     },
     "output_type": "execute_result"
    }
   ],
   "source": [
    "combine_df[combine_df[\"Utilization%.12\"]==\"-\"]"
   ]
  },
  {
   "cell_type": "markdown",
   "metadata": {
    "id": "KXwRZa9UXJZi"
   },
   "source": [
    "We will replace \"-\" with 0 as their Work Hours are 0. And We will drop Employee No 164 as it is wrongly placed in year 17-18 data. Employee No 164 has retired in year 16 so it will also be present in 16-17 data, that we have already combined."
   ]
  },
  {
   "cell_type": "code",
   "execution_count": null,
   "metadata": {
    "id": "yYS1VOZxWyhp"
   },
   "outputs": [],
   "source": [
    "combine_df = combine_df.drop(combine_df[(combine_df[\"Employee No\"]==164) & (combine_df[\"Utilization%.12\"]==\"-\")].index)"
   ]
  },
  {
   "cell_type": "code",
   "execution_count": null,
   "metadata": {
    "id": "P4zUKHlaeBI1"
   },
   "outputs": [],
   "source": [
    "combine_df[\"Utilization%.12\"]=combine_df[\"Utilization%.12\"].replace(\"-\",\"0\")"
   ]
  },
  {
   "cell_type": "code",
   "execution_count": null,
   "metadata": {
    "id": "NK7tAnrde8Qg"
   },
   "outputs": [],
   "source": [
    "combine_df[\"Utilization%.12\"] = combine_df[\"Utilization%.12\"].astype(float)"
   ]
  },
  {
   "cell_type": "code",
   "execution_count": null,
   "metadata": {
    "colab": {
     "base_uri": "https://localhost:8080/",
     "height": 329
    },
    "executionInfo": {
     "elapsed": 508,
     "status": "ok",
     "timestamp": 1624701711518,
     "user": {
      "displayName": "ronak lathiya",
      "photoUrl": "",
      "userId": "13017137450409577858"
     },
     "user_tz": -330
    },
    "id": "LjjBzUSze-vg",
    "outputId": "35c4b02c-c8a5-4e93-c1e4-37524f7e13ca"
   },
   "outputs": [
    {
     "data": {
      "text/html": [
       "<div>\n",
       "<style scoped>\n",
       "    .dataframe tbody tr th:only-of-type {\n",
       "        vertical-align: middle;\n",
       "    }\n",
       "\n",
       "    .dataframe tbody tr th {\n",
       "        vertical-align: top;\n",
       "    }\n",
       "\n",
       "    .dataframe thead th {\n",
       "        text-align: right;\n",
       "    }\n",
       "</style>\n",
       "<table border=\"1\" class=\"dataframe\">\n",
       "  <thead>\n",
       "    <tr style=\"text-align: right;\">\n",
       "      <th></th>\n",
       "      <th>Employee No</th>\n",
       "      <th>Total Hours.12</th>\n",
       "      <th>Total Available Hours.12</th>\n",
       "      <th>Work Hours.12</th>\n",
       "      <th>Leave Hours.12</th>\n",
       "      <th>Training Hours.12</th>\n",
       "      <th>BD Hours.12</th>\n",
       "      <th>NC Hours.12</th>\n",
       "      <th>Utilization%.12</th>\n",
       "      <th>Time With Company</th>\n",
       "    </tr>\n",
       "  </thead>\n",
       "  <tbody>\n",
       "    <tr>\n",
       "      <th>count</th>\n",
       "      <td>1105.000000</td>\n",
       "      <td>1105.000000</td>\n",
       "      <td>1105.000000</td>\n",
       "      <td>1105.000000</td>\n",
       "      <td>1105.000000</td>\n",
       "      <td>1105.000000</td>\n",
       "      <td>1105.000000</td>\n",
       "      <td>1105.000000</td>\n",
       "      <td>1105.000000</td>\n",
       "      <td>1105.000000</td>\n",
       "    </tr>\n",
       "    <tr>\n",
       "      <th>mean</th>\n",
       "      <td>558.866063</td>\n",
       "      <td>1556.039819</td>\n",
       "      <td>1354.769747</td>\n",
       "      <td>1033.408887</td>\n",
       "      <td>174.693213</td>\n",
       "      <td>27.309891</td>\n",
       "      <td>59.286425</td>\n",
       "      <td>334.814344</td>\n",
       "      <td>0.721473</td>\n",
       "      <td>910.724887</td>\n",
       "    </tr>\n",
       "    <tr>\n",
       "      <th>std</th>\n",
       "      <td>320.151442</td>\n",
       "      <td>676.470480</td>\n",
       "      <td>603.626485</td>\n",
       "      <td>647.752890</td>\n",
       "      <td>163.911647</td>\n",
       "      <td>29.085942</td>\n",
       "      <td>245.893043</td>\n",
       "      <td>382.116307</td>\n",
       "      <td>0.366402</td>\n",
       "      <td>943.939789</td>\n",
       "    </tr>\n",
       "    <tr>\n",
       "      <th>min</th>\n",
       "      <td>1.000000</td>\n",
       "      <td>8.000000</td>\n",
       "      <td>-40.000000</td>\n",
       "      <td>-42.000000</td>\n",
       "      <td>0.000000</td>\n",
       "      <td>0.000000</td>\n",
       "      <td>0.000000</td>\n",
       "      <td>-8.000000</td>\n",
       "      <td>-0.049180</td>\n",
       "      <td>0.000000</td>\n",
       "    </tr>\n",
       "    <tr>\n",
       "      <th>25%</th>\n",
       "      <td>283.000000</td>\n",
       "      <td>1000.000000</td>\n",
       "      <td>850.000000</td>\n",
       "      <td>448.000000</td>\n",
       "      <td>80.000000</td>\n",
       "      <td>4.000000</td>\n",
       "      <td>0.000000</td>\n",
       "      <td>65.000000</td>\n",
       "      <td>0.529412</td>\n",
       "      <td>274.000000</td>\n",
       "    </tr>\n",
       "    <tr>\n",
       "      <th>50%</th>\n",
       "      <td>560.000000</td>\n",
       "      <td>2040.000000</td>\n",
       "      <td>1687.000000</td>\n",
       "      <td>1116.000000</td>\n",
       "      <td>168.000000</td>\n",
       "      <td>20.000000</td>\n",
       "      <td>0.000000</td>\n",
       "      <td>210.000000</td>\n",
       "      <td>0.834081</td>\n",
       "      <td>639.000000</td>\n",
       "    </tr>\n",
       "    <tr>\n",
       "      <th>75%</th>\n",
       "      <td>835.000000</td>\n",
       "      <td>2080.000000</td>\n",
       "      <td>1824.000000</td>\n",
       "      <td>1600.000000</td>\n",
       "      <td>240.000000</td>\n",
       "      <td>39.000000</td>\n",
       "      <td>0.000000</td>\n",
       "      <td>456.000000</td>\n",
       "      <td>0.959596</td>\n",
       "      <td>1127.000000</td>\n",
       "    </tr>\n",
       "    <tr>\n",
       "      <th>max</th>\n",
       "      <td>1111.000000</td>\n",
       "      <td>2088.000000</td>\n",
       "      <td>2080.000000</td>\n",
       "      <td>2669.000000</td>\n",
       "      <td>2080.000000</td>\n",
       "      <td>160.000000</td>\n",
       "      <td>2015.000000</td>\n",
       "      <td>2257.000000</td>\n",
       "      <td>6.000000</td>\n",
       "      <td>6879.000000</td>\n",
       "    </tr>\n",
       "  </tbody>\n",
       "</table>\n",
       "</div>"
      ],
      "text/plain": [
       "       Employee No  Total Hours.12  ...  Utilization%.12  Time With Company\n",
       "count  1105.000000     1105.000000  ...      1105.000000        1105.000000\n",
       "mean    558.866063     1556.039819  ...         0.721473         910.724887\n",
       "std     320.151442      676.470480  ...         0.366402         943.939789\n",
       "min       1.000000        8.000000  ...        -0.049180           0.000000\n",
       "25%     283.000000     1000.000000  ...         0.529412         274.000000\n",
       "50%     560.000000     2040.000000  ...         0.834081         639.000000\n",
       "75%     835.000000     2080.000000  ...         0.959596        1127.000000\n",
       "max    1111.000000     2088.000000  ...         6.000000        6879.000000\n",
       "\n",
       "[8 rows x 10 columns]"
      ]
     },
     "execution_count": 57,
     "metadata": {
      "tags": []
     },
     "output_type": "execute_result"
    }
   ],
   "source": [
    "combine_df.describe()"
   ]
  },
  {
   "cell_type": "markdown",
   "metadata": {
    "id": "W-8bUVAyf_R0"
   },
   "source": [
    "I need to divide all hours variables by Total Hours.12 , reason is, suppose if  employee resign in starting of the year then definitely all hours variables will have low value for that employee. So, I need relative variables which can measure proportion of hours variables respect to total hours. For that i will divide all hours variables by total hours. "
   ]
  },
  {
   "cell_type": "code",
   "execution_count": null,
   "metadata": {
    "colab": {
     "base_uri": "https://localhost:8080/"
    },
    "executionInfo": {
     "elapsed": 343,
     "status": "ok",
     "timestamp": 1624701721948,
     "user": {
      "displayName": "ronak lathiya",
      "photoUrl": "",
      "userId": "13017137450409577858"
     },
     "user_tz": -330
    },
    "id": "VcIk5fnkkfmU",
    "outputId": "34ffcead-276d-4279-d366-8528b24ee74e"
   },
   "outputs": [
    {
     "data": {
      "text/plain": [
       "Index(['Employee No', 'Profit Center', 'Employee Name', 'Employee Position',\n",
       "       'Employee Location', 'People Group', 'Employee Category',\n",
       "       'Supervisor name', 'Join Date', 'Current Status', 'Termination Date',\n",
       "       'Total Hours.12', 'Total Available Hours.12', 'Work Hours.12',\n",
       "       'Leave Hours.12', 'Training Hours.12', 'BD Hours.12', 'NC Hours.12',\n",
       "       'Utilization%.12', 'Time With Company'],\n",
       "      dtype='object')"
      ]
     },
     "execution_count": 58,
     "metadata": {
      "tags": []
     },
     "output_type": "execute_result"
    }
   ],
   "source": [
    "combine_df.columns"
   ]
  },
  {
   "cell_type": "code",
   "execution_count": null,
   "metadata": {
    "id": "MKZ2fIHNlb6R"
   },
   "outputs": [],
   "source": [
    "numeric_variables = [ 'Total Available Hours.12', 'Work Hours.12','Leave Hours.12', 'Training Hours.12', 'BD Hours.12', 'NC Hours.12']"
   ]
  },
  {
   "cell_type": "code",
   "execution_count": null,
   "metadata": {
    "id": "lxzMNAh8mS0R"
   },
   "outputs": [],
   "source": [
    "for i in numeric_variables:\n",
    "    combine_df[i] = combine_df[i]/combine_df[\"Total Hours.12\"]"
   ]
  },
  {
   "cell_type": "code",
   "execution_count": null,
   "metadata": {
    "colab": {
     "base_uri": "https://localhost:8080/",
     "height": 425
    },
    "executionInfo": {
     "elapsed": 435,
     "status": "ok",
     "timestamp": 1624701730412,
     "user": {
      "displayName": "ronak lathiya",
      "photoUrl": "",
      "userId": "13017137450409577858"
     },
     "user_tz": -330
    },
    "id": "CXyfTEdOnX8A",
    "outputId": "2b7b6b60-aec0-415c-de0c-9ef21563829e"
   },
   "outputs": [
    {
     "data": {
      "text/html": [
       "<div>\n",
       "<style scoped>\n",
       "    .dataframe tbody tr th:only-of-type {\n",
       "        vertical-align: middle;\n",
       "    }\n",
       "\n",
       "    .dataframe tbody tr th {\n",
       "        vertical-align: top;\n",
       "    }\n",
       "\n",
       "    .dataframe thead th {\n",
       "        text-align: right;\n",
       "    }\n",
       "</style>\n",
       "<table border=\"1\" class=\"dataframe\">\n",
       "  <thead>\n",
       "    <tr style=\"text-align: right;\">\n",
       "      <th></th>\n",
       "      <th>Employee No</th>\n",
       "      <th>Profit Center</th>\n",
       "      <th>Employee Name</th>\n",
       "      <th>Employee Position</th>\n",
       "      <th>Employee Location</th>\n",
       "      <th>People Group</th>\n",
       "      <th>Employee Category</th>\n",
       "      <th>Supervisor name</th>\n",
       "      <th>Join Date</th>\n",
       "      <th>Current Status</th>\n",
       "      <th>Termination Date</th>\n",
       "      <th>Total Hours.12</th>\n",
       "      <th>Total Available Hours.12</th>\n",
       "      <th>Work Hours.12</th>\n",
       "      <th>Leave Hours.12</th>\n",
       "      <th>Training Hours.12</th>\n",
       "      <th>BD Hours.12</th>\n",
       "      <th>NC Hours.12</th>\n",
       "      <th>Utilization%.12</th>\n",
       "      <th>Time With Company</th>\n",
       "    </tr>\n",
       "  </thead>\n",
       "  <tbody>\n",
       "    <tr>\n",
       "      <th>0</th>\n",
       "      <td>1</td>\n",
       "      <td>PC - 1</td>\n",
       "      <td>ROCHETTE JILLEEN</td>\n",
       "      <td>LEVEL 1</td>\n",
       "      <td>LOCATION 3</td>\n",
       "      <td>CLIENT SERVICE STAFF</td>\n",
       "      <td>SVP/VP</td>\n",
       "      <td>IDALINA LAURAINE</td>\n",
       "      <td>2000-09-30</td>\n",
       "      <td>ACTIVE</td>\n",
       "      <td>2018-03-31</td>\n",
       "      <td>2080</td>\n",
       "      <td>0.896394</td>\n",
       "      <td>0.215385</td>\n",
       "      <td>0.090385</td>\n",
       "      <td>0.013221</td>\n",
       "      <td>0.688221</td>\n",
       "      <td>0.008654</td>\n",
       "      <td>0.240279</td>\n",
       "      <td>6391.0</td>\n",
       "    </tr>\n",
       "    <tr>\n",
       "      <th>1</th>\n",
       "      <td>2</td>\n",
       "      <td>PC - 2</td>\n",
       "      <td>DARYL NATALINA</td>\n",
       "      <td>LEVEL 2</td>\n",
       "      <td>LOCATION 7</td>\n",
       "      <td>CLIENT SERVICE STAFF</td>\n",
       "      <td>SVP/VP</td>\n",
       "      <td>IDALINA LAURAINE</td>\n",
       "      <td>1999-05-31</td>\n",
       "      <td>ACTIVE</td>\n",
       "      <td>2018-03-31</td>\n",
       "      <td>2080</td>\n",
       "      <td>0.898077</td>\n",
       "      <td>0.347115</td>\n",
       "      <td>0.100000</td>\n",
       "      <td>0.001923</td>\n",
       "      <td>0.288702</td>\n",
       "      <td>0.286779</td>\n",
       "      <td>0.386510</td>\n",
       "      <td>6879.0</td>\n",
       "    </tr>\n",
       "    <tr>\n",
       "      <th>2</th>\n",
       "      <td>3</td>\n",
       "      <td>PC - 2</td>\n",
       "      <td>ANNNORA GABRIELLE</td>\n",
       "      <td>LEVEL 2</td>\n",
       "      <td>LOCATION 7</td>\n",
       "      <td>CLIENT SERVICE STAFF</td>\n",
       "      <td>SVP/VP</td>\n",
       "      <td>IDALINA LAURAINE</td>\n",
       "      <td>2001-01-31</td>\n",
       "      <td>ACTIVE</td>\n",
       "      <td>2018-03-31</td>\n",
       "      <td>2080</td>\n",
       "      <td>0.826923</td>\n",
       "      <td>0.563942</td>\n",
       "      <td>0.162500</td>\n",
       "      <td>0.010577</td>\n",
       "      <td>0.222837</td>\n",
       "      <td>0.171875</td>\n",
       "      <td>0.681977</td>\n",
       "      <td>6268.0</td>\n",
       "    </tr>\n",
       "    <tr>\n",
       "      <th>3</th>\n",
       "      <td>4</td>\n",
       "      <td>PC - 3</td>\n",
       "      <td>BARBEE JOEY</td>\n",
       "      <td>LEVEL 2</td>\n",
       "      <td>LOCATION 1</td>\n",
       "      <td>CLIENT SERVICE STAFF</td>\n",
       "      <td>RESIGNED</td>\n",
       "      <td>IDALINA LAURAINE</td>\n",
       "      <td>2000-09-30</td>\n",
       "      <td>RESIGNED</td>\n",
       "      <td>2018-02-28</td>\n",
       "      <td>1840</td>\n",
       "      <td>0.891576</td>\n",
       "      <td>0.148370</td>\n",
       "      <td>0.106522</td>\n",
       "      <td>0.001902</td>\n",
       "      <td>0.739674</td>\n",
       "      <td>0.013043</td>\n",
       "      <td>0.166413</td>\n",
       "      <td>6360.0</td>\n",
       "    </tr>\n",
       "    <tr>\n",
       "      <th>4</th>\n",
       "      <td>6</td>\n",
       "      <td>PC - 1</td>\n",
       "      <td>JORDANNA DANYA</td>\n",
       "      <td>LEVEL 2</td>\n",
       "      <td>LOCATION 3</td>\n",
       "      <td>CLIENT SERVICE STAFF</td>\n",
       "      <td>SVP/VP</td>\n",
       "      <td>IDALINA LAURAINE</td>\n",
       "      <td>2002-06-30</td>\n",
       "      <td>ACTIVE</td>\n",
       "      <td>2018-03-31</td>\n",
       "      <td>2080</td>\n",
       "      <td>0.871154</td>\n",
       "      <td>0.205769</td>\n",
       "      <td>0.125000</td>\n",
       "      <td>0.003846</td>\n",
       "      <td>0.594712</td>\n",
       "      <td>0.225962</td>\n",
       "      <td>0.236203</td>\n",
       "      <td>5753.0</td>\n",
       "    </tr>\n",
       "  </tbody>\n",
       "</table>\n",
       "</div>"
      ],
      "text/plain": [
       "   Employee No Profit Center  ... Utilization%.12 Time With Company\n",
       "0            1        PC - 1  ...        0.240279            6391.0\n",
       "1            2        PC - 2  ...        0.386510            6879.0\n",
       "2            3        PC - 2  ...        0.681977            6268.0\n",
       "3            4        PC - 3  ...        0.166413            6360.0\n",
       "4            6        PC - 1  ...        0.236203            5753.0\n",
       "\n",
       "[5 rows x 20 columns]"
      ]
     },
     "execution_count": 61,
     "metadata": {
      "tags": []
     },
     "output_type": "execute_result"
    }
   ],
   "source": [
    "combine_df.head()"
   ]
  },
  {
   "cell_type": "markdown",
   "metadata": {
    "id": "MOPcTYh4sYEF"
   },
   "source": [
    "Let me drop Total Hours.12 column as it is not useful anymore."
   ]
  },
  {
   "cell_type": "code",
   "execution_count": null,
   "metadata": {
    "id": "Xo6lRZnEqsGo"
   },
   "outputs": [],
   "source": [
    "combine_df.drop([\"Total Hours.12\"],axis=1,inplace=True)"
   ]
  },
  {
   "cell_type": "markdown",
   "metadata": {
    "id": "ksSK1JTav1yT"
   },
   "source": [
    "I will also drop columns : Join Date, Termination Date, Employee Category. We have already considered join date and termination date by calculating Time With Company. Also Time With Company explains Employee Category as less time indicates staff on probation , more time indicates confirmed employee. Where as categories like \"Serving Notice Period\", \"Resigned\" in Employee category explained by Current Status."
   ]
  },
  {
   "cell_type": "code",
   "execution_count": null,
   "metadata": {
    "id": "gGDScznqs-9L"
   },
   "outputs": [],
   "source": [
    "combine_df.drop([\"Join Date\",\"Termination Date\",\"Employee Category\"],axis=1,inplace=True)"
   ]
  },
  {
   "cell_type": "markdown",
   "metadata": {
    "id": "SrO5D3_PyE2u"
   },
   "source": [
    "Let me map our target variable(Current Status). So that we can proceed for EDA."
   ]
  },
  {
   "cell_type": "code",
   "execution_count": null,
   "metadata": {
    "id": "8fUJY-bzx6wY"
   },
   "outputs": [],
   "source": [
    "combine_df[\"Current Status\"] = combine_df[\"Current Status\"].map({\"ACTIVE\":0,\"RESIGNED\":1})"
   ]
  },
  {
   "cell_type": "markdown",
   "metadata": {
    "id": "0bGv4x9kygyF"
   },
   "source": [
    "# EDA"
   ]
  },
  {
   "cell_type": "code",
   "execution_count": null,
   "metadata": {
    "id": "Dce1GPPoyco-"
   },
   "outputs": [],
   "source": [
    "categorical_colnames = ['Profit Center','Employee Position','Employee Location','People Group','Supervisor name']"
   ]
  },
  {
   "cell_type": "code",
   "execution_count": null,
   "metadata": {
    "colab": {
     "base_uri": "https://localhost:8080/"
    },
    "executionInfo": {
     "elapsed": 330,
     "status": "ok",
     "timestamp": 1624701752712,
     "user": {
      "displayName": "ronak lathiya",
      "photoUrl": "",
      "userId": "13017137450409577858"
     },
     "user_tz": -330
    },
    "id": "mRvNuL_V3NSv",
    "outputId": "23a1c278-0873-4f60-f34c-5796ad2fa271"
   },
   "outputs": [
    {
     "name": "stdout",
     "output_type": "stream",
     "text": [
      "PC - 3     427\n",
      "PC - 2     342\n",
      "PC - 1     285\n",
      "PC - 5      29\n",
      "PC - 6      18\n",
      "PC - 7       2\n",
      "PC - 11      1\n",
      "PC - 10      1\n",
      "Name: Profit Center, dtype: int64\n",
      "LEVEL 7     363\n",
      "LEVEL 8     325\n",
      "LEVEL 6     228\n",
      "LEVEL 5      99\n",
      "LEVEL 4      48\n",
      "LEVEL 3      20\n",
      "LEVEL 2      11\n",
      "LEVEL A1      3\n",
      "LEVEL A2      3\n",
      "LEVEL A3      3\n",
      "LEVEL 10      1\n",
      "LEVEL 1       1\n",
      "Name: Employee Position, dtype: int64\n",
      "LOCATION 1    346\n",
      "LOCATION 7    297\n",
      "LOCATION 3    246\n",
      "LOCATION 9     61\n",
      "LOCATION 8     51\n",
      "LOCATION 2     47\n",
      "LOCATION 4     41\n",
      "LOCATION 6      8\n",
      "LOCATION 5      8\n",
      "Name: Employee Location, dtype: int64\n",
      "CLIENT SERVICE STAFF    1095\n",
      "SUPPORT STAFF             10\n",
      "Name: People Group, dtype: int64\n",
      "CACILIA AIMEE      20\n",
      "HEDI ELNA          20\n",
      "TALLIA EYDE        17\n",
      "MYRTIE BRANA       17\n",
      "JOLYN BRINEY       16\n",
      "                   ..\n",
      "Pamelina Shalna     1\n",
      "Eydie Francine      1\n",
      "Barbee Joey         1\n",
      "CHERRY FANCIE       1\n",
      "LIBBEY RITA         1\n",
      "Name: Supervisor name, Length: 158, dtype: int64\n"
     ]
    }
   ],
   "source": [
    "for i in categorical_colnames:\n",
    "    print(combine_df[i].value_counts())"
   ]
  },
  {
   "cell_type": "markdown",
   "metadata": {
    "id": "fsdhqUIz44fX"
   },
   "source": [
    "As we have seen certain categories in categorical variables have vew few observations. So we will merge these categories into new category \"OTHERS\"."
   ]
  },
  {
   "cell_type": "code",
   "execution_count": null,
   "metadata": {
    "id": "FG5EwvQW4wy3"
   },
   "outputs": [],
   "source": [
    "for i in categorical_colnames:    # this will pick categorical variable one by one from categorical_colnames\n",
    "    categories_name = combine_df[i].value_counts().index   # this will store categories of picked categorical variable\n",
    "    low_value_categories = []  \n",
    "    for j in categories_name:    # this will pick categories one by one for picked categorical variable\n",
    "        if combine_df[i].value_counts()[j] <=3:\n",
    "           low_value_categories.append(j)    # this will store categories which has observations less than or equal to 3\n",
    "    for k in low_value_categories:           \n",
    "        combine_df[i][combine_df[i]==k]=\"OTHERS\"  # this will replace categories in low_value_categories with \"OTHERS\""
   ]
  },
  {
   "cell_type": "code",
   "execution_count": null,
   "metadata": {
    "colab": {
     "base_uri": "https://localhost:8080/"
    },
    "executionInfo": {
     "elapsed": 324,
     "status": "ok",
     "timestamp": 1624701762258,
     "user": {
      "displayName": "ronak lathiya",
      "photoUrl": "",
      "userId": "13017137450409577858"
     },
     "user_tz": -330
    },
    "id": "vu6yI_yu82E7",
    "outputId": "3c982dcb-d876-4912-c2c6-5c3a695aa0a3"
   },
   "outputs": [
    {
     "name": "stdout",
     "output_type": "stream",
     "text": [
      "PC - 3    427\n",
      "PC - 2    342\n",
      "PC - 1    285\n",
      "PC - 5     29\n",
      "PC - 6     18\n",
      "OTHERS      4\n",
      "Name: Profit Center, dtype: int64\n",
      "LEVEL 7    363\n",
      "LEVEL 8    325\n",
      "LEVEL 6    228\n",
      "LEVEL 5     99\n",
      "LEVEL 4     48\n",
      "LEVEL 3     20\n",
      "LEVEL 2     11\n",
      "OTHERS      11\n",
      "Name: Employee Position, dtype: int64\n",
      "LOCATION 1    346\n",
      "LOCATION 7    297\n",
      "LOCATION 3    246\n",
      "LOCATION 9     61\n",
      "LOCATION 8     51\n",
      "LOCATION 2     47\n",
      "LOCATION 4     41\n",
      "LOCATION 6      8\n",
      "LOCATION 5      8\n",
      "Name: Employee Location, dtype: int64\n",
      "CLIENT SERVICE STAFF    1095\n",
      "SUPPORT STAFF             10\n",
      "Name: People Group, dtype: int64\n",
      "OTHERS               72\n",
      "CACILIA AIMEE        20\n",
      "HEDI ELNA            20\n",
      "MYRTIE BRANA         17\n",
      "TALLIA EYDE          17\n",
      "                     ..\n",
      "BLONDY TATIANIA       4\n",
      "BLAIR DINNY           4\n",
      "REFUGIA MORGANTI      4\n",
      "PAMELINA SHALNA       4\n",
      "DELORIS GABRIELLA     4\n",
      "Name: Supervisor name, Length: 119, dtype: int64\n"
     ]
    }
   ],
   "source": [
    "for i in categorical_colnames:        # just verifying things that we have applied\n",
    "    print(combine_df[i].value_counts())"
   ]
  },
  {
   "cell_type": "markdown",
   "metadata": {
    "id": "L_MZ8pNnAcSz"
   },
   "source": [
    "We are going to see target variable distribution for each category in categorical variables. So, in below code i have used estimator as mean which will indicate proportion of target 1(as our target variable is binary) in each category. If we get similar proportion for all categories in any particular categorical variable, it indicates that categorical variable is not much useful in predicting target variable and we will not select that variable in our model."
   ]
  },
  {
   "cell_type": "code",
   "execution_count": null,
   "metadata": {
    "colab": {
     "base_uri": "https://localhost:8080/",
     "height": 994
    },
    "executionInfo": {
     "elapsed": 9921,
     "status": "ok",
     "timestamp": 1624701776346,
     "user": {
      "displayName": "ronak lathiya",
      "photoUrl": "",
      "userId": "13017137450409577858"
     },
     "user_tz": -330
    },
    "id": "TIMfjrJi86yz",
    "outputId": "1ef18066-5eb0-41f6-d6e7-fd2d7c8cdc2d"
   },
   "outputs": [
    {
     "data": {
      "image/png": "[encoded data removed]",
      "text/plain": [
       "<Figure size 1800x1800 with 5 Axes>"
      ]
     },
     "metadata": {
      "needs_background": "light",
      "tags": []
     },
     "output_type": "display_data"
    }
   ],
   "source": [
    "import seaborn as sns\n",
    "plt.figure(figsize=(25,25))\n",
    "for i in range(len(categorical_colnames)):\n",
    "    plt.subplot(len(categorical_colnames)+1,1,i+1)\n",
    "    sns.barplot(x=categorical_colnames[i],y=\"Current Status\",data = combine_df,estimator = np.mean)\n",
    "    plt.xticks(rotation=90)\n",
    "plt.subplots_adjust(hspace=1)\n",
    "plt.show()"
   ]
  },
  {
   "cell_type": "markdown",
   "metadata": {
    "id": "sWSfRXauBhb5"
   },
   "source": [
    "As we can see that proportions of target variable are not constant within any categorical variable. So we are going to include this all categorical variables in our model."
   ]
  },
  {
   "cell_type": "markdown",
   "metadata": {
    "id": "Un117x-1B7M9"
   },
   "source": [
    "Let me check for distribution of numerical variables."
   ]
  },
  {
   "cell_type": "code",
   "execution_count": null,
   "metadata": {
    "colab": {
     "base_uri": "https://localhost:8080/"
    },
    "executionInfo": {
     "elapsed": 330,
     "status": "ok",
     "timestamp": 1624701781294,
     "user": {
      "displayName": "ronak lathiya",
      "photoUrl": "",
      "userId": "13017137450409577858"
     },
     "user_tz": -330
    },
    "id": "7s6r4qw4BBtD",
    "outputId": "6bdbfc1c-ce85-4b60-bae1-65ded9576147"
   },
   "outputs": [
    {
     "data": {
      "text/plain": [
       "Index(['Employee No', 'Profit Center', 'Employee Name', 'Employee Position',\n",
       "       'Employee Location', 'People Group', 'Supervisor name',\n",
       "       'Current Status', 'Total Available Hours.12', 'Work Hours.12',\n",
       "       'Leave Hours.12', 'Training Hours.12', 'BD Hours.12', 'NC Hours.12',\n",
       "       'Utilization%.12', 'Time With Company'],\n",
       "      dtype='object')"
      ]
     },
     "execution_count": 70,
     "metadata": {
      "tags": []
     },
     "output_type": "execute_result"
    }
   ],
   "source": [
    "combine_df.columns"
   ]
  },
  {
   "cell_type": "code",
   "execution_count": null,
   "metadata": {
    "id": "a7Sm5iv9C5mx"
   },
   "outputs": [],
   "source": [
    "numeric_variables = ['Total Available Hours.12', 'Work Hours.12','Leave Hours.12', 'Training Hours.12', 'BD Hours.12', 'NC Hours.12',\n",
    "                      'Utilization%.12', 'Time With Company']"
   ]
  },
  {
   "cell_type": "code",
   "execution_count": null,
   "metadata": {
    "colab": {
     "base_uri": "https://localhost:8080/",
     "height": 850
    },
    "executionInfo": {
     "elapsed": 1500,
     "status": "ok",
     "timestamp": 1624701787344,
     "user": {
      "displayName": "ronak lathiya",
      "photoUrl": "",
      "userId": "13017137450409577858"
     },
     "user_tz": -330
    },
    "id": "3nsIbO_iDHTj",
    "outputId": "9927063f-33d2-484d-8778-f7b204355f9f"
   },
   "outputs": [
    {
     "data": {
      "image/png": "[encoded data removed]",
      "text/plain": [
       "<Figure size 1080x1080 with 8 Axes>"
      ]
     },
     "metadata": {
      "needs_background": "light",
      "tags": []
     },
     "output_type": "display_data"
    }
   ],
   "source": [
    "plt.figure(figsize=(15,15))\n",
    "for i in range(len(numeric_variables)):\n",
    "    plt.subplot(3,3,i+1)\n",
    "    sns.boxplot(y=combine_df[numeric_variables[i]])\n",
    "plt.subplots_adjust(hspace=0.25)\n",
    "plt.show()"
   ]
  },
  {
   "cell_type": "markdown",
   "metadata": {
    "id": "pK6f9bGFPe2K"
   },
   "source": [
    "Let us first deal with outliers. We will substitute more extreme values with less extreme values. And we will not do anything about BD Hours as it seems that it does not contain outliers."
   ]
  },
  {
   "cell_type": "code",
   "execution_count": null,
   "metadata": {
    "id": "xaAdpZVGDtVy"
   },
   "outputs": [],
   "source": [
    "combine_df[\"Total Available Hours.12\"][combine_df[\"Total Available Hours.12\"]<0] =0"
   ]
  },
  {
   "cell_type": "code",
   "execution_count": null,
   "metadata": {
    "id": "Lwuft9kiSXFE"
   },
   "outputs": [],
   "source": [
    "combine_df[\"Work Hours.12\"][combine_df[\"Work Hours.12\"]>1.5] = 1.5"
   ]
  },
  {
   "cell_type": "code",
   "execution_count": null,
   "metadata": {
    "id": "lsKNSv52SmeR"
   },
   "outputs": [],
   "source": [
    "combine_df[\"Leave Hours.12\"][combine_df[\"Leave Hours.12\"]>0.8] = 0.8"
   ]
  },
  {
   "cell_type": "code",
   "execution_count": null,
   "metadata": {
    "id": "1j_p5NTXSzz3"
   },
   "outputs": [],
   "source": [
    "combine_df[\"Training Hours.12\"][combine_df[\"Training Hours.12\"]>0.8] = 0.8"
   ]
  },
  {
   "cell_type": "code",
   "execution_count": null,
   "metadata": {
    "id": "8dx-E9eSTFTw"
   },
   "outputs": [],
   "source": [
    "combine_df[\"NC Hours.12\"][combine_df[\"NC Hours.12\"]>1.25] = 1.25"
   ]
  },
  {
   "cell_type": "code",
   "execution_count": null,
   "metadata": {
    "id": "nFpB7zBkTPm7"
   },
   "outputs": [],
   "source": [
    "combine_df[\"Utilization%.12\"][combine_df[\"Utilization%.12\"]>1.5] = 1.5"
   ]
  },
  {
   "cell_type": "code",
   "execution_count": null,
   "metadata": {
    "id": "mTUHKbjiTgPF"
   },
   "outputs": [],
   "source": [
    "combine_df[\"Time With Company\"][combine_df[\"Time With Company\"]>5500] = 5500"
   ]
  },
  {
   "cell_type": "code",
   "execution_count": null,
   "metadata": {
    "colab": {
     "base_uri": "https://localhost:8080/",
     "height": 1000
    },
    "executionInfo": {
     "elapsed": 4928,
     "status": "ok",
     "timestamp": 1624701806368,
     "user": {
      "displayName": "ronak lathiya",
      "photoUrl": "",
      "userId": "13017137450409577858"
     },
     "user_tz": -330
    },
    "id": "_WQleYO9Twp8",
    "outputId": "74b4c7d4-4594-4f36-8f09-a94d65f973fe"
   },
   "outputs": [
    {
     "data": {
      "text/plain": [
       "<Figure size 1080x1080 with 0 Axes>"
      ]
     },
     "metadata": {
      "tags": []
     },
     "output_type": "display_data"
    },
    {
     "data": {
      "image/png": "[encoded data removed]",
      "text/plain": [
       "<Figure size 440.375x360 with 1 Axes>"
      ]
     },
     "metadata": {
      "needs_background": "light",
      "tags": []
     },
     "output_type": "display_data"
    },
    {
     "data": {
      "image/png": "[encoded data removed]",
      "text/plain": [
       "<Figure size 440.375x360 with 1 Axes>"
      ]
     },
     "metadata": {
      "needs_background": "light",
      "tags": []
     },
     "output_type": "display_data"
    },
    {
     "data": {
      "image/png": "[encoded data removed]",
      "text/plain": [
       "<Figure size 440.375x360 with 1 Axes>"
      ]
     },
     "metadata": {
      "needs_background": "light",
      "tags": []
     },
     "output_type": "display_data"
    },
    {
     "data": {
      "image/png": "[encoded data removed]",
      "text/plain": [
       "<Figure size 440.375x360 with 1 Axes>"
      ]
     },
     "metadata": {
      "needs_background": "light",
      "tags": []
     },
     "output_type": "display_data"
    },
    {
     "data": {
      "image/png": "[encoded data removed]",
      "text/plain": [
       "<Figure size 440.375x360 with 1 Axes>"
      ]
     },
     "metadata": {
      "needs_background": "light",
      "tags": []
     },
     "output_type": "display_data"
    },
    {
     "data": {
      "image/png": "[encoded data removed]",
      "text/plain": [
       "<Figure size 440.375x360 with 1 Axes>"
      ]
     },
     "metadata": {
      "needs_background": "light",
      "tags": []
     },
     "output_type": "display_data"
    },
    {
     "data": {
      "image/png": "[encoded data removed]",
      "text/plain": [
       "<Figure size 440.375x360 with 1 Axes>"
      ]
     },
     "metadata": {
      "needs_background": "light",
      "tags": []
     },
     "output_type": "display_data"
    },
    {
     "data": {
      "image/png": "[encoded data removed]",
      "text/plain": [
       "<Figure size 440.375x360 with 1 Axes>"
      ]
     },
     "metadata": {
      "needs_background": "light",
      "tags": []
     },
     "output_type": "display_data"
    }
   ],
   "source": [
    "#this code will give idea of distribution of continuous numeric variable for categories of target variable(here Current Status)\n",
    "plt.figure(figsize=(15,15))\n",
    "for i in numeric_variables:\n",
    "    t=combine_df.groupby(\"Current Status\").agg({i:[\"mean\"]}).values  #this will store mean value of numeric variable for categories of target variable\n",
    "    sns.displot(combine_df, x=i, hue=\"Current Status\",kind=\"kde\")\n",
    "    plt.axvline(t[0] ,color = \"blue\")  #this will plot mean for target category 0\n",
    "    plt.axvline(t[1] ,color = \"orange\") #this will plot mean for target category 1\n",
    "plt.subplots_adjust(hspace=0.25)\n",
    "plt.show()"
   ]
  },
  {
   "cell_type": "markdown",
   "metadata": {
    "id": "BjRQVwgwax8i"
   },
   "source": [
    "From above graph Total Available Hours and Work Hours seem useful but Utilization has been derived from using these two variables. So we will use only Utilization in our model. BD Hours,Training Hours seem less useful but we will use them in our model. Except Time With Company all remaining variables seem more or less useful and we will  use them in our model."
   ]
  },
  {
   "cell_type": "code",
   "execution_count": null,
   "metadata": {
    "id": "X0I05tp5XIZk"
   },
   "outputs": [],
   "source": [
    "combine_df.drop([\"Total Available Hours.12\",\"Work Hours.12\",\"Time With Company\"],axis=1,inplace=True)"
   ]
  },
  {
   "cell_type": "code",
   "execution_count": null,
   "metadata": {
    "colab": {
     "base_uri": "https://localhost:8080/",
     "height": 388
    },
    "executionInfo": {
     "elapsed": 1113,
     "status": "ok",
     "timestamp": 1624701869486,
     "user": {
      "displayName": "ronak lathiya",
      "photoUrl": "",
      "userId": "13017137450409577858"
     },
     "user_tz": -330
    },
    "id": "bm-Sx4I1vyf9",
    "outputId": "af55b2b3-e7ae-45e7-d822-95b4f0890589"
   },
   "outputs": [
    {
     "data": {
      "text/html": [
       "<div>\n",
       "<style scoped>\n",
       "    .dataframe tbody tr th:only-of-type {\n",
       "        vertical-align: middle;\n",
       "    }\n",
       "\n",
       "    .dataframe tbody tr th {\n",
       "        vertical-align: top;\n",
       "    }\n",
       "\n",
       "    .dataframe thead th {\n",
       "        text-align: right;\n",
       "    }\n",
       "</style>\n",
       "<table border=\"1\" class=\"dataframe\">\n",
       "  <thead>\n",
       "    <tr style=\"text-align: right;\">\n",
       "      <th></th>\n",
       "      <th>Employee No</th>\n",
       "      <th>Profit Center</th>\n",
       "      <th>Employee Name</th>\n",
       "      <th>Employee Position</th>\n",
       "      <th>Employee Location</th>\n",
       "      <th>People Group</th>\n",
       "      <th>Supervisor name</th>\n",
       "      <th>Current Status</th>\n",
       "      <th>Leave Hours.12</th>\n",
       "      <th>Training Hours.12</th>\n",
       "      <th>BD Hours.12</th>\n",
       "      <th>NC Hours.12</th>\n",
       "      <th>Utilization%.12</th>\n",
       "    </tr>\n",
       "  </thead>\n",
       "  <tbody>\n",
       "    <tr>\n",
       "      <th>0</th>\n",
       "      <td>1</td>\n",
       "      <td>PC - 1</td>\n",
       "      <td>ROCHETTE JILLEEN</td>\n",
       "      <td>OTHERS</td>\n",
       "      <td>LOCATION 3</td>\n",
       "      <td>CLIENT SERVICE STAFF</td>\n",
       "      <td>IDALINA LAURAINE</td>\n",
       "      <td>0</td>\n",
       "      <td>0.090385</td>\n",
       "      <td>0.013221</td>\n",
       "      <td>0.688221</td>\n",
       "      <td>0.008654</td>\n",
       "      <td>0.240279</td>\n",
       "    </tr>\n",
       "    <tr>\n",
       "      <th>1</th>\n",
       "      <td>2</td>\n",
       "      <td>PC - 2</td>\n",
       "      <td>DARYL NATALINA</td>\n",
       "      <td>LEVEL 2</td>\n",
       "      <td>LOCATION 7</td>\n",
       "      <td>CLIENT SERVICE STAFF</td>\n",
       "      <td>IDALINA LAURAINE</td>\n",
       "      <td>0</td>\n",
       "      <td>0.100000</td>\n",
       "      <td>0.001923</td>\n",
       "      <td>0.288702</td>\n",
       "      <td>0.286779</td>\n",
       "      <td>0.386510</td>\n",
       "    </tr>\n",
       "    <tr>\n",
       "      <th>2</th>\n",
       "      <td>3</td>\n",
       "      <td>PC - 2</td>\n",
       "      <td>ANNNORA GABRIELLE</td>\n",
       "      <td>LEVEL 2</td>\n",
       "      <td>LOCATION 7</td>\n",
       "      <td>CLIENT SERVICE STAFF</td>\n",
       "      <td>IDALINA LAURAINE</td>\n",
       "      <td>0</td>\n",
       "      <td>0.162500</td>\n",
       "      <td>0.010577</td>\n",
       "      <td>0.222837</td>\n",
       "      <td>0.171875</td>\n",
       "      <td>0.681977</td>\n",
       "    </tr>\n",
       "    <tr>\n",
       "      <th>3</th>\n",
       "      <td>4</td>\n",
       "      <td>PC - 3</td>\n",
       "      <td>BARBEE JOEY</td>\n",
       "      <td>LEVEL 2</td>\n",
       "      <td>LOCATION 1</td>\n",
       "      <td>CLIENT SERVICE STAFF</td>\n",
       "      <td>IDALINA LAURAINE</td>\n",
       "      <td>1</td>\n",
       "      <td>0.106522</td>\n",
       "      <td>0.001902</td>\n",
       "      <td>0.739674</td>\n",
       "      <td>0.013043</td>\n",
       "      <td>0.166413</td>\n",
       "    </tr>\n",
       "    <tr>\n",
       "      <th>4</th>\n",
       "      <td>6</td>\n",
       "      <td>PC - 1</td>\n",
       "      <td>JORDANNA DANYA</td>\n",
       "      <td>LEVEL 2</td>\n",
       "      <td>LOCATION 3</td>\n",
       "      <td>CLIENT SERVICE STAFF</td>\n",
       "      <td>IDALINA LAURAINE</td>\n",
       "      <td>0</td>\n",
       "      <td>0.125000</td>\n",
       "      <td>0.003846</td>\n",
       "      <td>0.594712</td>\n",
       "      <td>0.225962</td>\n",
       "      <td>0.236203</td>\n",
       "    </tr>\n",
       "  </tbody>\n",
       "</table>\n",
       "</div>"
      ],
      "text/plain": [
       "   Employee No Profit Center  ... NC Hours.12 Utilization%.12\n",
       "0            1        PC - 1  ...    0.008654        0.240279\n",
       "1            2        PC - 2  ...    0.286779        0.386510\n",
       "2            3        PC - 2  ...    0.171875        0.681977\n",
       "3            4        PC - 3  ...    0.013043        0.166413\n",
       "4            6        PC - 1  ...    0.225962        0.236203\n",
       "\n",
       "[5 rows x 13 columns]"
      ]
     },
     "execution_count": 82,
     "metadata": {
      "tags": []
     },
     "output_type": "execute_result"
    }
   ],
   "source": [
    "combine_df.head()"
   ]
  },
  {
   "cell_type": "markdown",
   "metadata": {
    "id": "5ybj6DrkzE8h"
   },
   "source": [
    "Let us also analyze for multicolinearity as algorithm like Logistic Regression get affected by multicollinearity."
   ]
  },
  {
   "cell_type": "code",
   "execution_count": null,
   "metadata": {
    "id": "9lPa0o_AxxSm"
   },
   "outputs": [],
   "source": [
    "regression_df = combine_df.loc[:,\"Leave Hours.12\":\"Utilization%.12\"] # we have taken numeric variables"
   ]
  },
  {
   "cell_type": "code",
   "execution_count": null,
   "metadata": {
    "id": "3QJgiQbhz86u"
   },
   "outputs": [],
   "source": [
    "corr_matrix = regression_df.corr() # this will give matix of correlation coefficients "
   ]
  },
  {
   "cell_type": "code",
   "execution_count": null,
   "metadata": {
    "colab": {
     "base_uri": "https://localhost:8080/",
     "height": 364
    },
    "executionInfo": {
     "elapsed": 1256,
     "status": "ok",
     "timestamp": 1624702584369,
     "user": {
      "displayName": "ronak lathiya",
      "photoUrl": "",
      "userId": "13017137450409577858"
     },
     "user_tz": -330
    },
    "id": "57raI1qL0duC",
    "outputId": "76786c13-8706-4fe4-94bf-c608aa59cd7b"
   },
   "outputs": [
    {
     "data": {
      "text/plain": [
       "<matplotlib.axes._subplots.AxesSubplot at 0x7f3324126ad0>"
      ]
     },
     "execution_count": 86,
     "metadata": {
      "tags": []
     },
     "output_type": "execute_result"
    },
    {
     "data": {
      "image/png": "[encoded data removed]",
      "text/plain": [
       "<Figure size 432x288 with 2 Axes>"
      ]
     },
     "metadata": {
      "needs_background": "light",
      "tags": []
     },
     "output_type": "display_data"
    }
   ],
   "source": [
    "sns.heatmap(corr_matrix,annot =True)"
   ]
  },
  {
   "cell_type": "markdown",
   "metadata": {
    "id": "leGkpwP-07C5"
   },
   "source": [
    "Not too high values of correlation coefficients. But let us still check VIF."
   ]
  },
  {
   "cell_type": "code",
   "execution_count": null,
   "metadata": {
    "id": "P-ELL2Lg0eBt"
   },
   "outputs": [],
   "source": [
    "from statsmodels.stats.outliers_influence import variance_inflation_factor as vif\n",
    "vif_df = pd.DataFrame()     # we have created empty dataframe \n",
    "vif_df[\"features\"] = regression_df.columns  # its first column will be features of regression_df\n",
    "vif_df[\"VIF factor\"] = [vif(regression_df.values,i) for i in range(regression_df.shape[1])]  #its second column will be vif values for features"
   ]
  },
  {
   "cell_type": "code",
   "execution_count": null,
   "metadata": {
    "colab": {
     "base_uri": "https://localhost:8080/",
     "height": 203
    },
    "executionInfo": {
     "elapsed": 313,
     "status": "ok",
     "timestamp": 1624702850033,
     "user": {
      "displayName": "ronak lathiya",
      "photoUrl": "",
      "userId": "13017137450409577858"
     },
     "user_tz": -330
    },
    "id": "CIQoExrw1Wyd",
    "outputId": "4444e720-2393-4410-c0b1-c316a73e6203"
   },
   "outputs": [
    {
     "data": {
      "text/html": [
       "<div>\n",
       "<style scoped>\n",
       "    .dataframe tbody tr th:only-of-type {\n",
       "        vertical-align: middle;\n",
       "    }\n",
       "\n",
       "    .dataframe tbody tr th {\n",
       "        vertical-align: top;\n",
       "    }\n",
       "\n",
       "    .dataframe thead th {\n",
       "        text-align: right;\n",
       "    }\n",
       "</style>\n",
       "<table border=\"1\" class=\"dataframe\">\n",
       "  <thead>\n",
       "    <tr style=\"text-align: right;\">\n",
       "      <th></th>\n",
       "      <th>features</th>\n",
       "      <th>VIF factor</th>\n",
       "    </tr>\n",
       "  </thead>\n",
       "  <tbody>\n",
       "    <tr>\n",
       "      <th>0</th>\n",
       "      <td>Leave Hours.12</td>\n",
       "      <td>2.239730</td>\n",
       "    </tr>\n",
       "    <tr>\n",
       "      <th>1</th>\n",
       "      <td>Training Hours.12</td>\n",
       "      <td>1.143936</td>\n",
       "    </tr>\n",
       "    <tr>\n",
       "      <th>2</th>\n",
       "      <td>BD Hours.12</td>\n",
       "      <td>1.040231</td>\n",
       "    </tr>\n",
       "    <tr>\n",
       "      <th>3</th>\n",
       "      <td>NC Hours.12</td>\n",
       "      <td>1.335251</td>\n",
       "    </tr>\n",
       "    <tr>\n",
       "      <th>4</th>\n",
       "      <td>Utilization%.12</td>\n",
       "      <td>2.096995</td>\n",
       "    </tr>\n",
       "  </tbody>\n",
       "</table>\n",
       "</div>"
      ],
      "text/plain": [
       "            features  VIF factor\n",
       "0     Leave Hours.12    2.239730\n",
       "1  Training Hours.12    1.143936\n",
       "2        BD Hours.12    1.040231\n",
       "3        NC Hours.12    1.335251\n",
       "4    Utilization%.12    2.096995"
      ]
     },
     "execution_count": 89,
     "metadata": {
      "tags": []
     },
     "output_type": "execute_result"
    }
   ],
   "source": [
    "vif_df"
   ]
  },
  {
   "cell_type": "markdown",
   "metadata": {
    "id": "nySI9d7Q1jPG"
   },
   "source": [
    "All VIF values under 5. No need to worry."
   ]
  },
  {
   "cell_type": "markdown",
   "metadata": {
    "id": "qvovYLa-2fzr"
   },
   "source": [
    "# Encoding"
   ]
  },
  {
   "cell_type": "markdown",
   "metadata": {
    "id": "qNzSX1-P2rDw"
   },
   "source": [
    "There are many Encoding techniques like dummy variable, label encoding , mean encoding etc. But here, i think mean encoding will make more sense. As we have seen in EDA that proportions(or you can say probability of getting Target 1 which is shown by mean value in EDA graphs) are not similar. So mean encoding can help to capture this relationship. High values for categories which has high proportion of target 1 and low values for categories which has low proportion of target 1."
   ]
  },
  {
   "cell_type": "markdown",
   "metadata": {
    "id": "Tk8F8cS_20LH"
   },
   "source": [
    "We can also use dummy but it will add many new dimensions, which will lead to more complexity."
   ]
  },
  {
   "cell_type": "markdown",
   "metadata": {
    "id": "GkdNaYFh29zT"
   },
   "source": [
    "Where as label encoding labels categories based on alphabetical order, It will produce misleading result for certain algorithms. If our categories have something rank like order and they have adjusted themselves alphabetically correspond to ranks, We could have considered label encoding."
   ]
  },
  {
   "cell_type": "code",
   "execution_count": null,
   "metadata": {
    "id": "Ye23Xwwr1hB1"
   },
   "outputs": [],
   "source": [
    "mean_colnames = ['Profit Center', 'Employee Position','Employee Location', 'People Group', 'Supervisor name']"
   ]
  },
  {
   "cell_type": "code",
   "execution_count": null,
   "metadata": {
    "id": "dTdrQ9Z33Ux8"
   },
   "outputs": [],
   "source": [
    "#mean encoding\n",
    "for i in mean_colnames:\n",
    "    Mean_Values = combine_df.groupby([i])['Current Status'].mean().to_dict() #This will make dictionary in which key will be category and value will be mean corresponding to that category.\n",
    "    combine_df[i] =combine_df[i].map(Mean_Values) #this will map categorical variables based on its dictionary generated in above step."
   ]
  },
  {
   "cell_type": "code",
   "execution_count": null,
   "metadata": {
    "colab": {
     "base_uri": "https://localhost:8080/",
     "height": 304
    },
    "executionInfo": {
     "elapsed": 334,
     "status": "ok",
     "timestamp": 1624703440806,
     "user": {
      "displayName": "ronak lathiya",
      "photoUrl": "",
      "userId": "13017137450409577858"
     },
     "user_tz": -330
    },
    "id": "YPuk4e0Y3qoJ",
    "outputId": "4ea42aa1-c055-49de-9fb1-26c0497d2834"
   },
   "outputs": [
    {
     "data": {
      "text/html": [
       "<div>\n",
       "<style scoped>\n",
       "    .dataframe tbody tr th:only-of-type {\n",
       "        vertical-align: middle;\n",
       "    }\n",
       "\n",
       "    .dataframe tbody tr th {\n",
       "        vertical-align: top;\n",
       "    }\n",
       "\n",
       "    .dataframe thead th {\n",
       "        text-align: right;\n",
       "    }\n",
       "</style>\n",
       "<table border=\"1\" class=\"dataframe\">\n",
       "  <thead>\n",
       "    <tr style=\"text-align: right;\">\n",
       "      <th></th>\n",
       "      <th>Employee No</th>\n",
       "      <th>Profit Center</th>\n",
       "      <th>Employee Name</th>\n",
       "      <th>Employee Position</th>\n",
       "      <th>Employee Location</th>\n",
       "      <th>People Group</th>\n",
       "      <th>Supervisor name</th>\n",
       "      <th>Current Status</th>\n",
       "      <th>Leave Hours.12</th>\n",
       "      <th>Training Hours.12</th>\n",
       "      <th>BD Hours.12</th>\n",
       "      <th>NC Hours.12</th>\n",
       "      <th>Utilization%.12</th>\n",
       "    </tr>\n",
       "  </thead>\n",
       "  <tbody>\n",
       "    <tr>\n",
       "      <th>0</th>\n",
       "      <td>1</td>\n",
       "      <td>0.210526</td>\n",
       "      <td>ROCHETTE JILLEEN</td>\n",
       "      <td>0.090909</td>\n",
       "      <td>0.288618</td>\n",
       "      <td>0.259361</td>\n",
       "      <td>0.125</td>\n",
       "      <td>0</td>\n",
       "      <td>0.090385</td>\n",
       "      <td>0.013221</td>\n",
       "      <td>0.688221</td>\n",
       "      <td>0.008654</td>\n",
       "      <td>0.240279</td>\n",
       "    </tr>\n",
       "    <tr>\n",
       "      <th>1</th>\n",
       "      <td>2</td>\n",
       "      <td>0.242690</td>\n",
       "      <td>DARYL NATALINA</td>\n",
       "      <td>0.090909</td>\n",
       "      <td>0.282828</td>\n",
       "      <td>0.259361</td>\n",
       "      <td>0.125</td>\n",
       "      <td>0</td>\n",
       "      <td>0.100000</td>\n",
       "      <td>0.001923</td>\n",
       "      <td>0.288702</td>\n",
       "      <td>0.286779</td>\n",
       "      <td>0.386510</td>\n",
       "    </tr>\n",
       "    <tr>\n",
       "      <th>2</th>\n",
       "      <td>3</td>\n",
       "      <td>0.242690</td>\n",
       "      <td>ANNNORA GABRIELLE</td>\n",
       "      <td>0.090909</td>\n",
       "      <td>0.282828</td>\n",
       "      <td>0.259361</td>\n",
       "      <td>0.125</td>\n",
       "      <td>0</td>\n",
       "      <td>0.162500</td>\n",
       "      <td>0.010577</td>\n",
       "      <td>0.222837</td>\n",
       "      <td>0.171875</td>\n",
       "      <td>0.681977</td>\n",
       "    </tr>\n",
       "    <tr>\n",
       "      <th>3</th>\n",
       "      <td>4</td>\n",
       "      <td>0.215457</td>\n",
       "      <td>BARBEE JOEY</td>\n",
       "      <td>0.090909</td>\n",
       "      <td>0.228324</td>\n",
       "      <td>0.259361</td>\n",
       "      <td>0.125</td>\n",
       "      <td>1</td>\n",
       "      <td>0.106522</td>\n",
       "      <td>0.001902</td>\n",
       "      <td>0.739674</td>\n",
       "      <td>0.013043</td>\n",
       "      <td>0.166413</td>\n",
       "    </tr>\n",
       "    <tr>\n",
       "      <th>4</th>\n",
       "      <td>6</td>\n",
       "      <td>0.210526</td>\n",
       "      <td>JORDANNA DANYA</td>\n",
       "      <td>0.090909</td>\n",
       "      <td>0.288618</td>\n",
       "      <td>0.259361</td>\n",
       "      <td>0.125</td>\n",
       "      <td>0</td>\n",
       "      <td>0.125000</td>\n",
       "      <td>0.003846</td>\n",
       "      <td>0.594712</td>\n",
       "      <td>0.225962</td>\n",
       "      <td>0.236203</td>\n",
       "    </tr>\n",
       "  </tbody>\n",
       "</table>\n",
       "</div>"
      ],
      "text/plain": [
       "   Employee No  Profit Center  ... NC Hours.12  Utilization%.12\n",
       "0            1       0.210526  ...    0.008654         0.240279\n",
       "1            2       0.242690  ...    0.286779         0.386510\n",
       "2            3       0.242690  ...    0.171875         0.681977\n",
       "3            4       0.215457  ...    0.013043         0.166413\n",
       "4            6       0.210526  ...    0.225962         0.236203\n",
       "\n",
       "[5 rows x 13 columns]"
      ]
     },
     "execution_count": 92,
     "metadata": {
      "tags": []
     },
     "output_type": "execute_result"
    }
   ],
   "source": [
    "combine_df.head()"
   ]
  },
  {
   "cell_type": "markdown",
   "metadata": {
    "id": "Wvug3_4w4Ond"
   },
   "source": [
    "We will drop Employee No as well Employee Name as we are not going to use them in our model."
   ]
  },
  {
   "cell_type": "code",
   "execution_count": null,
   "metadata": {
    "id": "FwKoCgfP3xPf"
   },
   "outputs": [],
   "source": [
    "combine_df.drop([\"Employee No\",\"Employee Name\"],axis=1,inplace=True)"
   ]
  },
  {
   "cell_type": "markdown",
   "metadata": {
    "id": "DIWqLo7U4tQA"
   },
   "source": [
    "# Model Making"
   ]
  },
  {
   "cell_type": "markdown",
   "metadata": {
    "id": "887ec_Jr43Gu"
   },
   "source": [
    "I am going to apply several classification algorithms. I will create base model for each algorithm, i have not applied any tuning techniques so our final model will be base model.\n",
    "\n"
   ]
  },
  {
   "cell_type": "code",
   "execution_count": null,
   "metadata": {
    "id": "X9DtdReX4rPG"
   },
   "outputs": [],
   "source": [
    "X = combine_df.drop([\"Current Status\"],axis=1)\n",
    "Y = combine_df.loc[:,\"Current Status\"]"
   ]
  },
  {
   "cell_type": "code",
   "execution_count": null,
   "metadata": {
    "id": "3qvDzUhl5gHv"
   },
   "outputs": [],
   "source": [
    "X = X.values # we have converted df into array so that we can easily process data\n",
    "Y = Y.values"
   ]
  },
  {
   "cell_type": "markdown",
   "metadata": {
    "id": "54QorFwl6GDi"
   },
   "source": [
    "Scaling : scaling is not required in this case as our all independent variables ranges from 0 to 1 but still we would apply StandardScaler as practice."
   ]
  },
  {
   "cell_type": "code",
   "execution_count": null,
   "metadata": {
    "id": "sQmIczRb5zLF"
   },
   "outputs": [],
   "source": [
    "from sklearn.preprocessing import StandardScaler\n",
    "scaler = StandardScaler()\n",
    "scaler.fit(X)\n",
    "X = scaler.transform(X)"
   ]
  },
  {
   "cell_type": "code",
   "execution_count": null,
   "metadata": {
    "id": "v_kc_q1o6bYb"
   },
   "outputs": [],
   "source": [
    "from sklearn.model_selection import train_test_split\n",
    "\n",
    "X_train , X_test, Y_train, Y_test = train_test_split(X,Y,test_size=0.3,random_state=10)"
   ]
  },
  {
   "cell_type": "markdown",
   "metadata": {
    "id": "zlNuFymE6loj"
   },
   "source": [
    "1) **Base Logistic Regression**"
   ]
  },
  {
   "cell_type": "code",
   "execution_count": null,
   "metadata": {
    "id": "WFZB9fsp6hXh"
   },
   "outputs": [],
   "source": [
    "from sklearn.linear_model import LogisticRegression\n",
    "classifier = LogisticRegression()\n",
    "classifier.fit(X_train,Y_train)\n",
    "Y_pred = classifier.predict(X_test)    "
   ]
  },
  {
   "cell_type": "code",
   "execution_count": null,
   "metadata": {
    "colab": {
     "base_uri": "https://localhost:8080/"
    },
    "executionInfo": {
     "elapsed": 330,
     "status": "ok",
     "timestamp": 1624704288377,
     "user": {
      "displayName": "ronak lathiya",
      "photoUrl": "",
      "userId": "13017137450409577858"
     },
     "user_tz": -330
    },
    "id": "UFTIUwYc691X",
    "outputId": "38b43dcc-3e7e-4b3a-be80-6c3f4f7322e2"
   },
   "outputs": [
    {
     "name": "stdout",
     "output_type": "stream",
     "text": [
      "[[235  10]\n",
      " [ 47  40]]\n",
      "Classification report :\n",
      "              precision    recall  f1-score   support\n",
      "\n",
      "           0       0.83      0.96      0.89       245\n",
      "           1       0.80      0.46      0.58        87\n",
      "\n",
      "    accuracy                           0.83       332\n",
      "   macro avg       0.82      0.71      0.74       332\n",
      "weighted avg       0.82      0.83      0.81       332\n",
      "\n",
      "0.8283132530120482\n"
     ]
    }
   ],
   "source": [
    "from sklearn.metrics import confusion_matrix,accuracy_score, classification_report\n",
    "\n",
    "cfm = confusion_matrix(Y_test,Y_pred)\n",
    "print(cfm)\n",
    "print(\"Classification report :\")\n",
    "\n",
    "print(classification_report(Y_test,Y_pred))\n",
    "\n",
    "acc= accuracy_score(Y_test,Y_pred)\n",
    "print(acc)"
   ]
  },
  {
   "cell_type": "markdown",
   "metadata": {
    "id": "kYRTzvgX7nj_"
   },
   "source": [
    "2) **Base KNeighbors**"
   ]
  },
  {
   "cell_type": "code",
   "execution_count": null,
   "metadata": {
    "id": "xZRyvRIR7ALk"
   },
   "outputs": [],
   "source": [
    "from sklearn.neighbors import KNeighborsClassifier\n",
    "classifier = KNeighborsClassifier(n_neighbors=25,metric=\"minkowski\",p=2)  # 25 just selected randomly, to get best value we need to try many values \n",
    "classifier.fit(X_train,Y_train)\n",
    "Y_pred = classifier.predict(X_test)"
   ]
  },
  {
   "cell_type": "code",
   "execution_count": null,
   "metadata": {
    "colab": {
     "base_uri": "https://localhost:8080/"
    },
    "executionInfo": {
     "elapsed": 6,
     "status": "ok",
     "timestamp": 1624704557168,
     "user": {
      "displayName": "ronak lathiya",
      "photoUrl": "",
      "userId": "13017137450409577858"
     },
     "user_tz": -330
    },
    "id": "u33QSLWA75n9",
    "outputId": "241b7776-47a3-4e85-f210-e3fc38ee74a6"
   },
   "outputs": [
    {
     "name": "stdout",
     "output_type": "stream",
     "text": [
      "[[244   1]\n",
      " [ 53  34]]\n",
      "Classification report :\n",
      "              precision    recall  f1-score   support\n",
      "\n",
      "           0       0.82      1.00      0.90       245\n",
      "           1       0.97      0.39      0.56        87\n",
      "\n",
      "    accuracy                           0.84       332\n",
      "   macro avg       0.90      0.69      0.73       332\n",
      "weighted avg       0.86      0.84      0.81       332\n",
      "\n",
      "0.8373493975903614\n"
     ]
    }
   ],
   "source": [
    "cfm = confusion_matrix(Y_test,Y_pred)\n",
    "print(cfm)\n",
    "print(\"Classification report :\")\n",
    "\n",
    "print(classification_report(Y_test,Y_pred))\n",
    "\n",
    "acc= accuracy_score(Y_test,Y_pred)\n",
    "print(acc)"
   ]
  },
  {
   "cell_type": "markdown",
   "metadata": {
    "id": "A9FD3Xo-8Hj3"
   },
   "source": [
    "3) **Base SVM**"
   ]
  },
  {
   "cell_type": "code",
   "execution_count": null,
   "metadata": {
    "id": "fLwLcMV_8BzV"
   },
   "outputs": [],
   "source": [
    "from sklearn.svm import SVC\n",
    "classifier = SVC(kernel=\"rbf\",C=1,gamma=0.01) # just selected randomly C and gamma, for optimum value we need to try several values\n",
    "classifier.fit(X_train,Y_train)\n",
    "Y_pred=classifier.predict(X_test)"
   ]
  },
  {
   "cell_type": "code",
   "execution_count": null,
   "metadata": {
    "colab": {
     "base_uri": "https://localhost:8080/"
    },
    "executionInfo": {
     "elapsed": 334,
     "status": "ok",
     "timestamp": 1624704625459,
     "user": {
      "displayName": "ronak lathiya",
      "photoUrl": "",
      "userId": "13017137450409577858"
     },
     "user_tz": -330
    },
    "id": "UUmanBqm8Q0p",
    "outputId": "c878f033-992f-4712-a9a8-da7a6291dd49"
   },
   "outputs": [
    {
     "name": "stdout",
     "output_type": "stream",
     "text": [
      "[[245   0]\n",
      " [ 71  16]]\n",
      "Classification report :\n",
      "              precision    recall  f1-score   support\n",
      "\n",
      "           0       0.78      1.00      0.87       245\n",
      "           1       1.00      0.18      0.31        87\n",
      "\n",
      "    accuracy                           0.79       332\n",
      "   macro avg       0.89      0.59      0.59       332\n",
      "weighted avg       0.83      0.79      0.73       332\n",
      "\n",
      "0.786144578313253\n"
     ]
    }
   ],
   "source": [
    "cfm = confusion_matrix(Y_test,Y_pred)\n",
    "print(cfm)\n",
    "print(\"Classification report :\")\n",
    "\n",
    "print(classification_report(Y_test,Y_pred))\n",
    "\n",
    "acc= accuracy_score(Y_test,Y_pred)\n",
    "print(acc)"
   ]
  },
  {
   "cell_type": "markdown",
   "metadata": {
    "id": "9Wy0CZZ-8b5t"
   },
   "source": [
    "4) **Base Random Forest**"
   ]
  },
  {
   "cell_type": "code",
   "execution_count": null,
   "metadata": {
    "id": "IAEhVT-l8Sed"
   },
   "outputs": [],
   "source": [
    "from sklearn.ensemble import RandomForestClassifier\n",
    "\n",
    "classifier = RandomForestClassifier(n_estimators=100) # 100 is selected randomly\n",
    "classifier.fit(X_train,Y_train)\n",
    "Y_pred=classifier.predict(X_test)"
   ]
  },
  {
   "cell_type": "code",
   "execution_count": null,
   "metadata": {
    "colab": {
     "base_uri": "https://localhost:8080/"
    },
    "executionInfo": {
     "elapsed": 336,
     "status": "ok",
     "timestamp": 1624704761673,
     "user": {
      "displayName": "ronak lathiya",
      "photoUrl": "",
      "userId": "13017137450409577858"
     },
     "user_tz": -330
    },
    "id": "RehVh9zP8wou",
    "outputId": "306521a9-930a-4f26-e36f-b33e1a464d8a"
   },
   "outputs": [
    {
     "name": "stdout",
     "output_type": "stream",
     "text": [
      "[[235  10]\n",
      " [ 46  41]]\n",
      "Classification report :\n",
      "              precision    recall  f1-score   support\n",
      "\n",
      "           0       0.84      0.96      0.89       245\n",
      "           1       0.80      0.47      0.59        87\n",
      "\n",
      "    accuracy                           0.83       332\n",
      "   macro avg       0.82      0.72      0.74       332\n",
      "weighted avg       0.83      0.83      0.82       332\n",
      "\n",
      "0.8313253012048193\n"
     ]
    }
   ],
   "source": [
    "cfm = confusion_matrix(Y_test,Y_pred)\n",
    "print(cfm)\n",
    "print(\"Classification report :\")\n",
    "\n",
    "print(classification_report(Y_test,Y_pred))\n",
    "\n",
    "acc= accuracy_score(Y_test,Y_pred)\n",
    "print(acc)"
   ]
  },
  {
   "cell_type": "markdown",
   "metadata": {
    "id": "7Gak-uFe9AgJ"
   },
   "source": [
    "# Model Selection"
   ]
  },
  {
   "cell_type": "markdown",
   "metadata": {
    "id": "Zkohl9Im9gOx"
   },
   "source": [
    "Remember that our main target is to get high recall value for target 1 and simultaneously high accuracy. Because those are the employees who are going to resign and we need to focus more on them. And that's why we need model which has high racall for target 1 with balance accuracy."
   ]
  },
  {
   "cell_type": "markdown",
   "metadata": {
    "id": "kwhUNWP1_ANm"
   },
   "source": [
    "So the best models among models we have tried are Base Random Forest and Base Logistic Regression. Both are giving almost similar result. They are giving good recall value for target 1 and also good accuracy compare to other models."
   ]
  }
 ],
 "metadata": {
  "colab": {
   "authorship_tag": "ABX9TyMwacgiYE5IEA2LA/p8Q0nQ",
   "collapsed_sections": [],
   "name": "HR Analytics Code .ipynb",
   "provenance": []
  },
  "kernelspec": {
   "display_name": "Python 3",
   "language": "python",
   "name": "python3"
  },
  "language_info": {
   "codemirror_mode": {
    "name": "ipython",
    "version": 3
   },
   "file_extension": ".py",
   "mimetype": "text/x-python",
   "name": "python",
   "nbconvert_exporter": "python",
   "pygments_lexer": "ipython3",
   "version": "3.7.6"
  }
 },
 "nbformat": 4,
 "nbformat_minor": 1
}
