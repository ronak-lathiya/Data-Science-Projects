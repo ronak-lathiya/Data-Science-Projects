{
 "cells": [
  {
   "cell_type": "code",
   "execution_count": 57,
   "metadata": {
    "executionInfo": {
     "elapsed": 623,
     "status": "ok",
     "timestamp": 1624451089982,
     "user": {
      "displayName": "ronak lathiya",
      "photoUrl": "",
      "userId": "13017137450409577858"
     },
     "user_tz": -330
    },
    "id": "j-EMCndhiNPg"
   },
   "outputs": [],
   "source": [
    "#packages\n",
    "import pandas as pd\n",
    "import numpy as np\n",
    "import matplotlib.pyplot as plt\n",
    "import seaborn as sns"
   ]
  },
  {
   "cell_type": "code",
   "execution_count": 15,
   "metadata": {
    "executionInfo": {
     "elapsed": 45093,
     "status": "ok",
     "timestamp": 1624434559583,
     "user": {
      "displayName": "ronak lathiya",
      "photoUrl": "",
      "userId": "13017137450409577858"
     },
     "user_tz": -330
    },
    "id": "J1k5VOGqi1hH"
   },
   "outputs": [],
   "source": [
    "df =pd.read_excel(\"/E-com_Data.xlsx\",header=0)"
   ]
  },
  {
   "cell_type": "code",
   "execution_count": 4,
   "metadata": {
    "colab": {
     "base_uri": "https://localhost:8080/",
     "height": 220
    },
    "executionInfo": {
     "elapsed": 724,
     "status": "ok",
     "timestamp": 1624432691967,
     "user": {
      "displayName": "ronak lathiya",
      "photoUrl": "",
      "userId": "13017137450409577858"
     },
     "user_tz": -330
    },
    "id": "ZoTkTU5KoJo8",
    "outputId": "64d92770-971a-4aaa-c138-9e109cccdaa2"
   },
   "outputs": [
    {
     "data": {
      "text/html": [
       "<div>\n",
       "<style scoped>\n",
       "    .dataframe tbody tr th:only-of-type {\n",
       "        vertical-align: middle;\n",
       "    }\n",
       "\n",
       "    .dataframe tbody tr th {\n",
       "        vertical-align: top;\n",
       "    }\n",
       "\n",
       "    .dataframe thead th {\n",
       "        text-align: right;\n",
       "    }\n",
       "</style>\n",
       "<table border=\"1\" class=\"dataframe\">\n",
       "  <thead>\n",
       "    <tr style=\"text-align: right;\">\n",
       "      <th></th>\n",
       "      <th>CustomerID</th>\n",
       "      <th>Item Code</th>\n",
       "      <th>InvoieNo</th>\n",
       "      <th>Date of purchase</th>\n",
       "      <th>Quantity</th>\n",
       "      <th>Time</th>\n",
       "      <th>price per Unit</th>\n",
       "      <th>Price</th>\n",
       "      <th>Shipping Location</th>\n",
       "      <th>Cancelled_status</th>\n",
       "      <th>Reason of return</th>\n",
       "      <th>Sold as set</th>\n",
       "    </tr>\n",
       "  </thead>\n",
       "  <tbody>\n",
       "    <tr>\n",
       "      <th>0</th>\n",
       "      <td>4355.0</td>\n",
       "      <td>15734</td>\n",
       "      <td>398177</td>\n",
       "      <td>2017-10-29</td>\n",
       "      <td>6</td>\n",
       "      <td>15:36:00</td>\n",
       "      <td>321.0</td>\n",
       "      <td>1926.0</td>\n",
       "      <td>Location 1</td>\n",
       "      <td>NaN</td>\n",
       "      <td>NaN</td>\n",
       "      <td>NaN</td>\n",
       "    </tr>\n",
       "    <tr>\n",
       "      <th>1</th>\n",
       "      <td>4352.0</td>\n",
       "      <td>14616</td>\n",
       "      <td>394422</td>\n",
       "      <td>2017-10-05</td>\n",
       "      <td>2</td>\n",
       "      <td>14:53:00</td>\n",
       "      <td>870.0</td>\n",
       "      <td>1740.0</td>\n",
       "      <td>Location 1</td>\n",
       "      <td>NaN</td>\n",
       "      <td>NaN</td>\n",
       "      <td>NaN</td>\n",
       "    </tr>\n",
       "    <tr>\n",
       "      <th>2</th>\n",
       "      <td>4352.0</td>\n",
       "      <td>14614</td>\n",
       "      <td>394422</td>\n",
       "      <td>2017-10-12</td>\n",
       "      <td>2</td>\n",
       "      <td>14:53:00</td>\n",
       "      <td>933.0</td>\n",
       "      <td>1866.0</td>\n",
       "      <td>Location 1</td>\n",
       "      <td>NaN</td>\n",
       "      <td>NaN</td>\n",
       "      <td>NaN</td>\n",
       "    </tr>\n",
       "    <tr>\n",
       "      <th>3</th>\n",
       "      <td>4352.0</td>\n",
       "      <td>85014B</td>\n",
       "      <td>388633</td>\n",
       "      <td>2017-08-22</td>\n",
       "      <td>3</td>\n",
       "      <td>14:47:00</td>\n",
       "      <td>623.0</td>\n",
       "      <td>1869.0</td>\n",
       "      <td>Location 1</td>\n",
       "      <td>NaN</td>\n",
       "      <td>NaN</td>\n",
       "      <td>NaN</td>\n",
       "    </tr>\n",
       "    <tr>\n",
       "      <th>4</th>\n",
       "      <td>4352.0</td>\n",
       "      <td>15364</td>\n",
       "      <td>394422</td>\n",
       "      <td>2017-10-10</td>\n",
       "      <td>2</td>\n",
       "      <td>14:53:00</td>\n",
       "      <td>944.0</td>\n",
       "      <td>1888.0</td>\n",
       "      <td>Location 1</td>\n",
       "      <td>NaN</td>\n",
       "      <td>NaN</td>\n",
       "      <td>NaN</td>\n",
       "    </tr>\n",
       "  </tbody>\n",
       "</table>\n",
       "</div>"
      ],
      "text/plain": [
       "   CustomerID Item Code  ...  Reason of return Sold as set\n",
       "0      4355.0     15734  ...               NaN         NaN\n",
       "1      4352.0     14616  ...               NaN         NaN\n",
       "2      4352.0     14614  ...               NaN         NaN\n",
       "3      4352.0    85014B  ...               NaN         NaN\n",
       "4      4352.0     15364  ...               NaN         NaN\n",
       "\n",
       "[5 rows x 12 columns]"
      ]
     },
     "execution_count": 4,
     "metadata": {
      "tags": []
     },
     "output_type": "execute_result"
    }
   ],
   "source": [
    "df.head()"
   ]
  },
  {
   "cell_type": "code",
   "execution_count": null,
   "metadata": {
    "colab": {
     "base_uri": "https://localhost:8080/"
    },
    "executionInfo": {
     "elapsed": 347,
     "status": "ok",
     "timestamp": 1624296878031,
     "user": {
      "displayName": "ronak lathiya",
      "photoUrl": "",
      "userId": "13017137450409577858"
     },
     "user_tz": -330
    },
    "id": "-1telWgIozh1",
    "outputId": "380366e6-0abb-4a5b-dc26-68c0b8c165ba"
   },
   "outputs": [
    {
     "data": {
      "text/plain": [
       "(537979, 12)"
      ]
     },
     "execution_count": 7,
     "metadata": {
      "tags": []
     },
     "output_type": "execute_result"
    }
   ],
   "source": [
    "df.shape"
   ]
  },
  {
   "cell_type": "markdown",
   "metadata": {
    "id": "4WjzFIdZo5uo"
   },
   "source": [
    "Look here i want to cluster my data based on price(consumer spending amount) and frequency of buying. So, it is obivious that variables(Time, shipping Location,Cancelled_status,Reason of return and Sold as set) are not going to help me. So, as of now i am going to drop last 3 variables and i will also drop other unnecessary variables once i will complete checking duplicate values.\n"
   ]
  },
  {
   "cell_type": "code",
   "execution_count": 16,
   "metadata": {
    "executionInfo": {
     "elapsed": 375,
     "status": "ok",
     "timestamp": 1624434623015,
     "user": {
      "displayName": "ronak lathiya",
      "photoUrl": "",
      "userId": "13017137450409577858"
     },
     "user_tz": -330
    },
    "id": "tuF5Ai2WrydT"
   },
   "outputs": [],
   "source": [
    "df = df.drop([\"Cancelled_status\",\"Reason of return\",\"Sold as set\"],axis=1)"
   ]
  },
  {
   "cell_type": "code",
   "execution_count": null,
   "metadata": {
    "colab": {
     "base_uri": "https://localhost:8080/",
     "height": 203
    },
    "executionInfo": {
     "elapsed": 612,
     "status": "ok",
     "timestamp": 1624297777744,
     "user": {
      "displayName": "ronak lathiya",
      "photoUrl": "",
      "userId": "13017137450409577858"
     },
     "user_tz": -330
    },
    "id": "e4M0Gq3rsKlR",
    "outputId": "457a0e0a-e199-4201-ce10-437ffe133c0d"
   },
   "outputs": [
    {
     "data": {
      "text/html": [
       "<div>\n",
       "<style scoped>\n",
       "    .dataframe tbody tr th:only-of-type {\n",
       "        vertical-align: middle;\n",
       "    }\n",
       "\n",
       "    .dataframe tbody tr th {\n",
       "        vertical-align: top;\n",
       "    }\n",
       "\n",
       "    .dataframe thead th {\n",
       "        text-align: right;\n",
       "    }\n",
       "</style>\n",
       "<table border=\"1\" class=\"dataframe\">\n",
       "  <thead>\n",
       "    <tr style=\"text-align: right;\">\n",
       "      <th></th>\n",
       "      <th>CustomerID</th>\n",
       "      <th>Item Code</th>\n",
       "      <th>InvoieNo</th>\n",
       "      <th>Date of purchase</th>\n",
       "      <th>Quantity</th>\n",
       "      <th>Time</th>\n",
       "      <th>price per Unit</th>\n",
       "      <th>Price</th>\n",
       "      <th>Shipping Location</th>\n",
       "    </tr>\n",
       "  </thead>\n",
       "  <tbody>\n",
       "    <tr>\n",
       "      <th>0</th>\n",
       "      <td>4355.0</td>\n",
       "      <td>15734</td>\n",
       "      <td>398177</td>\n",
       "      <td>2017-10-29</td>\n",
       "      <td>6</td>\n",
       "      <td>15:36:00</td>\n",
       "      <td>321.0</td>\n",
       "      <td>1926.0</td>\n",
       "      <td>Location 1</td>\n",
       "    </tr>\n",
       "    <tr>\n",
       "      <th>1</th>\n",
       "      <td>4352.0</td>\n",
       "      <td>14616</td>\n",
       "      <td>394422</td>\n",
       "      <td>2017-10-05</td>\n",
       "      <td>2</td>\n",
       "      <td>14:53:00</td>\n",
       "      <td>870.0</td>\n",
       "      <td>1740.0</td>\n",
       "      <td>Location 1</td>\n",
       "    </tr>\n",
       "    <tr>\n",
       "      <th>2</th>\n",
       "      <td>4352.0</td>\n",
       "      <td>14614</td>\n",
       "      <td>394422</td>\n",
       "      <td>2017-10-12</td>\n",
       "      <td>2</td>\n",
       "      <td>14:53:00</td>\n",
       "      <td>933.0</td>\n",
       "      <td>1866.0</td>\n",
       "      <td>Location 1</td>\n",
       "    </tr>\n",
       "    <tr>\n",
       "      <th>3</th>\n",
       "      <td>4352.0</td>\n",
       "      <td>85014B</td>\n",
       "      <td>388633</td>\n",
       "      <td>2017-08-22</td>\n",
       "      <td>3</td>\n",
       "      <td>14:47:00</td>\n",
       "      <td>623.0</td>\n",
       "      <td>1869.0</td>\n",
       "      <td>Location 1</td>\n",
       "    </tr>\n",
       "    <tr>\n",
       "      <th>4</th>\n",
       "      <td>4352.0</td>\n",
       "      <td>15364</td>\n",
       "      <td>394422</td>\n",
       "      <td>2017-10-10</td>\n",
       "      <td>2</td>\n",
       "      <td>14:53:00</td>\n",
       "      <td>944.0</td>\n",
       "      <td>1888.0</td>\n",
       "      <td>Location 1</td>\n",
       "    </tr>\n",
       "  </tbody>\n",
       "</table>\n",
       "</div>"
      ],
      "text/plain": [
       "   CustomerID Item Code  InvoieNo  ... price per Unit   Price Shipping Location\n",
       "0      4355.0     15734    398177  ...          321.0  1926.0        Location 1\n",
       "1      4352.0     14616    394422  ...          870.0  1740.0        Location 1\n",
       "2      4352.0     14614    394422  ...          933.0  1866.0        Location 1\n",
       "3      4352.0    85014B    388633  ...          623.0  1869.0        Location 1\n",
       "4      4352.0     15364    394422  ...          944.0  1888.0        Location 1\n",
       "\n",
       "[5 rows x 9 columns]"
      ]
     },
     "execution_count": 10,
     "metadata": {
      "tags": []
     },
     "output_type": "execute_result"
    }
   ],
   "source": [
    "# It is always good practice to check changes that you have applied.\n",
    "df.head()"
   ]
  },
  {
   "cell_type": "code",
   "execution_count": null,
   "metadata": {
    "colab": {
     "base_uri": "https://localhost:8080/"
    },
    "executionInfo": {
     "elapsed": 392,
     "status": "ok",
     "timestamp": 1624297942789,
     "user": {
      "displayName": "ronak lathiya",
      "photoUrl": "",
      "userId": "13017137450409577858"
     },
     "user_tz": -330
    },
    "id": "EqKIjk60sSV5",
    "outputId": "7bedad03-d80f-476a-9a79-132d95a2526b"
   },
   "outputs": [
    {
     "data": {
      "text/plain": [
       "9"
      ]
     },
     "execution_count": 13,
     "metadata": {
      "tags": []
     },
     "output_type": "execute_result"
    }
   ],
   "source": [
    "df.duplicated().sum()"
   ]
  },
  {
   "cell_type": "markdown",
   "metadata": {
    "id": "P_IhIt4Ht-up"
   },
   "source": [
    "As we have observed 9 duplicate values, i am going to drop that 9 rows.\n"
   ]
  },
  {
   "cell_type": "code",
   "execution_count": 17,
   "metadata": {
    "executionInfo": {
     "elapsed": 360,
     "status": "ok",
     "timestamp": 1624434628902,
     "user": {
      "displayName": "ronak lathiya",
      "photoUrl": "",
      "userId": "13017137450409577858"
     },
     "user_tz": -330
    },
    "id": "xbsfsHg8uxCm"
   },
   "outputs": [],
   "source": [
    "df.drop_duplicates(keep = \"first\",inplace=True)"
   ]
  },
  {
   "cell_type": "code",
   "execution_count": null,
   "metadata": {
    "colab": {
     "base_uri": "https://localhost:8080/"
    },
    "executionInfo": {
     "elapsed": 346,
     "status": "ok",
     "timestamp": 1624298582216,
     "user": {
      "displayName": "ronak lathiya",
      "photoUrl": "",
      "userId": "13017137450409577858"
     },
     "user_tz": -330
    },
    "id": "StSfKGQXvKR-",
    "outputId": "c28610d2-50e7-4271-f29c-7d42898a47b6"
   },
   "outputs": [
    {
     "data": {
      "text/plain": [
       "(537970, 9)"
      ]
     },
     "execution_count": 20,
     "metadata": {
      "tags": []
     },
     "output_type": "execute_result"
    }
   ],
   "source": [
    "df.shape"
   ]
  },
  {
   "cell_type": "markdown",
   "metadata": {
    "id": "s_t8cOyp2Z2t"
   },
   "source": [
    "now let us check for NA values."
   ]
  },
  {
   "cell_type": "code",
   "execution_count": 18,
   "metadata": {
    "colab": {
     "base_uri": "https://localhost:8080/"
    },
    "executionInfo": {
     "elapsed": 501,
     "status": "ok",
     "timestamp": 1624434693676,
     "user": {
      "displayName": "ronak lathiya",
      "photoUrl": "",
      "userId": "13017137450409577858"
     },
     "user_tz": -330
    },
    "id": "Hz_1YBOP2RAK",
    "outputId": "1d33d134-2583-4dec-e42d-35619fceed39"
   },
   "outputs": [
    {
     "name": "stdout",
     "output_type": "stream",
     "text": [
      "<class 'pandas.core.frame.DataFrame'>\n",
      "Int64Index: 537970 entries, 0 to 537978\n",
      "Data columns (total 9 columns):\n",
      " #   Column             Non-Null Count   Dtype         \n",
      "---  ------             --------------   -----         \n",
      " 0   CustomerID         404181 non-null  float64       \n",
      " 1   Item Code          537970 non-null  object        \n",
      " 2   InvoieNo           537970 non-null  int64         \n",
      " 3   Date of purchase   537970 non-null  datetime64[ns]\n",
      " 4   Quantity           537970 non-null  int64         \n",
      " 5   Time               537970 non-null  object        \n",
      " 6   price per Unit     537970 non-null  float64       \n",
      " 7   Price              537970 non-null  float64       \n",
      " 8   Shipping Location  537970 non-null  object        \n",
      "dtypes: datetime64[ns](1), float64(3), int64(2), object(3)\n",
      "memory usage: 41.0+ MB\n"
     ]
    }
   ],
   "source": [
    "df.info()"
   ]
  },
  {
   "cell_type": "markdown",
   "metadata": {
    "id": "h7h7d-uM21A2"
   },
   "source": [
    "Now, we can see that only CustomerID has NA values. Which we are going to drop beacause we will be still left with large amount of data. So that we don't unnecessary create bias by imputing values."
   ]
  },
  {
   "cell_type": "code",
   "execution_count": 19,
   "metadata": {
    "executionInfo": {
     "elapsed": 366,
     "status": "ok",
     "timestamp": 1624435288921,
     "user": {
      "displayName": "ronak lathiya",
      "photoUrl": "",
      "userId": "13017137450409577858"
     },
     "user_tz": -330
    },
    "id": "lFuDUiQO3jmF"
   },
   "outputs": [],
   "source": [
    "df =df.drop(df[df[\"CustomerID\"].isna()].index)"
   ]
  },
  {
   "cell_type": "code",
   "execution_count": 20,
   "metadata": {
    "colab": {
     "base_uri": "https://localhost:8080/",
     "height": 295
    },
    "executionInfo": {
     "elapsed": 378,
     "status": "ok",
     "timestamp": 1624435790633,
     "user": {
      "displayName": "ronak lathiya",
      "photoUrl": "",
      "userId": "13017137450409577858"
     },
     "user_tz": -330
    },
    "id": "rkAqdihL6vOC",
    "outputId": "8b12e459-49ed-4feb-b6fb-76608924bbb9"
   },
   "outputs": [
    {
     "data": {
      "text/html": [
       "<div>\n",
       "<style scoped>\n",
       "    .dataframe tbody tr th:only-of-type {\n",
       "        vertical-align: middle;\n",
       "    }\n",
       "\n",
       "    .dataframe tbody tr th {\n",
       "        vertical-align: top;\n",
       "    }\n",
       "\n",
       "    .dataframe thead th {\n",
       "        text-align: right;\n",
       "    }\n",
       "</style>\n",
       "<table border=\"1\" class=\"dataframe\">\n",
       "  <thead>\n",
       "    <tr style=\"text-align: right;\">\n",
       "      <th></th>\n",
       "      <th>CustomerID</th>\n",
       "      <th>InvoieNo</th>\n",
       "      <th>Quantity</th>\n",
       "      <th>price per Unit</th>\n",
       "      <th>Price</th>\n",
       "    </tr>\n",
       "  </thead>\n",
       "  <tbody>\n",
       "    <tr>\n",
       "      <th>count</th>\n",
       "      <td>404181.000000</td>\n",
       "      <td>404181.000000</td>\n",
       "      <td>404181.000000</td>\n",
       "      <td>404181.000000</td>\n",
       "      <td>404181.000000</td>\n",
       "    </tr>\n",
       "    <tr>\n",
       "      <th>mean</th>\n",
       "      <td>2181.897630</td>\n",
       "      <td>385648.273397</td>\n",
       "      <td>11.478669</td>\n",
       "      <td>341.450009</td>\n",
       "      <td>2474.139920</td>\n",
       "    </tr>\n",
       "    <tr>\n",
       "      <th>std</th>\n",
       "      <td>1252.681271</td>\n",
       "      <td>13107.396221</td>\n",
       "      <td>29.489919</td>\n",
       "      <td>427.242005</td>\n",
       "      <td>4891.388347</td>\n",
       "    </tr>\n",
       "    <tr>\n",
       "      <th>min</th>\n",
       "      <td>2.000000</td>\n",
       "      <td>361429.000000</td>\n",
       "      <td>-152.000000</td>\n",
       "      <td>2.000000</td>\n",
       "      <td>-10152.000000</td>\n",
       "    </tr>\n",
       "    <tr>\n",
       "      <th>25%</th>\n",
       "      <td>1207.000000</td>\n",
       "      <td>374194.000000</td>\n",
       "      <td>2.000000</td>\n",
       "      <td>158.000000</td>\n",
       "      <td>555.000000</td>\n",
       "    </tr>\n",
       "    <tr>\n",
       "      <th>50%</th>\n",
       "      <td>2078.000000</td>\n",
       "      <td>386937.000000</td>\n",
       "      <td>5.000000</td>\n",
       "      <td>238.000000</td>\n",
       "      <td>1572.000000</td>\n",
       "    </tr>\n",
       "    <tr>\n",
       "      <th>75%</th>\n",
       "      <td>3291.000000</td>\n",
       "      <td>397130.000000</td>\n",
       "      <td>12.000000</td>\n",
       "      <td>407.000000</td>\n",
       "      <td>2492.000000</td>\n",
       "    </tr>\n",
       "    <tr>\n",
       "      <th>max</th>\n",
       "      <td>4372.000000</td>\n",
       "      <td>406651.000000</td>\n",
       "      <td>3186.000000</td>\n",
       "      <td>64973.000000</td>\n",
       "      <td>90400.000000</td>\n",
       "    </tr>\n",
       "  </tbody>\n",
       "</table>\n",
       "</div>"
      ],
      "text/plain": [
       "          CustomerID       InvoieNo  ...  price per Unit          Price\n",
       "count  404181.000000  404181.000000  ...   404181.000000  404181.000000\n",
       "mean     2181.897630  385648.273397  ...      341.450009    2474.139920\n",
       "std      1252.681271   13107.396221  ...      427.242005    4891.388347\n",
       "min         2.000000  361429.000000  ...        2.000000  -10152.000000\n",
       "25%      1207.000000  374194.000000  ...      158.000000     555.000000\n",
       "50%      2078.000000  386937.000000  ...      238.000000    1572.000000\n",
       "75%      3291.000000  397130.000000  ...      407.000000    2492.000000\n",
       "max      4372.000000  406651.000000  ...    64973.000000   90400.000000\n",
       "\n",
       "[8 rows x 5 columns]"
      ]
     },
     "execution_count": 20,
     "metadata": {
      "tags": []
     },
     "output_type": "execute_result"
    }
   ],
   "source": [
    "df.describe()"
   ]
  },
  {
   "cell_type": "markdown",
   "metadata": {
    "id": "2lGBK8Pi5Bij"
   },
   "source": [
    "There are also some negative values in Quantity which shows that customer has returned products. I am dropping that rows as well because it will not affect our purpose of analysis."
   ]
  },
  {
   "cell_type": "code",
   "execution_count": 21,
   "metadata": {
    "executionInfo": {
     "elapsed": 362,
     "status": "ok",
     "timestamp": 1624435843835,
     "user": {
      "displayName": "ronak lathiya",
      "photoUrl": "",
      "userId": "13017137450409577858"
     },
     "user_tz": -330
    },
    "id": "Gk_w4zVg6gja"
   },
   "outputs": [],
   "source": [
    "df = df.drop(df[df[\"Quantity\"]<0].index)"
   ]
  },
  {
   "cell_type": "code",
   "execution_count": 22,
   "metadata": {
    "colab": {
     "base_uri": "https://localhost:8080/",
     "height": 295
    },
    "executionInfo": {
     "elapsed": 368,
     "status": "ok",
     "timestamp": 1624435854878,
     "user": {
      "displayName": "ronak lathiya",
      "photoUrl": "",
      "userId": "13017137450409577858"
     },
     "user_tz": -330
    },
    "id": "6yoFfNXG6-sd",
    "outputId": "54950253-25d0-43cf-8701-215b4ac93f01"
   },
   "outputs": [
    {
     "data": {
      "text/html": [
       "<div>\n",
       "<style scoped>\n",
       "    .dataframe tbody tr th:only-of-type {\n",
       "        vertical-align: middle;\n",
       "    }\n",
       "\n",
       "    .dataframe tbody tr th {\n",
       "        vertical-align: top;\n",
       "    }\n",
       "\n",
       "    .dataframe thead th {\n",
       "        text-align: right;\n",
       "    }\n",
       "</style>\n",
       "<table border=\"1\" class=\"dataframe\">\n",
       "  <thead>\n",
       "    <tr style=\"text-align: right;\">\n",
       "      <th></th>\n",
       "      <th>CustomerID</th>\n",
       "      <th>InvoieNo</th>\n",
       "      <th>Quantity</th>\n",
       "      <th>price per Unit</th>\n",
       "      <th>Price</th>\n",
       "    </tr>\n",
       "  </thead>\n",
       "  <tbody>\n",
       "    <tr>\n",
       "      <th>count</th>\n",
       "      <td>395998.000000</td>\n",
       "      <td>395998.000000</td>\n",
       "      <td>395998.000000</td>\n",
       "      <td>395998.000000</td>\n",
       "      <td>395998.000000</td>\n",
       "    </tr>\n",
       "    <tr>\n",
       "      <th>mean</th>\n",
       "      <td>2186.423482</td>\n",
       "      <td>385683.406209</td>\n",
       "      <td>11.822648</td>\n",
       "      <td>338.627140</td>\n",
       "      <td>2554.930656</td>\n",
       "    </tr>\n",
       "    <tr>\n",
       "      <th>std</th>\n",
       "      <td>1252.325963</td>\n",
       "      <td>13107.505659</td>\n",
       "      <td>29.667004</td>\n",
       "      <td>424.303919</td>\n",
       "      <td>4903.426736</td>\n",
       "    </tr>\n",
       "    <tr>\n",
       "      <th>min</th>\n",
       "      <td>2.000000</td>\n",
       "      <td>361429.000000</td>\n",
       "      <td>1.000000</td>\n",
       "      <td>2.000000</td>\n",
       "      <td>12.000000</td>\n",
       "    </tr>\n",
       "    <tr>\n",
       "      <th>25%</th>\n",
       "      <td>1212.000000</td>\n",
       "      <td>374298.000000</td>\n",
       "      <td>2.000000</td>\n",
       "      <td>157.000000</td>\n",
       "      <td>598.000000</td>\n",
       "    </tr>\n",
       "    <tr>\n",
       "      <th>50%</th>\n",
       "      <td>2080.000000</td>\n",
       "      <td>386957.000000</td>\n",
       "      <td>6.000000</td>\n",
       "      <td>237.000000</td>\n",
       "      <td>1608.000000</td>\n",
       "    </tr>\n",
       "    <tr>\n",
       "      <th>75%</th>\n",
       "      <td>3294.000000</td>\n",
       "      <td>397157.000000</td>\n",
       "      <td>12.000000</td>\n",
       "      <td>403.000000</td>\n",
       "      <td>2520.000000</td>\n",
       "    </tr>\n",
       "    <tr>\n",
       "      <th>max</th>\n",
       "      <td>4372.000000</td>\n",
       "      <td>406651.000000</td>\n",
       "      <td>3186.000000</td>\n",
       "      <td>64973.000000</td>\n",
       "      <td>90400.000000</td>\n",
       "    </tr>\n",
       "  </tbody>\n",
       "</table>\n",
       "</div>"
      ],
      "text/plain": [
       "          CustomerID       InvoieNo  ...  price per Unit          Price\n",
       "count  395998.000000  395998.000000  ...   395998.000000  395998.000000\n",
       "mean     2186.423482  385683.406209  ...      338.627140    2554.930656\n",
       "std      1252.325963   13107.505659  ...      424.303919    4903.426736\n",
       "min         2.000000  361429.000000  ...        2.000000      12.000000\n",
       "25%      1212.000000  374298.000000  ...      157.000000     598.000000\n",
       "50%      2080.000000  386957.000000  ...      237.000000    1608.000000\n",
       "75%      3294.000000  397157.000000  ...      403.000000    2520.000000\n",
       "max      4372.000000  406651.000000  ...    64973.000000   90400.000000\n",
       "\n",
       "[8 rows x 5 columns]"
      ]
     },
     "execution_count": 22,
     "metadata": {
      "tags": []
     },
     "output_type": "execute_result"
    }
   ],
   "source": [
    "#checking if there is negative values anymore\n",
    "df.describe()"
   ]
  },
  {
   "cell_type": "markdown",
   "metadata": {
    "id": "rXI23EavvoZl"
   },
   "source": [
    "Now i have checked duplicate values,NA values. So, i am going to drop remaining unnecessary variables. So that our dataset becomes light and easy to work.\n",
    "\n",
    "\n",
    "\n"
   ]
  },
  {
   "cell_type": "code",
   "execution_count": 23,
   "metadata": {
    "executionInfo": {
     "elapsed": 391,
     "status": "ok",
     "timestamp": 1624435945196,
     "user": {
      "displayName": "ronak lathiya",
      "photoUrl": "",
      "userId": "13017137450409577858"
     },
     "user_tz": -330
    },
    "id": "b3H3VGRJwYmx"
   },
   "outputs": [],
   "source": [
    "df = df.drop([\"Item Code\",\"InvoieNo\",\"Quantity\",\"Time\",\"price per Unit\",\"Shipping Location\"],axis=1)"
   ]
  },
  {
   "cell_type": "code",
   "execution_count": 24,
   "metadata": {
    "colab": {
     "base_uri": "https://localhost:8080/",
     "height": 203
    },
    "executionInfo": {
     "elapsed": 382,
     "status": "ok",
     "timestamp": 1624435951009,
     "user": {
      "displayName": "ronak lathiya",
      "photoUrl": "",
      "userId": "13017137450409577858"
     },
     "user_tz": -330
    },
    "id": "grXFK3WQxF4k",
    "outputId": "1a82a301-3563-4dcd-91cb-8fd052ed1852"
   },
   "outputs": [
    {
     "data": {
      "text/html": [
       "<div>\n",
       "<style scoped>\n",
       "    .dataframe tbody tr th:only-of-type {\n",
       "        vertical-align: middle;\n",
       "    }\n",
       "\n",
       "    .dataframe tbody tr th {\n",
       "        vertical-align: top;\n",
       "    }\n",
       "\n",
       "    .dataframe thead th {\n",
       "        text-align: right;\n",
       "    }\n",
       "</style>\n",
       "<table border=\"1\" class=\"dataframe\">\n",
       "  <thead>\n",
       "    <tr style=\"text-align: right;\">\n",
       "      <th></th>\n",
       "      <th>CustomerID</th>\n",
       "      <th>Date of purchase</th>\n",
       "      <th>Price</th>\n",
       "    </tr>\n",
       "  </thead>\n",
       "  <tbody>\n",
       "    <tr>\n",
       "      <th>0</th>\n",
       "      <td>4355.0</td>\n",
       "      <td>2017-10-29</td>\n",
       "      <td>1926.0</td>\n",
       "    </tr>\n",
       "    <tr>\n",
       "      <th>1</th>\n",
       "      <td>4352.0</td>\n",
       "      <td>2017-10-05</td>\n",
       "      <td>1740.0</td>\n",
       "    </tr>\n",
       "    <tr>\n",
       "      <th>2</th>\n",
       "      <td>4352.0</td>\n",
       "      <td>2017-10-12</td>\n",
       "      <td>1866.0</td>\n",
       "    </tr>\n",
       "    <tr>\n",
       "      <th>3</th>\n",
       "      <td>4352.0</td>\n",
       "      <td>2017-08-22</td>\n",
       "      <td>1869.0</td>\n",
       "    </tr>\n",
       "    <tr>\n",
       "      <th>4</th>\n",
       "      <td>4352.0</td>\n",
       "      <td>2017-10-10</td>\n",
       "      <td>1888.0</td>\n",
       "    </tr>\n",
       "  </tbody>\n",
       "</table>\n",
       "</div>"
      ],
      "text/plain": [
       "   CustomerID Date of purchase   Price\n",
       "0      4355.0       2017-10-29  1926.0\n",
       "1      4352.0       2017-10-05  1740.0\n",
       "2      4352.0       2017-10-12  1866.0\n",
       "3      4352.0       2017-08-22  1869.0\n",
       "4      4352.0       2017-10-10  1888.0"
      ]
     },
     "execution_count": 24,
     "metadata": {
      "tags": []
     },
     "output_type": "execute_result"
    }
   ],
   "source": [
    "df.head()"
   ]
  },
  {
   "cell_type": "code",
   "execution_count": 25,
   "metadata": {
    "colab": {
     "base_uri": "https://localhost:8080/"
    },
    "executionInfo": {
     "elapsed": 373,
     "status": "ok",
     "timestamp": 1624435958266,
     "user": {
      "displayName": "ronak lathiya",
      "photoUrl": "",
      "userId": "13017137450409577858"
     },
     "user_tz": -330
    },
    "id": "-PXUMPJxxHEK",
    "outputId": "69a1574f-cd31-4617-d545-2fee6d187680"
   },
   "outputs": [
    {
     "data": {
      "text/plain": [
       "(395998, 3)"
      ]
     },
     "execution_count": 25,
     "metadata": {
      "tags": []
     },
     "output_type": "execute_result"
    }
   ],
   "source": [
    "df.shape"
   ]
  },
  {
   "cell_type": "markdown",
   "metadata": {
    "id": "7Ko_Xy8Vw-E-"
   },
   "source": [
    "I need to analyze data based on frequency of customers and its spending but i don't have frequency of customers and its total spending. To get those values i am going to apply groupby function which will help me to get frequency for each customerID and aggregate sum function which will help me to get total spending of a particular customer."
   ]
  },
  {
   "cell_type": "code",
   "execution_count": 26,
   "metadata": {
    "executionInfo": {
     "elapsed": 360,
     "status": "ok",
     "timestamp": 1624436006442,
     "user": {
      "displayName": "ronak lathiya",
      "photoUrl": "",
      "userId": "13017137450409577858"
     },
     "user_tz": -330
    },
    "id": "IRccr53fzQme"
   },
   "outputs": [],
   "source": [
    "gb= df.groupby([\"CustomerID\",\"Date of purchase\"]).agg({\"Price\":[\"sum\"]})"
   ]
  },
  {
   "cell_type": "markdown",
   "metadata": {
    "id": "xW1tb5SSzzBY"
   },
   "source": [
    "\n",
    "I have applied groupby for both(CustomerID,Date of purchase). So that it considers different purchases on same day as single purchase.\n",
    "\n"
   ]
  },
  {
   "cell_type": "code",
   "execution_count": 27,
   "metadata": {
    "colab": {
     "base_uri": "https://localhost:8080/",
     "height": 265
    },
    "executionInfo": {
     "elapsed": 375,
     "status": "ok",
     "timestamp": 1624436009981,
     "user": {
      "displayName": "ronak lathiya",
      "photoUrl": "",
      "userId": "13017137450409577858"
     },
     "user_tz": -330
    },
    "id": "MKuNNqiD0bjD",
    "outputId": "4db08d3e-ae32-48a7-d7c2-1eb0bd1564fb"
   },
   "outputs": [
    {
     "data": {
      "text/html": [
       "<div>\n",
       "<style scoped>\n",
       "    .dataframe tbody tr th:only-of-type {\n",
       "        vertical-align: middle;\n",
       "    }\n",
       "\n",
       "    .dataframe tbody tr th {\n",
       "        vertical-align: top;\n",
       "    }\n",
       "\n",
       "    .dataframe thead tr th {\n",
       "        text-align: left;\n",
       "    }\n",
       "\n",
       "    .dataframe thead tr:last-of-type th {\n",
       "        text-align: right;\n",
       "    }\n",
       "</style>\n",
       "<table border=\"1\" class=\"dataframe\">\n",
       "  <thead>\n",
       "    <tr>\n",
       "      <th></th>\n",
       "      <th></th>\n",
       "      <th>Price</th>\n",
       "    </tr>\n",
       "    <tr>\n",
       "      <th></th>\n",
       "      <th></th>\n",
       "      <th>sum</th>\n",
       "    </tr>\n",
       "    <tr>\n",
       "      <th>CustomerID</th>\n",
       "      <th>Date of purchase</th>\n",
       "      <th></th>\n",
       "    </tr>\n",
       "  </thead>\n",
       "  <tbody>\n",
       "    <tr>\n",
       "      <th rowspan=\"5\" valign=\"top\">2.0</th>\n",
       "      <th>2016-12-08</th>\n",
       "      <td>14363.0</td>\n",
       "    </tr>\n",
       "    <tr>\n",
       "      <th>2016-12-09</th>\n",
       "      <td>10722.0</td>\n",
       "    </tr>\n",
       "    <tr>\n",
       "      <th>2016-12-11</th>\n",
       "      <td>14084.0</td>\n",
       "    </tr>\n",
       "    <tr>\n",
       "      <th>2016-12-12</th>\n",
       "      <td>2016.0</td>\n",
       "    </tr>\n",
       "    <tr>\n",
       "      <th>2016-12-13</th>\n",
       "      <td>14618.0</td>\n",
       "    </tr>\n",
       "  </tbody>\n",
       "</table>\n",
       "</div>"
      ],
      "text/plain": [
       "                               Price\n",
       "                                 sum\n",
       "CustomerID Date of purchase         \n",
       "2.0        2016-12-08        14363.0\n",
       "           2016-12-09        10722.0\n",
       "           2016-12-11        14084.0\n",
       "           2016-12-12         2016.0\n",
       "           2016-12-13        14618.0"
      ]
     },
     "execution_count": 27,
     "metadata": {
      "tags": []
     },
     "output_type": "execute_result"
    }
   ],
   "source": [
    "gb.head()"
   ]
  },
  {
   "cell_type": "code",
   "execution_count": 28,
   "metadata": {
    "colab": {
     "base_uri": "https://localhost:8080/"
    },
    "executionInfo": {
     "elapsed": 364,
     "status": "ok",
     "timestamp": 1624436018251,
     "user": {
      "displayName": "ronak lathiya",
      "photoUrl": "",
      "userId": "13017137450409577858"
     },
     "user_tz": -330
    },
    "id": "xVN_16oU0p6o",
    "outputId": "eb0eae3c-d643-4570-a535-ba974a710315"
   },
   "outputs": [
    {
     "data": {
      "text/plain": [
       "MultiIndex([(   2.0, '2016-12-08'),\n",
       "            (   2.0, '2016-12-09'),\n",
       "            (   2.0, '2016-12-11'),\n",
       "            (   2.0, '2016-12-12'),\n",
       "            (   2.0, '2016-12-13'),\n",
       "            (   2.0, '2016-12-14'),\n",
       "            (   2.0, '2016-12-15'),\n",
       "            (   2.0, '2016-12-16'),\n",
       "            (   2.0, '2016-12-17'),\n",
       "            (   2.0, '2017-01-27'),\n",
       "            ...\n",
       "            (4372.0, '2017-10-16'),\n",
       "            (4372.0, '2017-10-17'),\n",
       "            (4372.0, '2017-10-18'),\n",
       "            (4372.0, '2017-10-19'),\n",
       "            (4372.0, '2017-10-20'),\n",
       "            (4372.0, '2017-10-21'),\n",
       "            (4372.0, '2017-10-22'),\n",
       "            (4372.0, '2017-10-30'),\n",
       "            (4372.0, '2017-11-02'),\n",
       "            (4372.0, '2017-11-06')],\n",
       "           names=['CustomerID', 'Date of purchase'], length=115676)"
      ]
     },
     "execution_count": 28,
     "metadata": {
      "tags": []
     },
     "output_type": "execute_result"
    }
   ],
   "source": [
    "gb.index"
   ]
  },
  {
   "cell_type": "code",
   "execution_count": 29,
   "metadata": {
    "colab": {
     "base_uri": "https://localhost:8080/"
    },
    "executionInfo": {
     "elapsed": 6,
     "status": "ok",
     "timestamp": 1624436021566,
     "user": {
      "displayName": "ronak lathiya",
      "photoUrl": "",
      "userId": "13017137450409577858"
     },
     "user_tz": -330
    },
    "id": "rtL9dRs41FtL",
    "outputId": "9f7d7674-c41f-4ec1-abfb-cfb2575860ea"
   },
   "outputs": [
    {
     "data": {
      "text/plain": [
       "array([[14363.],\n",
       "       [10722.],\n",
       "       [14084.],\n",
       "       ...,\n",
       "       [ 2544.],\n",
       "       [ 5076.],\n",
       "       [ 2544.]])"
      ]
     },
     "execution_count": 29,
     "metadata": {
      "tags": []
     },
     "output_type": "execute_result"
    }
   ],
   "source": [
    "gb.values"
   ]
  },
  {
   "cell_type": "code",
   "execution_count": 31,
   "metadata": {
    "executionInfo": {
     "elapsed": 2532,
     "status": "ok",
     "timestamp": 1624436596281,
     "user": {
      "displayName": "ronak lathiya",
      "photoUrl": "",
      "userId": "13017137450409577858"
     },
     "user_tz": -330
    },
    "id": "AtfNHeI31IR8"
   },
   "outputs": [],
   "source": [
    "customerID = []\n",
    "for i in range(len(gb.index)):\n",
    "    customerID.append(gb.index[i][0])"
   ]
  },
  {
   "cell_type": "code",
   "execution_count": 32,
   "metadata": {
    "executionInfo": {
     "elapsed": 2677,
     "status": "ok",
     "timestamp": 1624436610677,
     "user": {
      "displayName": "ronak lathiya",
      "photoUrl": "",
      "userId": "13017137450409577858"
     },
     "user_tz": -330
    },
    "id": "y3i-NefH1aPM"
   },
   "outputs": [],
   "source": [
    "date=[]\n",
    "for i in range(len(gb.index)):\n",
    "    date.append(gb.index[i][1])"
   ]
  },
  {
   "cell_type": "code",
   "execution_count": 33,
   "metadata": {
    "executionInfo": {
     "elapsed": 367,
     "status": "ok",
     "timestamp": 1624436631657,
     "user": {
      "displayName": "ronak lathiya",
      "photoUrl": "",
      "userId": "13017137450409577858"
     },
     "user_tz": -330
    },
    "id": "dxXZl0fX94lq"
   },
   "outputs": [],
   "source": [
    "price=gb.values"
   ]
  },
  {
   "cell_type": "code",
   "execution_count": 34,
   "metadata": {
    "executionInfo": {
     "elapsed": 371,
     "status": "ok",
     "timestamp": 1624436663209,
     "user": {
      "displayName": "ronak lathiya",
      "photoUrl": "",
      "userId": "13017137450409577858"
     },
     "user_tz": -330
    },
    "id": "DiI2Ekwx9-R-"
   },
   "outputs": [],
   "source": [
    "new_df = pd.DataFrame()"
   ]
  },
  {
   "cell_type": "code",
   "execution_count": 35,
   "metadata": {
    "executionInfo": {
     "elapsed": 358,
     "status": "ok",
     "timestamp": 1624436775313,
     "user": {
      "displayName": "ronak lathiya",
      "photoUrl": "",
      "userId": "13017137450409577858"
     },
     "user_tz": -330
    },
    "id": "EIzbtD63-F6X"
   },
   "outputs": [],
   "source": [
    "new_df[\"CustomerID\"]=customerID\n",
    "new_df[\"Date\"] = date\n",
    "new_df[\"Price\"] = price"
   ]
  },
  {
   "cell_type": "code",
   "execution_count": 36,
   "metadata": {
    "colab": {
     "base_uri": "https://localhost:8080/",
     "height": 203
    },
    "executionInfo": {
     "elapsed": 376,
     "status": "ok",
     "timestamp": 1624436782127,
     "user": {
      "displayName": "ronak lathiya",
      "photoUrl": "",
      "userId": "13017137450409577858"
     },
     "user_tz": -330
    },
    "id": "VEoYpRHt-hW9",
    "outputId": "47a3ed79-9839-4c1f-bb59-989c7e40fcdf"
   },
   "outputs": [
    {
     "data": {
      "text/html": [
       "<div>\n",
       "<style scoped>\n",
       "    .dataframe tbody tr th:only-of-type {\n",
       "        vertical-align: middle;\n",
       "    }\n",
       "\n",
       "    .dataframe tbody tr th {\n",
       "        vertical-align: top;\n",
       "    }\n",
       "\n",
       "    .dataframe thead th {\n",
       "        text-align: right;\n",
       "    }\n",
       "</style>\n",
       "<table border=\"1\" class=\"dataframe\">\n",
       "  <thead>\n",
       "    <tr style=\"text-align: right;\">\n",
       "      <th></th>\n",
       "      <th>CustomerID</th>\n",
       "      <th>Date</th>\n",
       "      <th>Price</th>\n",
       "    </tr>\n",
       "  </thead>\n",
       "  <tbody>\n",
       "    <tr>\n",
       "      <th>0</th>\n",
       "      <td>2.0</td>\n",
       "      <td>2016-12-08</td>\n",
       "      <td>14363.0</td>\n",
       "    </tr>\n",
       "    <tr>\n",
       "      <th>1</th>\n",
       "      <td>2.0</td>\n",
       "      <td>2016-12-09</td>\n",
       "      <td>10722.0</td>\n",
       "    </tr>\n",
       "    <tr>\n",
       "      <th>2</th>\n",
       "      <td>2.0</td>\n",
       "      <td>2016-12-11</td>\n",
       "      <td>14084.0</td>\n",
       "    </tr>\n",
       "    <tr>\n",
       "      <th>3</th>\n",
       "      <td>2.0</td>\n",
       "      <td>2016-12-12</td>\n",
       "      <td>2016.0</td>\n",
       "    </tr>\n",
       "    <tr>\n",
       "      <th>4</th>\n",
       "      <td>2.0</td>\n",
       "      <td>2016-12-13</td>\n",
       "      <td>14618.0</td>\n",
       "    </tr>\n",
       "  </tbody>\n",
       "</table>\n",
       "</div>"
      ],
      "text/plain": [
       "   CustomerID       Date    Price\n",
       "0         2.0 2016-12-08  14363.0\n",
       "1         2.0 2016-12-09  10722.0\n",
       "2         2.0 2016-12-11  14084.0\n",
       "3         2.0 2016-12-12   2016.0\n",
       "4         2.0 2016-12-13  14618.0"
      ]
     },
     "execution_count": 36,
     "metadata": {
      "tags": []
     },
     "output_type": "execute_result"
    }
   ],
   "source": [
    "new_df.head()"
   ]
  },
  {
   "cell_type": "markdown",
   "metadata": {
    "id": "30PIRdT7___O"
   },
   "source": [
    "Now, i am going to apply one more time groupby function when i previously applied groupby function it was aiming at considering different purchases on same day as single purchase for a particular customer. New groupby function will create group based on CustomerID. So that it will help me to get frequency of customers and their total spending. "
   ]
  },
  {
   "cell_type": "code",
   "execution_count": 40,
   "metadata": {
    "executionInfo": {
     "elapsed": 362,
     "status": "ok",
     "timestamp": 1624437774655,
     "user": {
      "displayName": "ronak lathiya",
      "photoUrl": "",
      "userId": "13017137450409577858"
     },
     "user_tz": -330
    },
    "id": "6R0HAy8oBi88"
   },
   "outputs": [],
   "source": [
    "new_gb = new_df.groupby(\"CustomerID\")"
   ]
  },
  {
   "cell_type": "code",
   "execution_count": 41,
   "metadata": {
    "colab": {
     "base_uri": "https://localhost:8080/",
     "height": 417
    },
    "executionInfo": {
     "elapsed": 365,
     "status": "ok",
     "timestamp": 1624437777703,
     "user": {
      "displayName": "ronak lathiya",
      "photoUrl": "",
      "userId": "13017137450409577858"
     },
     "user_tz": -330
    },
    "id": "znDfKmaCB_Na",
    "outputId": "0cf3cd64-432d-4ac6-ba0d-6b5ab9374345"
   },
   "outputs": [
    {
     "data": {
      "text/html": [
       "<div>\n",
       "<style scoped>\n",
       "    .dataframe tbody tr th:only-of-type {\n",
       "        vertical-align: middle;\n",
       "    }\n",
       "\n",
       "    .dataframe tbody tr th {\n",
       "        vertical-align: top;\n",
       "    }\n",
       "\n",
       "    .dataframe thead th {\n",
       "        text-align: right;\n",
       "    }\n",
       "</style>\n",
       "<table border=\"1\" class=\"dataframe\">\n",
       "  <thead>\n",
       "    <tr style=\"text-align: right;\">\n",
       "      <th></th>\n",
       "      <th>CustomerID</th>\n",
       "      <th>Date</th>\n",
       "      <th>Price</th>\n",
       "    </tr>\n",
       "  </thead>\n",
       "  <tbody>\n",
       "    <tr>\n",
       "      <th>0</th>\n",
       "      <td>2.0</td>\n",
       "      <td>2016-12-08</td>\n",
       "      <td>14363.0</td>\n",
       "    </tr>\n",
       "    <tr>\n",
       "      <th>1</th>\n",
       "      <td>2.0</td>\n",
       "      <td>2016-12-09</td>\n",
       "      <td>10722.0</td>\n",
       "    </tr>\n",
       "    <tr>\n",
       "      <th>2</th>\n",
       "      <td>2.0</td>\n",
       "      <td>2016-12-11</td>\n",
       "      <td>14084.0</td>\n",
       "    </tr>\n",
       "    <tr>\n",
       "      <th>3</th>\n",
       "      <td>2.0</td>\n",
       "      <td>2016-12-12</td>\n",
       "      <td>2016.0</td>\n",
       "    </tr>\n",
       "    <tr>\n",
       "      <th>4</th>\n",
       "      <td>2.0</td>\n",
       "      <td>2016-12-13</td>\n",
       "      <td>14618.0</td>\n",
       "    </tr>\n",
       "    <tr>\n",
       "      <th>...</th>\n",
       "      <td>...</td>\n",
       "      <td>...</td>\n",
       "      <td>...</td>\n",
       "    </tr>\n",
       "    <tr>\n",
       "      <th>115653</th>\n",
       "      <td>4372.0</td>\n",
       "      <td>2017-05-23</td>\n",
       "      <td>12786.0</td>\n",
       "    </tr>\n",
       "    <tr>\n",
       "      <th>115654</th>\n",
       "      <td>4372.0</td>\n",
       "      <td>2017-05-24</td>\n",
       "      <td>9656.0</td>\n",
       "    </tr>\n",
       "    <tr>\n",
       "      <th>115655</th>\n",
       "      <td>4372.0</td>\n",
       "      <td>2017-05-25</td>\n",
       "      <td>18372.0</td>\n",
       "    </tr>\n",
       "    <tr>\n",
       "      <th>115656</th>\n",
       "      <td>4372.0</td>\n",
       "      <td>2017-05-26</td>\n",
       "      <td>19296.0</td>\n",
       "    </tr>\n",
       "    <tr>\n",
       "      <th>115657</th>\n",
       "      <td>4372.0</td>\n",
       "      <td>2017-05-27</td>\n",
       "      <td>10774.0</td>\n",
       "    </tr>\n",
       "  </tbody>\n",
       "</table>\n",
       "<p>20884 rows × 3 columns</p>\n",
       "</div>"
      ],
      "text/plain": [
       "        CustomerID       Date    Price\n",
       "0              2.0 2016-12-08  14363.0\n",
       "1              2.0 2016-12-09  10722.0\n",
       "2              2.0 2016-12-11  14084.0\n",
       "3              2.0 2016-12-12   2016.0\n",
       "4              2.0 2016-12-13  14618.0\n",
       "...            ...        ...      ...\n",
       "115653      4372.0 2017-05-23  12786.0\n",
       "115654      4372.0 2017-05-24   9656.0\n",
       "115655      4372.0 2017-05-25  18372.0\n",
       "115656      4372.0 2017-05-26  19296.0\n",
       "115657      4372.0 2017-05-27  10774.0\n",
       "\n",
       "[20884 rows x 3 columns]"
      ]
     },
     "execution_count": 41,
     "metadata": {
      "tags": []
     },
     "output_type": "execute_result"
    }
   ],
   "source": [
    "new_gb.head()"
   ]
  },
  {
   "cell_type": "code",
   "execution_count": 42,
   "metadata": {
    "colab": {
     "base_uri": "https://localhost:8080/"
    },
    "executionInfo": {
     "elapsed": 365,
     "status": "ok",
     "timestamp": 1624437824647,
     "user": {
      "displayName": "ronak lathiya",
      "photoUrl": "",
      "userId": "13017137450409577858"
     },
     "user_tz": -330
    },
    "id": "9cBxybtoCQ7v",
    "outputId": "47c37130-a8db-438e-dc17-1b1b0a56f2ba"
   },
   "outputs": [
    {
     "data": {
      "text/plain": [
       "array([ 63,  18,  10, ...,  10, 132,  23])"
      ]
     },
     "execution_count": 42,
     "metadata": {
      "tags": []
     },
     "output_type": "execute_result"
    }
   ],
   "source": [
    "#this will give me frequency count for each customer. \n",
    "new_gb.size().values"
   ]
  },
  {
   "cell_type": "markdown",
   "metadata": {
    "id": "5B_PRjjEXFFG"
   },
   "source": [
    "Let me create one more dataframe. I will explain purpose of each variable in new dataframe once i have created."
   ]
  },
  {
   "cell_type": "code",
   "execution_count": 44,
   "metadata": {
    "executionInfo": {
     "elapsed": 364,
     "status": "ok",
     "timestamp": 1624443423011,
     "user": {
      "displayName": "ronak lathiya",
      "photoUrl": "",
      "userId": "13017137450409577858"
     },
     "user_tz": -330
    },
    "id": "MEkFWrSBWF3J"
   },
   "outputs": [],
   "source": [
    "extra_df = pd.DataFrame()"
   ]
  },
  {
   "cell_type": "code",
   "execution_count": 45,
   "metadata": {
    "executionInfo": {
     "elapsed": 363,
     "status": "ok",
     "timestamp": 1624444081021,
     "user": {
      "displayName": "ronak lathiya",
      "photoUrl": "",
      "userId": "13017137450409577858"
     },
     "user_tz": -330
    },
    "id": "M4O-DKBCX4VP"
   },
   "outputs": [],
   "source": [
    "extra_df[\"CustomerID\"] = new_gb.size().index  #this will give me customerID\n",
    "extra_df[\"Frequency\"] = new_gb.size().values  #this will give me frequency for particular customer\n",
    "extra_df[\"Max_Date\"] = new_gb[\"Date\"].agg(np.max).values #this will give me last buying date for customer in given data\n",
    "extra_df[\"Min_Date\"] = new_gb[\"Date\"].agg(np.min).values #this will give me first buying date for customer in given data\n",
    "extra_df[\"Price\"]=new_gb[\"Price\"].agg(np.sum).values #this will give me total spending of customer."
   ]
  },
  {
   "cell_type": "code",
   "execution_count": 46,
   "metadata": {
    "colab": {
     "base_uri": "https://localhost:8080/",
     "height": 203
    },
    "executionInfo": {
     "elapsed": 455,
     "status": "ok",
     "timestamp": 1624444091783,
     "user": {
      "displayName": "ronak lathiya",
      "photoUrl": "",
      "userId": "13017137450409577858"
     },
     "user_tz": -330
    },
    "id": "qpc6Ayu6aY-j",
    "outputId": "c662ceef-a730-4c88-d37a-e15f32f646c7"
   },
   "outputs": [
    {
     "data": {
      "text/html": [
       "<div>\n",
       "<style scoped>\n",
       "    .dataframe tbody tr th:only-of-type {\n",
       "        vertical-align: middle;\n",
       "    }\n",
       "\n",
       "    .dataframe tbody tr th {\n",
       "        vertical-align: top;\n",
       "    }\n",
       "\n",
       "    .dataframe thead th {\n",
       "        text-align: right;\n",
       "    }\n",
       "</style>\n",
       "<table border=\"1\" class=\"dataframe\">\n",
       "  <thead>\n",
       "    <tr style=\"text-align: right;\">\n",
       "      <th></th>\n",
       "      <th>CustomerID</th>\n",
       "      <th>Frequency</th>\n",
       "      <th>Max_Date</th>\n",
       "      <th>Min_Date</th>\n",
       "      <th>Price</th>\n",
       "    </tr>\n",
       "  </thead>\n",
       "  <tbody>\n",
       "    <tr>\n",
       "      <th>0</th>\n",
       "      <td>2.0</td>\n",
       "      <td>63</td>\n",
       "      <td>2017-12-16</td>\n",
       "      <td>2016-12-08</td>\n",
       "      <td>553704.0</td>\n",
       "    </tr>\n",
       "    <tr>\n",
       "      <th>1</th>\n",
       "      <td>3.0</td>\n",
       "      <td>18</td>\n",
       "      <td>2017-10-04</td>\n",
       "      <td>2016-12-19</td>\n",
       "      <td>257404.0</td>\n",
       "    </tr>\n",
       "    <tr>\n",
       "      <th>2</th>\n",
       "      <td>4.0</td>\n",
       "      <td>10</td>\n",
       "      <td>2017-12-01</td>\n",
       "      <td>2017-11-22</td>\n",
       "      <td>176613.0</td>\n",
       "    </tr>\n",
       "    <tr>\n",
       "      <th>3</th>\n",
       "      <td>5.0</td>\n",
       "      <td>7</td>\n",
       "      <td>2017-02-12</td>\n",
       "      <td>2017-02-03</td>\n",
       "      <td>41976.0</td>\n",
       "    </tr>\n",
       "    <tr>\n",
       "      <th>4</th>\n",
       "      <td>6.0</td>\n",
       "      <td>41</td>\n",
       "      <td>2017-11-13</td>\n",
       "      <td>2017-02-17</td>\n",
       "      <td>166972.0</td>\n",
       "    </tr>\n",
       "  </tbody>\n",
       "</table>\n",
       "</div>"
      ],
      "text/plain": [
       "   CustomerID  Frequency   Max_Date   Min_Date     Price\n",
       "0         2.0         63 2017-12-16 2016-12-08  553704.0\n",
       "1         3.0         18 2017-10-04 2016-12-19  257404.0\n",
       "2         4.0         10 2017-12-01 2017-11-22  176613.0\n",
       "3         5.0          7 2017-02-12 2017-02-03   41976.0\n",
       "4         6.0         41 2017-11-13 2017-02-17  166972.0"
      ]
     },
     "execution_count": 46,
     "metadata": {
      "tags": []
     },
     "output_type": "execute_result"
    }
   ],
   "source": [
    "extra_df.head()"
   ]
  },
  {
   "cell_type": "markdown",
   "metadata": {
    "id": "rQ5DFg9Oavdg"
   },
   "source": [
    "I have created new dataframe because i wanted to know how long(time period) customer is buying.\n",
    "reason to do so that is to know true regular customers. For example suppose one customer has bought all days in a starting month of a year.Let say starting month is january and customer has bought items all days of january month.It will give me frequency count of 31(as january has 31 days). But can i say he is my regular customer if he has never visited store after first month in that year ? I can't consider him regular customer and that's why i need both frequency count and time period to know true regular customers. I will get time period by substracting Min_Date from Max_Date."
   ]
  },
  {
   "cell_type": "code",
   "execution_count": 48,
   "metadata": {
    "executionInfo": {
     "elapsed": 372,
     "status": "ok",
     "timestamp": 1624445215438,
     "user": {
      "displayName": "ronak lathiya",
      "photoUrl": "",
      "userId": "13017137450409577858"
     },
     "user_tz": -330
    },
    "id": "7_leJFwqeJsC"
   },
   "outputs": [],
   "source": [
    "extra_df[\"Time Period\"] = (extra_df[\"Max_Date\"]-extra_df[\"Min_Date\"])/np.timedelta64(1,\"D\")"
   ]
  },
  {
   "cell_type": "code",
   "execution_count": 49,
   "metadata": {
    "colab": {
     "base_uri": "https://localhost:8080/",
     "height": 203
    },
    "executionInfo": {
     "elapsed": 375,
     "status": "ok",
     "timestamp": 1624445228996,
     "user": {
      "displayName": "ronak lathiya",
      "photoUrl": "",
      "userId": "13017137450409577858"
     },
     "user_tz": -330
    },
    "id": "3N5oERj1eoyo",
    "outputId": "292c9cc0-a36e-4cf3-cf03-7c098485f502"
   },
   "outputs": [
    {
     "data": {
      "text/html": [
       "<div>\n",
       "<style scoped>\n",
       "    .dataframe tbody tr th:only-of-type {\n",
       "        vertical-align: middle;\n",
       "    }\n",
       "\n",
       "    .dataframe tbody tr th {\n",
       "        vertical-align: top;\n",
       "    }\n",
       "\n",
       "    .dataframe thead th {\n",
       "        text-align: right;\n",
       "    }\n",
       "</style>\n",
       "<table border=\"1\" class=\"dataframe\">\n",
       "  <thead>\n",
       "    <tr style=\"text-align: right;\">\n",
       "      <th></th>\n",
       "      <th>CustomerID</th>\n",
       "      <th>Frequency</th>\n",
       "      <th>Max_Date</th>\n",
       "      <th>Min_Date</th>\n",
       "      <th>Price</th>\n",
       "      <th>Time Period</th>\n",
       "    </tr>\n",
       "  </thead>\n",
       "  <tbody>\n",
       "    <tr>\n",
       "      <th>0</th>\n",
       "      <td>2.0</td>\n",
       "      <td>63</td>\n",
       "      <td>2017-12-16</td>\n",
       "      <td>2016-12-08</td>\n",
       "      <td>553704.0</td>\n",
       "      <td>373.0</td>\n",
       "    </tr>\n",
       "    <tr>\n",
       "      <th>1</th>\n",
       "      <td>3.0</td>\n",
       "      <td>18</td>\n",
       "      <td>2017-10-04</td>\n",
       "      <td>2016-12-19</td>\n",
       "      <td>257404.0</td>\n",
       "      <td>289.0</td>\n",
       "    </tr>\n",
       "    <tr>\n",
       "      <th>2</th>\n",
       "      <td>4.0</td>\n",
       "      <td>10</td>\n",
       "      <td>2017-12-01</td>\n",
       "      <td>2017-11-22</td>\n",
       "      <td>176613.0</td>\n",
       "      <td>9.0</td>\n",
       "    </tr>\n",
       "    <tr>\n",
       "      <th>3</th>\n",
       "      <td>5.0</td>\n",
       "      <td>7</td>\n",
       "      <td>2017-02-12</td>\n",
       "      <td>2017-02-03</td>\n",
       "      <td>41976.0</td>\n",
       "      <td>9.0</td>\n",
       "    </tr>\n",
       "    <tr>\n",
       "      <th>4</th>\n",
       "      <td>6.0</td>\n",
       "      <td>41</td>\n",
       "      <td>2017-11-13</td>\n",
       "      <td>2017-02-17</td>\n",
       "      <td>166972.0</td>\n",
       "      <td>269.0</td>\n",
       "    </tr>\n",
       "  </tbody>\n",
       "</table>\n",
       "</div>"
      ],
      "text/plain": [
       "   CustomerID  Frequency   Max_Date   Min_Date     Price  Time Period\n",
       "0         2.0         63 2017-12-16 2016-12-08  553704.0        373.0\n",
       "1         3.0         18 2017-10-04 2016-12-19  257404.0        289.0\n",
       "2         4.0         10 2017-12-01 2017-11-22  176613.0          9.0\n",
       "3         5.0          7 2017-02-12 2017-02-03   41976.0          9.0\n",
       "4         6.0         41 2017-11-13 2017-02-17  166972.0        269.0"
      ]
     },
     "execution_count": 49,
     "metadata": {
      "tags": []
     },
     "output_type": "execute_result"
    }
   ],
   "source": [
    "extra_df.head()"
   ]
  },
  {
   "cell_type": "markdown",
   "metadata": {
    "id": "qK2RkJkbiIfx"
   },
   "source": [
    "I am going to divide Time Period by 365(1 year) so that i can get relative time period.\n",
    "I will also create one feature which will be multiplication of new created Time Period and frequency.Purpose of doing that it will combine both individual variables into single variable. That variable we will utilize in our model with Price variable. So at the end we will have only two variables and we can easily visualize data in 2D. This new combine variable will have less value if i have less value for either of two individual variables(which shows that my customer is not much important according to combine variable) and  my combine variable has higher value if both my individual variables have high values(which shows that my customer is important according to combine variable)."
   ]
  },
  {
   "cell_type": "code",
   "execution_count": 50,
   "metadata": {
    "executionInfo": {
     "elapsed": 364,
     "status": "ok",
     "timestamp": 1624450561995,
     "user": {
      "displayName": "ronak lathiya",
      "photoUrl": "",
      "userId": "13017137450409577858"
     },
     "user_tz": -330
    },
    "id": "hE1zpenqmpYq"
   },
   "outputs": [],
   "source": [
    "extra_df[\"Time Period\"] = extra_df[\"Time Period\"]/365"
   ]
  },
  {
   "cell_type": "code",
   "execution_count": 51,
   "metadata": {
    "colab": {
     "base_uri": "https://localhost:8080/",
     "height": 203
    },
    "executionInfo": {
     "elapsed": 618,
     "status": "ok",
     "timestamp": 1624450569928,
     "user": {
      "displayName": "ronak lathiya",
      "photoUrl": "",
      "userId": "13017137450409577858"
     },
     "user_tz": -330
    },
    "id": "S9gVb8HIzHQB",
    "outputId": "ea77e1f0-eb88-4a67-f632-236777c29df0"
   },
   "outputs": [
    {
     "data": {
      "text/html": [
       "<div>\n",
       "<style scoped>\n",
       "    .dataframe tbody tr th:only-of-type {\n",
       "        vertical-align: middle;\n",
       "    }\n",
       "\n",
       "    .dataframe tbody tr th {\n",
       "        vertical-align: top;\n",
       "    }\n",
       "\n",
       "    .dataframe thead th {\n",
       "        text-align: right;\n",
       "    }\n",
       "</style>\n",
       "<table border=\"1\" class=\"dataframe\">\n",
       "  <thead>\n",
       "    <tr style=\"text-align: right;\">\n",
       "      <th></th>\n",
       "      <th>CustomerID</th>\n",
       "      <th>Frequency</th>\n",
       "      <th>Max_Date</th>\n",
       "      <th>Min_Date</th>\n",
       "      <th>Price</th>\n",
       "      <th>Time Period</th>\n",
       "    </tr>\n",
       "  </thead>\n",
       "  <tbody>\n",
       "    <tr>\n",
       "      <th>0</th>\n",
       "      <td>2.0</td>\n",
       "      <td>63</td>\n",
       "      <td>2017-12-16</td>\n",
       "      <td>2016-12-08</td>\n",
       "      <td>553704.0</td>\n",
       "      <td>1.021918</td>\n",
       "    </tr>\n",
       "    <tr>\n",
       "      <th>1</th>\n",
       "      <td>3.0</td>\n",
       "      <td>18</td>\n",
       "      <td>2017-10-04</td>\n",
       "      <td>2016-12-19</td>\n",
       "      <td>257404.0</td>\n",
       "      <td>0.791781</td>\n",
       "    </tr>\n",
       "    <tr>\n",
       "      <th>2</th>\n",
       "      <td>4.0</td>\n",
       "      <td>10</td>\n",
       "      <td>2017-12-01</td>\n",
       "      <td>2017-11-22</td>\n",
       "      <td>176613.0</td>\n",
       "      <td>0.024658</td>\n",
       "    </tr>\n",
       "    <tr>\n",
       "      <th>3</th>\n",
       "      <td>5.0</td>\n",
       "      <td>7</td>\n",
       "      <td>2017-02-12</td>\n",
       "      <td>2017-02-03</td>\n",
       "      <td>41976.0</td>\n",
       "      <td>0.024658</td>\n",
       "    </tr>\n",
       "    <tr>\n",
       "      <th>4</th>\n",
       "      <td>6.0</td>\n",
       "      <td>41</td>\n",
       "      <td>2017-11-13</td>\n",
       "      <td>2017-02-17</td>\n",
       "      <td>166972.0</td>\n",
       "      <td>0.736986</td>\n",
       "    </tr>\n",
       "  </tbody>\n",
       "</table>\n",
       "</div>"
      ],
      "text/plain": [
       "   CustomerID  Frequency   Max_Date   Min_Date     Price  Time Period\n",
       "0         2.0         63 2017-12-16 2016-12-08  553704.0     1.021918\n",
       "1         3.0         18 2017-10-04 2016-12-19  257404.0     0.791781\n",
       "2         4.0         10 2017-12-01 2017-11-22  176613.0     0.024658\n",
       "3         5.0          7 2017-02-12 2017-02-03   41976.0     0.024658\n",
       "4         6.0         41 2017-11-13 2017-02-17  166972.0     0.736986"
      ]
     },
     "execution_count": 51,
     "metadata": {
      "tags": []
     },
     "output_type": "execute_result"
    }
   ],
   "source": [
    "extra_df.head()"
   ]
  },
  {
   "cell_type": "code",
   "execution_count": 52,
   "metadata": {
    "executionInfo": {
     "elapsed": 359,
     "status": "ok",
     "timestamp": 1624450647645,
     "user": {
      "displayName": "ronak lathiya",
      "photoUrl": "",
      "userId": "13017137450409577858"
     },
     "user_tz": -330
    },
    "id": "bMDiiVOjzJBG"
   },
   "outputs": [],
   "source": [
    "extra_df[\"Combine Vaiable\"] = (extra_df[\"Time Period\"])*(extra_df[\"Frequency\"])"
   ]
  },
  {
   "cell_type": "code",
   "execution_count": 53,
   "metadata": {
    "colab": {
     "base_uri": "https://localhost:8080/",
     "height": 203
    },
    "executionInfo": {
     "elapsed": 367,
     "status": "ok",
     "timestamp": 1624450654767,
     "user": {
      "displayName": "ronak lathiya",
      "photoUrl": "",
      "userId": "13017137450409577858"
     },
     "user_tz": -330
    },
    "id": "EaiADypCzcKN",
    "outputId": "cb8b58ad-2eb6-4408-82aa-b7e7f14fc059"
   },
   "outputs": [
    {
     "data": {
      "text/html": [
       "<div>\n",
       "<style scoped>\n",
       "    .dataframe tbody tr th:only-of-type {\n",
       "        vertical-align: middle;\n",
       "    }\n",
       "\n",
       "    .dataframe tbody tr th {\n",
       "        vertical-align: top;\n",
       "    }\n",
       "\n",
       "    .dataframe thead th {\n",
       "        text-align: right;\n",
       "    }\n",
       "</style>\n",
       "<table border=\"1\" class=\"dataframe\">\n",
       "  <thead>\n",
       "    <tr style=\"text-align: right;\">\n",
       "      <th></th>\n",
       "      <th>CustomerID</th>\n",
       "      <th>Frequency</th>\n",
       "      <th>Max_Date</th>\n",
       "      <th>Min_Date</th>\n",
       "      <th>Price</th>\n",
       "      <th>Time Period</th>\n",
       "      <th>Combine Vaiable</th>\n",
       "    </tr>\n",
       "  </thead>\n",
       "  <tbody>\n",
       "    <tr>\n",
       "      <th>0</th>\n",
       "      <td>2.0</td>\n",
       "      <td>63</td>\n",
       "      <td>2017-12-16</td>\n",
       "      <td>2016-12-08</td>\n",
       "      <td>553704.0</td>\n",
       "      <td>1.021918</td>\n",
       "      <td>64.380822</td>\n",
       "    </tr>\n",
       "    <tr>\n",
       "      <th>1</th>\n",
       "      <td>3.0</td>\n",
       "      <td>18</td>\n",
       "      <td>2017-10-04</td>\n",
       "      <td>2016-12-19</td>\n",
       "      <td>257404.0</td>\n",
       "      <td>0.791781</td>\n",
       "      <td>14.252055</td>\n",
       "    </tr>\n",
       "    <tr>\n",
       "      <th>2</th>\n",
       "      <td>4.0</td>\n",
       "      <td>10</td>\n",
       "      <td>2017-12-01</td>\n",
       "      <td>2017-11-22</td>\n",
       "      <td>176613.0</td>\n",
       "      <td>0.024658</td>\n",
       "      <td>0.246575</td>\n",
       "    </tr>\n",
       "    <tr>\n",
       "      <th>3</th>\n",
       "      <td>5.0</td>\n",
       "      <td>7</td>\n",
       "      <td>2017-02-12</td>\n",
       "      <td>2017-02-03</td>\n",
       "      <td>41976.0</td>\n",
       "      <td>0.024658</td>\n",
       "      <td>0.172603</td>\n",
       "    </tr>\n",
       "    <tr>\n",
       "      <th>4</th>\n",
       "      <td>6.0</td>\n",
       "      <td>41</td>\n",
       "      <td>2017-11-13</td>\n",
       "      <td>2017-02-17</td>\n",
       "      <td>166972.0</td>\n",
       "      <td>0.736986</td>\n",
       "      <td>30.216438</td>\n",
       "    </tr>\n",
       "  </tbody>\n",
       "</table>\n",
       "</div>"
      ],
      "text/plain": [
       "   CustomerID  Frequency   Max_Date  ...     Price  Time Period  Combine Vaiable\n",
       "0         2.0         63 2017-12-16  ...  553704.0     1.021918        64.380822\n",
       "1         3.0         18 2017-10-04  ...  257404.0     0.791781        14.252055\n",
       "2         4.0         10 2017-12-01  ...  176613.0     0.024658         0.246575\n",
       "3         5.0          7 2017-02-12  ...   41976.0     0.024658         0.172603\n",
       "4         6.0         41 2017-11-13  ...  166972.0     0.736986        30.216438\n",
       "\n",
       "[5 rows x 7 columns]"
      ]
     },
     "execution_count": 53,
     "metadata": {
      "tags": []
     },
     "output_type": "execute_result"
    }
   ],
   "source": [
    "extra_df.head()"
   ]
  },
  {
   "cell_type": "code",
   "execution_count": 54,
   "metadata": {
    "executionInfo": {
     "elapsed": 361,
     "status": "ok",
     "timestamp": 1624450809391,
     "user": {
      "displayName": "ronak lathiya",
      "photoUrl": "",
      "userId": "13017137450409577858"
     },
     "user_tz": -330
    },
    "id": "ONUmMOdEzdw9"
   },
   "outputs": [],
   "source": [
    "final_df = extra_df.drop([\"Frequency\",\"Max_Date\",\"Min_Date\",\"Time Period\"],axis=1)"
   ]
  },
  {
   "cell_type": "code",
   "execution_count": 55,
   "metadata": {
    "colab": {
     "base_uri": "https://localhost:8080/",
     "height": 203
    },
    "executionInfo": {
     "elapsed": 362,
     "status": "ok",
     "timestamp": 1624450820319,
     "user": {
      "displayName": "ronak lathiya",
      "photoUrl": "",
      "userId": "13017137450409577858"
     },
     "user_tz": -330
    },
    "id": "KJO-1kGA0Dpm",
    "outputId": "14de557a-692f-4ae7-c83d-e1db91348778"
   },
   "outputs": [
    {
     "data": {
      "text/html": [
       "<div>\n",
       "<style scoped>\n",
       "    .dataframe tbody tr th:only-of-type {\n",
       "        vertical-align: middle;\n",
       "    }\n",
       "\n",
       "    .dataframe tbody tr th {\n",
       "        vertical-align: top;\n",
       "    }\n",
       "\n",
       "    .dataframe thead th {\n",
       "        text-align: right;\n",
       "    }\n",
       "</style>\n",
       "<table border=\"1\" class=\"dataframe\">\n",
       "  <thead>\n",
       "    <tr style=\"text-align: right;\">\n",
       "      <th></th>\n",
       "      <th>CustomerID</th>\n",
       "      <th>Price</th>\n",
       "      <th>Combine Vaiable</th>\n",
       "    </tr>\n",
       "  </thead>\n",
       "  <tbody>\n",
       "    <tr>\n",
       "      <th>0</th>\n",
       "      <td>2.0</td>\n",
       "      <td>553704.0</td>\n",
       "      <td>64.380822</td>\n",
       "    </tr>\n",
       "    <tr>\n",
       "      <th>1</th>\n",
       "      <td>3.0</td>\n",
       "      <td>257404.0</td>\n",
       "      <td>14.252055</td>\n",
       "    </tr>\n",
       "    <tr>\n",
       "      <th>2</th>\n",
       "      <td>4.0</td>\n",
       "      <td>176613.0</td>\n",
       "      <td>0.246575</td>\n",
       "    </tr>\n",
       "    <tr>\n",
       "      <th>3</th>\n",
       "      <td>5.0</td>\n",
       "      <td>41976.0</td>\n",
       "      <td>0.172603</td>\n",
       "    </tr>\n",
       "    <tr>\n",
       "      <th>4</th>\n",
       "      <td>6.0</td>\n",
       "      <td>166972.0</td>\n",
       "      <td>30.216438</td>\n",
       "    </tr>\n",
       "  </tbody>\n",
       "</table>\n",
       "</div>"
      ],
      "text/plain": [
       "   CustomerID     Price  Combine Vaiable\n",
       "0         2.0  553704.0        64.380822\n",
       "1         3.0  257404.0        14.252055\n",
       "2         4.0  176613.0         0.246575\n",
       "3         5.0   41976.0         0.172603\n",
       "4         6.0  166972.0        30.216438"
      ]
     },
     "execution_count": 55,
     "metadata": {
      "tags": []
     },
     "output_type": "execute_result"
    }
   ],
   "source": [
    "final_df.head()"
   ]
  },
  {
   "cell_type": "code",
   "execution_count": 71,
   "metadata": {
    "executionInfo": {
     "elapsed": 362,
     "status": "ok",
     "timestamp": 1624453340374,
     "user": {
      "displayName": "ronak lathiya",
      "photoUrl": "",
      "userId": "13017137450409577858"
     },
     "user_tz": -330
    },
    "id": "luGoauXe64r6"
   },
   "outputs": [],
   "source": [
    "final_df.rename(columns = {'Combine Vaiable':'Combine Variable'}, inplace = True)\n"
   ]
  },
  {
   "cell_type": "markdown",
   "metadata": {
    "id": "0-NJqg9c0Qgq"
   },
   "source": [
    "One last step remaining before we apply KMeans algorithm and that is checking outliers because KMeans algorithm get affected by outliers."
   ]
  },
  {
   "cell_type": "code",
   "execution_count": 66,
   "metadata": {
    "colab": {
     "base_uri": "https://localhost:8080/",
     "height": 280
    },
    "executionInfo": {
     "elapsed": 394,
     "status": "ok",
     "timestamp": 1624451805252,
     "user": {
      "displayName": "ronak lathiya",
      "photoUrl": "",
      "userId": "13017137450409577858"
     },
     "user_tz": -330
    },
    "id": "5WwtFDtB2Njd",
    "outputId": "94c59810-8363-47d0-f7a4-7a11371abc18"
   },
   "outputs": [
    {
     "data": {
      "text/plain": [
       "<matplotlib.axes._subplots.AxesSubplot at 0x7f0d4e2c1750>"
      ]
     },
     "execution_count": 66,
     "metadata": {
      "tags": []
     },
     "output_type": "execute_result"
    },
    {
     "data": {
      "image/png": "[encoded data removed]",
      "text/plain": [
       "<Figure size 432x288 with 1 Axes>"
      ]
     },
     "metadata": {
      "needs_background": "light",
      "tags": []
     },
     "output_type": "display_data"
    }
   ],
   "source": [
    "sns.boxplot(y=final_df[\"Price\"])"
   ]
  },
  {
   "cell_type": "markdown",
   "metadata": {
    "id": "nvL4ThUC36An"
   },
   "source": [
    "Very wide range of Price. Let me reduce that range so that we can visualize boxplot very well. "
   ]
  },
  {
   "cell_type": "code",
   "execution_count": 67,
   "metadata": {
    "executionInfo": {
     "elapsed": 354,
     "status": "ok",
     "timestamp": 1624452021289,
     "user": {
      "displayName": "ronak lathiya",
      "photoUrl": "",
      "userId": "13017137450409577858"
     },
     "user_tz": -330
    },
    "id": "lbsF4qhq4jCB"
   },
   "outputs": [],
   "source": [
    "final_df[\"Price\"] = np.sqrt(final_df[\"Price\"])"
   ]
  },
  {
   "cell_type": "code",
   "execution_count": 68,
   "metadata": {
    "colab": {
     "base_uri": "https://localhost:8080/",
     "height": 269
    },
    "executionInfo": {
     "elapsed": 601,
     "status": "ok",
     "timestamp": 1624452028842,
     "user": {
      "displayName": "ronak lathiya",
      "photoUrl": "",
      "userId": "13017137450409577858"
     },
     "user_tz": -330
    },
    "id": "TS7EmGxl4rhr",
    "outputId": "499cb937-6e69-4377-c9d0-111020656bf1"
   },
   "outputs": [
    {
     "data": {
      "text/plain": [
       "<matplotlib.axes._subplots.AxesSubplot at 0x7f0d4cb1d350>"
      ]
     },
     "execution_count": 68,
     "metadata": {
      "tags": []
     },
     "output_type": "execute_result"
    },
    {
     "data": {
      "image/png": "[encoded data removed]",
      "text/plain": [
       "<Figure size 432x288 with 1 Axes>"
      ]
     },
     "metadata": {
      "needs_background": "light",
      "tags": []
     },
     "output_type": "display_data"
    }
   ],
   "source": [
    "sns.boxplot(y=final_df[\"Price\"])"
   ]
  },
  {
   "cell_type": "markdown",
   "metadata": {
    "id": "Mv6yioEc48Ui"
   },
   "source": [
    "There are many extreme values. We can not remove them.Let me bring very extreme values to 3000."
   ]
  },
  {
   "cell_type": "code",
   "execution_count": 70,
   "metadata": {
    "executionInfo": {
     "elapsed": 354,
     "status": "ok",
     "timestamp": 1624452443151,
     "user": {
      "displayName": "ronak lathiya",
      "photoUrl": "",
      "userId": "13017137450409577858"
     },
     "user_tz": -330
    },
    "id": "oyYtHE7v4tTy"
   },
   "outputs": [],
   "source": [
    "final_df.loc[final_df[final_df[\"Price\"]>3000].index,[\"Price\"]] =3000"
   ]
  },
  {
   "cell_type": "code",
   "execution_count": 72,
   "metadata": {
    "colab": {
     "base_uri": "https://localhost:8080/",
     "height": 269
    },
    "executionInfo": {
     "elapsed": 395,
     "status": "ok",
     "timestamp": 1624453401778,
     "user": {
      "displayName": "ronak lathiya",
      "photoUrl": "",
      "userId": "13017137450409577858"
     },
     "user_tz": -330
    },
    "id": "_k33qEbh6OCK",
    "outputId": "a1788f2f-ebb2-446a-d4da-91f57fdede83"
   },
   "outputs": [
    {
     "data": {
      "text/plain": [
       "<matplotlib.axes._subplots.AxesSubplot at 0x7f0d510ba310>"
      ]
     },
     "execution_count": 72,
     "metadata": {
      "tags": []
     },
     "output_type": "execute_result"
    },
    {
     "data": {
      "image/png": "[encoded data removed]",
      "text/plain": [
       "<Figure size 432x288 with 1 Axes>"
      ]
     },
     "metadata": {
      "needs_background": "light",
      "tags": []
     },
     "output_type": "display_data"
    }
   ],
   "source": [
    "sns.boxplot(y=final_df[\"Combine Variable\"])"
   ]
  },
  {
   "cell_type": "markdown",
   "metadata": {
    "id": "9v44vch5-ENZ"
   },
   "source": [
    "There are many extreme values.We can not remove them. Let me bring very extreme values to 250."
   ]
  },
  {
   "cell_type": "code",
   "execution_count": 89,
   "metadata": {
    "executionInfo": {
     "elapsed": 356,
     "status": "ok",
     "timestamp": 1624456208793,
     "user": {
      "displayName": "ronak lathiya",
      "photoUrl": "",
      "userId": "13017137450409577858"
     },
     "user_tz": -330
    },
    "id": "yWIaaioh_QEN"
   },
   "outputs": [],
   "source": [
    "final_df.loc[final_df[final_df[\"Combine Variable\"]>250].index,[\"Combine Variable\"]] = 250"
   ]
  },
  {
   "cell_type": "code",
   "execution_count": 90,
   "metadata": {
    "executionInfo": {
     "elapsed": 362,
     "status": "ok",
     "timestamp": 1624456223059,
     "user": {
      "displayName": "ronak lathiya",
      "photoUrl": "",
      "userId": "13017137450409577858"
     },
     "user_tz": -330
    },
    "id": "QZ8-gd07_etc"
   },
   "outputs": [],
   "source": [
    "X = final_df.iloc[:,[1,2]]"
   ]
  },
  {
   "cell_type": "code",
   "execution_count": 91,
   "metadata": {
    "executionInfo": {
     "elapsed": 361,
     "status": "ok",
     "timestamp": 1624456226470,
     "user": {
      "displayName": "ronak lathiya",
      "photoUrl": "",
      "userId": "13017137450409577858"
     },
     "user_tz": -330
    },
    "id": "8CamODKy_xjQ"
   },
   "outputs": [],
   "source": [
    "from sklearn.preprocessing import StandardScaler\n",
    "scaler = StandardScaler()\n",
    "X=scaler.fit_transform(X)"
   ]
  },
  {
   "cell_type": "markdown",
   "metadata": {
    "id": "qrcok3TeAHPy"
   },
   "source": [
    "Let us build model now."
   ]
  },
  {
   "cell_type": "code",
   "execution_count": 92,
   "metadata": {
    "colab": {
     "base_uri": "https://localhost:8080/",
     "height": 295
    },
    "executionInfo": {
     "elapsed": 1881,
     "status": "ok",
     "timestamp": 1624456232789,
     "user": {
      "displayName": "ronak lathiya",
      "photoUrl": "",
      "userId": "13017137450409577858"
     },
     "user_tz": -330
    },
    "id": "y04XfRsR_0Im",
    "outputId": "aebce97d-70cf-4c11-8bd5-70ca23fdf20d"
   },
   "outputs": [
    {
     "data": {
      "image/png": "[encoded data removed]",
      "text/plain": [
       "<Figure size 432x288 with 1 Axes>"
      ]
     },
     "metadata": {
      "needs_background": "light",
      "tags": []
     },
     "output_type": "display_data"
    }
   ],
   "source": [
    "from sklearn.cluster import KMeans\n",
    "\n",
    "wsse=[]\n",
    "for i  in range(1,11):\n",
    "     kmeans = KMeans(n_clusters=i,random_state =10)\n",
    "     kmeans.fit(X)\n",
    "     wsse.append(kmeans.inertia_)\n",
    "plt.plot(range(1,11),wsse)\n",
    "plt.title(\"The Elbow Method\")\n",
    "plt.xlabel(\"Number of clusters\")\n",
    "plt.ylabel(\"WSSE\")\n",
    "plt.show()"
   ]
  },
  {
   "cell_type": "markdown",
   "metadata": {
    "id": "PyqGffFoCtkj"
   },
   "source": [
    "cluster values 3 & 4 seem more appropriate. Let us check both one by one."
   ]
  },
  {
   "cell_type": "markdown",
   "metadata": {
    "id": "zS9bCwWmC-_w"
   },
   "source": [
    "clusters =3"
   ]
  },
  {
   "cell_type": "code",
   "execution_count": 93,
   "metadata": {
    "executionInfo": {
     "elapsed": 365,
     "status": "ok",
     "timestamp": 1624456238382,
     "user": {
      "displayName": "ronak lathiya",
      "photoUrl": "",
      "userId": "13017137450409577858"
     },
     "user_tz": -330
    },
    "id": "QJPeAGeeASd3"
   },
   "outputs": [],
   "source": [
    "kmeans = KMeans(n_clusters=3,random_state =10)\n",
    "y_pred= kmeans.fit_predict(X)"
   ]
  },
  {
   "cell_type": "code",
   "execution_count": 94,
   "metadata": {
    "executionInfo": {
     "elapsed": 446,
     "status": "ok",
     "timestamp": 1624456242522,
     "user": {
      "displayName": "ronak lathiya",
      "photoUrl": "",
      "userId": "13017137450409577858"
     },
     "user_tz": -330
    },
    "id": "Je-qmFTKBuNz"
   },
   "outputs": [],
   "source": [
    "final_df[\"clusters3\"] = y_pred"
   ]
  },
  {
   "cell_type": "code",
   "execution_count": 95,
   "metadata": {
    "colab": {
     "base_uri": "https://localhost:8080/",
     "height": 400
    },
    "executionInfo": {
     "elapsed": 1357,
     "status": "ok",
     "timestamp": 1624456248029,
     "user": {
      "displayName": "ronak lathiya",
      "photoUrl": "",
      "userId": "13017137450409577858"
     },
     "user_tz": -330
    },
    "id": "fkLfuBomCakW",
    "outputId": "c5593f2b-5e58-47f2-dcac-d49145a3ef00"
   },
   "outputs": [
    {
     "data": {
      "text/plain": [
       "<seaborn.axisgrid.FacetGrid at 0x7f0d4bd13c10>"
      ]
     },
     "execution_count": 95,
     "metadata": {
      "tags": []
     },
     "output_type": "execute_result"
    },
    {
     "data": {
      "image/png": "[encoded data removed]",
      "text/plain": [
       "<Figure size 413.625x360 with 1 Axes>"
      ]
     },
     "metadata": {
      "needs_background": "light",
      "tags": []
     },
     "output_type": "display_data"
    }
   ],
   "source": [
    "sns.lmplot(data=final_df,x=\"Combine Variable\",y=\"Price\",fit_reg=False,hue=\"clusters3\")"
   ]
  },
  {
   "cell_type": "markdown",
   "metadata": {
    "id": "PEwhG2oIDEWp"
   },
   "source": [
    "clusters =4"
   ]
  },
  {
   "cell_type": "code",
   "execution_count": 96,
   "metadata": {
    "executionInfo": {
     "elapsed": 360,
     "status": "ok",
     "timestamp": 1624456276387,
     "user": {
      "displayName": "ronak lathiya",
      "photoUrl": "",
      "userId": "13017137450409577858"
     },
     "user_tz": -330
    },
    "id": "ImXqeCmUCmRI"
   },
   "outputs": [],
   "source": [
    "kmeans = KMeans(n_clusters=4,random_state =10)\n",
    "y_pred= kmeans.fit_predict(X)"
   ]
  },
  {
   "cell_type": "code",
   "execution_count": 97,
   "metadata": {
    "executionInfo": {
     "elapsed": 4,
     "status": "ok",
     "timestamp": 1624456277913,
     "user": {
      "displayName": "ronak lathiya",
      "photoUrl": "",
      "userId": "13017137450409577858"
     },
     "user_tz": -330
    },
    "id": "H_0HSx3UDMmE"
   },
   "outputs": [],
   "source": [
    "final_df[\"clusters4\"] = y_pred"
   ]
  },
  {
   "cell_type": "code",
   "execution_count": 98,
   "metadata": {
    "colab": {
     "base_uri": "https://localhost:8080/",
     "height": 400
    },
    "executionInfo": {
     "elapsed": 1239,
     "status": "ok",
     "timestamp": 1624456283371,
     "user": {
      "displayName": "ronak lathiya",
      "photoUrl": "",
      "userId": "13017137450409577858"
     },
     "user_tz": -330
    },
    "id": "kCM4K4nvDRBs",
    "outputId": "3603cb10-0321-416e-f2fe-729dd9a83fd4"
   },
   "outputs": [
    {
     "data": {
      "text/plain": [
       "<seaborn.axisgrid.FacetGrid at 0x7f0d4bc168d0>"
      ]
     },
     "execution_count": 98,
     "metadata": {
      "tags": []
     },
     "output_type": "execute_result"
    },
    {
     "data": {
      "image/png": "[encoded data removed]",
      "text/plain": [
       "<Figure size 413.625x360 with 1 Axes>"
      ]
     },
     "metadata": {
      "needs_background": "light",
      "tags": []
     },
     "output_type": "display_data"
    }
   ],
   "source": [
    "sns.lmplot(data=final_df,x=\"Combine Variable\",y=\"Price\",fit_reg=False,hue=\"clusters4\")"
   ]
  },
  {
   "cell_type": "markdown",
   "metadata": {
    "id": "zylArJ3ZEH_i"
   },
   "source": [
    "It seems that clusters =4 will make more sense.\n",
    "\n",
    "*   cluster 0 = less frequency & less spending (Not of our interest)\n",
    "*   cluster 2 = medium frequency & medium spending (Not of our interest)\n",
    "*   cluster 1 = high frequency & high spending (That is of our interest)\n",
    "*   cluster 3 = very high frequency & very high spending (That is of our interest). \n",
    "\n",
    "\n",
    "\n",
    "\n"
   ]
  },
  {
   "cell_type": "code",
   "execution_count": 100,
   "metadata": {
    "executionInfo": {
     "elapsed": 362,
     "status": "ok",
     "timestamp": 1624456813348,
     "user": {
      "displayName": "ronak lathiya",
      "photoUrl": "",
      "userId": "13017137450409577858"
     },
     "user_tz": -330
    },
    "id": "WesCQVdfDV6x"
   },
   "outputs": [],
   "source": [
    "result_df = final_df.loc[:,[\"CustomerID\",\"clusters4\"]]"
   ]
  },
  {
   "cell_type": "code",
   "execution_count": 101,
   "metadata": {
    "colab": {
     "base_uri": "https://localhost:8080/",
     "height": 203
    },
    "executionInfo": {
     "elapsed": 530,
     "status": "ok",
     "timestamp": 1624456829444,
     "user": {
      "displayName": "ronak lathiya",
      "photoUrl": "",
      "userId": "13017137450409577858"
     },
     "user_tz": -330
    },
    "id": "-QHsTa2CHmys",
    "outputId": "58fc7207-2d7c-48d1-9dd6-e4d71265362d"
   },
   "outputs": [
    {
     "data": {
      "text/html": [
       "<div>\n",
       "<style scoped>\n",
       "    .dataframe tbody tr th:only-of-type {\n",
       "        vertical-align: middle;\n",
       "    }\n",
       "\n",
       "    .dataframe tbody tr th {\n",
       "        vertical-align: top;\n",
       "    }\n",
       "\n",
       "    .dataframe thead th {\n",
       "        text-align: right;\n",
       "    }\n",
       "</style>\n",
       "<table border=\"1\" class=\"dataframe\">\n",
       "  <thead>\n",
       "    <tr style=\"text-align: right;\">\n",
       "      <th></th>\n",
       "      <th>CustomerID</th>\n",
       "      <th>clusters4</th>\n",
       "    </tr>\n",
       "  </thead>\n",
       "  <tbody>\n",
       "    <tr>\n",
       "      <th>0</th>\n",
       "      <td>2.0</td>\n",
       "      <td>2</td>\n",
       "    </tr>\n",
       "    <tr>\n",
       "      <th>1</th>\n",
       "      <td>3.0</td>\n",
       "      <td>2</td>\n",
       "    </tr>\n",
       "    <tr>\n",
       "      <th>2</th>\n",
       "      <td>4.0</td>\n",
       "      <td>0</td>\n",
       "    </tr>\n",
       "    <tr>\n",
       "      <th>3</th>\n",
       "      <td>5.0</td>\n",
       "      <td>0</td>\n",
       "    </tr>\n",
       "    <tr>\n",
       "      <th>4</th>\n",
       "      <td>6.0</td>\n",
       "      <td>2</td>\n",
       "    </tr>\n",
       "  </tbody>\n",
       "</table>\n",
       "</div>"
      ],
      "text/plain": [
       "   CustomerID  clusters4\n",
       "0         2.0          2\n",
       "1         3.0          2\n",
       "2         4.0          0\n",
       "3         5.0          0\n",
       "4         6.0          2"
      ]
     },
     "execution_count": 101,
     "metadata": {
      "tags": []
     },
     "output_type": "execute_result"
    }
   ],
   "source": [
    "result_df.head()"
   ]
  },
  {
   "cell_type": "code",
   "execution_count": 104,
   "metadata": {
    "executionInfo": {
     "elapsed": 524,
     "status": "ok",
     "timestamp": 1624457102386,
     "user": {
      "displayName": "ronak lathiya",
      "photoUrl": "",
      "userId": "13017137450409577858"
     },
     "user_tz": -330
    },
    "id": "feyHnK62HwkW"
   },
   "outputs": [],
   "source": [
    "result_df[\"clusters4\"]=result_df['clusters4'].map({0:\"Very Less Important\",2 : \"Less Important\", 1 : \"Important\",3 : \"Most Important\"})"
   ]
  },
  {
   "cell_type": "code",
   "execution_count": 105,
   "metadata": {
    "colab": {
     "base_uri": "https://localhost:8080/",
     "height": 203
    },
    "executionInfo": {
     "elapsed": 619,
     "status": "ok",
     "timestamp": 1624457106347,
     "user": {
      "displayName": "ronak lathiya",
      "photoUrl": "",
      "userId": "13017137450409577858"
     },
     "user_tz": -330
    },
    "id": "-47FMgC3IFnW",
    "outputId": "de10ddec-7564-47a4-e41f-2f3a886f8bad"
   },
   "outputs": [
    {
     "data": {
      "text/html": [
       "<div>\n",
       "<style scoped>\n",
       "    .dataframe tbody tr th:only-of-type {\n",
       "        vertical-align: middle;\n",
       "    }\n",
       "\n",
       "    .dataframe tbody tr th {\n",
       "        vertical-align: top;\n",
       "    }\n",
       "\n",
       "    .dataframe thead th {\n",
       "        text-align: right;\n",
       "    }\n",
       "</style>\n",
       "<table border=\"1\" class=\"dataframe\">\n",
       "  <thead>\n",
       "    <tr style=\"text-align: right;\">\n",
       "      <th></th>\n",
       "      <th>CustomerID</th>\n",
       "      <th>clusters4</th>\n",
       "    </tr>\n",
       "  </thead>\n",
       "  <tbody>\n",
       "    <tr>\n",
       "      <th>0</th>\n",
       "      <td>2.0</td>\n",
       "      <td>Less Important</td>\n",
       "    </tr>\n",
       "    <tr>\n",
       "      <th>1</th>\n",
       "      <td>3.0</td>\n",
       "      <td>Less Important</td>\n",
       "    </tr>\n",
       "    <tr>\n",
       "      <th>2</th>\n",
       "      <td>4.0</td>\n",
       "      <td>Very Less Important</td>\n",
       "    </tr>\n",
       "    <tr>\n",
       "      <th>3</th>\n",
       "      <td>5.0</td>\n",
       "      <td>Very Less Important</td>\n",
       "    </tr>\n",
       "    <tr>\n",
       "      <th>4</th>\n",
       "      <td>6.0</td>\n",
       "      <td>Less Important</td>\n",
       "    </tr>\n",
       "  </tbody>\n",
       "</table>\n",
       "</div>"
      ],
      "text/plain": [
       "   CustomerID            clusters4\n",
       "0         2.0       Less Important\n",
       "1         3.0       Less Important\n",
       "2         4.0  Very Less Important\n",
       "3         5.0  Very Less Important\n",
       "4         6.0       Less Important"
      ]
     },
     "execution_count": 105,
     "metadata": {
      "tags": []
     },
     "output_type": "execute_result"
    }
   ],
   "source": [
    "result_df.head()"
   ]
  },
  {
   "cell_type": "code",
   "execution_count": null,
   "metadata": {
    "id": "vHQhSpi_L5SD"
   },
   "outputs": [],
   "source": []
  }
 ],
 "metadata": {
  "colab": {
   "authorship_tag": "ABX9TyPHwDzuc6oLRMDv2/OPXwfr",
   "collapsed_sections": [],
   "name": "e-comm code.ipynb",
   "provenance": []
  },
  "kernelspec": {
   "display_name": "Python 3",
   "language": "python",
   "name": "python3"
  },
  "language_info": {
   "codemirror_mode": {
    "name": "ipython",
    "version": 3
   },
   "file_extension": ".py",
   "mimetype": "text/x-python",
   "name": "python",
   "nbconvert_exporter": "python",
   "pygments_lexer": "ipython3",
   "version": "3.7.6"
  }
 },
 "nbformat": 4,
 "nbformat_minor": 1
}
