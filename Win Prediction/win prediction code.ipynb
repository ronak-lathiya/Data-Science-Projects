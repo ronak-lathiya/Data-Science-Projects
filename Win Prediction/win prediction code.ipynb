{
 "cells": [
  {
   "cell_type": "code",
   "execution_count": null,
   "metadata": {
    "id": "L_m_TnvovCU8"
   },
   "outputs": [],
   "source": [
    "#packages\n",
    "import numpy as np\n",
    "import pandas as pd\n",
    "import matplotlib.pyplot as plt\n",
    "import seaborn as sns"
   ]
  },
  {
   "cell_type": "code",
   "execution_count": null,
   "metadata": {
    "id": "VX3t_i7cvJmC"
   },
   "outputs": [],
   "source": [
    "df = pd.read_excel('Win_Prediction_Data.xlsx',header=0)"
   ]
  },
  {
   "cell_type": "code",
   "execution_count": null,
   "metadata": {
    "colab": {
     "base_uri": "https://localhost:8080/",
     "height": 203
    },
    "executionInfo": {
     "elapsed": 358,
     "status": "ok",
     "timestamp": 1624466418417,
     "user": {
      "displayName": "ronak lathiya",
      "photoUrl": "",
      "userId": "13017137450409577858"
     },
     "user_tz": -330
    },
    "id": "Xm36HlfZvfLT",
    "outputId": "1e38ac9c-5de1-4254-b56a-3b437af03bcc"
   },
   "outputs": [
    {
     "data": {
      "text/html": [
       "<div>\n",
       "<style scoped>\n",
       "    .dataframe tbody tr th:only-of-type {\n",
       "        vertical-align: middle;\n",
       "    }\n",
       "\n",
       "    .dataframe tbody tr th {\n",
       "        vertical-align: top;\n",
       "    }\n",
       "\n",
       "    .dataframe thead th {\n",
       "        text-align: right;\n",
       "    }\n",
       "</style>\n",
       "<table border=\"1\" class=\"dataframe\">\n",
       "  <thead>\n",
       "    <tr style=\"text-align: right;\">\n",
       "      <th></th>\n",
       "      <th>Client Category</th>\n",
       "      <th>Solution Type</th>\n",
       "      <th>Deal Date</th>\n",
       "      <th>Sector</th>\n",
       "      <th>Location</th>\n",
       "      <th>VP Name</th>\n",
       "      <th>Manager Name</th>\n",
       "      <th>Deal Cost</th>\n",
       "      <th>Deal Status Code</th>\n",
       "    </tr>\n",
       "  </thead>\n",
       "  <tbody>\n",
       "    <tr>\n",
       "      <th>0</th>\n",
       "      <td>Telecom</td>\n",
       "      <td>Solution 7</td>\n",
       "      <td>2012-03-27</td>\n",
       "      <td>Sector 24</td>\n",
       "      <td>L5</td>\n",
       "      <td>Ekta Zutshi</td>\n",
       "      <td>Gopa Trilochana</td>\n",
       "      <td>150000.00</td>\n",
       "      <td>Won</td>\n",
       "    </tr>\n",
       "    <tr>\n",
       "      <th>1</th>\n",
       "      <td>Telecom</td>\n",
       "      <td>Solution 7</td>\n",
       "      <td>2012-09-25</td>\n",
       "      <td>Sector 24</td>\n",
       "      <td>L5</td>\n",
       "      <td>Ekta Zutshi</td>\n",
       "      <td>Gopa Trilochana</td>\n",
       "      <td>744705.88</td>\n",
       "      <td>Won</td>\n",
       "    </tr>\n",
       "    <tr>\n",
       "      <th>2</th>\n",
       "      <td>Internal</td>\n",
       "      <td>Solution 59</td>\n",
       "      <td>2011-08-01</td>\n",
       "      <td>Sector 20</td>\n",
       "      <td>Others</td>\n",
       "      <td>Ekta Zutshi</td>\n",
       "      <td>Russell Dahlen</td>\n",
       "      <td>60000.00</td>\n",
       "      <td>Lost</td>\n",
       "    </tr>\n",
       "    <tr>\n",
       "      <th>3</th>\n",
       "      <td>Internal</td>\n",
       "      <td>Solution 59</td>\n",
       "      <td>2011-04-28</td>\n",
       "      <td>Sector 20</td>\n",
       "      <td>Others</td>\n",
       "      <td>Ekta Zutshi</td>\n",
       "      <td>Russell Dahlen</td>\n",
       "      <td>60000.00</td>\n",
       "      <td>Lost</td>\n",
       "    </tr>\n",
       "    <tr>\n",
       "      <th>4</th>\n",
       "      <td>Internal</td>\n",
       "      <td>Solution 32</td>\n",
       "      <td>2011-06-03</td>\n",
       "      <td>Sector 20</td>\n",
       "      <td>Others</td>\n",
       "      <td>Ekta Zutshi</td>\n",
       "      <td>Russell Dahlen</td>\n",
       "      <td>80882.35</td>\n",
       "      <td>Lost</td>\n",
       "    </tr>\n",
       "  </tbody>\n",
       "</table>\n",
       "</div>"
      ],
      "text/plain": [
       "  Client Category Solution Type  ...  Deal Cost Deal Status Code\n",
       "0         Telecom    Solution 7  ...  150000.00              Won\n",
       "1         Telecom    Solution 7  ...  744705.88              Won\n",
       "2        Internal   Solution 59  ...   60000.00             Lost\n",
       "3        Internal   Solution 59  ...   60000.00             Lost\n",
       "4        Internal   Solution 32  ...   80882.35             Lost\n",
       "\n",
       "[5 rows x 9 columns]"
      ]
     },
     "execution_count": 4,
     "metadata": {
      "tags": []
     },
     "output_type": "execute_result"
    }
   ],
   "source": [
    "df.head()"
   ]
  },
  {
   "cell_type": "code",
   "execution_count": null,
   "metadata": {
    "colab": {
     "base_uri": "https://localhost:8080/"
    },
    "executionInfo": {
     "elapsed": 357,
     "status": "ok",
     "timestamp": 1624466455463,
     "user": {
      "displayName": "ronak lathiya",
      "photoUrl": "",
      "userId": "13017137450409577858"
     },
     "user_tz": -330
    },
    "id": "U-LBVPcWvmcd",
    "outputId": "7f88a03f-b1a4-4ac9-9c15-6fe898b846ee"
   },
   "outputs": [
    {
     "data": {
      "text/plain": [
       "(10061, 9)"
      ]
     },
     "execution_count": 5,
     "metadata": {
      "tags": []
     },
     "output_type": "execute_result"
    }
   ],
   "source": [
    "df.shape"
   ]
  },
  {
   "cell_type": "code",
   "execution_count": null,
   "metadata": {
    "colab": {
     "base_uri": "https://localhost:8080/"
    },
    "executionInfo": {
     "elapsed": 357,
     "status": "ok",
     "timestamp": 1624466468064,
     "user": {
      "displayName": "ronak lathiya",
      "photoUrl": "",
      "userId": "13017137450409577858"
     },
     "user_tz": -330
    },
    "id": "-QTazyKcvvVM",
    "outputId": "7757bfd4-3143-48d0-8b86-b510b675871f"
   },
   "outputs": [
    {
     "name": "stdout",
     "output_type": "stream",
     "text": [
      "<class 'pandas.core.frame.DataFrame'>\n",
      "RangeIndex: 10061 entries, 0 to 10060\n",
      "Data columns (total 9 columns):\n",
      " #   Column            Non-Null Count  Dtype         \n",
      "---  ------            --------------  -----         \n",
      " 0   Client Category   9982 non-null   object        \n",
      " 1   Solution Type     10061 non-null  object        \n",
      " 2   Deal Date         10061 non-null  datetime64[ns]\n",
      " 3   Sector            10061 non-null  object        \n",
      " 4   Location          10061 non-null  object        \n",
      " 5   VP Name           10061 non-null  object        \n",
      " 6   Manager Name      10061 non-null  object        \n",
      " 7   Deal Cost         10061 non-null  float64       \n",
      " 8   Deal Status Code  10061 non-null  object        \n",
      "dtypes: datetime64[ns](1), float64(1), object(7)\n",
      "memory usage: 707.5+ KB\n"
     ]
    }
   ],
   "source": [
    "df.info()"
   ]
  },
  {
   "cell_type": "markdown",
   "metadata": {
    "id": "8m4fBLnUzj2c"
   },
   "source": [
    "This is our dataframe and we need to predict Deal Status Code."
   ]
  },
  {
   "cell_type": "markdown",
   "metadata": {
    "id": "1VCRQDqQ02qw"
   },
   "source": [
    "# Data Preprocessing"
   ]
  },
  {
   "cell_type": "markdown",
   "metadata": {
    "id": "KtEULzhV1UMI"
   },
   "source": [
    "As our data frame contains categorical variables, we will start with converting them into upper case and removing extra space in cells. "
   ]
  },
  {
   "cell_type": "code",
   "execution_count": null,
   "metadata": {
    "colab": {
     "base_uri": "https://localhost:8080/"
    },
    "executionInfo": {
     "elapsed": 501,
     "status": "ok",
     "timestamp": 1624522190001,
     "user": {
      "displayName": "ronak lathiya",
      "photoUrl": "",
      "userId": "13017137450409577858"
     },
     "user_tz": -330
    },
    "id": "H06ypbWR1-a7",
    "outputId": "81beb9a5-6dc0-41ea-b37d-af8eac862d1f"
   },
   "outputs": [
    {
     "data": {
      "text/plain": [
       "Index(['Client Category', 'Solution Type', 'Deal Date', 'Sector', 'Location',\n",
       "       'VP Name', 'Manager Name', 'Deal Cost', 'Deal Status Code'],\n",
       "      dtype='object')"
      ]
     },
     "execution_count": 3,
     "metadata": {
      "tags": []
     },
     "output_type": "execute_result"
    }
   ],
   "source": [
    "df.columns"
   ]
  },
  {
   "cell_type": "code",
   "execution_count": null,
   "metadata": {
    "id": "kpARdWUl2GYS"
   },
   "outputs": [],
   "source": [
    "categorical_colnames = ['Client Category', 'Solution Type', 'Sector', 'Location', 'VP Name',\n",
    "       'Manager Name', 'Deal Status Code']"
   ]
  },
  {
   "cell_type": "code",
   "execution_count": null,
   "metadata": {
    "id": "elf6BJ-s2VgY"
   },
   "outputs": [],
   "source": [
    "for i in categorical_colnames:\n",
    "    df[i]= df[i].str.upper()"
   ]
  },
  {
   "cell_type": "code",
   "execution_count": null,
   "metadata": {
    "id": "DyK2Ck_-2eG6"
   },
   "outputs": [],
   "source": [
    "for i in categorical_colnames:\n",
    "    df[i] = df[i].str.strip()"
   ]
  },
  {
   "cell_type": "markdown",
   "metadata": {
    "id": "oRfk-skj3Qp1"
   },
   "source": [
    "Now let us check for duplicate values."
   ]
  },
  {
   "cell_type": "code",
   "execution_count": null,
   "metadata": {
    "colab": {
     "base_uri": "https://localhost:8080/"
    },
    "executionInfo": {
     "elapsed": 842,
     "status": "ok",
     "timestamp": 1624522208587,
     "user": {
      "displayName": "ronak lathiya",
      "photoUrl": "",
      "userId": "13017137450409577858"
     },
     "user_tz": -330
    },
    "id": "5F-p9R9c3YYE",
    "outputId": "c0585879-28f9-4259-ccd7-1d590ea9913b"
   },
   "outputs": [
    {
     "data": {
      "text/plain": [
       "14"
      ]
     },
     "execution_count": 7,
     "metadata": {
      "tags": []
     },
     "output_type": "execute_result"
    }
   ],
   "source": [
    "df.duplicated().sum()"
   ]
  },
  {
   "cell_type": "markdown",
   "metadata": {
    "id": "9ob-BHfg3vcW"
   },
   "source": [
    "We have found 14 duplicate values and we will drop them."
   ]
  },
  {
   "cell_type": "code",
   "execution_count": null,
   "metadata": {
    "id": "XVaADnpq3mPY"
   },
   "outputs": [],
   "source": [
    "df.drop_duplicates(keep = \"first\",inplace=True)"
   ]
  },
  {
   "cell_type": "markdown",
   "metadata": {
    "id": "iTkDcaYHFsD1"
   },
   "source": [
    "Now let me check for missing values."
   ]
  },
  {
   "cell_type": "code",
   "execution_count": null,
   "metadata": {
    "colab": {
     "base_uri": "https://localhost:8080/"
    },
    "executionInfo": {
     "elapsed": 510,
     "status": "ok",
     "timestamp": 1624522620440,
     "user": {
      "displayName": "ronak lathiya",
      "photoUrl": "",
      "userId": "13017137450409577858"
     },
     "user_tz": -330
    },
    "id": "iRI7Bblz4Fax",
    "outputId": "23255bfd-7e8a-4348-903c-9fb438775bb3"
   },
   "outputs": [
    {
     "data": {
      "text/plain": [
       "Client Category     79\n",
       "Solution Type        0\n",
       "Deal Date            0\n",
       "Sector               0\n",
       "Location             0\n",
       "VP Name              0\n",
       "Manager Name         0\n",
       "Deal Cost            0\n",
       "Deal Status Code     0\n",
       "dtype: int64"
      ]
     },
     "execution_count": 9,
     "metadata": {
      "tags": []
     },
     "output_type": "execute_result"
    }
   ],
   "source": [
    "df.isnull().sum()"
   ]
  },
  {
   "cell_type": "markdown",
   "metadata": {
    "id": "Ik70cPDVGGSY"
   },
   "source": [
    "Ok there are 79 missing values in Client Category. Let me check if there are any other unusual values(like \"?\",\"-\" etc.). "
   ]
  },
  {
   "cell_type": "code",
   "execution_count": null,
   "metadata": {
    "colab": {
     "base_uri": "https://localhost:8080/"
    },
    "executionInfo": {
     "elapsed": 525,
     "status": "ok",
     "timestamp": 1624522840562,
     "user": {
      "displayName": "ronak lathiya",
      "photoUrl": "",
      "userId": "13017137450409577858"
     },
     "user_tz": -330
    },
    "id": "_hPVg5_7F_WA",
    "outputId": "17f3e732-165d-43df-9ecb-20096076f043"
   },
   "outputs": [
    {
     "name": "stdout",
     "output_type": "stream",
     "text": [
      "{'Client Category': array(['TELECOM', 'INTERNAL', 'GOVT', 'CONSUMER GOOD',\n",
      "       'INTERNATIONAL BANK', 'DOMESTIC PUBLIC BANK', 'FINANCE',\n",
      "       'MANUFACTURING', 'SERVICES_BASED', 'RESEARCH DEVELOPMENT',\n",
      "       'OTHERS', 'HOSPITALITY', 'CONSULTING', 'RETAIL_MARKET', 'ENERGY',\n",
      "       'DOMESTIC PRIVATE BANK', 'INDUSTRIES', 'TECH', 'HEALTHCARE',\n",
      "       'ELECTRONICS', 'DOMESTIC BANK', 'AUTOMOBILES', 'MEDICAL',\n",
      "       'INFRASTRUCTURE', 'PHARMA', 'POWER IND', 'HOLDING', 'LOGISTICS',\n",
      "       'INSURANCE', 'PAYMENT', 'GOVT BANK SPECIAL', 'MANAGEMENT',\n",
      "       'MEDIA_JOURNAL', 'INTERNATIONAL ORG', 'REAL ESTATE', nan,\n",
      "       'TAX_AUDIT', 'SHARE_MARKET', 'KNOWLEDGE', 'AIRPLINE', 'E-COMMERCE'],\n",
      "      dtype=object)}\n",
      "{'Solution Type': array(['SOLUTION 7', 'SOLUTION 59', 'SOLUTION 32', 'SOLUTION 42',\n",
      "       'SOLUTION 6', 'SOLUTION 20', 'SOLUTION 37', 'SOLUTION 31',\n",
      "       'SOLUTION 39', 'SOLUTION 3', 'SOLUTION 30', 'SOLUTION 33',\n",
      "       'SOLUTION 29', 'SOLUTION 40', 'SOLUTION 14', 'SOLUTION 67',\n",
      "       'SOLUTION 10', 'SOLUTION 28', 'SOLUTION 47', 'SOLUTION 36',\n",
      "       'SOLUTION 44', 'SOLUTION 38', 'SOLUTION 55', 'SOLUTION 35',\n",
      "       'SOLUTION 2', 'SOLUTION 34', 'SOLUTION 48', 'SOLUTION 52',\n",
      "       'SOLUTION 61', 'SOLUTION 11', 'SOLUTION 12', 'SOLUTION 15',\n",
      "       'SOLUTION 4', 'SOLUTION 46', 'SOLUTION 63', 'SOLUTION 60',\n",
      "       'SOLUTION 65', 'SOLUTION 24', 'SOLUTION 41', 'SOLUTION 13',\n",
      "       'SOLUTION 50', 'SOLUTION 66', 'SOLUTION 25', 'SOLUTION 8',\n",
      "       'SOLUTION 16', 'SOLUTION 51', 'SOLUTION 58', 'SOLUTION 26',\n",
      "       'SOLUTION 17', 'SOLUTION 49', 'SOLUTION 27', 'SOLUTION 53',\n",
      "       'SOLUTION 1', 'SOLUTION 45', 'SOLUTION 9', 'SOLUTION 64',\n",
      "       'SOLUTION 5', 'SOLUTION 62', 'SOLUTION 57', 'SOLUTION 43',\n",
      "       'SOLUTION 23', 'SOLUTION 22', 'SOLUTION 54', 'SOLUTION 56',\n",
      "       'SOLUTION 18', 'SOLUTION 19', 'SOLUTION 21'], dtype=object)}\n",
      "{'Sector': array(['SECTOR 24', 'SECTOR 20', 'SECTOR 2', 'SECTOR 13', 'SECTOR 12',\n",
      "       'SECTOR 15', 'SECTOR 17', 'SECTOR 23', 'SECTOR 14', 'SECTOR 22',\n",
      "       'SECTOR 9', 'SECTOR 16', 'SECTOR 25', 'SECTOR 1', 'SECTOR 4',\n",
      "       'SECTOR 18', 'SECTOR 3', 'SECTOR 6', 'SECTOR 21', 'SECTOR 8',\n",
      "       'SECTOR 11', 'SECTOR 19', 'SECTOR 5', 'SECTOR 7', 'SECTOR 10'],\n",
      "      dtype=object)}\n",
      "{'Location': array(['L5', 'OTHERS', 'L10', 'L11', 'L1', 'L4', 'L9', 'L3', 'L7', 'L6',\n",
      "       'L12', 'L2', 'L8'], dtype=object)}\n",
      "{'VP Name': array(['EKTA ZUTSHI', 'MERVIN\\xa0HARWOOD', 'SARGAR DEEP RAO',\n",
      "       'LILLI\\xa0STORRS', 'LONG\\xa0BERGSTROM', 'ROSANNA\\xa0MAYNEZ',\n",
      "       'MANGESH K. SINGH', 'BRENDON\\xa0WYCOFF', 'NEERAJ KUMAR',\n",
      "       'RAHUL BAJPAI', 'SON\\xa0MCCONNAUGHY', 'SAURABH SINGH',\n",
      "       'RUDRAKSH SHARMA', 'HARDEEP SUKSMA', 'VARSHA ARORA', 'SOM DUTT',\n",
      "       'ANKITA AGGARWAL', 'CLINTON\\xa0MANI', 'MARCELLA\\xa0MO',\n",
      "       'DENNIS\\xa0FAUX', 'EARLINE\\xa0LANGTON', 'RUSSELL\\xa0DAHLEN',\n",
      "       'GOPA TRILOCHANA', 'KAMELESH SRINIVASAN', 'GAURAV SAMERIA',\n",
      "       'MANPREET SINGH', 'MAN\\xa0SUDDETH', 'MOLLY\\xa0EAKES',\n",
      "       'VIDUR HUKLE', 'GAYLE\\xa0MOLTER', 'ALAM SYED', 'RAHUL KOCHER',\n",
      "       'VIKRAM RAWAT', 'JEWELL\\xa0TUNSTALL', 'JITENDRA CHOUDHARY',\n",
      "       'MAYANK MEWAR', 'KIRK\\xa0HOFMEISTER', 'P. SOMYA', 'PRASHANT RAWAT',\n",
      "       'VISVAJEET DAS', 'WAYLON\\xa0MULDER', 'SARTHAK BATRA', 'MD. AFSAR'],\n",
      "      dtype=object)}\n",
      "{'Manager Name': array(['GOPA TRILOCHANA', 'RUSSELL\\xa0DAHLEN', 'RAHUL SHARMA',\n",
      "       'VIDUR HUKLE', 'MD. DAUD', 'HARDEEP SUKSMA', 'LUV MALHOTRA',\n",
      "       'LINO\\xa0BATTERTON', 'SANG\\xa0INGLE', 'SHAFIBUL',\n",
      "       'ANAND S. PANDEY', 'MOLLY\\xa0EAKES', 'PRATEEK DHOTRE',\n",
      "       'ROOPAL SINGH', 'DESMOND\\xa0KROUT', 'JEAN\\xa0SAPPINGTON',\n",
      "       'MANGESH K. SINGH', 'ABHINAV WARRIER', 'SAURABH SINGH',\n",
      "       'TANUJ BINDRA', 'NAHAR SINGH', 'D. ANKIT', 'MUOI\\xa0QUEENER',\n",
      "       'AYUSHA GUPTA', 'RUDRAKSH SHARMA', 'EKTA ZUTSHI',\n",
      "       'FREDRICKA\\xa0BALD', 'GANESH MALWAR', 'KAMELESH SRINIVASAN',\n",
      "       'JEWELL\\xa0TUNSTALL', 'ANKITA AGGARWAL', 'SOMNATH MUKHERJI',\n",
      "       'TAFEEQ KHAN', 'ROSANA\\xa0YOKUM', 'GAURAV SAMERIA', 'RAHUL BAJPAI',\n",
      "       'DENNIS\\xa0FAUX', 'THERON\\xa0REX', 'SHOBHIT GUPTA',\n",
      "       'MARCELLA\\xa0MO', 'RAHUL KOCHER', 'AKSHAY SHARMA', 'RAM KUMAR',\n",
      "       'SANCHITA GULATI', 'MOHD SHAKIB', 'ANOOP JATLEY', 'RALPH\\xa0BOHON',\n",
      "       'MOHD KHAIRUL', 'AKSHANSH GOEL', 'RAJNEESH TANWAR',\n",
      "       'MANPREET SINGH', 'CHANCHAL SHARMA', 'VINAY KUMAR',\n",
      "       'ELENOR\\xa0HALDERMAN', 'LONG\\xa0BERGSTROM', 'KARAN DUBEY',\n",
      "       'SUBHANGI SOOD', 'CLINTON\\xa0MANI', 'EVANGELINE\\xa0KEPLEY',\n",
      "       'VIKRANT SAINI', 'GAYLE\\xa0MOLTER', 'NEHA SHARMA', 'NEERAJ KUMAR',\n",
      "       'JAYADEV MITALI', 'RIJUL AGGARWAL', 'RAHUL SINGH',\n",
      "       'JITENDRA CHOUDHARY', 'SUNDER PAAL', 'RIYASAT ALI',\n",
      "       'EVALYN\\xa0RAYNER', 'SOORAJ VOHRA', 'VANSU DEV', 'DAVID TOMS',\n",
      "       'EVA\\xa0HARTE', 'ANKIT BHUTANI', 'KIZZIE\\xa0TROXEL',\n",
      "       'ROSANNA\\xa0MAYNEZ', 'MANNAN UPADHIYA', 'NITISH BHARDWAJ',\n",
      "       'ABRAM\\xa0FINES', 'NATALIA\\xa0DUMLAO', 'EARLINE\\xa0LANGTON',\n",
      "       'SOHIL KUMAR', 'BHAVYA SAINI', 'LOKESH PINANI', 'MARCELO\\xa0RILES',\n",
      "       'MAYANK CHAUDHARY @ RAHUL', 'SOM DUTT', 'CARROLL\\xa0TRUEHART',\n",
      "       'ALAM SYED', 'AKUL JINDAL', 'AAMIR HUSSAIN', 'EDMUND\\xa0BRIGHAM',\n",
      "       'ANNAMARIA\\xa0PHUNG', 'VARSHA ARORA', 'SARGAR DEEP RAO',\n",
      "       'MERVIN\\xa0HARWOOD', 'AKSHANSH CHAUDHARY', 'MANISH SAUNDRIYAL',\n",
      "       'KESHAR ANSARI', 'ZULEMA\\xa0PERRINE', 'RAYFORD\\xa0DURGAN',\n",
      "       'ATUL CHAUDHARY', 'ROOPAL CHAUDHARY', 'SERGIO\\xa0CUSACK',\n",
      "       'SHIV KUMAR', 'PALMER\\xa0HOLMBERG', 'DAVIS\\xa0GAGNER',\n",
      "       'HEEMAN DAGA', 'PANKAJ KUMAR', 'PRAKASH DHAWALE',\n",
      "       'FLORENCIO\\xa0QUIROS', 'HERSCHEL\\xa0FLOCK', 'PREETI MEHRA',\n",
      "       'CHLOE\\xa0BEILER', 'VINCENZO\\xa0MUSHRUSH', 'DOREEN\\xa0AMERMAN',\n",
      "       'DANNY\\xa0BOLTON', 'HARSH VERMA', 'ANNETT\\xa0MCMILLEN',\n",
      "       'ANMOL MEHRE', 'PRASHANT SINGH', 'ANCHAL PANDEY', 'VIKRANT SONEJA',\n",
      "       'EMIL\\xa0KNUDSEN', 'EESHA YADAV', 'BHAGWATI PRASAD',\n",
      "       'GUNJAN SINGH', 'ADITYA KUMAR', 'RAHUL KUMAR', 'RANDY\\xa0FONTANA',\n",
      "       'ABHISKEK KUMAR', 'AHDARSHA JHA', 'KAMAL JIT SINGH',\n",
      "       'JAYANT KALRA', 'DARIN\\xa0VATH', 'ROOP SACHDEVA', 'AMAN SINGH',\n",
      "       'SHERELL\\xa0PEACE', 'TARUN GARG', 'AKASNAH ARORA', 'SANEEL TYAGI',\n",
      "       'RAJAT BANSAL', 'HARPREET BEDI', 'BABLU REGAR', 'SHYAM KUMAR',\n",
      "       'ABHISHEK SINGHAL', 'SULTAN KHAN', 'DARLA\\xa0DICKINSON',\n",
      "       'MANISHA SAUNDRIYAL', 'AKSHAY GOSH', 'KANIKSH DHYANI',\n",
      "       'SANCHITA PANT', 'RISHAB JAIN', 'LETICIA\\xa0DENTON',\n",
      "       'MANISHA GULATI', 'KENDRA TRIPATHI', 'KANIKA SHARMA',\n",
      "       'KHADAK SINGH', 'R. T. RAMAKRISHNAN', 'MD IRSHAD',\n",
      "       'RANJNESH TANWAR', 'ANDREW\\xa0MICHALOWSKI', 'RODNEY\\xa0WILKISON',\n",
      "       'NANETTE\\xa0HENNESSEE', 'HARSHITA SINGH', 'ANISH JONSON',\n",
      "       'TANU PANWAR', 'SHALENDRA D.', 'LAURINE\\xa0QUINTANAR',\n",
      "       'KAMAL DEEP', 'KARNA BHUVENNANT', 'VISHVAJEET KUMAR',\n",
      "       'VIRAK KANDPAL', 'KIM\\xa0TAVERNIER', 'ROHIT', 'ANJU NANDA',\n",
      "       'MANISH JOHAR', 'SARWAN SINGH', 'ARRON\\xa0HACK', 'AKSHANT GARG',\n",
      "       'VIKRAM RAWAT', 'AHSWINI SAINI', 'SHIV SHAKTI SINGH',\n",
      "       'SIERRA\\xa0YAMAMOTO', 'TARAN SINGH', 'ANAND VIKRAM',\n",
      "       'ABHISKHEK  D', 'JACKIE\\xa0WOLFSON', 'UMESH KHOLI', 'ATUL KUMAR',\n",
      "       'KAILASH KUMAR', 'LALIT KATHURIYA', 'BIRENDER MANDAL',\n",
      "       'SON\\xa0MCCONNAUGHY', 'EULA\\xa0HALLOWELL', 'RAJ PINANI',\n",
      "       'MOHD ATAULLAH', 'AKSHIT KHANNA', 'RAVI CHAUDHARY',\n",
      "       'SIDDHANT GAUR', 'DEVENDRA VISHVAKARMA', 'RAM DUTT GUPTA',\n",
      "       'CHAD\\xa0JAMAL', 'THURMAN\\xa0NIEMI', 'PRAKASH SRINIVAS',\n",
      "       'MILLICENT\\xa0FIRTH', 'VARUN BHEL', 'LAKENDRA\\xa0HARTGROVE',\n",
      "       'DEEPAK CHANDRA PRAKASH', 'KAMAL CHANDRA', 'DONOVAN\\xa0ROCKWOOD',\n",
      "       'LEELADHAR PANDEY', 'POORAN CHAND', 'PRASHANT RAWAT',\n",
      "       'SANGEET DAGA', 'TARAN DEEP', 'SHARAVAN SINGH', 'AKHIL BIYAS',\n",
      "       'RISHAB BHATT', 'MAHESH GULATI', 'JARRED\\xa0PARRINO',\n",
      "       'BEUTUNE VARMA', 'CAMERON\\xa0DELEEUW', 'ADITYA TONDON',\n",
      "       'VINIT KATARIYA', 'JOSE\\xa0GAMBER', 'RATEESH SINGH',\n",
      "       'RANJAN PRAKASH', 'JOHNNA\\xa0LEMAY', 'JASMIN KAUR',\n",
      "       'GENNY\\xa0MCGIVNEY', 'SHEAK SHAKIR', 'NAVEEN DOGRA',\n",
      "       'VAIBHAV SINGH', 'MARTIN\\xa0CHEYNE', 'KITTIE\\xa0SELVEY',\n",
      "       'VAIBHAV SOMASKANDAN', 'ROYAL\\xa0GAROFALO', 'KAMALDEEP SINGH',\n",
      "       'ANTONIO\\xa0YELVINGTON', 'JAMIL KHAN', 'AMAN GUPTA',\n",
      "       'HIMANSHU UPADHIYA', 'VARUN  BEHL', 'BRENTON\\xa0LAUNIUS',\n",
      "       'PREETAN GUJAR', 'GEOFFREY\\xa0RECKER', 'RUSS\\xa0VAZ',\n",
      "       'AASTHA GANDHI', 'SAI S SABITHA', 'SHARAT CHANDRAN',\n",
      "       'TOM\\xa0BLANCA', 'MAANSINGH ASWAL', 'FARMAAN KHAN',\n",
      "       'SANJEEV DIWAKAR', 'NAVITA CHAUHAN', 'SUMITA VERMA',\n",
      "       'GURMIT SINGH', 'MAYANK PRAVEEN', 'HEATH\\xa0MULLARKEY',\n",
      "       'ZACHARY\\xa0OCONNER', 'UPENDRA BHATT', 'HIMANSHU DAGA',\n",
      "       'MATT\\xa0REDEL', 'AMIT JAIN', 'JOE\\xa0CASTORENA', 'RAMDIN VERMA',\n",
      "       'CORI\\xa0GILLISPIE', 'SANJEEV TALREJA', 'SUMIT ARORA',\n",
      "       'PRESTON\\xa0DUMIRE', 'ARTI BINDRA', 'IKE\\xa0DEPPEN', 'WASEEM KHAN',\n",
      "       'ALI RAFIQ', 'UZAAR ALI', 'CLEOTILDE\\xa0BIRON'], dtype=object)}\n",
      "{'Deal Status Code': array(['WON', 'LOST'], dtype=object)}\n"
     ]
    }
   ],
   "source": [
    "for i in categorical_colnames:\n",
    "    print({i: df[i].unique()})"
   ]
  },
  {
   "cell_type": "code",
   "execution_count": null,
   "metadata": {
    "colab": {
     "base_uri": "https://localhost:8080/"
    },
    "executionInfo": {
     "elapsed": 691,
     "status": "ok",
     "timestamp": 1624523088118,
     "user": {
      "displayName": "ronak lathiya",
      "photoUrl": "",
      "userId": "13017137450409577858"
     },
     "user_tz": -330
    },
    "id": "mSqnut7qG1US",
    "outputId": "8e3a79d0-504e-4c3f-c443-193c9b92fcf8"
   },
   "outputs": [
    {
     "data": {
      "text/plain": [
       "count    1.004700e+04\n",
       "mean     7.672963e+05\n",
       "std      1.620881e+06\n",
       "min      0.000000e+00\n",
       "25%      1.891176e+05\n",
       "50%      3.823529e+05\n",
       "75%      7.647059e+05\n",
       "max      3.676471e+07\n",
       "Name: Deal Cost, dtype: float64"
      ]
     },
     "execution_count": 11,
     "metadata": {
      "tags": []
     },
     "output_type": "execute_result"
    }
   ],
   "source": [
    "df[\"Deal Cost\"].describe()"
   ]
  },
  {
   "cell_type": "markdown",
   "metadata": {
    "id": "R3TdslbYH412"
   },
   "source": [
    "There is not any unusual values except NA in Client Category. Only 79 NA values and we are going to drop them because we still left with great amount of data."
   ]
  },
  {
   "cell_type": "code",
   "execution_count": null,
   "metadata": {
    "id": "UlWyAThpHxhx"
   },
   "outputs": [],
   "source": [
    "df = df.dropna()"
   ]
  },
  {
   "cell_type": "markdown",
   "metadata": {
    "id": "BR4xQ6VCItaW"
   },
   "source": [
    "We will also drop Deal Date column because it is not of our use."
   ]
  },
  {
   "cell_type": "code",
   "execution_count": null,
   "metadata": {
    "id": "yx9-4RODIq-B"
   },
   "outputs": [],
   "source": [
    "df=df.drop([\"Deal Date\"],axis=1)"
   ]
  },
  {
   "cell_type": "markdown",
   "metadata": {
    "id": "GgzXGctXK9S1"
   },
   "source": [
    "Let me also map our target variable."
   ]
  },
  {
   "cell_type": "code",
   "execution_count": null,
   "metadata": {
    "id": "_kkKMyXPJqXp"
   },
   "outputs": [],
   "source": [
    "df[\"Deal Status Code\"]=df[\"Deal Status Code\"].map({\"WON\":1,\"LOST\":0})"
   ]
  },
  {
   "cell_type": "code",
   "execution_count": null,
   "metadata": {
    "colab": {
     "base_uri": "https://localhost:8080/",
     "height": 203
    },
    "executionInfo": {
     "elapsed": 9,
     "status": "ok",
     "timestamp": 1624524055706,
     "user": {
      "displayName": "ronak lathiya",
      "photoUrl": "",
      "userId": "13017137450409577858"
     },
     "user_tz": -330
    },
    "id": "lpQqctIXLcka",
    "outputId": "92683289-0ff8-4ee2-fd3a-8a1c253a4a8d"
   },
   "outputs": [
    {
     "data": {
      "text/html": [
       "<div>\n",
       "<style scoped>\n",
       "    .dataframe tbody tr th:only-of-type {\n",
       "        vertical-align: middle;\n",
       "    }\n",
       "\n",
       "    .dataframe tbody tr th {\n",
       "        vertical-align: top;\n",
       "    }\n",
       "\n",
       "    .dataframe thead th {\n",
       "        text-align: right;\n",
       "    }\n",
       "</style>\n",
       "<table border=\"1\" class=\"dataframe\">\n",
       "  <thead>\n",
       "    <tr style=\"text-align: right;\">\n",
       "      <th></th>\n",
       "      <th>Client Category</th>\n",
       "      <th>Solution Type</th>\n",
       "      <th>Sector</th>\n",
       "      <th>Location</th>\n",
       "      <th>VP Name</th>\n",
       "      <th>Manager Name</th>\n",
       "      <th>Deal Cost</th>\n",
       "      <th>Deal Status Code</th>\n",
       "    </tr>\n",
       "  </thead>\n",
       "  <tbody>\n",
       "    <tr>\n",
       "      <th>0</th>\n",
       "      <td>TELECOM</td>\n",
       "      <td>SOLUTION 7</td>\n",
       "      <td>SECTOR 24</td>\n",
       "      <td>L5</td>\n",
       "      <td>EKTA ZUTSHI</td>\n",
       "      <td>GOPA TRILOCHANA</td>\n",
       "      <td>150000.00</td>\n",
       "      <td>1</td>\n",
       "    </tr>\n",
       "    <tr>\n",
       "      <th>1</th>\n",
       "      <td>TELECOM</td>\n",
       "      <td>SOLUTION 7</td>\n",
       "      <td>SECTOR 24</td>\n",
       "      <td>L5</td>\n",
       "      <td>EKTA ZUTSHI</td>\n",
       "      <td>GOPA TRILOCHANA</td>\n",
       "      <td>744705.88</td>\n",
       "      <td>1</td>\n",
       "    </tr>\n",
       "    <tr>\n",
       "      <th>2</th>\n",
       "      <td>INTERNAL</td>\n",
       "      <td>SOLUTION 59</td>\n",
       "      <td>SECTOR 20</td>\n",
       "      <td>OTHERS</td>\n",
       "      <td>EKTA ZUTSHI</td>\n",
       "      <td>RUSSELL DAHLEN</td>\n",
       "      <td>60000.00</td>\n",
       "      <td>0</td>\n",
       "    </tr>\n",
       "    <tr>\n",
       "      <th>3</th>\n",
       "      <td>INTERNAL</td>\n",
       "      <td>SOLUTION 59</td>\n",
       "      <td>SECTOR 20</td>\n",
       "      <td>OTHERS</td>\n",
       "      <td>EKTA ZUTSHI</td>\n",
       "      <td>RUSSELL DAHLEN</td>\n",
       "      <td>60000.00</td>\n",
       "      <td>0</td>\n",
       "    </tr>\n",
       "    <tr>\n",
       "      <th>4</th>\n",
       "      <td>INTERNAL</td>\n",
       "      <td>SOLUTION 32</td>\n",
       "      <td>SECTOR 20</td>\n",
       "      <td>OTHERS</td>\n",
       "      <td>EKTA ZUTSHI</td>\n",
       "      <td>RUSSELL DAHLEN</td>\n",
       "      <td>80882.35</td>\n",
       "      <td>0</td>\n",
       "    </tr>\n",
       "  </tbody>\n",
       "</table>\n",
       "</div>"
      ],
      "text/plain": [
       "  Client Category Solution Type  ...  Deal Cost Deal Status Code\n",
       "0         TELECOM    SOLUTION 7  ...  150000.00                1\n",
       "1         TELECOM    SOLUTION 7  ...  744705.88                1\n",
       "2        INTERNAL   SOLUTION 59  ...   60000.00                0\n",
       "3        INTERNAL   SOLUTION 59  ...   60000.00                0\n",
       "4        INTERNAL   SOLUTION 32  ...   80882.35                0\n",
       "\n",
       "[5 rows x 8 columns]"
      ]
     },
     "execution_count": 16,
     "metadata": {
      "tags": []
     },
     "output_type": "execute_result"
    }
   ],
   "source": [
    "df.head()"
   ]
  },
  {
   "cell_type": "markdown",
   "metadata": {
    "id": "VJZpsGTsMFn1"
   },
   "source": [
    "# EDA"
   ]
  },
  {
   "cell_type": "markdown",
   "metadata": {
    "id": "VOOAxvlOVxf2"
   },
   "source": [
    "First we are going to see target variable distribution for each category in categorical variables. So, in below code i have used estimator as mean which will indicate proportion of target 1(as our target variable is binary) in each category. If we get similar proportion for all categories in any particular categorical variable, it indicates that categorical variable is not much useful in predicting target variable and we will not select that variable in our model."
   ]
  },
  {
   "cell_type": "code",
   "execution_count": null,
   "metadata": {
    "colab": {
     "base_uri": "https://localhost:8080/",
     "height": 1000
    },
    "executionInfo": {
     "elapsed": 19930,
     "status": "ok",
     "timestamp": 1624526688391,
     "user": {
      "displayName": "ronak lathiya",
      "photoUrl": "",
      "userId": "13017137450409577858"
     },
     "user_tz": -330
    },
    "id": "Ff9j8J1HLd3r",
    "outputId": "221735f7-6161-4e2c-cdf1-4e7e4901e13c"
   },
   "outputs": [
    {
     "data": {
      "image/png": "[encoded data removed]",
      "text/plain": [
       "<Figure size 1800x1800 with 6 Axes>"
      ]
     },
     "metadata": {
      "needs_background": "light",
      "tags": []
     },
     "output_type": "display_data"
    }
   ],
   "source": [
    "plt.figure(figsize=(25,25))\n",
    "for i in range(len(categorical_colnames)-1):\n",
    "    plt.subplot(len(categorical_colnames),1,i+1)\n",
    "    sns.barplot(x=categorical_colnames[i],y=\"Deal Status Code\",data = df,estimator = np.mean)\n",
    "    plt.xticks(rotation=90)\n",
    "plt.subplots_adjust(hspace=1)\n",
    "plt.show()"
   ]
  },
  {
   "cell_type": "markdown",
   "metadata": {
    "id": "qvTVj15eaKvb"
   },
   "source": [
    "As we can see that proportions of target variable are not constant within any categorical variable. So we are going to include this all categorical variables in our model."
   ]
  },
  {
   "cell_type": "markdown",
   "metadata": {
    "id": "jzXrXaGSbTht"
   },
   "source": [
    "Let me check for distribution of continous variable Deal Cost."
   ]
  },
  {
   "cell_type": "code",
   "execution_count": null,
   "metadata": {
    "colab": {
     "base_uri": "https://localhost:8080/",
     "height": 280
    },
    "executionInfo": {
     "elapsed": 672,
     "status": "ok",
     "timestamp": 1624528429780,
     "user": {
      "displayName": "ronak lathiya",
      "photoUrl": "",
      "userId": "13017137450409577858"
     },
     "user_tz": -330
    },
    "id": "qK56AfYvSuP1",
    "outputId": "6a323349-68f9-4dee-8784-3580b4eed4ab"
   },
   "outputs": [
    {
     "data": {
      "text/plain": [
       "<matplotlib.axes._subplots.AxesSubplot at 0x7f227527d490>"
      ]
     },
     "execution_count": 19,
     "metadata": {
      "tags": []
     },
     "output_type": "execute_result"
    },
    {
     "data": {
      "image/png": "[encoded data removed]",
      "text/plain": [
       "<Figure size 432x288 with 1 Axes>"
      ]
     },
     "metadata": {
      "needs_background": "light",
      "tags": []
     },
     "output_type": "display_data"
    }
   ],
   "source": [
    "sns.boxplot(y=df[\"Deal Cost\"])"
   ]
  },
  {
   "cell_type": "markdown",
   "metadata": {
    "id": "SDRhOJinfFhg"
   },
   "source": [
    "Too wide range to visualize box plot. Let me reduce its range by taking square root."
   ]
  },
  {
   "cell_type": "code",
   "execution_count": null,
   "metadata": {
    "colab": {
     "base_uri": "https://localhost:8080/",
     "height": 269
    },
    "executionInfo": {
     "elapsed": 540,
     "status": "ok",
     "timestamp": 1624529265972,
     "user": {
      "displayName": "ronak lathiya",
      "photoUrl": "",
      "userId": "13017137450409577858"
     },
     "user_tz": -330
    },
    "id": "bO0L5qrkcJ1l",
    "outputId": "9b69a8a1-be5b-4db6-c3c2-f4fc9fa07a5a"
   },
   "outputs": [
    {
     "data": {
      "text/plain": [
       "<matplotlib.axes._subplots.AxesSubplot at 0x7f227522d150>"
      ]
     },
     "execution_count": 20,
     "metadata": {
      "tags": []
     },
     "output_type": "execute_result"
    },
    {
     "data": {
      "image/png": "[encoded data removed]",
      "text/plain": [
       "<Figure size 432x288 with 1 Axes>"
      ]
     },
     "metadata": {
      "needs_background": "light",
      "tags": []
     },
     "output_type": "display_data"
    }
   ],
   "source": [
    "sns.boxplot(y=np.sqrt(df[\"Deal Cost\"]))"
   ]
  },
  {
   "cell_type": "markdown",
   "metadata": {
    "id": "j5CwqbJUfhqF"
   },
   "source": [
    "Some classification algorithm like logistic regression get affected by extreme values so i am going to replace extreme values with 4500."
   ]
  },
  {
   "cell_type": "code",
   "execution_count": null,
   "metadata": {
    "id": "Z4RMrjVufWAr"
   },
   "outputs": [],
   "source": [
    "df[\"Deal Cost\"] = np.sqrt(df[\"Deal Cost\"])"
   ]
  },
  {
   "cell_type": "code",
   "execution_count": null,
   "metadata": {
    "id": "LS2TAbyrgSYr"
   },
   "outputs": [],
   "source": [
    "df.loc[df[df[\"Deal Cost\"]>4500].index,[\"Deal Cost\"]] = 4500"
   ]
  },
  {
   "cell_type": "markdown",
   "metadata": {
    "id": "LeOfh6ZaiCwa"
   },
   "source": [
    "Let me check distribution of Deal Cost variable for each category of target variable."
   ]
  },
  {
   "cell_type": "code",
   "execution_count": null,
   "metadata": {
    "colab": {
     "base_uri": "https://localhost:8080/",
     "height": 386
    },
    "executionInfo": {
     "elapsed": 1410,
     "status": "ok",
     "timestamp": 1624533108496,
     "user": {
      "displayName": "ronak lathiya",
      "photoUrl": "",
      "userId": "13017137450409577858"
     },
     "user_tz": -330
    },
    "id": "YjJg1EFfhp9k",
    "outputId": "be0ad3a3-e109-43db-a15f-030247eb36f2"
   },
   "outputs": [
    {
     "data": {
      "text/plain": [
       "<matplotlib.lines.Line2D at 0x7f227ae17050>"
      ]
     },
     "execution_count": 45,
     "metadata": {
      "tags": []
     },
     "output_type": "execute_result"
    },
    {
     "data": {
      "image/png": "[encoded data removed]",
      "text/plain": [
       "<Figure size 454.25x360 with 1 Axes>"
      ]
     },
     "metadata": {
      "needs_background": "light",
      "tags": []
     },
     "output_type": "display_data"
    }
   ],
   "source": [
    "t=df.groupby(\"Deal Status Code\").agg({\"Deal Cost\":[\"mean\"]}).values  # to get mean value of Deal Cost for each of the target categories\n",
    "sns.displot(df, x=\"Deal Cost\", hue=\"Deal Status Code\",kind=\"kde\")\n",
    "plt.axvline(t[0] ,color = \"blue\") # t[0] is mean of Deal Cost for target category 0\n",
    "plt.axvline(t[1],color = \"orange\") #t[1] is mean of Deal Cost for target category 1"
   ]
  },
  {
   "cell_type": "markdown",
   "metadata": {
    "id": "84VHamk9u-YQ"
   },
   "source": [
    "From above distribution we can see that Deal Cost has almost identical distribution for each of the target categories. So it seems that Deal Cost is not going to be useful in classify target variable."
   ]
  },
  {
   "cell_type": "markdown",
   "metadata": {
    "id": "NoFWTSMIJQuR"
   },
   "source": [
    "# Encoding"
   ]
  },
  {
   "cell_type": "markdown",
   "metadata": {
    "id": "EwLDoJJYJXXJ"
   },
   "source": [
    "There are many Encoding techniques like dummy variable, label encoding , mean encoding etc. But here, i think mean encoding will make more sense. As we have seen in EDA that proportions(or you can say probability of getting Target 1 which is shown by mean value in EDA graphs) are not similar. So mean encoding can help to capture this relationship. High values for categories which has high proportion of target 1 and low values for categories which has low proportion of target 1. "
   ]
  },
  {
   "cell_type": "markdown",
   "metadata": {
    "id": "tfp0lrTmSi0_"
   },
   "source": [
    "We can also use dummy but it will add many new dimensions, which will lead to more complexity."
   ]
  },
  {
   "cell_type": "markdown",
   "metadata": {
    "id": "QlKY9ffcS7yQ"
   },
   "source": [
    "Where as label encoding labels categories based on alphabetical order, It will produce misleading result for certain algorithms. If our categories have something rank like order and they have adjusted themselves alphabetically correspond to ranks, We could have considered label encoding. "
   ]
  },
  {
   "cell_type": "code",
   "execution_count": 80,
   "metadata": {
    "executionInfo": {
     "elapsed": 525,
     "status": "ok",
     "timestamp": 1624554303672,
     "user": {
      "displayName": "ronak lathiya",
      "photoUrl": "",
      "userId": "13017137450409577858"
     },
     "user_tz": -330
    },
    "id": "E5pEnNhgs2l6"
   },
   "outputs": [],
   "source": [
    "mean_colnames = ['Client Category', 'Solution Type', 'Sector', 'Location', 'VP Name','Manager Name']"
   ]
  },
  {
   "cell_type": "code",
   "execution_count": 81,
   "metadata": {
    "executionInfo": {
     "elapsed": 14,
     "status": "ok",
     "timestamp": 1624554304196,
     "user": {
      "displayName": "ronak lathiya",
      "photoUrl": "",
      "userId": "13017137450409577858"
     },
     "user_tz": -330
    },
    "id": "I3bFRnVCtncS"
   },
   "outputs": [],
   "source": [
    "#mean encoding\n",
    "for i in mean_colnames:\n",
    "    Mean_Values = df.groupby([i])['Deal Status Code'].mean().to_dict() #This will make dictionary in which key will be category and value will be mean corresponding to that category.\n",
    "    df[i] =  df[i].map(Mean_Values) #this will map categorical variables based on its dictionary generated in above step."
   ]
  },
  {
   "cell_type": "code",
   "execution_count": 82,
   "metadata": {
    "colab": {
     "base_uri": "https://localhost:8080/",
     "height": 203
    },
    "executionInfo": {
     "elapsed": 14,
     "status": "ok",
     "timestamp": 1624554304197,
     "user": {
      "displayName": "ronak lathiya",
      "photoUrl": "",
      "userId": "13017137450409577858"
     },
     "user_tz": -330
    },
    "id": "GGIINQrgYWyQ",
    "outputId": "de3cdfde-736a-4e6f-964a-7e1a6b1af3ce"
   },
   "outputs": [
    {
     "data": {
      "text/html": [
       "<div>\n",
       "<style scoped>\n",
       "    .dataframe tbody tr th:only-of-type {\n",
       "        vertical-align: middle;\n",
       "    }\n",
       "\n",
       "    .dataframe tbody tr th {\n",
       "        vertical-align: top;\n",
       "    }\n",
       "\n",
       "    .dataframe thead th {\n",
       "        text-align: right;\n",
       "    }\n",
       "</style>\n",
       "<table border=\"1\" class=\"dataframe\">\n",
       "  <thead>\n",
       "    <tr style=\"text-align: right;\">\n",
       "      <th></th>\n",
       "      <th>Client Category</th>\n",
       "      <th>Solution Type</th>\n",
       "      <th>Sector</th>\n",
       "      <th>Location</th>\n",
       "      <th>VP Name</th>\n",
       "      <th>Manager Name</th>\n",
       "      <th>Deal Cost</th>\n",
       "      <th>Deal Status Code</th>\n",
       "    </tr>\n",
       "  </thead>\n",
       "  <tbody>\n",
       "    <tr>\n",
       "      <th>0</th>\n",
       "      <td>0.414110</td>\n",
       "      <td>0.352273</td>\n",
       "      <td>0.386861</td>\n",
       "      <td>0.402235</td>\n",
       "      <td>0.625455</td>\n",
       "      <td>0.428571</td>\n",
       "      <td>387.298335</td>\n",
       "      <td>1</td>\n",
       "    </tr>\n",
       "    <tr>\n",
       "      <th>1</th>\n",
       "      <td>0.414110</td>\n",
       "      <td>0.352273</td>\n",
       "      <td>0.386861</td>\n",
       "      <td>0.402235</td>\n",
       "      <td>0.625455</td>\n",
       "      <td>0.428571</td>\n",
       "      <td>862.963429</td>\n",
       "      <td>1</td>\n",
       "    </tr>\n",
       "    <tr>\n",
       "      <th>2</th>\n",
       "      <td>0.523777</td>\n",
       "      <td>0.322176</td>\n",
       "      <td>0.505852</td>\n",
       "      <td>0.480344</td>\n",
       "      <td>0.625455</td>\n",
       "      <td>0.640288</td>\n",
       "      <td>244.948974</td>\n",
       "      <td>0</td>\n",
       "    </tr>\n",
       "    <tr>\n",
       "      <th>3</th>\n",
       "      <td>0.523777</td>\n",
       "      <td>0.322176</td>\n",
       "      <td>0.505852</td>\n",
       "      <td>0.480344</td>\n",
       "      <td>0.625455</td>\n",
       "      <td>0.640288</td>\n",
       "      <td>244.948974</td>\n",
       "      <td>0</td>\n",
       "    </tr>\n",
       "    <tr>\n",
       "      <th>4</th>\n",
       "      <td>0.523777</td>\n",
       "      <td>0.567719</td>\n",
       "      <td>0.505852</td>\n",
       "      <td>0.480344</td>\n",
       "      <td>0.625455</td>\n",
       "      <td>0.640288</td>\n",
       "      <td>284.398224</td>\n",
       "      <td>0</td>\n",
       "    </tr>\n",
       "  </tbody>\n",
       "</table>\n",
       "</div>"
      ],
      "text/plain": [
       "   Client Category  Solution Type  ...   Deal Cost  Deal Status Code\n",
       "0         0.414110       0.352273  ...  387.298335                 1\n",
       "1         0.414110       0.352273  ...  862.963429                 1\n",
       "2         0.523777       0.322176  ...  244.948974                 0\n",
       "3         0.523777       0.322176  ...  244.948974                 0\n",
       "4         0.523777       0.567719  ...  284.398224                 0\n",
       "\n",
       "[5 rows x 8 columns]"
      ]
     },
     "execution_count": 82,
     "metadata": {
      "tags": []
     },
     "output_type": "execute_result"
    }
   ],
   "source": [
    "df.head()"
   ]
  },
  {
   "cell_type": "markdown",
   "metadata": {
    "id": "DyUUWqLZaFwG"
   },
   "source": [
    "## Model Making\n",
    "I am going to apply several classification algorithms. I will create base model for each algorithm and also KFold cross validate model. KFold cross validation requires huge resources but here our dataset is small that's why i am going to create KFold validated model. Apart from KFold cross validation, i have not applied any tuning techniques so our final model will be base model or KFold cross validated model."
   ]
  },
  {
   "cell_type": "markdown",
   "metadata": {
    "id": "nkL7BSZeDGgn"
   },
   "source": [
    "And also remember that if your KFold cross validated model does not improve accuracy significantly compare to base model then it is not advisable to use KFold cross validated model."
   ]
  },
  {
   "cell_type": "markdown",
   "metadata": {
    "id": "3KZ2ca3tbb3V"
   },
   "source": [
    "Creating X and Y"
   ]
  },
  {
   "cell_type": "code",
   "execution_count": 83,
   "metadata": {
    "executionInfo": {
     "elapsed": 14,
     "status": "ok",
     "timestamp": 1624554304199,
     "user": {
      "displayName": "ronak lathiya",
      "photoUrl": "",
      "userId": "13017137450409577858"
     },
     "user_tz": -330
    },
    "id": "kQpN3vadbMsE"
   },
   "outputs": [],
   "source": [
    "X = df.values[:,0:6] # we have converted df into array so that we can easily process data\n",
    "Y = df.values[:,-1]  "
   ]
  },
  {
   "cell_type": "markdown",
   "metadata": {
    "id": "p0Yt2d-zp9MH"
   },
   "source": [
    "As of now, We have also dropped Deal Cost as it was seeming unuseful variable as we have seen in EDA. "
   ]
  },
  {
   "cell_type": "markdown",
   "metadata": {
    "id": "2gLPUckwrZn4"
   },
   "source": [
    "Scaling : scaling is not required in this case as our all independent variables ranges from 0 to 1 but still we would apply StandardScaler as practice."
   ]
  },
  {
   "cell_type": "code",
   "execution_count": 84,
   "metadata": {
    "executionInfo": {
     "elapsed": 14,
     "status": "ok",
     "timestamp": 1624554304200,
     "user": {
      "displayName": "ronak lathiya",
      "photoUrl": "",
      "userId": "13017137450409577858"
     },
     "user_tz": -330
    },
    "id": "Kj31h3kipYOg"
   },
   "outputs": [],
   "source": [
    "from sklearn.preprocessing import StandardScaler\n",
    "scaler = StandardScaler()\n",
    "scaler.fit(X)\n",
    "X = scaler.transform(X)"
   ]
  },
  {
   "cell_type": "code",
   "execution_count": 85,
   "metadata": {
    "executionInfo": {
     "elapsed": 14,
     "status": "ok",
     "timestamp": 1624554304201,
     "user": {
      "displayName": "ronak lathiya",
      "photoUrl": "",
      "userId": "13017137450409577858"
     },
     "user_tz": -330
    },
    "id": "_FWjJsA1pftB"
   },
   "outputs": [],
   "source": [
    "from sklearn.model_selection import train_test_split\n",
    "\n",
    "X_train , X_test, Y_train, Y_test = train_test_split(X,Y,test_size=0.3,random_state=10)"
   ]
  },
  {
   "cell_type": "markdown",
   "metadata": {
    "id": "lDTfmDn7spA9"
   },
   "source": [
    "1)      **LOGISTIC REGRESSION**"
   ]
  },
  {
   "cell_type": "markdown",
   "metadata": {
    "id": "mOtQAtSYy9iS"
   },
   "source": [
    "---------Base Logistic Regression  "
   ]
  },
  {
   "cell_type": "code",
   "execution_count": 86,
   "metadata": {
    "executionInfo": {
     "elapsed": 15,
     "status": "ok",
     "timestamp": 1624554304202,
     "user": {
      "displayName": "ronak lathiya",
      "photoUrl": "",
      "userId": "13017137450409577858"
     },
     "user_tz": -330
    },
    "id": "8clTniRGsSsd"
   },
   "outputs": [],
   "source": [
    "from sklearn.linear_model import LogisticRegression\n",
    "classifier = LogisticRegression()\n",
    "classifier.fit(X_train,Y_train)\n",
    "Y_pred = classifier.predict(X_test)    "
   ]
  },
  {
   "cell_type": "code",
   "execution_count": 87,
   "metadata": {
    "colab": {
     "base_uri": "https://localhost:8080/"
    },
    "executionInfo": {
     "elapsed": 14,
     "status": "ok",
     "timestamp": 1624554304202,
     "user": {
      "displayName": "ronak lathiya",
      "photoUrl": "",
      "userId": "13017137450409577858"
     },
     "user_tz": -330
    },
    "id": "68VPW9Sns-vC",
    "outputId": "df483bd4-f213-4b81-b91e-2bfc1db5a6c1"
   },
   "outputs": [
    {
     "name": "stdout",
     "output_type": "stream",
     "text": [
      "[[1587  283]\n",
      " [ 638  483]]\n",
      "Classification report :\n",
      "              precision    recall  f1-score   support\n",
      "\n",
      "         0.0       0.71      0.85      0.78      1870\n",
      "         1.0       0.63      0.43      0.51      1121\n",
      "\n",
      "    accuracy                           0.69      2991\n",
      "   macro avg       0.67      0.64      0.64      2991\n",
      "weighted avg       0.68      0.69      0.68      2991\n",
      "\n",
      "0.6920762286860582\n"
     ]
    }
   ],
   "source": [
    "from sklearn.metrics import confusion_matrix,accuracy_score, classification_report\n",
    "\n",
    "cfm = confusion_matrix(Y_test,Y_pred)\n",
    "print(cfm)\n",
    "print(\"Classification report :\")\n",
    "\n",
    "print(classification_report(Y_test,Y_pred))\n",
    "\n",
    "acc= accuracy_score(Y_test,Y_pred)\n",
    "print(acc)"
   ]
  },
  {
   "cell_type": "markdown",
   "metadata": {
    "id": "aYul5kUTzVKV"
   },
   "source": [
    "---------KFold cross validated Logistic Regression"
   ]
  },
  {
   "cell_type": "code",
   "execution_count": 88,
   "metadata": {
    "colab": {
     "base_uri": "https://localhost:8080/"
    },
    "executionInfo": {
     "elapsed": 1029,
     "status": "ok",
     "timestamp": 1624554305218,
     "user": {
      "displayName": "ronak lathiya",
      "photoUrl": "",
      "userId": "13017137450409577858"
     },
     "user_tz": -330
    },
    "id": "prxU-Z8XtD39",
    "outputId": "add5c0e5-2aef-4d6d-b699-d4b4492424f9"
   },
   "outputs": [
    {
     "name": "stdout",
     "output_type": "stream",
     "text": [
      "[0.6991404  0.67908309 0.71776504 0.70630372 0.71919771 0.71633238\n",
      " 0.69054441 0.70014347 0.71449067 0.71162123]\n",
      "0.7054622142378512\n"
     ]
    }
   ],
   "source": [
    "from sklearn.model_selection import KFold\n",
    "kfold_cv = KFold(n_splits=10)   # 10 is genearlly preferable value for small dataset\n",
    "\n",
    "from sklearn.model_selection import cross_val_score\n",
    "kfold_cv_result = cross_val_score(estimator = classifier,X=X_train,y=Y_train,cv = kfold_cv)\n",
    "\n",
    "print(kfold_cv_result)  # This will print accuracy value for each fold\n",
    "print(kfold_cv_result.mean()) # This will print average accuracy value"
   ]
  },
  {
   "cell_type": "code",
   "execution_count": 89,
   "metadata": {
    "executionInfo": {
     "elapsed": 7,
     "status": "ok",
     "timestamp": 1624554305219,
     "user": {
      "displayName": "ronak lathiya",
      "photoUrl": "",
      "userId": "13017137450409577858"
     },
     "user_tz": -330
    },
    "id": "qGEQZV7SvjWx"
   },
   "outputs": [],
   "source": [
    "for train_value,test_value in kfold_cv.split(X_train):\n",
    "    classifier.fit(X_train[train_value],Y_train[train_value]).predict(X_train[test_value])\n",
    "Y_pred = classifier.predict(X_test) # this will predict on X_test by using cross validated model"
   ]
  },
  {
   "cell_type": "code",
   "execution_count": 90,
   "metadata": {
    "colab": {
     "base_uri": "https://localhost:8080/"
    },
    "executionInfo": {
     "elapsed": 5,
     "status": "ok",
     "timestamp": 1624554305219,
     "user": {
      "displayName": "ronak lathiya",
      "photoUrl": "",
      "userId": "13017137450409577858"
     },
     "user_tz": -330
    },
    "id": "0DFS9C_XyW3t",
    "outputId": "b62f3ae5-51cf-40ab-85aa-0e9f3533084a"
   },
   "outputs": [
    {
     "name": "stdout",
     "output_type": "stream",
     "text": [
      "[[1588  282]\n",
      " [ 637  484]]\n",
      "Classification report :\n",
      "              precision    recall  f1-score   support\n",
      "\n",
      "         0.0       0.71      0.85      0.78      1870\n",
      "         1.0       0.63      0.43      0.51      1121\n",
      "\n",
      "    accuracy                           0.69      2991\n",
      "   macro avg       0.67      0.64      0.64      2991\n",
      "weighted avg       0.68      0.69      0.68      2991\n",
      "\n",
      "0.692744901370779\n"
     ]
    }
   ],
   "source": [
    "from sklearn.metrics import confusion_matrix,accuracy_score, classification_report\n",
    "\n",
    "cfm = confusion_matrix(Y_test,Y_pred)\n",
    "print(cfm)\n",
    "print(\"Classification report :\")\n",
    "\n",
    "print(classification_report(Y_test,Y_pred))\n",
    "\n",
    "acc= accuracy_score(Y_test,Y_pred)\n",
    "print(acc)"
   ]
  },
  {
   "cell_type": "markdown",
   "metadata": {
    "id": "LZ-57IbA3SLW"
   },
   "source": [
    "2) **KNeighbors**"
   ]
  },
  {
   "cell_type": "markdown",
   "metadata": {
    "id": "1xGmmvxZ3jkq"
   },
   "source": [
    "---------Base KNeighbors"
   ]
  },
  {
   "cell_type": "code",
   "execution_count": null,
   "metadata": {
    "id": "HRWvRGHxyZp3"
   },
   "outputs": [],
   "source": [
    "from sklearn.neighbors import KNeighborsClassifier\n",
    "classifier = KNeighborsClassifier(n_neighbors=25,metric=\"minkowski\",p=2)  # 25 just selected randomly, to get best value we need to try many values \n",
    "classifier.fit(X_train,Y_train)\n",
    "Y_pred = classifier.predict(X_test)"
   ]
  },
  {
   "cell_type": "code",
   "execution_count": null,
   "metadata": {
    "colab": {
     "base_uri": "https://localhost:8080/"
    },
    "executionInfo": {
     "elapsed": 529,
     "status": "ok",
     "timestamp": 1624552668584,
     "user": {
      "displayName": "ronak lathiya",
      "photoUrl": "",
      "userId": "13017137450409577858"
     },
     "user_tz": -330
    },
    "id": "9mA46sT24gt1",
    "outputId": "be78f792-cb0a-4723-f7f3-d25a244ddc13"
   },
   "outputs": [
    {
     "name": "stdout",
     "output_type": "stream",
     "text": [
      "[[1550  320]\n",
      " [ 601  520]]\n",
      "Classification report :\n",
      "              precision    recall  f1-score   support\n",
      "\n",
      "         0.0       0.72      0.83      0.77      1870\n",
      "         1.0       0.62      0.46      0.53      1121\n",
      "\n",
      "    accuracy                           0.69      2991\n",
      "   macro avg       0.67      0.65      0.65      2991\n",
      "weighted avg       0.68      0.69      0.68      2991\n",
      "\n",
      "0.6920762286860582\n"
     ]
    }
   ],
   "source": [
    "from sklearn.metrics import confusion_matrix,accuracy_score, classification_report\n",
    "\n",
    "cfm = confusion_matrix(Y_test,Y_pred)\n",
    "print(cfm)\n",
    "print(\"Classification report :\")\n",
    "\n",
    "print(classification_report(Y_test,Y_pred))\n",
    "\n",
    "acc= accuracy_score(Y_test,Y_pred)\n",
    "print(acc)"
   ]
  },
  {
   "cell_type": "markdown",
   "metadata": {
    "id": "3CiwqdH44xPE"
   },
   "source": [
    "---------KFold cross validated KNeighbors"
   ]
  },
  {
   "cell_type": "code",
   "execution_count": null,
   "metadata": {
    "colab": {
     "base_uri": "https://localhost:8080/"
    },
    "executionInfo": {
     "elapsed": 1275,
     "status": "ok",
     "timestamp": 1624552795725,
     "user": {
      "displayName": "ronak lathiya",
      "photoUrl": "",
      "userId": "13017137450409577858"
     },
     "user_tz": -330
    },
    "id": "sINxS1jV4jha",
    "outputId": "73089e19-6ce6-4292-92ac-d77ab98763b0"
   },
   "outputs": [
    {
     "name": "stdout",
     "output_type": "stream",
     "text": [
      "[0.7234957  0.68338109 0.7234957  0.69770774 0.72206304 0.73782235\n",
      " 0.69340974 0.70301291 0.7302726  0.72166428]\n",
      "0.7136325142958155\n"
     ]
    }
   ],
   "source": [
    "from sklearn.model_selection import KFold\n",
    "kfold_cv = KFold(n_splits=10)\n",
    "\n",
    "from sklearn.model_selection import cross_val_score\n",
    "kfold_cv_result = cross_val_score(estimator = classifier,X=X_train,y=Y_train,cv = kfold_cv)\n",
    "\n",
    "print(kfold_cv_result)\n",
    "print(kfold_cv_result.mean())"
   ]
  },
  {
   "cell_type": "code",
   "execution_count": null,
   "metadata": {
    "id": "Z9fpfuBM5GZp"
   },
   "outputs": [],
   "source": [
    "for train_value,test_value in kfold_cv.split(X_train):\n",
    "    classifier.fit(X_train[train_value],Y_train[train_value]).predict(X_train[test_value])\n",
    "Y_pred = classifier.predict(X_test)"
   ]
  },
  {
   "cell_type": "code",
   "execution_count": null,
   "metadata": {
    "colab": {
     "base_uri": "https://localhost:8080/"
    },
    "executionInfo": {
     "elapsed": 551,
     "status": "ok",
     "timestamp": 1624552827357,
     "user": {
      "displayName": "ronak lathiya",
      "photoUrl": "",
      "userId": "13017137450409577858"
     },
     "user_tz": -330
    },
    "id": "2LyEGc585Lcg",
    "outputId": "c20c8828-c6bc-4690-c7c5-af944f4eae0f"
   },
   "outputs": [
    {
     "name": "stdout",
     "output_type": "stream",
     "text": [
      "[[1543  327]\n",
      " [ 588  533]]\n",
      "Classification report :\n",
      "              precision    recall  f1-score   support\n",
      "\n",
      "         0.0       0.72      0.83      0.77      1870\n",
      "         1.0       0.62      0.48      0.54      1121\n",
      "\n",
      "    accuracy                           0.69      2991\n",
      "   macro avg       0.67      0.65      0.65      2991\n",
      "weighted avg       0.68      0.69      0.68      2991\n",
      "\n",
      "0.6940822467402207\n"
     ]
    }
   ],
   "source": [
    "from sklearn.metrics import confusion_matrix,accuracy_score, classification_report\n",
    "\n",
    "cfm = confusion_matrix(Y_test,Y_pred)\n",
    "print(cfm)\n",
    "print(\"Classification report :\")\n",
    "\n",
    "print(classification_report(Y_test,Y_pred))\n",
    "\n",
    "acc= accuracy_score(Y_test,Y_pred)\n",
    "print(acc)"
   ]
  },
  {
   "cell_type": "markdown",
   "metadata": {
    "id": "BBCb5rPQ7QQd"
   },
   "source": [
    "3) **SVM**"
   ]
  },
  {
   "cell_type": "markdown",
   "metadata": {
    "id": "P6ajmTJe7lnJ"
   },
   "source": [
    "---------Base SVM"
   ]
  },
  {
   "cell_type": "code",
   "execution_count": null,
   "metadata": {
    "id": "6eDlQMTv5OTO"
   },
   "outputs": [],
   "source": [
    "from sklearn.svm import SVC\n",
    "classifier = SVC(kernel=\"rbf\",C=1,gamma=0.01) # just selected randomly C and gamma, for optimum value we need to try several values\n",
    "classifier.fit(X_train,Y_train)\n",
    "Y_pred=classifier.predict(X_test)"
   ]
  },
  {
   "cell_type": "code",
   "execution_count": null,
   "metadata": {
    "colab": {
     "base_uri": "https://localhost:8080/"
    },
    "executionInfo": {
     "elapsed": 530,
     "status": "ok",
     "timestamp": 1624553558697,
     "user": {
      "displayName": "ronak lathiya",
      "photoUrl": "",
      "userId": "13017137450409577858"
     },
     "user_tz": -330
    },
    "id": "f_o8tvv379q_",
    "outputId": "40287a68-b116-4c94-e4e9-5a8bed82421d"
   },
   "outputs": [
    {
     "name": "stdout",
     "output_type": "stream",
     "text": [
      "[[1724  146]\n",
      " [ 740  381]]\n",
      "Classification report :\n",
      "              precision    recall  f1-score   support\n",
      "\n",
      "         0.0       0.70      0.92      0.80      1870\n",
      "         1.0       0.72      0.34      0.46      1121\n",
      "\n",
      "    accuracy                           0.70      2991\n",
      "   macro avg       0.71      0.63      0.63      2991\n",
      "weighted avg       0.71      0.70      0.67      2991\n",
      "\n",
      "0.7037780006686727\n"
     ]
    }
   ],
   "source": [
    "from sklearn.metrics import confusion_matrix,accuracy_score, classification_report\n",
    "\n",
    "cfm = confusion_matrix(Y_test,Y_pred)\n",
    "print(cfm)\n",
    "print(\"Classification report :\")\n",
    "\n",
    "print(classification_report(Y_test,Y_pred))\n",
    "\n",
    "acc= accuracy_score(Y_test,Y_pred)\n",
    "print(acc)"
   ]
  },
  {
   "cell_type": "markdown",
   "metadata": {
    "id": "UkAybVJg8H33"
   },
   "source": [
    "---------KFold cross validated SVM"
   ]
  },
  {
   "cell_type": "code",
   "execution_count": null,
   "metadata": {
    "colab": {
     "base_uri": "https://localhost:8080/"
    },
    "executionInfo": {
     "elapsed": 14862,
     "status": "ok",
     "timestamp": 1624553644627,
     "user": {
      "displayName": "ronak lathiya",
      "photoUrl": "",
      "userId": "13017137450409577858"
     },
     "user_tz": -330
    },
    "id": "3OAbyO9l8A3A",
    "outputId": "aa65710d-d02c-44d4-98d7-d323c1d27bb9"
   },
   "outputs": [
    {
     "name": "stdout",
     "output_type": "stream",
     "text": [
      "[0.6991404  0.67335244 0.72636103 0.69054441 0.7234957  0.70200573\n",
      " 0.68767908 0.69440459 0.71879484 0.71162123]\n",
      "0.7027399456532911\n"
     ]
    }
   ],
   "source": [
    "from sklearn.model_selection import KFold\n",
    "kfold_cv = KFold(n_splits=10)\n",
    "\n",
    "from sklearn.model_selection import cross_val_score\n",
    "kfold_cv_result = cross_val_score(estimator = classifier,X=X_train,y=Y_train,cv = kfold_cv)\n",
    "\n",
    "print(kfold_cv_result)\n",
    "print(kfold_cv_result.mean())"
   ]
  },
  {
   "cell_type": "code",
   "execution_count": null,
   "metadata": {
    "id": "jFI5sr1T8SVo"
   },
   "outputs": [],
   "source": [
    "for train_value,test_value in kfold_cv.split(X_train):\n",
    "    classifier.fit(X_train[train_value],Y_train[train_value]).predict(X_train[test_value])\n",
    "Y_pred = classifier.predict(X_test)"
   ]
  },
  {
   "cell_type": "code",
   "execution_count": null,
   "metadata": {
    "colab": {
     "base_uri": "https://localhost:8080/"
    },
    "executionInfo": {
     "elapsed": 525,
     "status": "ok",
     "timestamp": 1624553692032,
     "user": {
      "displayName": "ronak lathiya",
      "photoUrl": "",
      "userId": "13017137450409577858"
     },
     "user_tz": -330
    },
    "id": "UyzU39Yn8cq8",
    "outputId": "db93ef71-460c-40fc-d575-f78e7d8f257e"
   },
   "outputs": [
    {
     "name": "stdout",
     "output_type": "stream",
     "text": [
      "[[1722  148]\n",
      " [ 740  381]]\n",
      "Classification report :\n",
      "              precision    recall  f1-score   support\n",
      "\n",
      "         0.0       0.70      0.92      0.80      1870\n",
      "         1.0       0.72      0.34      0.46      1121\n",
      "\n",
      "    accuracy                           0.70      2991\n",
      "   macro avg       0.71      0.63      0.63      2991\n",
      "weighted avg       0.71      0.70      0.67      2991\n",
      "\n",
      "0.7031093279839519\n"
     ]
    }
   ],
   "source": [
    "from sklearn.metrics import confusion_matrix,accuracy_score, classification_report\n",
    "\n",
    "cfm = confusion_matrix(Y_test,Y_pred)\n",
    "print(cfm)\n",
    "print(\"Classification report :\")\n",
    "\n",
    "print(classification_report(Y_test,Y_pred))\n",
    "\n",
    "acc= accuracy_score(Y_test,Y_pred)\n",
    "print(acc)"
   ]
  },
  {
   "cell_type": "markdown",
   "metadata": {
    "id": "UwTPs_Lk82r1"
   },
   "source": [
    "4) **Random Forest**"
   ]
  },
  {
   "cell_type": "markdown",
   "metadata": {
    "id": "m6R9sxTe8-Hk"
   },
   "source": [
    "---------Base Random Forest"
   ]
  },
  {
   "cell_type": "code",
   "execution_count": 94,
   "metadata": {
    "executionInfo": {
     "elapsed": 1238,
     "status": "ok",
     "timestamp": 1624554447318,
     "user": {
      "displayName": "ronak lathiya",
      "photoUrl": "",
      "userId": "13017137450409577858"
     },
     "user_tz": -330
    },
    "id": "rB39c6f98haP"
   },
   "outputs": [],
   "source": [
    "from sklearn.ensemble import RandomForestClassifier\n",
    "\n",
    "classifier = RandomForestClassifier(n_estimators=100) # 100 is selected randomly\n",
    "classifier.fit(X_train,Y_train)\n",
    "Y_pred=classifier.predict(X_test)"
   ]
  },
  {
   "cell_type": "code",
   "execution_count": 95,
   "metadata": {
    "colab": {
     "base_uri": "https://localhost:8080/"
    },
    "executionInfo": {
     "elapsed": 487,
     "status": "ok",
     "timestamp": 1624554450615,
     "user": {
      "displayName": "ronak lathiya",
      "photoUrl": "",
      "userId": "13017137450409577858"
     },
     "user_tz": -330
    },
    "id": "pTboFaEu9Wze",
    "outputId": "07df7d9b-4190-4166-8753-0a7a933f273a"
   },
   "outputs": [
    {
     "name": "stdout",
     "output_type": "stream",
     "text": [
      "[[1637  233]\n",
      " [ 458  663]]\n",
      "Classification report :\n",
      "              precision    recall  f1-score   support\n",
      "\n",
      "         0.0       0.78      0.88      0.83      1870\n",
      "         1.0       0.74      0.59      0.66      1121\n",
      "\n",
      "    accuracy                           0.77      2991\n",
      "   macro avg       0.76      0.73      0.74      2991\n",
      "weighted avg       0.77      0.77      0.76      2991\n",
      "\n",
      "0.7689735874289535\n"
     ]
    }
   ],
   "source": [
    "from sklearn.metrics import confusion_matrix,accuracy_score, classification_report\n",
    "\n",
    "cfm = confusion_matrix(Y_test,Y_pred)\n",
    "print(cfm)\n",
    "print(\"Classification report :\")\n",
    "\n",
    "print(classification_report(Y_test,Y_pred))\n",
    "\n",
    "acc= accuracy_score(Y_test,Y_pred)\n",
    "print(acc)"
   ]
  },
  {
   "cell_type": "markdown",
   "metadata": {
    "id": "qP3MFlb29mB1"
   },
   "source": [
    "---------KFold cross validated Random Forest"
   ]
  },
  {
   "cell_type": "code",
   "execution_count": 96,
   "metadata": {
    "colab": {
     "base_uri": "https://localhost:8080/"
    },
    "executionInfo": {
     "elapsed": 7270,
     "status": "ok",
     "timestamp": 1624554462089,
     "user": {
      "displayName": "ronak lathiya",
      "photoUrl": "",
      "userId": "13017137450409577858"
     },
     "user_tz": -330
    },
    "id": "-3gEcozq9ZJy",
    "outputId": "2663d1c9-d38f-441f-ca57-e17ee1b0693b"
   },
   "outputs": [
    {
     "name": "stdout",
     "output_type": "stream",
     "text": [
      "[0.75644699 0.73352436 0.77507163 0.79226361 0.73065903 0.76647564\n",
      " 0.75644699 0.78335725 0.79053085 0.77905308]\n",
      "0.7663829428619586\n"
     ]
    }
   ],
   "source": [
    "from sklearn.model_selection import KFold\n",
    "kfold_cv = KFold(n_splits=10)\n",
    "\n",
    "from sklearn.model_selection import cross_val_score\n",
    "kfold_cv_result = cross_val_score(estimator = classifier,X=X_train,y=Y_train,cv = kfold_cv)\n",
    "\n",
    "print(kfold_cv_result)\n",
    "print(kfold_cv_result.mean())"
   ]
  },
  {
   "cell_type": "code",
   "execution_count": 97,
   "metadata": {
    "executionInfo": {
     "elapsed": 6918,
     "status": "ok",
     "timestamp": 1624554471639,
     "user": {
      "displayName": "ronak lathiya",
      "photoUrl": "",
      "userId": "13017137450409577858"
     },
     "user_tz": -330
    },
    "id": "kzaSZzHs9fSZ"
   },
   "outputs": [],
   "source": [
    "for train_value,test_value in kfold_cv.split(X_train):\n",
    "    classifier.fit(X_train[train_value],Y_train[train_value]).predict(X_train[test_value])\n",
    "Y_pred = classifier.predict(X_test)"
   ]
  },
  {
   "cell_type": "code",
   "execution_count": 98,
   "metadata": {
    "colab": {
     "base_uri": "https://localhost:8080/"
    },
    "executionInfo": {
     "elapsed": 486,
     "status": "ok",
     "timestamp": 1624554475151,
     "user": {
      "displayName": "ronak lathiya",
      "photoUrl": "",
      "userId": "13017137450409577858"
     },
     "user_tz": -330
    },
    "id": "GaXgS8en_HpV",
    "outputId": "a56334e3-7c3b-431d-f8d5-b863a6ba0e7f"
   },
   "outputs": [
    {
     "name": "stdout",
     "output_type": "stream",
     "text": [
      "[[1603  267]\n",
      " [ 472  649]]\n",
      "Classification report :\n",
      "              precision    recall  f1-score   support\n",
      "\n",
      "         0.0       0.77      0.86      0.81      1870\n",
      "         1.0       0.71      0.58      0.64      1121\n",
      "\n",
      "    accuracy                           0.75      2991\n",
      "   macro avg       0.74      0.72      0.72      2991\n",
      "weighted avg       0.75      0.75      0.75      2991\n",
      "\n",
      "0.7529254429956537\n"
     ]
    }
   ],
   "source": [
    "from sklearn.metrics import confusion_matrix,accuracy_score, classification_report\n",
    "\n",
    "cfm = confusion_matrix(Y_test,Y_pred)\n",
    "print(cfm)\n",
    "print(\"Classification report :\")\n",
    "\n",
    "print(classification_report(Y_test,Y_pred))\n",
    "\n",
    "acc= accuracy_score(Y_test,Y_pred)\n",
    "print(acc)"
   ]
  },
  {
   "cell_type": "markdown",
   "metadata": {
    "id": "rHBRHbZMCUzC"
   },
   "source": [
    "# Model Selection"
   ]
  },
  {
   "cell_type": "markdown",
   "metadata": {
    "id": "jVU7Ox2PEF2D"
   },
   "source": [
    "Remember that our main goal is to get high recall value for target 1 and simultaneously high accuracy. Because winning of bid will generate revenue for company and that's why we need high racall for target 1 with balance accuracy."
   ]
  },
  {
   "cell_type": "markdown",
   "metadata": {
    "id": "Bau9g-aDErZB"
   },
   "source": [
    "So the best model among models we have tried is Base Random Forest. It is giving good recall value for target 1 and also good accuracy. "
   ]
  },
  {
   "cell_type": "code",
   "execution_count": null,
   "metadata": {},
   "outputs": [],
   "source": []
  }
 ],
 "metadata": {
  "colab": {
   "authorship_tag": "ABX9TyP6qPu9D6oA4HHgt4LxlqBN",
   "collapsed_sections": [],
   "name": "win prediction code.ipynb",
   "provenance": []
  },
  "kernelspec": {
   "display_name": "Python 3",
   "language": "python",
   "name": "python3"
  },
  "language_info": {
   "codemirror_mode": {
    "name": "ipython",
    "version": 3
   },
   "file_extension": ".py",
   "mimetype": "text/x-python",
   "name": "python",
   "nbconvert_exporter": "python",
   "pygments_lexer": "ipython3",
   "version": "3.7.6"
  }
 },
 "nbformat": 4,
 "nbformat_minor": 1
}
