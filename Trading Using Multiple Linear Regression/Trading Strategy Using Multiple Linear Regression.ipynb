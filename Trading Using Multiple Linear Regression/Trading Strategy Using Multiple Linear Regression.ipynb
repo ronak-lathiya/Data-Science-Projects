{
 "cells": [
  {
   "cell_type": "code",
   "execution_count": 1,
   "metadata": {},
   "outputs": [],
   "source": [
    "# importing libraries which will be required during this project.\n",
    "import pandas as pd\n",
    "import statsmodels.formula.api as smf\n",
    "import numpy as np\n",
    "import matplotlib.pyplot as plt\n",
    "import warnings\n",
    "warnings.filterwarnings(\"ignore\")"
   ]
  },
  {
   "cell_type": "code",
   "execution_count": 2,
   "metadata": {},
   "outputs": [],
   "source": [
    "# Data\n",
    "aord = pd.read_csv(\"aord.csv\")\n",
    "nikkei = pd.read_csv(\"nikkei.csv\")\n",
    "hsi = pd.read_csv(\"hsi.csv\")\n",
    "spy = pd.read_csv(\"spy.csv\")"
   ]
  },
  {
   "cell_type": "code",
   "execution_count": 3,
   "metadata": {},
   "outputs": [
    {
     "data": {
      "text/html": [
       "<div>\n",
       "<style scoped>\n",
       "    .dataframe tbody tr th:only-of-type {\n",
       "        vertical-align: middle;\n",
       "    }\n",
       "\n",
       "    .dataframe tbody tr th {\n",
       "        vertical-align: top;\n",
       "    }\n",
       "\n",
       "    .dataframe thead th {\n",
       "        text-align: right;\n",
       "    }\n",
       "</style>\n",
       "<table border=\"1\" class=\"dataframe\">\n",
       "  <thead>\n",
       "    <tr style=\"text-align: right;\">\n",
       "      <th></th>\n",
       "      <th>Date</th>\n",
       "      <th>Open</th>\n",
       "      <th>High</th>\n",
       "      <th>Low</th>\n",
       "      <th>Close</th>\n",
       "      <th>Adj Close</th>\n",
       "      <th>Volume</th>\n",
       "    </tr>\n",
       "  </thead>\n",
       "  <tbody>\n",
       "    <tr>\n",
       "      <th>0</th>\n",
       "      <td>2008-01-02</td>\n",
       "      <td>146.529999</td>\n",
       "      <td>146.990005</td>\n",
       "      <td>143.880005</td>\n",
       "      <td>144.929993</td>\n",
       "      <td>116.593864</td>\n",
       "      <td>204935600</td>\n",
       "    </tr>\n",
       "    <tr>\n",
       "      <th>1</th>\n",
       "      <td>2008-01-03</td>\n",
       "      <td>144.910004</td>\n",
       "      <td>145.490005</td>\n",
       "      <td>144.070007</td>\n",
       "      <td>144.860001</td>\n",
       "      <td>116.537567</td>\n",
       "      <td>125133300</td>\n",
       "    </tr>\n",
       "    <tr>\n",
       "      <th>2</th>\n",
       "      <td>2008-01-04</td>\n",
       "      <td>143.339996</td>\n",
       "      <td>143.440002</td>\n",
       "      <td>140.910004</td>\n",
       "      <td>141.309998</td>\n",
       "      <td>113.681671</td>\n",
       "      <td>232330900</td>\n",
       "    </tr>\n",
       "    <tr>\n",
       "      <th>3</th>\n",
       "      <td>2008-01-07</td>\n",
       "      <td>141.809998</td>\n",
       "      <td>142.229996</td>\n",
       "      <td>140.100006</td>\n",
       "      <td>141.190002</td>\n",
       "      <td>113.585121</td>\n",
       "      <td>234991000</td>\n",
       "    </tr>\n",
       "    <tr>\n",
       "      <th>4</th>\n",
       "      <td>2008-01-08</td>\n",
       "      <td>142.080002</td>\n",
       "      <td>142.899994</td>\n",
       "      <td>138.440002</td>\n",
       "      <td>138.910004</td>\n",
       "      <td>111.750923</td>\n",
       "      <td>326365700</td>\n",
       "    </tr>\n",
       "  </tbody>\n",
       "</table>\n",
       "</div>"
      ],
      "text/plain": [
       "         Date        Open        High         Low       Close   Adj Close  \\\n",
       "0  2008-01-02  146.529999  146.990005  143.880005  144.929993  116.593864   \n",
       "1  2008-01-03  144.910004  145.490005  144.070007  144.860001  116.537567   \n",
       "2  2008-01-04  143.339996  143.440002  140.910004  141.309998  113.681671   \n",
       "3  2008-01-07  141.809998  142.229996  140.100006  141.190002  113.585121   \n",
       "4  2008-01-08  142.080002  142.899994  138.440002  138.910004  111.750923   \n",
       "\n",
       "      Volume  \n",
       "0  204935600  \n",
       "1  125133300  \n",
       "2  232330900  \n",
       "3  234991000  \n",
       "4  326365700  "
      ]
     },
     "execution_count": 3,
     "metadata": {},
     "output_type": "execute_result"
    }
   ],
   "source": [
    "spy.head()"
   ]
  },
  {
   "cell_type": "code",
   "execution_count": 4,
   "metadata": {},
   "outputs": [
    {
     "name": "stdout",
     "output_type": "stream",
     "text": [
      "         Date         Open         High          Low        Close  \\\n",
      "0  2008-01-01  6418.600098  6462.799805  6408.399902  6434.100098   \n",
      "1  2008-01-02  6422.700195  6422.700195  6335.799805  6372.600098   \n",
      "2  2008-01-03  6387.700195  6421.200195  6355.000000  6385.399902   \n",
      "3  2008-01-06  6357.799805  6357.799805  6227.700195  6240.399902   \n",
      "4  2008-01-07  6233.200195  6259.700195  6195.299805  6205.700195   \n",
      "\n",
      "     Adj Close       Volume  \n",
      "0  6434.100098  365493500.0  \n",
      "1  6372.600098  511702600.0  \n",
      "2  6385.399902  627840800.0  \n",
      "3  6240.399902  692737000.0  \n",
      "4  6205.700195  772191800.0  \n",
      "         Date          Open          High           Low         Close  \\\n",
      "0  2008-01-04  15155.730469  15156.660156  14542.580078  14691.410156   \n",
      "1  2008-01-07  14549.379883  14667.849609  14438.610352  14500.549805   \n",
      "2  2008-01-08  14429.299805  14547.799805  14365.860352  14528.669922   \n",
      "3  2008-01-09  14364.709961  14602.650391  14271.570313  14599.160156   \n",
      "4  2008-01-10  14546.320313  14584.730469  14388.110352  14388.110352   \n",
      "\n",
      "      Adj Close    Volume  \n",
      "0  14691.410156   98700.0  \n",
      "1  14500.549805  139800.0  \n",
      "2  14528.669922  146800.0  \n",
      "3  14599.160156  155500.0  \n",
      "4  14388.110352  130100.0  \n",
      "         Date          Open          High           Low         Close  \\\n",
      "0  2008-01-02  27632.199219  27853.599609  27299.449219  27560.519531   \n",
      "1  2008-01-03  27050.029297  27223.710938  26864.130859  26887.279297   \n",
      "2  2008-01-04  27004.339844  27596.859375  26994.849609  27519.689453   \n",
      "3  2008-01-07  26962.539063  27186.070313  26698.539063  27179.490234   \n",
      "4  2008-01-08  27466.960938  27637.599609  27088.699219  27112.900391   \n",
      "\n",
      "      Adj Close        Volume  \n",
      "0  27560.519531  1.232143e+09  \n",
      "1  26887.279297  2.442744e+09  \n",
      "2  27519.689453  2.375522e+09  \n",
      "3  27179.490234  2.452932e+09  \n",
      "4  27112.900391  2.492361e+09  \n"
     ]
    }
   ],
   "source": [
    "print(aord.head())\n",
    "print(nikkei.head())\n",
    "print(hsi.head())"
   ]
  },
  {
   "cell_type": "code",
   "execution_count": 5,
   "metadata": {},
   "outputs": [
    {
     "name": "stdout",
     "output_type": "stream",
     "text": [
      "aord (2689, 7)\n",
      "nikkei (2622, 7)\n",
      "hsi (2629, 7)\n",
      "spy (2679, 7)\n"
     ]
    }
   ],
   "source": [
    "print(\"aord\",aord.shape)\n",
    "print(\"nikkei\",nikkei.shape)\n",
    "print(\"hsi\",hsi.shape)\n",
    "print(\"spy\",spy.shape)"
   ]
  },
  {
   "cell_type": "markdown",
   "metadata": {},
   "source": [
    "Above you can see that all market have different lengths, it is because all market have different holidays. Our aim is to predict \"SPY\" based on other markets to decide either we should be long(buy position) or short(sell position). So, we will consider only those days when SPY was open."
   ]
  },
  {
   "cell_type": "markdown",
   "metadata": {},
   "source": [
    "We will create new dataframe which will be having proportion change ({close price - open price}/open price) of  different markets on a particular day. And we will predict proportion change in SPY(Target Variable) using proportion change in other markets(Predictors)."
   ]
  },
  {
   "cell_type": "code",
   "execution_count": 6,
   "metadata": {},
   "outputs": [],
   "source": [
    "spy.set_index([\"Date\"],inplace =True)\n",
    "aord.set_index([\"Date\"],inplace = True)\n",
    "nikkei.set_index([\"Date\"],inplace = True)\n",
    "hsi.set_index([\"Date\"],inplace = True)"
   ]
  },
  {
   "cell_type": "code",
   "execution_count": 7,
   "metadata": {},
   "outputs": [],
   "source": [
    "market_data = pd.DataFrame(index = spy.index)"
   ]
  },
  {
   "cell_type": "code",
   "execution_count": 8,
   "metadata": {},
   "outputs": [],
   "source": [
    "market_data[\"spy\"] = (spy[\"Close\"] - spy[\"Open\"])/spy[\"Open\"]\n",
    "market_data[\"aord\"] = (aord[\"Close\"] - aord[\"Open\"])/aord[\"Open\"]\n",
    "market_data[\"nikkei\"] = (nikkei[\"Close\"] - nikkei[\"Open\"])/nikkei[\"Open\"]\n",
    "market_data[\"hsi\"] = (hsi[\"Close\"] - hsi[\"Open\"])/hsi[\"Open\"]"
   ]
  },
  {
   "cell_type": "code",
   "execution_count": 9,
   "metadata": {},
   "outputs": [
    {
     "data": {
      "text/html": [
       "<div>\n",
       "<style scoped>\n",
       "    .dataframe tbody tr th:only-of-type {\n",
       "        vertical-align: middle;\n",
       "    }\n",
       "\n",
       "    .dataframe tbody tr th {\n",
       "        vertical-align: top;\n",
       "    }\n",
       "\n",
       "    .dataframe thead th {\n",
       "        text-align: right;\n",
       "    }\n",
       "</style>\n",
       "<table border=\"1\" class=\"dataframe\">\n",
       "  <thead>\n",
       "    <tr style=\"text-align: right;\">\n",
       "      <th></th>\n",
       "      <th>spy</th>\n",
       "      <th>aord</th>\n",
       "      <th>nikkei</th>\n",
       "      <th>hsi</th>\n",
       "    </tr>\n",
       "    <tr>\n",
       "      <th>Date</th>\n",
       "      <th></th>\n",
       "      <th></th>\n",
       "      <th></th>\n",
       "      <th></th>\n",
       "    </tr>\n",
       "  </thead>\n",
       "  <tbody>\n",
       "    <tr>\n",
       "      <th>2008-01-02</th>\n",
       "      <td>-0.010919</td>\n",
       "      <td>-0.007800</td>\n",
       "      <td>NaN</td>\n",
       "      <td>-0.002594</td>\n",
       "    </tr>\n",
       "    <tr>\n",
       "      <th>2008-01-03</th>\n",
       "      <td>-0.000345</td>\n",
       "      <td>-0.000360</td>\n",
       "      <td>NaN</td>\n",
       "      <td>-0.006017</td>\n",
       "    </tr>\n",
       "    <tr>\n",
       "      <th>2008-01-04</th>\n",
       "      <td>-0.014162</td>\n",
       "      <td>NaN</td>\n",
       "      <td>-0.030637</td>\n",
       "      <td>0.019084</td>\n",
       "    </tr>\n",
       "    <tr>\n",
       "      <th>2008-01-07</th>\n",
       "      <td>-0.004372</td>\n",
       "      <td>-0.004412</td>\n",
       "      <td>-0.003356</td>\n",
       "      <td>0.008046</td>\n",
       "    </tr>\n",
       "    <tr>\n",
       "      <th>2008-01-08</th>\n",
       "      <td>-0.022311</td>\n",
       "      <td>-0.005474</td>\n",
       "      <td>0.006887</td>\n",
       "      <td>-0.012890</td>\n",
       "    </tr>\n",
       "  </tbody>\n",
       "</table>\n",
       "</div>"
      ],
      "text/plain": [
       "                 spy      aord    nikkei       hsi\n",
       "Date                                              \n",
       "2008-01-02 -0.010919 -0.007800       NaN -0.002594\n",
       "2008-01-03 -0.000345 -0.000360       NaN -0.006017\n",
       "2008-01-04 -0.014162       NaN -0.030637  0.019084\n",
       "2008-01-07 -0.004372 -0.004412 -0.003356  0.008046\n",
       "2008-01-08 -0.022311 -0.005474  0.006887 -0.012890"
      ]
     },
     "execution_count": 9,
     "metadata": {},
     "output_type": "execute_result"
    }
   ],
   "source": [
    "market_data.head()"
   ]
  },
  {
   "cell_type": "markdown",
   "metadata": {},
   "source": [
    "There are some NaN values because we have taken SPY[\"Date\"] as index. So for some days we will not have other markets' data because all markets have different holidays. We will fill NaN values by forward filling method. And will drop initial rows which don't have value to fill. "
   ]
  },
  {
   "cell_type": "code",
   "execution_count": 10,
   "metadata": {},
   "outputs": [],
   "source": [
    "market_data = market_data.fillna(method = \"ffill\")\n",
    "market_data=market_data.dropna()"
   ]
  },
  {
   "cell_type": "code",
   "execution_count": 11,
   "metadata": {},
   "outputs": [
    {
     "data": {
      "text/plain": [
       "spy       0\n",
       "aord      0\n",
       "nikkei    0\n",
       "hsi       0\n",
       "dtype: int64"
      ]
     },
     "execution_count": 11,
     "metadata": {},
     "output_type": "execute_result"
    }
   ],
   "source": [
    "market_data.isna().sum()"
   ]
  },
  {
   "cell_type": "code",
   "execution_count": 12,
   "metadata": {},
   "outputs": [
    {
     "data": {
      "text/plain": [
       "(2677, 4)"
      ]
     },
     "execution_count": 12,
     "metadata": {},
     "output_type": "execute_result"
    }
   ],
   "source": [
    "market_data.shape"
   ]
  },
  {
   "cell_type": "markdown",
   "metadata": {},
   "source": [
    "Let us split data into Test,Train and Validation."
   ]
  },
  {
   "cell_type": "code",
   "execution_count": 13,
   "metadata": {},
   "outputs": [],
   "source": [
    "Train = market_data.iloc[-2677:-1300, :]\n",
    "Test =market_data.iloc[-1300:, :]"
   ]
  },
  {
   "cell_type": "code",
   "execution_count": 14,
   "metadata": {},
   "outputs": [
    {
     "data": {
      "text/html": [
       "<div>\n",
       "<style scoped>\n",
       "    .dataframe tbody tr th:only-of-type {\n",
       "        vertical-align: middle;\n",
       "    }\n",
       "\n",
       "    .dataframe tbody tr th {\n",
       "        vertical-align: top;\n",
       "    }\n",
       "\n",
       "    .dataframe thead th {\n",
       "        text-align: right;\n",
       "    }\n",
       "</style>\n",
       "<table border=\"1\" class=\"dataframe\">\n",
       "  <thead>\n",
       "    <tr style=\"text-align: right;\">\n",
       "      <th></th>\n",
       "      <th>spy</th>\n",
       "      <th>aord</th>\n",
       "      <th>nikkei</th>\n",
       "      <th>hsi</th>\n",
       "    </tr>\n",
       "    <tr>\n",
       "      <th>Date</th>\n",
       "      <th></th>\n",
       "      <th></th>\n",
       "      <th></th>\n",
       "      <th></th>\n",
       "    </tr>\n",
       "  </thead>\n",
       "  <tbody>\n",
       "    <tr>\n",
       "      <th>2008-01-04</th>\n",
       "      <td>-0.014162</td>\n",
       "      <td>-0.000360</td>\n",
       "      <td>-0.030637</td>\n",
       "      <td>0.019084</td>\n",
       "    </tr>\n",
       "    <tr>\n",
       "      <th>2008-01-07</th>\n",
       "      <td>-0.004372</td>\n",
       "      <td>-0.004412</td>\n",
       "      <td>-0.003356</td>\n",
       "      <td>0.008046</td>\n",
       "    </tr>\n",
       "    <tr>\n",
       "      <th>2008-01-08</th>\n",
       "      <td>-0.022311</td>\n",
       "      <td>-0.005474</td>\n",
       "      <td>0.006887</td>\n",
       "      <td>-0.012890</td>\n",
       "    </tr>\n",
       "    <tr>\n",
       "      <th>2008-01-09</th>\n",
       "      <td>0.009203</td>\n",
       "      <td>-0.002094</td>\n",
       "      <td>0.016321</td>\n",
       "      <td>0.028619</td>\n",
       "    </tr>\n",
       "    <tr>\n",
       "      <th>2008-01-10</th>\n",
       "      <td>0.011526</td>\n",
       "      <td>-0.016281</td>\n",
       "      <td>-0.010876</td>\n",
       "      <td>-0.007130</td>\n",
       "    </tr>\n",
       "  </tbody>\n",
       "</table>\n",
       "</div>"
      ],
      "text/plain": [
       "                 spy      aord    nikkei       hsi\n",
       "Date                                              \n",
       "2008-01-04 -0.014162 -0.000360 -0.030637  0.019084\n",
       "2008-01-07 -0.004372 -0.004412 -0.003356  0.008046\n",
       "2008-01-08 -0.022311 -0.005474  0.006887 -0.012890\n",
       "2008-01-09  0.009203 -0.002094  0.016321  0.028619\n",
       "2008-01-10  0.011526 -0.016281 -0.010876 -0.007130"
      ]
     },
     "execution_count": 14,
     "metadata": {},
     "output_type": "execute_result"
    }
   ],
   "source": [
    "Train.head()"
   ]
  },
  {
   "cell_type": "markdown",
   "metadata": {},
   "source": [
    "Let us check correlation between our target variable and predictors."
   ]
  },
  {
   "cell_type": "code",
   "execution_count": 15,
   "metadata": {},
   "outputs": [
    {
     "data": {
      "image/png": "[encoded data removed]",
      "text/plain": [
       "<Figure size 720x720 with 16 Axes>"
      ]
     },
     "metadata": {
      "needs_background": "light"
     },
     "output_type": "display_data"
    }
   ],
   "source": [
    "from pandas.plotting import scatter_matrix\n",
    "sm = scatter_matrix(Train,figsize=(10,10))"
   ]
  },
  {
   "cell_type": "code",
   "execution_count": 16,
   "metadata": {},
   "outputs": [
    {
     "data": {
      "text/html": [
       "<div>\n",
       "<style scoped>\n",
       "    .dataframe tbody tr th:only-of-type {\n",
       "        vertical-align: middle;\n",
       "    }\n",
       "\n",
       "    .dataframe tbody tr th {\n",
       "        vertical-align: top;\n",
       "    }\n",
       "\n",
       "    .dataframe thead th {\n",
       "        text-align: right;\n",
       "    }\n",
       "</style>\n",
       "<table border=\"1\" class=\"dataframe\">\n",
       "  <thead>\n",
       "    <tr style=\"text-align: right;\">\n",
       "      <th></th>\n",
       "      <th>spy</th>\n",
       "      <th>aord</th>\n",
       "      <th>nikkei</th>\n",
       "      <th>hsi</th>\n",
       "    </tr>\n",
       "  </thead>\n",
       "  <tbody>\n",
       "    <tr>\n",
       "      <th>spy</th>\n",
       "      <td>1.000000</td>\n",
       "      <td>0.247580</td>\n",
       "      <td>-0.052478</td>\n",
       "      <td>0.191482</td>\n",
       "    </tr>\n",
       "    <tr>\n",
       "      <th>aord</th>\n",
       "      <td>0.247580</td>\n",
       "      <td>1.000000</td>\n",
       "      <td>0.244187</td>\n",
       "      <td>0.188449</td>\n",
       "    </tr>\n",
       "    <tr>\n",
       "      <th>nikkei</th>\n",
       "      <td>-0.052478</td>\n",
       "      <td>0.244187</td>\n",
       "      <td>1.000000</td>\n",
       "      <td>0.271766</td>\n",
       "    </tr>\n",
       "    <tr>\n",
       "      <th>hsi</th>\n",
       "      <td>0.191482</td>\n",
       "      <td>0.188449</td>\n",
       "      <td>0.271766</td>\n",
       "      <td>1.000000</td>\n",
       "    </tr>\n",
       "  </tbody>\n",
       "</table>\n",
       "</div>"
      ],
      "text/plain": [
       "             spy      aord    nikkei       hsi\n",
       "spy     1.000000  0.247580 -0.052478  0.191482\n",
       "aord    0.247580  1.000000  0.244187  0.188449\n",
       "nikkei -0.052478  0.244187  1.000000  0.271766\n",
       "hsi     0.191482  0.188449  0.271766  1.000000"
      ]
     },
     "execution_count": 16,
     "metadata": {},
     "output_type": "execute_result"
    }
   ],
   "source": [
    "Train.corr()"
   ]
  },
  {
   "cell_type": "markdown",
   "metadata": {},
   "source": [
    "Not much higher correlation but for stock market it is enough to generate profit. Let us build model."
   ]
  },
  {
   "cell_type": "code",
   "execution_count": 17,
   "metadata": {},
   "outputs": [
    {
     "data": {
      "text/html": [
       "<table class=\"simpletable\">\n",
       "<caption>OLS Regression Results</caption>\n",
       "<tr>\n",
       "  <th>Dep. Variable:</th>           <td>spy</td>       <th>  R-squared:         </th> <td>   0.107</td>\n",
       "</tr>\n",
       "<tr>\n",
       "  <th>Model:</th>                   <td>OLS</td>       <th>  Adj. R-squared:    </th> <td>   0.105</td>\n",
       "</tr>\n",
       "<tr>\n",
       "  <th>Method:</th>             <td>Least Squares</td>  <th>  F-statistic:       </th> <td>   55.03</td>\n",
       "</tr>\n",
       "<tr>\n",
       "  <th>Date:</th>             <td>Sat, 23 Oct 2021</td> <th>  Prob (F-statistic):</th> <td>1.37e-33</td>\n",
       "</tr>\n",
       "<tr>\n",
       "  <th>Time:</th>                 <td>19:03:31</td>     <th>  Log-Likelihood:    </th> <td>  4163.3</td>\n",
       "</tr>\n",
       "<tr>\n",
       "  <th>No. Observations:</th>      <td>  1377</td>      <th>  AIC:               </th> <td>  -8319.</td>\n",
       "</tr>\n",
       "<tr>\n",
       "  <th>Df Residuals:</th>          <td>  1373</td>      <th>  BIC:               </th> <td>  -8298.</td>\n",
       "</tr>\n",
       "<tr>\n",
       "  <th>Df Model:</th>              <td>     3</td>      <th>                     </th>     <td> </td>   \n",
       "</tr>\n",
       "<tr>\n",
       "  <th>Covariance Type:</th>      <td>nonrobust</td>    <th>                     </th>     <td> </td>   \n",
       "</tr>\n",
       "</table>\n",
       "<table class=\"simpletable\">\n",
       "<tr>\n",
       "      <td></td>         <th>coef</th>     <th>std err</th>      <th>t</th>      <th>P>|t|</th>  <th>[0.025</th>    <th>0.975]</th>  \n",
       "</tr>\n",
       "<tr>\n",
       "  <th>Intercept</th> <td>    0.0002</td> <td>    0.000</td> <td>    0.532</td> <td> 0.595</td> <td>   -0.000</td> <td>    0.001</td>\n",
       "</tr>\n",
       "<tr>\n",
       "  <th>aord</th>      <td>    0.2913</td> <td>    0.031</td> <td>    9.516</td> <td> 0.000</td> <td>    0.231</td> <td>    0.351</td>\n",
       "</tr>\n",
       "<tr>\n",
       "  <th>nikkei</th>    <td>   -0.1487</td> <td>    0.024</td> <td>   -6.112</td> <td> 0.000</td> <td>   -0.196</td> <td>   -0.101</td>\n",
       "</tr>\n",
       "<tr>\n",
       "  <th>hsi</th>       <td>    0.1761</td> <td>    0.025</td> <td>    7.068</td> <td> 0.000</td> <td>    0.127</td> <td>    0.225</td>\n",
       "</tr>\n",
       "</table>\n",
       "<table class=\"simpletable\">\n",
       "<tr>\n",
       "  <th>Omnibus:</th>       <td>204.836</td> <th>  Durbin-Watson:     </th> <td>   2.208</td>\n",
       "</tr>\n",
       "<tr>\n",
       "  <th>Prob(Omnibus):</th> <td> 0.000</td>  <th>  Jarque-Bera (JB):  </th> <td>1984.622</td>\n",
       "</tr>\n",
       "<tr>\n",
       "  <th>Skew:</th>          <td>-0.348</td>  <th>  Prob(JB):          </th> <td>    0.00</td>\n",
       "</tr>\n",
       "<tr>\n",
       "  <th>Kurtosis:</th>      <td> 8.840</td>  <th>  Cond. No.          </th> <td>    99.6</td>\n",
       "</tr>\n",
       "</table><br/><br/>Warnings:<br/>[1] Standard Errors assume that the covariance matrix of the errors is correctly specified."
      ],
      "text/plain": [
       "<class 'statsmodels.iolib.summary.Summary'>\n",
       "\"\"\"\n",
       "                            OLS Regression Results                            \n",
       "==============================================================================\n",
       "Dep. Variable:                    spy   R-squared:                       0.107\n",
       "Model:                            OLS   Adj. R-squared:                  0.105\n",
       "Method:                 Least Squares   F-statistic:                     55.03\n",
       "Date:                Sat, 23 Oct 2021   Prob (F-statistic):           1.37e-33\n",
       "Time:                        19:03:31   Log-Likelihood:                 4163.3\n",
       "No. Observations:                1377   AIC:                            -8319.\n",
       "Df Residuals:                    1373   BIC:                            -8298.\n",
       "Df Model:                           3                                         \n",
       "Covariance Type:            nonrobust                                         \n",
       "==============================================================================\n",
       "                 coef    std err          t      P>|t|      [0.025      0.975]\n",
       "------------------------------------------------------------------------------\n",
       "Intercept      0.0002      0.000      0.532      0.595      -0.000       0.001\n",
       "aord           0.2913      0.031      9.516      0.000       0.231       0.351\n",
       "nikkei        -0.1487      0.024     -6.112      0.000      -0.196      -0.101\n",
       "hsi            0.1761      0.025      7.068      0.000       0.127       0.225\n",
       "==============================================================================\n",
       "Omnibus:                      204.836   Durbin-Watson:                   2.208\n",
       "Prob(Omnibus):                  0.000   Jarque-Bera (JB):             1984.622\n",
       "Skew:                          -0.348   Prob(JB):                         0.00\n",
       "Kurtosis:                       8.840   Cond. No.                         99.6\n",
       "==============================================================================\n",
       "\n",
       "Warnings:\n",
       "[1] Standard Errors assume that the covariance matrix of the errors is correctly specified.\n",
       "\"\"\""
      ]
     },
     "execution_count": 17,
     "metadata": {},
     "output_type": "execute_result"
    }
   ],
   "source": [
    "formula = 'spy ~ aord + nikkei + hsi'\n",
    "lm = smf.ols(formula = formula,data = Train).fit()\n",
    "lm.summary()"
   ]
  },
  {
   "cell_type": "markdown",
   "metadata": {},
   "source": [
    "All coefficient are significant as we can see from p values. R**2 is less but enough for stock market data to generate profit."
   ]
  },
  {
   "cell_type": "markdown",
   "metadata": {},
   "source": [
    "Let us predict on Train,Test and Validation data."
   ]
  },
  {
   "cell_type": "code",
   "execution_count": 18,
   "metadata": {},
   "outputs": [],
   "source": [
    "Train['PredictedY'] = lm.predict(Train)\n",
    "Test['PredictedY'] = lm.predict(Test)"
   ]
  },
  {
   "cell_type": "markdown",
   "metadata": {},
   "source": [
    "Let us evaluate our model. We will use RMSE and Adjusted R^2 as our evaluation parameteres."
   ]
  },
  {
   "cell_type": "code",
   "execution_count": 19,
   "metadata": {},
   "outputs": [],
   "source": [
    "# RMSE - Root Mean Squared Error, Adjusted R^2\n",
    "def adjustedMetric(data, model, model_k, yname):\n",
    "    data['yhat'] = model.predict(data)\n",
    "    SST = ((data[yname] - data[yname].mean())**2).sum()\n",
    "    SSR = ((data['yhat'] - data[yname].mean())**2).sum()\n",
    "    SSE = ((data[yname] - data['yhat'])**2).sum()\n",
    "    r2 = SSR/SST\n",
    "    adjustR2 = 1 - (1-r2)*(data.shape[0] - 1)/(data.shape[0] -model_k -1)\n",
    "    RMSE = (SSE/(data.shape[0] -model_k -1))**0.5\n",
    "    return adjustR2, RMSE"
   ]
  },
  {
   "cell_type": "code",
   "execution_count": 20,
   "metadata": {},
   "outputs": [],
   "source": [
    "def assessTable(test, train, model, model_k, yname):\n",
    "    r2test, RMSEtest = adjustedMetric(test, model, model_k, yname)\n",
    "    r2train, RMSEtrain = adjustedMetric(train, model, model_k, yname)\n",
    "    assessment = pd.DataFrame(index=['R2', 'RMSE'], columns=['Train', 'Test'])\n",
    "    assessment['Train'] = [r2train, RMSEtrain]\n",
    "    assessment['Test'] = [r2test, RMSEtest]\n",
    "    return assessment"
   ]
  },
  {
   "cell_type": "code",
   "execution_count": 21,
   "metadata": {},
   "outputs": [
    {
     "data": {
      "text/html": [
       "<div>\n",
       "<style scoped>\n",
       "    .dataframe tbody tr th:only-of-type {\n",
       "        vertical-align: middle;\n",
       "    }\n",
       "\n",
       "    .dataframe tbody tr th {\n",
       "        vertical-align: top;\n",
       "    }\n",
       "\n",
       "    .dataframe thead th {\n",
       "        text-align: right;\n",
       "    }\n",
       "</style>\n",
       "<table border=\"1\" class=\"dataframe\">\n",
       "  <thead>\n",
       "    <tr style=\"text-align: right;\">\n",
       "      <th></th>\n",
       "      <th>Train</th>\n",
       "      <th>Test</th>\n",
       "    </tr>\n",
       "  </thead>\n",
       "  <tbody>\n",
       "    <tr>\n",
       "      <th>R2</th>\n",
       "      <td>0.105384</td>\n",
       "      <td>0.182286</td>\n",
       "    </tr>\n",
       "    <tr>\n",
       "      <th>RMSE</th>\n",
       "      <td>0.011785</td>\n",
       "      <td>0.006497</td>\n",
       "    </tr>\n",
       "  </tbody>\n",
       "</table>\n",
       "</div>"
      ],
      "text/plain": [
       "         Train      Test\n",
       "R2    0.105384  0.182286\n",
       "RMSE  0.011785  0.006497"
      ]
     },
     "execution_count": 21,
     "metadata": {},
     "output_type": "execute_result"
    }
   ],
   "source": [
    "assessTable(Test, Train, lm, 3, 'spy')"
   ]
  },
  {
   "cell_type": "markdown",
   "metadata": {},
   "source": [
    "As our model gives similar values of evalution parameters for all data. We can consider it as consistent and an unbiased model."
   ]
  },
  {
   "cell_type": "markdown",
   "metadata": {},
   "source": [
    "Let us now build trading strategy for our model. We will take long position on any day if our model predicted proportion change as positive and will take short position if our model predicted proportion change as negative and will square off our position at end of the day. We will trade only one share per day. We will create new column Order which will have two values 1 & -1. 1 means long and -1 means short."
   ]
  },
  {
   "cell_type": "code",
   "execution_count": 22,
   "metadata": {},
   "outputs": [],
   "source": [
    "Train[\"Order\"] = [1 if i>0 else -1 for i in Train[\"PredictedY\"]]"
   ]
  },
  {
   "cell_type": "code",
   "execution_count": 23,
   "metadata": {},
   "outputs": [],
   "source": [
    "Train[\"Open\"] = spy.loc[Train.index,\"Open\"]"
   ]
  },
  {
   "cell_type": "code",
   "execution_count": 24,
   "metadata": {},
   "outputs": [],
   "source": [
    "# this will represent profit in absolute value.\n",
    "Train[\"Profit\"] = Train[\"Order\"]*(Train[\"Open\"]*Train[\"spy\"])"
   ]
  },
  {
   "cell_type": "code",
   "execution_count": 25,
   "metadata": {},
   "outputs": [],
   "source": [
    "# this will give cumulative wealth till any day.\n",
    "Train[\"Wealth\"] = Train[\"Profit\"].cumsum()"
   ]
  },
  {
   "cell_type": "code",
   "execution_count": 26,
   "metadata": {},
   "outputs": [
    {
     "data": {
      "text/html": [
       "<div>\n",
       "<style scoped>\n",
       "    .dataframe tbody tr th:only-of-type {\n",
       "        vertical-align: middle;\n",
       "    }\n",
       "\n",
       "    .dataframe tbody tr th {\n",
       "        vertical-align: top;\n",
       "    }\n",
       "\n",
       "    .dataframe thead th {\n",
       "        text-align: right;\n",
       "    }\n",
       "</style>\n",
       "<table border=\"1\" class=\"dataframe\">\n",
       "  <thead>\n",
       "    <tr style=\"text-align: right;\">\n",
       "      <th></th>\n",
       "      <th>spy</th>\n",
       "      <th>aord</th>\n",
       "      <th>nikkei</th>\n",
       "      <th>hsi</th>\n",
       "      <th>PredictedY</th>\n",
       "      <th>yhat</th>\n",
       "      <th>Order</th>\n",
       "      <th>Open</th>\n",
       "      <th>Profit</th>\n",
       "      <th>Wealth</th>\n",
       "    </tr>\n",
       "    <tr>\n",
       "      <th>Date</th>\n",
       "      <th></th>\n",
       "      <th></th>\n",
       "      <th></th>\n",
       "      <th></th>\n",
       "      <th></th>\n",
       "      <th></th>\n",
       "      <th></th>\n",
       "      <th></th>\n",
       "      <th></th>\n",
       "      <th></th>\n",
       "    </tr>\n",
       "  </thead>\n",
       "  <tbody>\n",
       "    <tr>\n",
       "      <th>2013-06-18</th>\n",
       "      <td>0.007354</td>\n",
       "      <td>-0.002164</td>\n",
       "      <td>-0.000605</td>\n",
       "      <td>0.005842</td>\n",
       "      <td>0.000657</td>\n",
       "      <td>0.000657</td>\n",
       "      <td>1</td>\n",
       "      <td>164.529999</td>\n",
       "      <td>1.210006</td>\n",
       "      <td>294.509823</td>\n",
       "    </tr>\n",
       "    <tr>\n",
       "      <th>2013-06-19</th>\n",
       "      <td>-0.012983</td>\n",
       "      <td>0.009844</td>\n",
       "      <td>0.000917</td>\n",
       "      <td>-0.009510</td>\n",
       "      <td>0.001226</td>\n",
       "      <td>0.001226</td>\n",
       "      <td>1</td>\n",
       "      <td>165.600006</td>\n",
       "      <td>-2.150009</td>\n",
       "      <td>292.359814</td>\n",
       "    </tr>\n",
       "    <tr>\n",
       "      <th>2013-06-20</th>\n",
       "      <td>-0.015198</td>\n",
       "      <td>-0.020220</td>\n",
       "      <td>-0.006661</td>\n",
       "      <td>-0.013834</td>\n",
       "      <td>-0.007167</td>\n",
       "      <td>-0.007167</td>\n",
       "      <td>-1</td>\n",
       "      <td>161.860001</td>\n",
       "      <td>2.460007</td>\n",
       "      <td>294.819821</td>\n",
       "    </tr>\n",
       "    <tr>\n",
       "      <th>2013-06-21</th>\n",
       "      <td>-0.003570</td>\n",
       "      <td>-0.004174</td>\n",
       "      <td>0.034584</td>\n",
       "      <td>0.014689</td>\n",
       "      <td>-0.003603</td>\n",
       "      <td>-0.003603</td>\n",
       "      <td>-1</td>\n",
       "      <td>159.639999</td>\n",
       "      <td>0.569992</td>\n",
       "      <td>295.389813</td>\n",
       "    </tr>\n",
       "    <tr>\n",
       "      <th>2013-06-24</th>\n",
       "      <td>-0.002224</td>\n",
       "      <td>-0.015390</td>\n",
       "      <td>-0.026440</td>\n",
       "      <td>-0.010461</td>\n",
       "      <td>-0.002225</td>\n",
       "      <td>-0.002225</td>\n",
       "      <td>-1</td>\n",
       "      <td>157.410004</td>\n",
       "      <td>0.350006</td>\n",
       "      <td>295.739819</td>\n",
       "    </tr>\n",
       "  </tbody>\n",
       "</table>\n",
       "</div>"
      ],
      "text/plain": [
       "                 spy      aord    nikkei       hsi  PredictedY      yhat  \\\n",
       "Date                                                                       \n",
       "2013-06-18  0.007354 -0.002164 -0.000605  0.005842    0.000657  0.000657   \n",
       "2013-06-19 -0.012983  0.009844  0.000917 -0.009510    0.001226  0.001226   \n",
       "2013-06-20 -0.015198 -0.020220 -0.006661 -0.013834   -0.007167 -0.007167   \n",
       "2013-06-21 -0.003570 -0.004174  0.034584  0.014689   -0.003603 -0.003603   \n",
       "2013-06-24 -0.002224 -0.015390 -0.026440 -0.010461   -0.002225 -0.002225   \n",
       "\n",
       "            Order        Open    Profit      Wealth  \n",
       "Date                                                 \n",
       "2013-06-18      1  164.529999  1.210006  294.509823  \n",
       "2013-06-19      1  165.600006 -2.150009  292.359814  \n",
       "2013-06-20     -1  161.860001  2.460007  294.819821  \n",
       "2013-06-21     -1  159.639999  0.569992  295.389813  \n",
       "2013-06-24     -1  157.410004  0.350006  295.739819  "
      ]
     },
     "execution_count": 26,
     "metadata": {},
     "output_type": "execute_result"
    }
   ],
   "source": [
    "Train.tail()"
   ]
  },
  {
   "cell_type": "code",
   "execution_count": 27,
   "metadata": {},
   "outputs": [
    {
     "data": {
      "image/png": "[encoded data removed]",
      "text/plain": [
       "<Figure size 432x288 with 1 Axes>"
      ]
     },
     "metadata": {
      "needs_background": "light"
     },
     "output_type": "display_data"
    }
   ],
   "source": [
    "plt.plot(Train[\"Wealth\"],color = \"green\")\n",
    "x_ticks = []\n",
    "for i in range(11):\n",
    "    x_ticks.append(Train.index[i*130])\n",
    "plt.xticks(ticks=x_ticks,rotation =45)\n",
    "plt.xlabel(\"Date\",size =12)\n",
    "plt.ylabel(\"Wealth\",size=12)\n",
    "plt.title(\"Train earning\",size=15)\n",
    "plt.show()"
   ]
  },
  {
   "cell_type": "markdown",
   "metadata": {},
   "source": [
    "Suppose we have adopted buy and hold position strategy from day 1 to the last day of Train period. Then our profit would have been SPY closing price on last day minus SPY opening price on first day. Let us calculate that profit and call it as passive wealth."
   ]
  },
  {
   "cell_type": "code",
   "execution_count": 28,
   "metadata": {},
   "outputs": [
    {
     "name": "stdout",
     "output_type": "stream",
     "text": [
      "13.720002000000022\n"
     ]
    }
   ],
   "source": [
    "Train_Passive_wealth = spy.loc[\"2013-06-24\",\"Close\"] - spy.loc[\"2008-01-04\",\"Open\"]\n",
    "print(Train_Passive_wealth)"
   ]
  },
  {
   "cell_type": "markdown",
   "metadata": {},
   "source": [
    "As we can see that if we would have gone in passive way, we could have made only 13.72. As per our strategy we are making 295.73. Let us calculate wealth in Test period."
   ]
  },
  {
   "cell_type": "code",
   "execution_count": 29,
   "metadata": {},
   "outputs": [],
   "source": [
    "Test[\"Order\"] = [1 if i>0 else -1 for i in Test[\"PredictedY\"]]\n",
    "Test[\"Open\"] = spy.loc[Test.index,\"Open\"] \n",
    "Test[\"Profit\"] = Test[\"Order\"]*(Test[\"Open\"]*Test[\"spy\"])\n",
    "Test[\"Wealth\"] = Test[\"Profit\"].cumsum()"
   ]
  },
  {
   "cell_type": "code",
   "execution_count": 30,
   "metadata": {},
   "outputs": [
    {
     "data": {
      "text/html": [
       "<div>\n",
       "<style scoped>\n",
       "    .dataframe tbody tr th:only-of-type {\n",
       "        vertical-align: middle;\n",
       "    }\n",
       "\n",
       "    .dataframe tbody tr th {\n",
       "        vertical-align: top;\n",
       "    }\n",
       "\n",
       "    .dataframe thead th {\n",
       "        text-align: right;\n",
       "    }\n",
       "</style>\n",
       "<table border=\"1\" class=\"dataframe\">\n",
       "  <thead>\n",
       "    <tr style=\"text-align: right;\">\n",
       "      <th></th>\n",
       "      <th>spy</th>\n",
       "      <th>aord</th>\n",
       "      <th>nikkei</th>\n",
       "      <th>hsi</th>\n",
       "      <th>PredictedY</th>\n",
       "      <th>yhat</th>\n",
       "      <th>Order</th>\n",
       "      <th>Open</th>\n",
       "      <th>Profit</th>\n",
       "      <th>Wealth</th>\n",
       "    </tr>\n",
       "    <tr>\n",
       "      <th>Date</th>\n",
       "      <th></th>\n",
       "      <th></th>\n",
       "      <th></th>\n",
       "      <th></th>\n",
       "      <th></th>\n",
       "      <th></th>\n",
       "      <th></th>\n",
       "      <th></th>\n",
       "      <th></th>\n",
       "      <th></th>\n",
       "    </tr>\n",
       "  </thead>\n",
       "  <tbody>\n",
       "    <tr>\n",
       "      <th>2013-06-25</th>\n",
       "      <td>0.000568</td>\n",
       "      <td>-0.003784</td>\n",
       "      <td>-0.008583</td>\n",
       "      <td>0.004032</td>\n",
       "      <td>0.001053</td>\n",
       "      <td>0.001053</td>\n",
       "      <td>1</td>\n",
       "      <td>158.479996</td>\n",
       "      <td>0.090011</td>\n",
       "      <td>0.090011</td>\n",
       "    </tr>\n",
       "    <tr>\n",
       "      <th>2013-06-26</th>\n",
       "      <td>0.001689</td>\n",
       "      <td>0.016035</td>\n",
       "      <td>-0.024234</td>\n",
       "      <td>0.012334</td>\n",
       "      <td>0.010615</td>\n",
       "      <td>0.010615</td>\n",
       "      <td>1</td>\n",
       "      <td>159.869995</td>\n",
       "      <td>0.270004</td>\n",
       "      <td>0.360015</td>\n",
       "    </tr>\n",
       "    <tr>\n",
       "      <th>2013-06-27</th>\n",
       "      <td>-0.000124</td>\n",
       "      <td>0.016356</td>\n",
       "      <td>0.018879</td>\n",
       "      <td>-0.000801</td>\n",
       "      <td>0.001986</td>\n",
       "      <td>0.001986</td>\n",
       "      <td>1</td>\n",
       "      <td>161.100006</td>\n",
       "      <td>-0.020004</td>\n",
       "      <td>0.340011</td>\n",
       "    </tr>\n",
       "    <tr>\n",
       "      <th>2013-06-28</th>\n",
       "      <td>-0.001307</td>\n",
       "      <td>-0.001965</td>\n",
       "      <td>0.021922</td>\n",
       "      <td>0.010034</td>\n",
       "      <td>-0.001896</td>\n",
       "      <td>-0.001896</td>\n",
       "      <td>-1</td>\n",
       "      <td>160.630005</td>\n",
       "      <td>0.210007</td>\n",
       "      <td>0.550018</td>\n",
       "    </tr>\n",
       "    <tr>\n",
       "      <th>2013-07-01</th>\n",
       "      <td>0.000620</td>\n",
       "      <td>-0.017946</td>\n",
       "      <td>0.007695</td>\n",
       "      <td>0.010034</td>\n",
       "      <td>-0.004437</td>\n",
       "      <td>-0.004437</td>\n",
       "      <td>-1</td>\n",
       "      <td>161.259995</td>\n",
       "      <td>-0.100006</td>\n",
       "      <td>0.450012</td>\n",
       "    </tr>\n",
       "  </tbody>\n",
       "</table>\n",
       "</div>"
      ],
      "text/plain": [
       "                 spy      aord    nikkei       hsi  PredictedY      yhat  \\\n",
       "Date                                                                       \n",
       "2013-06-25  0.000568 -0.003784 -0.008583  0.004032    0.001053  0.001053   \n",
       "2013-06-26  0.001689  0.016035 -0.024234  0.012334    0.010615  0.010615   \n",
       "2013-06-27 -0.000124  0.016356  0.018879 -0.000801    0.001986  0.001986   \n",
       "2013-06-28 -0.001307 -0.001965  0.021922  0.010034   -0.001896 -0.001896   \n",
       "2013-07-01  0.000620 -0.017946  0.007695  0.010034   -0.004437 -0.004437   \n",
       "\n",
       "            Order        Open    Profit    Wealth  \n",
       "Date                                               \n",
       "2013-06-25      1  158.479996  0.090011  0.090011  \n",
       "2013-06-26      1  159.869995  0.270004  0.360015  \n",
       "2013-06-27      1  161.100006 -0.020004  0.340011  \n",
       "2013-06-28     -1  160.630005  0.210007  0.550018  \n",
       "2013-07-01     -1  161.259995 -0.100006  0.450012  "
      ]
     },
     "execution_count": 30,
     "metadata": {},
     "output_type": "execute_result"
    }
   ],
   "source": [
    "Test.head()"
   ]
  },
  {
   "cell_type": "code",
   "execution_count": 31,
   "metadata": {},
   "outputs": [
    {
     "data": {
      "text/html": [
       "<div>\n",
       "<style scoped>\n",
       "    .dataframe tbody tr th:only-of-type {\n",
       "        vertical-align: middle;\n",
       "    }\n",
       "\n",
       "    .dataframe tbody tr th {\n",
       "        vertical-align: top;\n",
       "    }\n",
       "\n",
       "    .dataframe thead th {\n",
       "        text-align: right;\n",
       "    }\n",
       "</style>\n",
       "<table border=\"1\" class=\"dataframe\">\n",
       "  <thead>\n",
       "    <tr style=\"text-align: right;\">\n",
       "      <th></th>\n",
       "      <th>spy</th>\n",
       "      <th>aord</th>\n",
       "      <th>nikkei</th>\n",
       "      <th>hsi</th>\n",
       "      <th>PredictedY</th>\n",
       "      <th>yhat</th>\n",
       "      <th>Order</th>\n",
       "      <th>Open</th>\n",
       "      <th>Profit</th>\n",
       "      <th>Wealth</th>\n",
       "    </tr>\n",
       "    <tr>\n",
       "      <th>Date</th>\n",
       "      <th></th>\n",
       "      <th></th>\n",
       "      <th></th>\n",
       "      <th></th>\n",
       "      <th></th>\n",
       "      <th></th>\n",
       "      <th></th>\n",
       "      <th></th>\n",
       "      <th></th>\n",
       "      <th></th>\n",
       "    </tr>\n",
       "  </thead>\n",
       "  <tbody>\n",
       "    <tr>\n",
       "      <th>2018-08-15</th>\n",
       "      <td>-0.002125</td>\n",
       "      <td>0.004619</td>\n",
       "      <td>-0.007327</td>\n",
       "      <td>-0.014468</td>\n",
       "      <td>0.000057</td>\n",
       "      <td>0.000057</td>\n",
       "      <td>1</td>\n",
       "      <td>282.380005</td>\n",
       "      <td>-0.600006</td>\n",
       "      <td>182.990053</td>\n",
       "    </tr>\n",
       "    <tr>\n",
       "      <th>2018-08-16</th>\n",
       "      <td>0.002329</td>\n",
       "      <td>-0.000483</td>\n",
       "      <td>0.009609</td>\n",
       "      <td>0.008520</td>\n",
       "      <td>0.000100</td>\n",
       "      <td>0.000100</td>\n",
       "      <td>1</td>\n",
       "      <td>283.399994</td>\n",
       "      <td>0.660004</td>\n",
       "      <td>183.650057</td>\n",
       "    </tr>\n",
       "    <tr>\n",
       "      <th>2018-08-17</th>\n",
       "      <td>0.004334</td>\n",
       "      <td>0.002121</td>\n",
       "      <td>-0.001919</td>\n",
       "      <td>-0.006395</td>\n",
       "      <td>-0.000054</td>\n",
       "      <td>-0.000054</td>\n",
       "      <td>-1</td>\n",
       "      <td>283.829987</td>\n",
       "      <td>-1.230011</td>\n",
       "      <td>182.420046</td>\n",
       "    </tr>\n",
       "    <tr>\n",
       "      <th>2018-08-20</th>\n",
       "      <td>0.000350</td>\n",
       "      <td>0.001447</td>\n",
       "      <td>-0.003057</td>\n",
       "      <td>0.011888</td>\n",
       "      <td>0.003138</td>\n",
       "      <td>0.003138</td>\n",
       "      <td>1</td>\n",
       "      <td>285.570007</td>\n",
       "      <td>0.100006</td>\n",
       "      <td>182.520052</td>\n",
       "    </tr>\n",
       "    <tr>\n",
       "      <th>2018-08-21</th>\n",
       "      <td>0.000314</td>\n",
       "      <td>-0.008096</td>\n",
       "      <td>0.004938</td>\n",
       "      <td>0.002972</td>\n",
       "      <td>-0.002401</td>\n",
       "      <td>-0.002401</td>\n",
       "      <td>-1</td>\n",
       "      <td>286.250000</td>\n",
       "      <td>-0.089996</td>\n",
       "      <td>182.430056</td>\n",
       "    </tr>\n",
       "  </tbody>\n",
       "</table>\n",
       "</div>"
      ],
      "text/plain": [
       "                 spy      aord    nikkei       hsi  PredictedY      yhat  \\\n",
       "Date                                                                       \n",
       "2018-08-15 -0.002125  0.004619 -0.007327 -0.014468    0.000057  0.000057   \n",
       "2018-08-16  0.002329 -0.000483  0.009609  0.008520    0.000100  0.000100   \n",
       "2018-08-17  0.004334  0.002121 -0.001919 -0.006395   -0.000054 -0.000054   \n",
       "2018-08-20  0.000350  0.001447 -0.003057  0.011888    0.003138  0.003138   \n",
       "2018-08-21  0.000314 -0.008096  0.004938  0.002972   -0.002401 -0.002401   \n",
       "\n",
       "            Order        Open    Profit      Wealth  \n",
       "Date                                                 \n",
       "2018-08-15      1  282.380005 -0.600006  182.990053  \n",
       "2018-08-16      1  283.399994  0.660004  183.650057  \n",
       "2018-08-17     -1  283.829987 -1.230011  182.420046  \n",
       "2018-08-20      1  285.570007  0.100006  182.520052  \n",
       "2018-08-21     -1  286.250000 -0.089996  182.430056  "
      ]
     },
     "execution_count": 31,
     "metadata": {},
     "output_type": "execute_result"
    }
   ],
   "source": [
    "Test.tail()"
   ]
  },
  {
   "cell_type": "code",
   "execution_count": 32,
   "metadata": {},
   "outputs": [
    {
     "data": {
      "image/png": "[encoded data removed]",
      "text/plain": [
       "<Figure size 432x288 with 1 Axes>"
      ]
     },
     "metadata": {
      "needs_background": "light"
     },
     "output_type": "display_data"
    }
   ],
   "source": [
    "plt.plot(Test[\"Wealth\"],color = \"green\")\n",
    "x_ticks = []\n",
    "for i in range(11):\n",
    "    x_ticks.append(Test.index[i*120])\n",
    "plt.xticks(ticks=x_ticks,rotation =45)\n",
    "plt.xlabel(\"Date\",size =12)\n",
    "plt.ylabel(\"Wealth\",size=12)\n",
    "plt.title(\"Test earning\",size=15)\n",
    "plt.show()"
   ]
  },
  {
   "cell_type": "code",
   "execution_count": 33,
   "metadata": {},
   "outputs": [
    {
     "name": "stdout",
     "output_type": "stream",
     "text": [
      "127.85999999999999\n"
     ]
    }
   ],
   "source": [
    "Test_Passive_wealth = spy.loc[\"2018-08-21\",\"Close\"] - spy.loc[\"2013-06-25\",\"Open\"]\n",
    "print(Test_Passive_wealth)"
   ]
  },
  {
   "cell_type": "markdown",
   "metadata": {},
   "source": [
    "Also in test data, we are seeing good result. Let us calculate total combine wealth of Train and Test and also combine passive wealth."
   ]
  },
  {
   "cell_type": "code",
   "execution_count": 34,
   "metadata": {},
   "outputs": [
    {
     "name": "stdout",
     "output_type": "stream",
     "text": [
      "478.16987500000033\n"
     ]
    }
   ],
   "source": [
    "total_strategy_wealth = Train.iloc[-1,9] + Test.iloc[-1,9]\n",
    "print(total_strategy_wealth)"
   ]
  },
  {
   "cell_type": "code",
   "execution_count": 35,
   "metadata": {},
   "outputs": [
    {
     "name": "stdout",
     "output_type": "stream",
     "text": [
      "143.0\n"
     ]
    }
   ],
   "source": [
    "total_passive_wealth = spy.loc[\"2018-08-21\",\"Close\"] - spy.loc[\"2008-01-04\",\"Open\"]\n",
    "print(total_passive_wealth)"
   ]
  },
  {
   "cell_type": "markdown",
   "metadata": {},
   "source": [
    "let us now calculate returns in terms of %. For passive, we will consider 1st day opening price as investment and for our strategy we will take avg of all days opening price as investment. "
   ]
  },
  {
   "cell_type": "code",
   "execution_count": 36,
   "metadata": {},
   "outputs": [
    {
     "name": "stdout",
     "output_type": "stream",
     "text": [
      "99.76280451410088\n"
     ]
    }
   ],
   "source": [
    "#passive return\n",
    "passive_returns =  (spy.loc[\"2018-08-21\",\"Close\"] - spy.loc[\"2008-01-04\",\"Open\"])/spy.loc[\"2008-01-04\",\"Open\"]*100\n",
    "print(passive_returns)"
   ]
  },
  {
   "cell_type": "code",
   "execution_count": 37,
   "metadata": {},
   "outputs": [
    {
     "name": "stdout",
     "output_type": "stream",
     "text": [
      "284.40351174069656\n"
     ]
    }
   ],
   "source": [
    "total_strategy_returns =  total_strategy_wealth/spy[\"Open\"].mean()*100\n",
    "print(total_strategy_returns)"
   ]
  },
  {
   "cell_type": "markdown",
   "metadata": {},
   "source": [
    "So, Passive strategy has given approximately 100% returns where as our strategy has given approximately 285% returns during given time. "
   ]
  },
  {
   "cell_type": "code",
   "execution_count": null,
   "metadata": {},
   "outputs": [],
   "source": []
  }
 ],
 "metadata": {
  "kernelspec": {
   "display_name": "Python 3",
   "language": "python",
   "name": "python3"
  },
  "language_info": {
   "codemirror_mode": {
    "name": "ipython",
    "version": 3
   },
   "file_extension": ".py",
   "mimetype": "text/x-python",
   "name": "python",
   "nbconvert_exporter": "python",
   "pygments_lexer": "ipython3",
   "version": "3.7.6"
  }
 },
 "nbformat": 4,
 "nbformat_minor": 4
}
